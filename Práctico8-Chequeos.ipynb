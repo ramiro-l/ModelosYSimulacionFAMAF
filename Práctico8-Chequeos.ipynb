{
  "nbformat": 4,
  "nbformat_minor": 0,
  "metadata": {
    "colab": {
      "provenance": [],
      "authorship_tag": "ABX9TyOoBx7yMRHyYnfd6JxincGu",
      "include_colab_link": true
    },
    "kernelspec": {
      "name": "python3",
      "display_name": "Python 3"
    },
    "language_info": {
      "name": "python"
    }
  },
  "cells": [
    {
      "cell_type": "markdown",
      "metadata": {
        "id": "view-in-github",
        "colab_type": "text"
      },
      "source": [
        "<a href=\"https://colab.research.google.com/github/ramiro-l/ModelosYSimulacionFAMAF/blob/main/Pr%C3%A1ctico8-Chequeos.ipynb\" target=\"_parent\"><img src=\"https://colab.research.google.com/assets/colab-badge.svg\" alt=\"Open In Colab\"/></a>"
      ]
    },
    {
      "cell_type": "markdown",
      "source": [
        "# Chequeos para revisar el Practico 8"
      ],
      "metadata": {
        "id": "UNeywIMzGDJK"
      }
    },
    {
      "cell_type": "markdown",
      "source": [
        "# Ej 1\n",
        "\n",
        "\\begin{bmatrix}\n",
        "0,25 & 0.5 & 0.5 \\\\\n",
        "0,5 & 0 & 0.5 \\\\\n",
        "0,5 & 0 & 0.5 \\\\\n",
        "\\end{bmatrix}"
      ],
      "metadata": {
        "id": "TeNfoKVOvX68"
      }
    },
    {
      "cell_type": "code",
      "execution_count": null,
      "metadata": {
        "colab": {
          "base_uri": "https://localhost:8080/"
        },
        "id": "3jpKfpUJvV17",
        "outputId": "8a0e7f30-366b-4d4d-f9d6-d5a911a4978b"
      },
      "outputs": [
        {
          "output_type": "stream",
          "name": "stdout",
          "text": [
            "[[0.4375 0.125  0.4375]\n",
            " [0.375  0.25   0.375 ]\n",
            " [0.375  0.25   0.375 ]]\n"
          ]
        }
      ],
      "source": [
        "import numpy as np\n",
        "A = np.array([[0.25, 0.5, 0.25],\n",
        "              [0.5,  0, 0.5 ],\n",
        "              [0.5,  0, 0.5 ]])\n",
        "print(A @ A)\n",
        "# np.linalg.matrix_power(A, 2)"
      ]
    },
    {
      "cell_type": "code",
      "source": [
        "print(A @ A @ A)\n",
        "# np.linalg.matrix_power(A, 3)"
      ],
      "metadata": {
        "colab": {
          "base_uri": "https://localhost:8080/"
        },
        "id": "Mug_TnE39kxR",
        "outputId": "d8a83310-3cb2-4d1d-adbc-b3c8b3102dd5"
      },
      "execution_count": null,
      "outputs": [
        {
          "output_type": "stream",
          "name": "stdout",
          "text": [
            "[[0.390625 0.21875  0.390625]\n",
            " [0.40625  0.1875   0.40625 ]\n",
            " [0.40625  0.1875   0.40625 ]]\n"
          ]
        }
      ]
    },
    {
      "cell_type": "code",
      "source": [
        "print(A @ A @ A @ A)\n",
        "# np.linalg.matrix_power(A, 4)"
      ],
      "metadata": {
        "colab": {
          "base_uri": "https://localhost:8080/"
        },
        "id": "tFGvYlJL0ISe",
        "outputId": "82a8eec1-ce7b-43f2-b532-98c746023dab"
      },
      "execution_count": null,
      "outputs": [
        {
          "output_type": "stream",
          "name": "stdout",
          "text": [
            "[[0.40234375 0.1953125  0.40234375]\n",
            " [0.3984375  0.203125   0.3984375 ]\n",
            " [0.3984375  0.203125   0.3984375 ]]\n"
          ]
        }
      ]
    },
    {
      "cell_type": "markdown",
      "source": [
        "# Ej 2.c\n",
        "\n",
        "\\begin{bmatrix}\n",
        "1/2 & 1/4 & 1/4 \\\\\n",
        "1/3 & 0 & 2/3 \\\\\n",
        "1/2 & 1/2 & 0 \\\\\n",
        "\\end{bmatrix}"
      ],
      "metadata": {
        "id": "J1exSXpmF6uf"
      }
    },
    {
      "cell_type": "code",
      "source": [
        "import numpy as np\n",
        "B = np.array([\n",
        "                [1/2, 1/4, 1/4],\n",
        "                [1/3, 0  , 2/3],\n",
        "                [1/2, 1/2, 0  ]\n",
        "             ])\n",
        "\n",
        "print(B @ B)\n",
        "# np.linalg.matrix_power(B, 2)"
      ],
      "metadata": {
        "colab": {
          "base_uri": "https://localhost:8080/"
        },
        "id": "ORfZGU_QGapp",
        "outputId": "4d8521fd-64e4-4691-ae12-ada6e7dd5594"
      },
      "execution_count": null,
      "outputs": [
        {
          "output_type": "stream",
          "name": "stdout",
          "text": [
            "[[0.45833333 0.25       0.29166667]\n",
            " [0.5        0.41666667 0.08333333]\n",
            " [0.41666667 0.125      0.45833333]]\n"
          ]
        }
      ]
    },
    {
      "cell_type": "markdown",
      "source": [
        "# Ej 3.b"
      ],
      "metadata": {
        "id": "MfwTtjiENjRH"
      }
    },
    {
      "cell_type": "markdown",
      "source": [
        "\\begin{bmatrix}\n",
        "1/2 & 1/2 \\\\\n",
        "2/3 & 1/3 \\\\\n",
        "\\end{bmatrix}"
      ],
      "metadata": {
        "id": "WqLM0wsCNnGA"
      }
    },
    {
      "cell_type": "code",
      "source": [
        "(3/7) + (4/7) * (-1/6)**3"
      ],
      "metadata": {
        "colab": {
          "base_uri": "https://localhost:8080/"
        },
        "id": "9ttK9bQ3OWXm",
        "outputId": "ee97329d-2d1c-4399-b068-eded93fce588"
      },
      "execution_count": null,
      "outputs": [
        {
          "output_type": "execute_result",
          "data": {
            "text/plain": [
              "0.42592592592592593"
            ]
          },
          "metadata": {},
          "execution_count": 8
        }
      ]
    },
    {
      "cell_type": "code",
      "source": [
        "import numpy as np\n",
        "C = np.array([\n",
        "                [1/2, 1/2],\n",
        "                [2/3, 1/3]\n",
        "             ])\n",
        "\n",
        "print(C @ C @ C)\n",
        "# np.linalg.matrix_power(C, 3)"
      ],
      "metadata": {
        "colab": {
          "base_uri": "https://localhost:8080/"
        },
        "id": "5wXg4HMYNmsB",
        "outputId": "84c1a025-8b48-4e33-8e16-543fa0e44a5a"
      },
      "execution_count": null,
      "outputs": [
        {
          "output_type": "stream",
          "name": "stdout",
          "text": [
            "[[0.56944444 0.43055556]\n",
            " [0.57407407 0.42592593]]\n"
          ]
        }
      ]
    },
    {
      "cell_type": "markdown",
      "source": [
        "## Ej 4\n",
        "\n",
        "\\begin{bmatrix}\n",
        "0 & 1/2 & 1/2 \\\\\n",
        "1/2 & 0 & 1/2 \\\\\n",
        "1/2 & 1/2 & 0 \\\\\n",
        "\\end{bmatrix}"
      ],
      "metadata": {
        "id": "YuqkB-arBzkG"
      }
    },
    {
      "cell_type": "code",
      "source": [
        "def p_ii(n):\n",
        "    return 1/3 + 2/3 * (-1/2)**n"
      ],
      "metadata": {
        "id": "bWKzWhZaCXAG"
      },
      "execution_count": 2,
      "outputs": []
    },
    {
      "cell_type": "code",
      "source": [
        "import numpy as np\n",
        "P = np.array([\n",
        "            [0, 1/2, 1/2],\n",
        "            [1/2, 0, 1/2],\n",
        "            [1/2, 1/2, 0]\n",
        "             ])\n",
        "\n",
        "def matrix_p_ii(n):\n",
        "    matrix = np.linalg.matrix_power(P, n)\n",
        "    return matrix[0][0]"
      ],
      "metadata": {
        "id": "xHajiayjC_3D"
      },
      "execution_count": 3,
      "outputs": []
    },
    {
      "cell_type": "code",
      "source": [
        "# TEST\n",
        "\n",
        "digits = 10\n",
        "fail_test = 0\n",
        "for n in range(1, 1_000):\n",
        "    a = round(p_ii(n), digits)\n",
        "    b = round(matrix_p_ii(n), digits)\n",
        "    fail_test += a != b\n",
        "print(f\"Fail tests: {fail_test}\")"
      ],
      "metadata": {
        "colab": {
          "base_uri": "https://localhost:8080/"
        },
        "id": "uETW78sWYRhe",
        "outputId": "c5ce9825-0e65-4220-9dde-d73568dd2d4c"
      },
      "execution_count": 4,
      "outputs": [
        {
          "output_type": "stream",
          "name": "stdout",
          "text": [
            "Fail tests: 0\n"
          ]
        }
      ]
    },
    {
      "cell_type": "code",
      "source": [],
      "metadata": {
        "id": "ypMhyrXT3Ivr"
      },
      "execution_count": null,
      "outputs": []
    }
  ]
}