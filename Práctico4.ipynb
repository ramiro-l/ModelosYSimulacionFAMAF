{
  "nbformat": 4,
  "nbformat_minor": 0,
  "metadata": {
    "colab": {
      "provenance": [],
      "toc_visible": true,
      "collapsed_sections": [
        "LUu4WX5O3-Hz",
        "ahJYNFcGjvIL",
        "4SqVOGYso_vd"
      ],
      "authorship_tag": "ABX9TyMw0sMxUrhTtrtyWF3fx7p/",
      "include_colab_link": true
    },
    "kernelspec": {
      "name": "python3",
      "display_name": "Python 3"
    },
    "language_info": {
      "name": "python"
    }
  },
  "cells": [
    {
      "cell_type": "markdown",
      "metadata": {
        "id": "view-in-github",
        "colab_type": "text"
      },
      "source": [
        "<a href=\"https://colab.research.google.com/github/ramiro-l/ModelosYSimulacionFAMAF/blob/main/Pr%C3%A1ctico4.ipynb\" target=\"_parent\"><img src=\"https://colab.research.google.com/assets/colab-badge.svg\" alt=\"Open In Colab\"/></a>"
      ]
    },
    {
      "cell_type": "markdown",
      "source": [
        "# PRÁCTICO 4"
      ],
      "metadata": {
        "id": "g8J3LzyEv2oi"
      }
    },
    {
      "cell_type": "markdown",
      "source": [
        "## Ejercicio 1\n",
        "\n",
        "Se baraja un conjunto de n = 100 cartas (numeradas consecutivamente del 1 al 100) y se extrae del mazo una carta por vez. Consideramos que ocurre un “éxito” si la i-ésima carta extraída es aquella cuyo número es i (i = 1,...,n).\n",
        "\n",
        "Use el archivo “Problemas de coincidencias” para guiarse.\n"
      ],
      "metadata": {
        "id": "YlyxDl0vDWWm"
      }
    },
    {
      "cell_type": "markdown",
      "source": [
        "\n",
        "## a) 👷👷\n",
        "Calcule la probabilidad de que\n",
        "- (i) las primeras r cartas sean coincidencias y dé su valor para r = 10.\n",
        "- (ii) haya exactamente r coincidencias y estén en las primeras r cartas. Dé su valor para r = 10.\n"
      ],
      "metadata": {
        "id": "In9Qto3EDf20"
      }
    },
    {
      "cell_type": "markdown",
      "source": [
        "## b) 👷👷\n",
        "Pruebe que E(X) = Var(X) = 1 donde X es el número de coincidencias obtenidas en una baraja de n\n",
        "cartas."
      ],
      "metadata": {
        "id": "YpY7_xK0Dklq"
      }
    },
    {
      "cell_type": "markdown",
      "source": [
        "## c) Programa que simula\n",
        "Escriba un programa de simulación para estimar la esperanza y la varianza del número total de éxitos, y de los eventos del inciso (a) con r = 10, y compare los resultados obtenidos con 100, 1000, 10000 y 100000 iteraciones.\n"
      ],
      "metadata": {
        "id": "0gNjpEO2Dnv_"
      }
    },
    {
      "cell_type": "code",
      "source": [
        "from random import random\n",
        "\n",
        "def permutacion(a): #a=[a[0],a[1],...,a[N-1]]\n",
        "  \"\"\"\n",
        "  Permutacion del arreglo. Como funciona?\n",
        "\n",
        "  Supongamos a = [ a[0],a[1],a[2],a[3],a[4],a[5],a[6],a[8],a[9] ]\n",
        "\n",
        "  1) Generamos un indice \"i\" entre [0,1,2,3,4,5,6,7,8,9]\n",
        "  2) Intercambiamos a[i] con a[9]\n",
        "  3) Generamos un indice \"i\" entre [0,1,2,3,4,5,6,7,8,]\n",
        "  4) Intercambiamos a[j] con a[8]\n",
        "  ...\n",
        "  15) Generamos un indice \"i\" entre [0,1,2]\n",
        "  16) Intercambiamos a[p] con a[2]\n",
        "  17) Generamos un indice \"i\" entre [0,1]\n",
        "  18) Intercambiamos a[i] con a[1]\n",
        "  Finalemte retornamos a\n",
        "\n",
        "  Notar que el ultimo indice del intervalo que genera el indice\n",
        "  es aquel por el que vamos a intercambiar.\n",
        "  \"\"\"\n",
        "\n",
        "  N = len(a)\n",
        "  for j in range(N-1,0,-1):\n",
        "    indice = int((j+1) * random())\n",
        "    a[j], a[indice] = a[indice], a[j]\n",
        "  return a"
      ],
      "metadata": {
        "id": "dgiAY8P2ELk9"
      },
      "execution_count": 52,
      "outputs": []
    },
    {
      "cell_type": "code",
      "source": [
        "numero_cartas = 100\n",
        "baraja_ordenada = [i+1 for i in range(numero_cartas)]\n",
        "\n",
        "def va_X():\n",
        "  baraja_permutada = permutacion(baraja_ordenada)\n",
        "  exitos = [baraja_permutada[i] == i+1 for i in range(numero_cartas)]\n",
        "  return exitos\n",
        "\n",
        "def estadisticas(N, r):\n",
        "  contador_esperanza = 0\n",
        "\n",
        "  contador_primeras_coincidencias = 0\n",
        "  contador_exactamente_primeras_coincidencias = 0\n",
        "  for _ in range(N):\n",
        "    exitos = va_X()\n",
        "    contador_esperanza += sum(exitos)\n",
        "    primeros_r_exitos = sum(exitos[i] for i in range(r)) == r\n",
        "    resto_fracasos = sum(exitos[i] for i in range(r, numero_cartas)) == 0\n",
        "    if primeros_r_exitos:\n",
        "      contador_primeras_coincidencias += 1\n",
        "    if primeros_r_exitos and resto_fracasos:\n",
        "      contador_exactamente_primeras_coincidencias += 1\n",
        "\n",
        "  contador_varianza = 0\n",
        "  for _ in range(N):\n",
        "    exitos = va_X()\n",
        "    contador_varianza += (sum(exitos) - contador_esperanza/N) ** 2\n",
        "\n",
        "  print(f\"--------------  N={n}  --------------\")\n",
        "  print(f\"  Esperanza de X({n}): \", contador_esperanza/N)\n",
        "  print(f\"  Varianza de X({n}): \", contador_varianza/N)\n",
        "  print(f\"  Probabilidad de {r} primeras coincidencias({n}): \", contador_primeras_coincidencias/N)\n",
        "  print(f\"  Probabilidad de exactamente {r} primeras coincidencias({n}): \", contador_exactamente_primeras_coincidencias/N)\n",
        "  print(\"--------------------------------------\")"
      ],
      "metadata": {
        "id": "nOrlrAJvIOGo"
      },
      "execution_count": 53,
      "outputs": []
    },
    {
      "cell_type": "code",
      "source": [
        "for n in [100, 1_000, 10_000 , 100_000]:\n",
        "  estadisticas(n, 10)"
      ],
      "metadata": {
        "colab": {
          "base_uri": "https://localhost:8080/"
        },
        "id": "wSX8iHr9MRZI",
        "outputId": "8e7841ab-cd78-4f7f-ae21-463d87ca2750"
      },
      "execution_count": 3,
      "outputs": [
        {
          "output_type": "stream",
          "name": "stdout",
          "text": [
            "--------------  N=100  --------------\n",
            "  Esperanza de X(100):  0.98\n",
            "  Varianza de X(100):  1.4228000000000005\n",
            "  Probabilidad de 10 primeras coincidencias(100):  0.0\n",
            "  Probabilidad de exactamente 10 primeras coincidencias(100):  0.0\n",
            "--------------------------------------\n",
            "--------------  N=1000  --------------\n",
            "  Esperanza de X(1000):  0.984\n",
            "  Varianza de X(1000):  1.0116080000000012\n",
            "  Probabilidad de 10 primeras coincidencias(1000):  0.0\n",
            "  Probabilidad de exactamente 10 primeras coincidencias(1000):  0.0\n",
            "--------------------------------------\n",
            "--------------  N=10000  --------------\n",
            "  Esperanza de X(10000):  0.999\n",
            "  Varianza de X(10000):  1.019821400000052\n",
            "  Probabilidad de 10 primeras coincidencias(10000):  0.0\n",
            "  Probabilidad de exactamente 10 primeras coincidencias(10000):  0.0\n",
            "--------------------------------------\n",
            "--------------  N=100000  --------------\n",
            "  Esperanza de X(100000):  1.00201\n",
            "  Varianza de X(100000):  0.997627416900357\n",
            "  Probabilidad de 10 primeras coincidencias(100000):  0.0\n",
            "  Probabilidad de exactamente 10 primeras coincidencias(100000):  0.0\n",
            "--------------------------------------\n"
          ]
        }
      ]
    },
    {
      "cell_type": "markdown",
      "source": [
        "## Ejercicio 2\n",
        "\n",
        "Se desea construir una aproximación de\n",
        "$\n",
        "θ = \\sum_{k=1}^{N} e^{(\\frac{K}{N})}\n",
        "$\n",
        "con $N=10000$ es decir\n",
        "$\n",
        "θ =\\sum_{k=1}^{10000} e^{(\\frac{K}{10000})}\n",
        "$"
      ],
      "metadata": {
        "id": "gRdWtMGbv446"
      }
    },
    {
      "cell_type": "markdown",
      "source": [
        "### a) Algoritmo para estimar\n",
        "\n",
        "Escriba un algoritmo para estimar la cantidad deseada."
      ],
      "metadata": {
        "id": "PlBK6gTbxNHO"
      }
    },
    {
      "cell_type": "markdown",
      "source": [
        "Recordar que la **esperanza** de una v.a $X$ es $E[X] = \\sum_i x_i P(X = x_i)$ y ademas $E[g(X)] = \\sum_i g(x_i) p(x_i)$ con $g : R → R$."
      ],
      "metadata": {
        "id": "f_Q45B4w1LcL"
      }
    },
    {
      "cell_type": "markdown",
      "source": [
        "Por lo tanto podemos tomar una v.a $X \\thicksim U(1, N)$ por lo tanto su funcion de probabilida de masa es  $p(x) = \\frac{1}{N}$. Ahora si tomamos\n",
        "$$\n",
        "g(x) = e^{(\\frac{x}{N})}\n",
        "$$\n",
        "ahora si con $x_i = i$\n",
        "$$\n",
        "  E[g(X)] = \\sum_{k=1}^{N} g(x_i) p(x_i) = \\sum_{k=1}^{N} g(k) p(k) = \\sum_{k=1}^{N} e^{(\\frac{k}{N})} \\frac{1}{N} = \\frac{1}{N} \\sum_{k=1}^{N} e^{(\\frac{k}{N})}\n",
        "$$\n",
        "entonces tenemos que\n",
        "$$\n",
        "θ ={N}\\ E[g(X)]\n",
        "$$\n",
        "\n",
        "Y ahora sobre esto es más facil aplicar **Monte Carlo** para estimar $θ$. El cual nos dice que si generamos $X_1,...,X_n \\thicksim U(1, N)$ y $X_1 = x_1,...,X_n = x_n $ con un $n$ suficientemente grande. Podemos estimar\n",
        "$$\n",
        "E[g(X)]  = \\frac{g(x_1)+ ... + g(x_n)}{N}\n",
        "$$\n",
        "entonces\n",
        "$$\n",
        "θ ={N}\\ E[g(X)] = {N}\\  \\frac{g(x_1)+ ... + g(x_n)}{n}\n",
        "$$\n",
        "\n"
      ],
      "metadata": {
        "id": "QfPIpyhlxRvh"
      }
    },
    {
      "cell_type": "code",
      "execution_count": 54,
      "metadata": {
        "id": "skJ8YzbjvzcN"
      },
      "outputs": [],
      "source": [
        "import time\n",
        "import numpy as np\n",
        "from random import random\n",
        "\n",
        "N = 10_000\n",
        "\n",
        "def g(x):\n",
        "    return np.exp(x/N)\n",
        "\n",
        "def estimacion_de_theta(Nsim):\n",
        "  res = 0\n",
        "  inicio = time.time()\n",
        "  for _ in range(Nsim):\n",
        "    x_i = int(random()*N + 1)\n",
        "    res += g(x_i)\n",
        "  res = (res/Nsim) * N\n",
        "  fin = time.time()\n",
        "  return res, fin-inicio"
      ]
    },
    {
      "cell_type": "markdown",
      "source": [
        "### b) Aproximación con 100 números\n",
        "\n",
        "Obtenga la aproximación sorteando 100 números aleatorios."
      ],
      "metadata": {
        "id": "zOTtkJ994HiH"
      }
    },
    {
      "cell_type": "code",
      "source": [
        "print(f\"Estimacion con 100 numeros aletorios: \", estimacion_de_theta(Nsim=100))"
      ],
      "metadata": {
        "colab": {
          "base_uri": "https://localhost:8080/"
        },
        "id": "YgrSN3mR4MR0",
        "outputId": "7ccda218-4881-4adf-e0a9-43530c52b083"
      },
      "execution_count": 55,
      "outputs": [
        {
          "output_type": "stream",
          "name": "stdout",
          "text": [
            "Estimacion con 100 numeros aletorios:  (np.float64(16933.327552656054), 0.00020432472229003906)\n"
          ]
        }
      ]
    },
    {
      "cell_type": "markdown",
      "source": [
        "### c) Calcular la suma de los primeros 100 términos\n",
        "\n",
        "Escriba un algoritmo para calcular la suma de los primeros 100 términos, y compare el valor exacto\n",
        "con las dos aproximaciones, y el tiempo de cálculo."
      ],
      "metadata": {
        "id": "fs0vMk0h6Gfd"
      }
    },
    {
      "cell_type": "code",
      "source": [
        "def exactamente_theta(Nterminos):\n",
        "  inicio = time.time()\n",
        "  res = 0\n",
        "  for i in range(1,Nterminos+1):\n",
        "    res += g(i)\n",
        "  fin = time.time()\n",
        "  return res, fin-inicio"
      ],
      "metadata": {
        "id": "eEHYxKCC6u1A"
      },
      "execution_count": 6,
      "outputs": []
    },
    {
      "cell_type": "code",
      "source": [
        "print(f\"Valor exacto de los primeos 100 numeros: \", exactamente_theta(Nterminos=100))"
      ],
      "metadata": {
        "colab": {
          "base_uri": "https://localhost:8080/"
        },
        "id": "l2yUBR7N8kKX",
        "outputId": "9edecc2c-866d-4e5a-b451-2d58b8cd44d3"
      },
      "execution_count": 7,
      "outputs": [
        {
          "output_type": "stream",
          "name": "stdout",
          "text": [
            "Valor exacto de los primeos 100 numeros:  (np.float64(100.50669600897406), 0.00043582916259765625)\n"
          ]
        }
      ]
    },
    {
      "cell_type": "code",
      "source": [
        "import pandas as pd\n",
        "\n",
        "experimentos = [\n",
        "    (estimacion_de_theta, 100), # Nsim\n",
        "    (exactamente_theta, 10_000), # Nterminos\n",
        "    (exactamente_theta, 100) # Nterminos\n",
        "]\n",
        "\n",
        "data = []\n",
        "for func, arg in experimentos:\n",
        "    valor, tiempo = func(arg)\n",
        "    data.append({\n",
        "        'Funcion': func.__name__ + f'({arg})',\n",
        "        'Valor': valor,\n",
        "        'Tiempo': tiempo\n",
        "    })\n",
        "\n",
        "pd.DataFrame(data)"
      ],
      "metadata": {
        "colab": {
          "base_uri": "https://localhost:8080/",
          "height": 143
        },
        "id": "kEVItgdU8pt4",
        "outputId": "bca3b095-6e38-47eb-af33-1d3d1c9e64b3"
      },
      "execution_count": 8,
      "outputs": [
        {
          "output_type": "execute_result",
          "data": {
            "text/plain": [
              "                    Funcion         Valor    Tiempo\n",
              "0  estimacion_de_theta(100)  18129.006653  0.000312\n",
              "1  exactamente_theta(10000)  17183.677440  0.031752\n",
              "2    exactamente_theta(100)    100.506696  0.000246"
            ],
            "text/html": [
              "\n",
              "  <div id=\"df-a4da47a7-9ab4-4bd2-84a9-b9e19cab56a0\" class=\"colab-df-container\">\n",
              "    <div>\n",
              "<style scoped>\n",
              "    .dataframe tbody tr th:only-of-type {\n",
              "        vertical-align: middle;\n",
              "    }\n",
              "\n",
              "    .dataframe tbody tr th {\n",
              "        vertical-align: top;\n",
              "    }\n",
              "\n",
              "    .dataframe thead th {\n",
              "        text-align: right;\n",
              "    }\n",
              "</style>\n",
              "<table border=\"1\" class=\"dataframe\">\n",
              "  <thead>\n",
              "    <tr style=\"text-align: right;\">\n",
              "      <th></th>\n",
              "      <th>Funcion</th>\n",
              "      <th>Valor</th>\n",
              "      <th>Tiempo</th>\n",
              "    </tr>\n",
              "  </thead>\n",
              "  <tbody>\n",
              "    <tr>\n",
              "      <th>0</th>\n",
              "      <td>estimacion_de_theta(100)</td>\n",
              "      <td>18129.006653</td>\n",
              "      <td>0.000312</td>\n",
              "    </tr>\n",
              "    <tr>\n",
              "      <th>1</th>\n",
              "      <td>exactamente_theta(10000)</td>\n",
              "      <td>17183.677440</td>\n",
              "      <td>0.031752</td>\n",
              "    </tr>\n",
              "    <tr>\n",
              "      <th>2</th>\n",
              "      <td>exactamente_theta(100)</td>\n",
              "      <td>100.506696</td>\n",
              "      <td>0.000246</td>\n",
              "    </tr>\n",
              "  </tbody>\n",
              "</table>\n",
              "</div>\n",
              "    <div class=\"colab-df-buttons\">\n",
              "\n",
              "  <div class=\"colab-df-container\">\n",
              "    <button class=\"colab-df-convert\" onclick=\"convertToInteractive('df-a4da47a7-9ab4-4bd2-84a9-b9e19cab56a0')\"\n",
              "            title=\"Convert this dataframe to an interactive table.\"\n",
              "            style=\"display:none;\">\n",
              "\n",
              "  <svg xmlns=\"http://www.w3.org/2000/svg\" height=\"24px\" viewBox=\"0 -960 960 960\">\n",
              "    <path d=\"M120-120v-720h720v720H120Zm60-500h600v-160H180v160Zm220 220h160v-160H400v160Zm0 220h160v-160H400v160ZM180-400h160v-160H180v160Zm440 0h160v-160H620v160ZM180-180h160v-160H180v160Zm440 0h160v-160H620v160Z\"/>\n",
              "  </svg>\n",
              "    </button>\n",
              "\n",
              "  <style>\n",
              "    .colab-df-container {\n",
              "      display:flex;\n",
              "      gap: 12px;\n",
              "    }\n",
              "\n",
              "    .colab-df-convert {\n",
              "      background-color: #E8F0FE;\n",
              "      border: none;\n",
              "      border-radius: 50%;\n",
              "      cursor: pointer;\n",
              "      display: none;\n",
              "      fill: #1967D2;\n",
              "      height: 32px;\n",
              "      padding: 0 0 0 0;\n",
              "      width: 32px;\n",
              "    }\n",
              "\n",
              "    .colab-df-convert:hover {\n",
              "      background-color: #E2EBFA;\n",
              "      box-shadow: 0px 1px 2px rgba(60, 64, 67, 0.3), 0px 1px 3px 1px rgba(60, 64, 67, 0.15);\n",
              "      fill: #174EA6;\n",
              "    }\n",
              "\n",
              "    .colab-df-buttons div {\n",
              "      margin-bottom: 4px;\n",
              "    }\n",
              "\n",
              "    [theme=dark] .colab-df-convert {\n",
              "      background-color: #3B4455;\n",
              "      fill: #D2E3FC;\n",
              "    }\n",
              "\n",
              "    [theme=dark] .colab-df-convert:hover {\n",
              "      background-color: #434B5C;\n",
              "      box-shadow: 0px 1px 3px 1px rgba(0, 0, 0, 0.15);\n",
              "      filter: drop-shadow(0px 1px 2px rgba(0, 0, 0, 0.3));\n",
              "      fill: #FFFFFF;\n",
              "    }\n",
              "  </style>\n",
              "\n",
              "    <script>\n",
              "      const buttonEl =\n",
              "        document.querySelector('#df-a4da47a7-9ab4-4bd2-84a9-b9e19cab56a0 button.colab-df-convert');\n",
              "      buttonEl.style.display =\n",
              "        google.colab.kernel.accessAllowed ? 'block' : 'none';\n",
              "\n",
              "      async function convertToInteractive(key) {\n",
              "        const element = document.querySelector('#df-a4da47a7-9ab4-4bd2-84a9-b9e19cab56a0');\n",
              "        const dataTable =\n",
              "          await google.colab.kernel.invokeFunction('convertToInteractive',\n",
              "                                                    [key], {});\n",
              "        if (!dataTable) return;\n",
              "\n",
              "        const docLinkHtml = 'Like what you see? Visit the ' +\n",
              "          '<a target=\"_blank\" href=https://colab.research.google.com/notebooks/data_table.ipynb>data table notebook</a>'\n",
              "          + ' to learn more about interactive tables.';\n",
              "        element.innerHTML = '';\n",
              "        dataTable['output_type'] = 'display_data';\n",
              "        await google.colab.output.renderOutput(dataTable, element);\n",
              "        const docLink = document.createElement('div');\n",
              "        docLink.innerHTML = docLinkHtml;\n",
              "        element.appendChild(docLink);\n",
              "      }\n",
              "    </script>\n",
              "  </div>\n",
              "\n",
              "\n",
              "    <div id=\"df-40f92aa5-6e84-4600-9bcc-ad9553c23c1d\">\n",
              "      <button class=\"colab-df-quickchart\" onclick=\"quickchart('df-40f92aa5-6e84-4600-9bcc-ad9553c23c1d')\"\n",
              "                title=\"Suggest charts\"\n",
              "                style=\"display:none;\">\n",
              "\n",
              "<svg xmlns=\"http://www.w3.org/2000/svg\" height=\"24px\"viewBox=\"0 0 24 24\"\n",
              "     width=\"24px\">\n",
              "    <g>\n",
              "        <path d=\"M19 3H5c-1.1 0-2 .9-2 2v14c0 1.1.9 2 2 2h14c1.1 0 2-.9 2-2V5c0-1.1-.9-2-2-2zM9 17H7v-7h2v7zm4 0h-2V7h2v10zm4 0h-2v-4h2v4z\"/>\n",
              "    </g>\n",
              "</svg>\n",
              "      </button>\n",
              "\n",
              "<style>\n",
              "  .colab-df-quickchart {\n",
              "      --bg-color: #E8F0FE;\n",
              "      --fill-color: #1967D2;\n",
              "      --hover-bg-color: #E2EBFA;\n",
              "      --hover-fill-color: #174EA6;\n",
              "      --disabled-fill-color: #AAA;\n",
              "      --disabled-bg-color: #DDD;\n",
              "  }\n",
              "\n",
              "  [theme=dark] .colab-df-quickchart {\n",
              "      --bg-color: #3B4455;\n",
              "      --fill-color: #D2E3FC;\n",
              "      --hover-bg-color: #434B5C;\n",
              "      --hover-fill-color: #FFFFFF;\n",
              "      --disabled-bg-color: #3B4455;\n",
              "      --disabled-fill-color: #666;\n",
              "  }\n",
              "\n",
              "  .colab-df-quickchart {\n",
              "    background-color: var(--bg-color);\n",
              "    border: none;\n",
              "    border-radius: 50%;\n",
              "    cursor: pointer;\n",
              "    display: none;\n",
              "    fill: var(--fill-color);\n",
              "    height: 32px;\n",
              "    padding: 0;\n",
              "    width: 32px;\n",
              "  }\n",
              "\n",
              "  .colab-df-quickchart:hover {\n",
              "    background-color: var(--hover-bg-color);\n",
              "    box-shadow: 0 1px 2px rgba(60, 64, 67, 0.3), 0 1px 3px 1px rgba(60, 64, 67, 0.15);\n",
              "    fill: var(--button-hover-fill-color);\n",
              "  }\n",
              "\n",
              "  .colab-df-quickchart-complete:disabled,\n",
              "  .colab-df-quickchart-complete:disabled:hover {\n",
              "    background-color: var(--disabled-bg-color);\n",
              "    fill: var(--disabled-fill-color);\n",
              "    box-shadow: none;\n",
              "  }\n",
              "\n",
              "  .colab-df-spinner {\n",
              "    border: 2px solid var(--fill-color);\n",
              "    border-color: transparent;\n",
              "    border-bottom-color: var(--fill-color);\n",
              "    animation:\n",
              "      spin 1s steps(1) infinite;\n",
              "  }\n",
              "\n",
              "  @keyframes spin {\n",
              "    0% {\n",
              "      border-color: transparent;\n",
              "      border-bottom-color: var(--fill-color);\n",
              "      border-left-color: var(--fill-color);\n",
              "    }\n",
              "    20% {\n",
              "      border-color: transparent;\n",
              "      border-left-color: var(--fill-color);\n",
              "      border-top-color: var(--fill-color);\n",
              "    }\n",
              "    30% {\n",
              "      border-color: transparent;\n",
              "      border-left-color: var(--fill-color);\n",
              "      border-top-color: var(--fill-color);\n",
              "      border-right-color: var(--fill-color);\n",
              "    }\n",
              "    40% {\n",
              "      border-color: transparent;\n",
              "      border-right-color: var(--fill-color);\n",
              "      border-top-color: var(--fill-color);\n",
              "    }\n",
              "    60% {\n",
              "      border-color: transparent;\n",
              "      border-right-color: var(--fill-color);\n",
              "    }\n",
              "    80% {\n",
              "      border-color: transparent;\n",
              "      border-right-color: var(--fill-color);\n",
              "      border-bottom-color: var(--fill-color);\n",
              "    }\n",
              "    90% {\n",
              "      border-color: transparent;\n",
              "      border-bottom-color: var(--fill-color);\n",
              "    }\n",
              "  }\n",
              "</style>\n",
              "\n",
              "      <script>\n",
              "        async function quickchart(key) {\n",
              "          const quickchartButtonEl =\n",
              "            document.querySelector('#' + key + ' button');\n",
              "          quickchartButtonEl.disabled = true;  // To prevent multiple clicks.\n",
              "          quickchartButtonEl.classList.add('colab-df-spinner');\n",
              "          try {\n",
              "            const charts = await google.colab.kernel.invokeFunction(\n",
              "                'suggestCharts', [key], {});\n",
              "          } catch (error) {\n",
              "            console.error('Error during call to suggestCharts:', error);\n",
              "          }\n",
              "          quickchartButtonEl.classList.remove('colab-df-spinner');\n",
              "          quickchartButtonEl.classList.add('colab-df-quickchart-complete');\n",
              "        }\n",
              "        (() => {\n",
              "          let quickchartButtonEl =\n",
              "            document.querySelector('#df-40f92aa5-6e84-4600-9bcc-ad9553c23c1d button');\n",
              "          quickchartButtonEl.style.display =\n",
              "            google.colab.kernel.accessAllowed ? 'block' : 'none';\n",
              "        })();\n",
              "      </script>\n",
              "    </div>\n",
              "\n",
              "    </div>\n",
              "  </div>\n"
            ],
            "application/vnd.google.colaboratory.intrinsic+json": {
              "type": "dataframe",
              "summary": "{\n  \"name\": \"pd\",\n  \"rows\": 3,\n  \"fields\": [\n    {\n      \"column\": \"Funcion\",\n      \"properties\": {\n        \"dtype\": \"string\",\n        \"num_unique_values\": 3,\n        \"samples\": [\n          \"estimacion_de_theta(100)\",\n          \"exactamente_theta(10000)\",\n          \"exactamente_theta(100)\"\n        ],\n        \"semantic_type\": \"\",\n        \"description\": \"\"\n      }\n    },\n    {\n      \"column\": \"Valor\",\n      \"properties\": {\n        \"dtype\": \"number\",\n        \"std\": 10146.881135611457,\n        \"min\": 100.50669600897406,\n        \"max\": 18129.006652961216,\n        \"num_unique_values\": 3,\n        \"samples\": [\n          18129.006652961216,\n          17183.677439823703,\n          100.50669600897406\n        ],\n        \"semantic_type\": \"\",\n        \"description\": \"\"\n      }\n    },\n    {\n      \"column\": \"Tiempo\",\n      \"properties\": {\n        \"dtype\": \"number\",\n        \"std\": 0.018171136105773113,\n        \"min\": 0.0002455711364746094,\n        \"max\": 0.03175187110900879,\n        \"num_unique_values\": 3,\n        \"samples\": [\n          0.0003116130828857422,\n          0.03175187110900879,\n          0.0002455711364746094\n        ],\n        \"semantic_type\": \"\",\n        \"description\": \"\"\n      }\n    }\n  ]\n}"
            }
          },
          "metadata": {},
          "execution_count": 8
        }
      ]
    },
    {
      "cell_type": "markdown",
      "source": [
        "#### Conclucion\n",
        "\n",
        "Notar que con solo 100 simulaciones nos aproximamos mucho al valor real de theta.\n",
        "\n",
        "Y ademas tardamos casi lo mismo que calcular los primeros 100 terminos.\n",
        "\n",
        "Por ello conviene calcular una estimacion."
      ],
      "metadata": {
        "id": "i_Ze8IsxM6xh"
      }
    },
    {
      "cell_type": "markdown",
      "source": [
        "## Ejercicio 3\n",
        "\n",
        "Se lanzan simultáneamente un par de dados legales y se anota el resultado de la suma de ambos.\n",
        "El proceso se repite hasta que todos los resultados posibles: 2,3,...,12 hayan aparecido al menos una vez.\n",
        "Estudiar mediante una simulación la variable N, el número de lanzamientos necesarios para cumplir el\n",
        "proceso. Cada lanzamiento implica arrojar el par de dados."
      ],
      "metadata": {
        "id": "NeLCCMP0_iZy"
      }
    },
    {
      "cell_type": "markdown",
      "source": [
        "### a) Descripción del algoritmo\n",
        "\n",
        "Describa la estructura lógica del algoritmo que permite simular en computadora el número de lanzamientos necesarios para cumplir el proceso.\n"
      ],
      "metadata": {
        "id": "lHSSHMVC_q-o"
      }
    },
    {
      "cell_type": "markdown",
      "source": [
        "Tenemos que primero de alguna forma simular tirar un dado, luego vamos q tener una especie de planilla y vamos a tirar dos dados, sumarlos y marcar en la planilla el resulatado como que ya salio. Repetimos esto hasta que se llene la planilla."
      ],
      "metadata": {
        "id": "YqTR7eHgZQZS"
      }
    },
    {
      "cell_type": "markdown",
      "source": [
        "### b) Código\n",
        "Mediante una implementación en computadora,\n",
        "\n",
        "- **(i)** Estime el valor medio y la desviación estándar del número de lanzamientos, repitiendo el algoritmo: 100, 1000, 10000 y 100000 veces.\n",
        "\n",
        "- **(ii)** Estime la probabilidad de que N sea por lo menos 15 y la probabilidad de que N sea a lo sumo\n",
        "9, repitiendo el algoritmo: 100, 1000, 10000 y 100000"
      ],
      "metadata": {
        "id": "xJXoM6W5_1Wm"
      }
    },
    {
      "cell_type": "markdown",
      "source": [
        "#### Simulacion"
      ],
      "metadata": {
        "id": "gfEWbinIP8lC"
      }
    },
    {
      "cell_type": "code",
      "source": [
        "from random import random\n",
        "\n",
        "def tirar_dado():\n",
        "  return int(random()*6 + 1)\n",
        "\n",
        "def simular_lanzamientos():\n",
        "  vistos = set()\n",
        "  lanzamientos = 0\n",
        "\n",
        "  while len(vistos) < 11:\n",
        "    suma = tirar_dado() + tirar_dado()\n",
        "    vistos.add(suma)\n",
        "    lanzamientos += 1\n",
        "\n",
        "  return lanzamientos"
      ],
      "metadata": {
        "id": "csZlqHL6arta"
      },
      "execution_count": 9,
      "outputs": []
    },
    {
      "cell_type": "code",
      "source": [
        "simular_lanzamientos()"
      ],
      "metadata": {
        "colab": {
          "base_uri": "https://localhost:8080/"
        },
        "id": "-KnpPQxXcV_3",
        "outputId": "d1613f62-1d5c-4732-8f41-ea8020ecb7fa"
      },
      "execution_count": 10,
      "outputs": [
        {
          "output_type": "execute_result",
          "data": {
            "text/plain": [
              "42"
            ]
          },
          "metadata": {},
          "execution_count": 10
        }
      ]
    },
    {
      "cell_type": "markdown",
      "source": [
        "#### Estimaciones de **i) ii)**"
      ],
      "metadata": {
        "id": "RkD0bE5tcYbc"
      }
    },
    {
      "cell_type": "markdown",
      "source": [
        "Recordar que dado $n$ cantidad de muestas y $x_1,\\dots,x_n$ valores,  tengo que:\n",
        "\n",
        "$$\n",
        "Media: \\ \\ \\ \\  μ = \\frac{1}{n}∑_{i=1}^n x_i\n",
        "$$\n",
        "\n",
        "$$\n",
        "Desvio\\ Estandar: \\ \\ \\ \\  σ = \\sqrt{\\frac{1}{n-1}∑_{i=1}^N (x_i- μ)^2}\n",
        "$$"
      ],
      "metadata": {
        "id": "rF7YiRdzelu3"
      }
    },
    {
      "cell_type": "code",
      "source": [
        "import math\n",
        "\n",
        "N_REPETICIONES = [100, 1_000, 10_000, 100_000]\n",
        "\n",
        "def estadisticas(N):\n",
        "  resultados = [simular_lanzamientos() for _ in range(N)]\n",
        "\n",
        "  # Calcular media\n",
        "  suma_total = sum(resultados)\n",
        "  media = suma_total / N\n",
        "\n",
        "  # Calcular desvío estándar\n",
        "  suma_cuadrados = sum((x - media) ** 2 for x in resultados)\n",
        "  desvio = math.sqrt(suma_cuadrados / (N - 1))\n",
        "\n",
        "  # Probabilidad N sea por lo menos 15\n",
        "  prob_N_15 = sum(1 for x in resultados if x >= 15) / N\n",
        "\n",
        "  # Probabilidad de que N sea a lo sumo 9\n",
        "  prob_N_9 = sum(1 for x in resultados if x <= 9) / N\n",
        "\n",
        "  return media, desvio, prob_N_15, prob_N_9\n",
        "\n",
        "\n",
        "for n in N_REPETICIONES:\n",
        "  print(\"----------------\")\n",
        "  print(f\"N={n}\")\n",
        "  media, desvio, prob_N_15, prob_N_9  = estadisticas(n)\n",
        "  print(f\"Media: {media:.6f}\")\n",
        "  print(f\"Desvio: {desvio:.6f}\")\n",
        "  print(f\"Probabilidad de N >= 15: {prob_N_15:.6f}\")\n",
        "  print(f\"Probabilidad de N <= 9: {prob_N_9:.6f}\")\n",
        "  print(\"----------------\")"
      ],
      "metadata": {
        "colab": {
          "base_uri": "https://localhost:8080/"
        },
        "id": "elekJy-gccrl",
        "outputId": "54c4e726-03db-41c0-ae9f-effd6ef4f582"
      },
      "execution_count": 11,
      "outputs": [
        {
          "output_type": "stream",
          "name": "stdout",
          "text": [
            "----------------\n",
            "N=100\n",
            "Media: 59.150000\n",
            "Desvio: 35.610512\n",
            "Probabilidad de N >= 15: 1.000000\n",
            "Probabilidad de N <= 9: 0.000000\n",
            "----------------\n",
            "----------------\n",
            "N=1000\n",
            "Media: 60.648000\n",
            "Desvio: 34.524891\n",
            "Probabilidad de N >= 15: 0.999000\n",
            "Probabilidad de N <= 9: 0.000000\n",
            "----------------\n",
            "----------------\n",
            "N=10000\n",
            "Media: 61.009800\n",
            "Desvio: 35.878523\n",
            "Probabilidad de N >= 15: 0.999000\n",
            "Probabilidad de N <= 9: 0.000000\n",
            "----------------\n",
            "----------------\n",
            "N=100000\n",
            "Media: 61.177620\n",
            "Desvio: 36.093394\n",
            "Probabilidad de N >= 15: 0.998770\n",
            "Probabilidad de N <= 9: 0.000000\n",
            "----------------\n"
          ]
        }
      ]
    },
    {
      "cell_type": "markdown",
      "source": [
        "## Ejercicio 4\n",
        "\n",
        "Implemente cuatro métodos para generar una variable $X$ que toma los valores del $1\\ al\\ 10$, con probabilidades\n",
        "\n",
        "- $p_1 = 0,11$\n",
        "- $p_2 = 0,14$\n",
        "- $p_3 = 0,09$\n",
        "- $p_4 = 0,08$\n",
        "- $p_5 = 0,12$\n",
        "- $p_6 = 0,10$\n",
        "- $p_7 = 0,09$\n",
        "- $p_8 = 0,07$\n",
        "- $p_9 = 0,11$\n",
        "- $p_{10} = 0,09$\n",
        "\n",
        "usando:"
      ],
      "metadata": {
        "id": "wRYsVhnIUE19"
      }
    },
    {
      "cell_type": "markdown",
      "source": [
        "### Codigo auxiliar"
      ],
      "metadata": {
        "id": "DsE89uVDzJOl"
      }
    },
    {
      "cell_type": "code",
      "source": [
        "VALORES = [1, 2, 3, 4, 5, 6, 7, 8, 9, 10]\n",
        "PROBABILIDADES = [0.11, 0.14, 0.09, 0.08, 0.12, 0.10, 0.09, 0.07, 0.11, 0.09]"
      ],
      "metadata": {
        "id": "gPmu-4lm3zyS"
      },
      "execution_count": 12,
      "outputs": []
    },
    {
      "cell_type": "markdown",
      "source": [
        "##### Verificacion auxiliar para revisar los metodos"
      ],
      "metadata": {
        "id": "LUu4WX5O3-Hz"
      }
    },
    {
      "cell_type": "code",
      "source": [
        "def verificar_metodo(metodo, N=1_000_000):\n",
        "    results = [0 for _ in range(len(VALORES))]\n",
        "\n",
        "    for _ in range(N):\n",
        "        results[metodo() - 1] += 1\n",
        "\n",
        "    print(f\"{'Índice':>6} | {'Esperado':>9} | {'Obtenido':>9} | {'Diferencia':>10}\")\n",
        "    print(\"-\" * 42)\n",
        "\n",
        "    for i in range(10):\n",
        "        obtenido = results[i] / N\n",
        "        esperado = PROBABILIDADES[i]\n",
        "        diferencia = abs(obtenido - esperado)\n",
        "        print(f\"{i+1:>6} | {esperado:>9.3f} | {obtenido:>9.3f} | {diferencia:>10.3f}\")"
      ],
      "metadata": {
        "id": "DqlEbAaWzTvh"
      },
      "execution_count": 56,
      "outputs": []
    },
    {
      "cell_type": "markdown",
      "source": [
        "### a) Aceptación o rechazo\n",
        "\n",
        "Método de rechazo con una uniforme discreta, buscando la cota c más baja posible"
      ],
      "metadata": {
        "id": "AJRyz2VDU141"
      }
    },
    {
      "cell_type": "markdown",
      "source": [
        "#### Parte teorica"
      ],
      "metadata": {
        "id": "mFxlmk58v779"
      }
    },
    {
      "cell_type": "markdown",
      "source": [
        "> Debemos una v.a uniforme discreta $Y \\backsim U(1,n)$ con $n \\in N$ tal que\n",
        ">\n",
        "> $$\n",
        "Si P(X = x_j ) > 0,\\ entonces\\ P(Y = x_j ) > 0,\\ para\\ todo\\ x_j\\ en\\ el\\ rango\\ de\\ X\n",
        "$$\n",
        "\n",
        "> es decir que $n ≥ 10$ porque $X$ toma valores del $1\\ al\\ 10$.\n",
        "\n",
        "> Ademas tenemos que minimizar una cota $c$ cumpliendo esta condición:\n",
        "\n",
        "> $$\n",
        "\\frac{P(X = x_i)}{P(Y = y_i)} ≤ c\n",
        "$$\n",
        "\n",
        "\n",
        "> Notemos que $P(Y = y_i) = \\frac{1}{n}$ por lo tanto tendriamos que:\n",
        "\n",
        "> $$\n",
        "\\frac{P(X = x_i)}{P(Y = y_i)} = \\frac{P(X = x_i)}{\\frac{1}{n}}  = P(X = x_i)n\n",
        "$$\n",
        "\n",
        "> Y ahora si la ecuacion a minimizar es\n",
        "\n",
        "> $$\n",
        "P(X = x_i)n ≤ c\n",
        "$$\n",
        "\n",
        "> Como $P(X = x_i)$ toma valores en el intervalo $[0,1]$ con dar el $n$ mas chico posible alcanza para minimizar el $c$ y en este caso usaremos $n = 10$.\n",
        "\n",
        "> Notar que para despejar c tenemos que encontrar el maximo valor\n",
        "de $P(X = x_i)$, en este caso tenemos que es $P(X = x_2) = 0.14$ por lo tanto  $c = n * P(X = x_2) = 10 * 0.14 = 1.4$ e $Y \\backsim U(1,10)$"
      ],
      "metadata": {
        "id": "jXowMDQbaNku"
      }
    },
    {
      "cell_type": "code",
      "source": [
        "cant_valores_uninforme = len(VALORES)\n",
        "\n",
        "cota_c = round(max(PROBABILIDADES) * cant_valores_uninforme, 6)\n",
        "\n",
        "print(f\"Cantidad de valores de la uniforme auxiliar: {cant_valores_uninforme}\")\n",
        "print(f\"Menor cota c: {cota_c}\")\n"
      ],
      "metadata": {
        "colab": {
          "base_uri": "https://localhost:8080/"
        },
        "id": "GTcoAjXNYqrs",
        "outputId": "6f71f4cf-bd78-4a84-ef2e-a7524f78e205"
      },
      "execution_count": 14,
      "outputs": [
        {
          "output_type": "stream",
          "name": "stdout",
          "text": [
            "Cantidad de valores de la uniforme auxiliar: 10\n",
            "Menor cota c: 1.4\n"
          ]
        }
      ]
    },
    {
      "cell_type": "markdown",
      "source": [
        "#### Código"
      ],
      "metadata": {
        "id": "VEqxRyJqvygM"
      }
    },
    {
      "cell_type": "code",
      "source": [
        "from random import random\n",
        "\n",
        "# Metodo generalizado - Funcion generadora\n",
        "def generadora_aceptacion_rechazo(va_Y, prob_X, prob_Y, c):\n",
        "  \"\"\"\n",
        "  Funcion generadora de una aceptacion rechazo.\n",
        "\n",
        "\n",
        "  `va_y`: variable aleatoria, () -> numero\n",
        "  `prob_X`: funcion de probailida de masas de X, (numero) -> probabilidad\n",
        "  `prob_Y`: funcion de probailida de masas de Y, (numero) -> probabilidad\n",
        "  `c`: cota de aceptacion\n",
        "\n",
        "  Retorna una funcion. La cual es la variabla aleatoria.\n",
        "\n",
        "  ---\n",
        "\n",
        "  Ejemplo:\n",
        "  ```\n",
        "  probabilidades= [0.1, 0.2, 0.5, 0.2]\n",
        "  va_Y = lambda: int(random()*4 + 1)\n",
        "  prob_X= lambda x: probabilidades[x-1]\n",
        "  prob_Y = lambda x: 1/4\n",
        "  c = 2\n",
        "  ```\n",
        "  \"\"\"\n",
        "\n",
        "  def variable_aleatoria():\n",
        "    while True:\n",
        "      y = va_Y()\n",
        "      u = random()\n",
        "      if u <= prob_X(y) / (c * prob_Y(y)):\n",
        "       return y\n",
        "\n",
        "  return variable_aleatoria"
      ],
      "metadata": {
        "id": "p4xYbL-FrBda"
      },
      "execution_count": 15,
      "outputs": []
    },
    {
      "cell_type": "code",
      "source": [
        "va_Y = lambda: int(random()*10 + 1)\n",
        "prob_X= lambda x: PROBABILIDADES[x-1]\n",
        "prob_Y = lambda x: 1/10\n",
        "c = 1.4\n",
        "\n",
        "metodo_aceptacion_rechazo_X = generadora_aceptacion_rechazo(va_Y, prob_X, prob_Y, c)\n",
        "\n",
        "metodo_aceptacion_rechazo_X()"
      ],
      "metadata": {
        "colab": {
          "base_uri": "https://localhost:8080/"
        },
        "id": "atuYwIt-udsy",
        "outputId": "065fd3b7-aaba-47ba-99cd-bcaaf623c973"
      },
      "execution_count": 16,
      "outputs": [
        {
          "output_type": "execute_result",
          "data": {
            "text/plain": [
              "10"
            ]
          },
          "metadata": {},
          "execution_count": 16
        }
      ]
    },
    {
      "cell_type": "markdown",
      "source": [
        "#### Verificación"
      ],
      "metadata": {
        "id": "xs9_0XtTv1DL"
      }
    },
    {
      "cell_type": "code",
      "source": [
        "# Codigo auxiliar para revisar que este bien echa la simulacion\n",
        "verificar_metodo(metodo_aceptacion_rechazo_X)"
      ],
      "metadata": {
        "colab": {
          "base_uri": "https://localhost:8080/"
        },
        "id": "PIkDBATDzuMz",
        "outputId": "ed4a7051-12b8-4e0e-b43a-4cb2819a77fa"
      },
      "execution_count": 17,
      "outputs": [
        {
          "output_type": "stream",
          "name": "stdout",
          "text": [
            "Índice |  Esperado |  Obtenido | Diferencia\n",
            "------------------------------------------\n",
            "     1 |     0.110 |     0.110 |      0.000\n",
            "     2 |     0.140 |     0.140 |      0.000\n",
            "     3 |     0.090 |     0.090 |      0.000\n",
            "     4 |     0.080 |     0.080 |      0.000\n",
            "     5 |     0.120 |     0.120 |      0.000\n",
            "     6 |     0.100 |     0.100 |      0.000\n",
            "     7 |     0.090 |     0.090 |      0.000\n",
            "     8 |     0.070 |     0.070 |      0.000\n",
            "     9 |     0.110 |     0.110 |      0.000\n",
            "    10 |     0.090 |     0.090 |      0.000\n"
          ]
        }
      ]
    },
    {
      "cell_type": "markdown",
      "source": [
        "### b) Aceptación o rechazo con c = 3\n",
        "Método de rechazo con una uniforme discreta, usando c = 3."
      ],
      "metadata": {
        "id": "5izKCMh7U5Xu"
      }
    },
    {
      "cell_type": "markdown",
      "source": [
        "#### Código"
      ],
      "metadata": {
        "id": "yrmSA8YXwXws"
      }
    },
    {
      "cell_type": "markdown",
      "source": [
        "Reutilizamos lo anterior cambiando c por 3."
      ],
      "metadata": {
        "id": "0zfiMBx8wZnq"
      }
    },
    {
      "cell_type": "code",
      "source": [
        "va_Y = lambda: int(random()*10 + 1)\n",
        "prob_X= lambda x: PROBABILIDADES[x-1]\n",
        "prob_Y = lambda x: 1/10\n",
        "c = 3\n",
        "\n",
        "metodo_aceptacion_rechazo_X_c3 = generadora_aceptacion_rechazo(va_Y, prob_X, prob_Y, c)\n",
        "\n",
        "metodo_aceptacion_rechazo_X_c3()"
      ],
      "metadata": {
        "colab": {
          "base_uri": "https://localhost:8080/"
        },
        "id": "yxjOqqngwGFf",
        "outputId": "87afbecf-a8bf-4e23-8548-5cc389166d9f"
      },
      "execution_count": 18,
      "outputs": [
        {
          "output_type": "execute_result",
          "data": {
            "text/plain": [
              "2"
            ]
          },
          "metadata": {},
          "execution_count": 18
        }
      ]
    },
    {
      "cell_type": "markdown",
      "source": [
        "#### Verificación"
      ],
      "metadata": {
        "id": "frfnrIcywdtZ"
      }
    },
    {
      "cell_type": "code",
      "source": [
        "# Codigo auxiliar para revisar que este bien echa la simulacion\n",
        "verificar_metodo(metodo_aceptacion_rechazo_X_c3)"
      ],
      "metadata": {
        "colab": {
          "base_uri": "https://localhost:8080/"
        },
        "id": "hNmMS8tEwgGY",
        "outputId": "c5cc15ec-8ef3-4995-e269-e2e03e7c2cf9"
      },
      "execution_count": 19,
      "outputs": [
        {
          "output_type": "stream",
          "name": "stdout",
          "text": [
            "Índice |  Esperado |  Obtenido | Diferencia\n",
            "------------------------------------------\n",
            "     1 |     0.110 |     0.110 |      0.000\n",
            "     2 |     0.140 |     0.141 |      0.001\n",
            "     3 |     0.090 |     0.090 |      0.000\n",
            "     4 |     0.080 |     0.080 |      0.000\n",
            "     5 |     0.120 |     0.120 |      0.000\n",
            "     6 |     0.100 |     0.100 |      0.000\n",
            "     7 |     0.090 |     0.090 |      0.000\n",
            "     8 |     0.070 |     0.071 |      0.001\n",
            "     9 |     0.110 |     0.109 |      0.001\n",
            "    10 |     0.090 |     0.090 |      0.000\n"
          ]
        }
      ]
    },
    {
      "cell_type": "markdown",
      "source": [
        "### c) Transformada inversa\n"
      ],
      "metadata": {
        "id": "BGhBQXwRU8JG"
      }
    },
    {
      "cell_type": "code",
      "source": [
        "from random import random\n",
        "\n",
        "# Metodo generalizado - Funcion generadora\n",
        "def generadora_transformada_inversa(p, x):\n",
        "  \"\"\"\n",
        "  Funcion generadora de una transformada inversa.\n",
        "\n",
        "  `p`: lista de probabilidades\n",
        "  `x`: lista de valores\n",
        "\n",
        "  Retorna una funcion. La cual es la variabla aleatoria.\n",
        "\n",
        "  ---\n",
        "\n",
        "  Ejemplo:\n",
        "  ```\n",
        "  p = [0.1, 0.2, 0.3, 0.4]\n",
        "  x = [1, 2, 3, 4]\n",
        "  ```\n",
        "  \"\"\"\n",
        "\n",
        "  if len(p) != len(x):\n",
        "    raise ValueError(\"p y x deben tener la misma longitud\")\n",
        "\n",
        "  def variable_aleatoria():\n",
        "    U = random()\n",
        "    i, F = 0, p[0]\n",
        "    while U >= F:\n",
        "      i +=1; F += p[i]\n",
        "    return x[i]\n",
        "\n",
        "  return variable_aleatoria"
      ],
      "metadata": {
        "id": "4DeeBXjWxJD8"
      },
      "execution_count": 20,
      "outputs": []
    },
    {
      "cell_type": "code",
      "source": [
        "metodo_transformada_inversa_X = generadora_transformada_inversa(PROBABILIDADES, [i+1 for i in range(10)])\n",
        "\n",
        "metodo_transformada_inversa_X()"
      ],
      "metadata": {
        "colab": {
          "base_uri": "https://localhost:8080/"
        },
        "id": "RBKuo5IQy8Cm",
        "outputId": "6211f0f4-f494-4978-97a8-cfa24ed50f09"
      },
      "execution_count": 21,
      "outputs": [
        {
          "output_type": "execute_result",
          "data": {
            "text/plain": [
              "9"
            ]
          },
          "metadata": {},
          "execution_count": 21
        }
      ]
    },
    {
      "cell_type": "markdown",
      "source": [
        "#### Verificación"
      ],
      "metadata": {
        "id": "YJPf6UGZ0V9s"
      }
    },
    {
      "cell_type": "code",
      "source": [
        "verificar_metodo(metodo_transformada_inversa_X)"
      ],
      "metadata": {
        "colab": {
          "base_uri": "https://localhost:8080/"
        },
        "id": "qNl1TyZZ0Rrg",
        "outputId": "2e58948c-6cc4-4118-839f-5d1555c741a4"
      },
      "execution_count": 22,
      "outputs": [
        {
          "output_type": "stream",
          "name": "stdout",
          "text": [
            "Índice |  Esperado |  Obtenido | Diferencia\n",
            "------------------------------------------\n",
            "     1 |     0.110 |     0.110 |      0.000\n",
            "     2 |     0.140 |     0.139 |      0.001\n",
            "     3 |     0.090 |     0.090 |      0.000\n",
            "     4 |     0.080 |     0.080 |      0.000\n",
            "     5 |     0.120 |     0.120 |      0.000\n",
            "     6 |     0.100 |     0.100 |      0.000\n",
            "     7 |     0.090 |     0.091 |      0.001\n",
            "     8 |     0.070 |     0.070 |      0.000\n",
            "     9 |     0.110 |     0.110 |      0.000\n",
            "    10 |     0.090 |     0.090 |      0.000\n"
          ]
        }
      ]
    },
    {
      "cell_type": "markdown",
      "source": [
        "### d) Método de la urna\n",
        "\n",
        "Método de la urna: utilizar un arreglo A de tamaño 100 donde cada valor i está en exactamente $p_i * 100$\n",
        "posiciones.\n",
        "\n",
        "El método debe devolver A[k] con probabilidad 0,01.\n",
        "\n",
        "¿Por qué funciona?"
      ],
      "metadata": {
        "id": "TWOW5oi3U-L-"
      }
    },
    {
      "cell_type": "markdown",
      "source": [
        "#### Código"
      ],
      "metadata": {
        "id": "6GE11yef2TFY"
      }
    },
    {
      "cell_type": "code",
      "source": [
        "from random import random\n",
        "\n",
        "# Metodo generalizado - Funcion generadora\n",
        "def generadora_urna(p,x):\n",
        "  \"\"\"\n",
        "  Funcion generadora de una urna.\n",
        "\n",
        "  `p`: lista de probabilidades\n",
        "  `x`: lista de valores\n",
        "\n",
        "  Retorna una funcion. La cual es la variabla aleatoria.\n",
        "\n",
        "  ---\n",
        "\n",
        "  Ejemplo:\n",
        "  ```\n",
        "  p = [0.1, 0.2, 0.3, 0.4]\n",
        "  x = [1, 2, 3, 4]\n",
        "  ```\n",
        "  \"\"\"\n",
        "\n",
        "  if len(p) != len(x):\n",
        "    raise ValueError(\"p y x deben tener la misma longitud\")\n",
        "\n",
        "  A = []\n",
        "  for i in range(len(p)):\n",
        "    for j in range(int(p[i]*100)):\n",
        "      A.append(x[i])\n",
        "\n",
        "  def variable_aleatoria():\n",
        "    return A[int(random()*100)]\n",
        "\n",
        "  return variable_aleatoria\n"
      ],
      "metadata": {
        "id": "8bTcRU8N1Amn"
      },
      "execution_count": 23,
      "outputs": []
    },
    {
      "cell_type": "code",
      "source": [
        "probabilidades = [0.11, 0.14, 0.09, 0.08, 0.12, 0.10, 0.09, 0.07, 0.11, 0.09]\n",
        "\n",
        "metodo_urna_X = generadora_urna(probabilidades, [i+1 for i in range(10)])\n",
        "\n",
        "metodo_urna_X()"
      ],
      "metadata": {
        "colab": {
          "base_uri": "https://localhost:8080/"
        },
        "id": "VG65kbCk2IAr",
        "outputId": "c56a0090-6b9b-4330-b580-e645a72d4022"
      },
      "execution_count": 24,
      "outputs": [
        {
          "output_type": "execute_result",
          "data": {
            "text/plain": [
              "7"
            ]
          },
          "metadata": {},
          "execution_count": 24
        }
      ]
    },
    {
      "cell_type": "markdown",
      "source": [
        "#### Verificación"
      ],
      "metadata": {
        "id": "adNl5Peu2UzP"
      }
    },
    {
      "cell_type": "code",
      "source": [
        "verificar_metodo(metodo_urna_X)"
      ],
      "metadata": {
        "colab": {
          "base_uri": "https://localhost:8080/"
        },
        "id": "HKgMbQ0d2bMq",
        "outputId": "c85bb650-5be1-493c-8508-8c94ea346997"
      },
      "execution_count": 25,
      "outputs": [
        {
          "output_type": "stream",
          "name": "stdout",
          "text": [
            "Índice |  Esperado |  Obtenido | Diferencia\n",
            "------------------------------------------\n",
            "     1 |     0.110 |     0.110 |      0.000\n",
            "     2 |     0.140 |     0.140 |      0.000\n",
            "     3 |     0.090 |     0.090 |      0.000\n",
            "     4 |     0.080 |     0.080 |      0.000\n",
            "     5 |     0.120 |     0.120 |      0.000\n",
            "     6 |     0.100 |     0.100 |      0.000\n",
            "     7 |     0.090 |     0.090 |      0.000\n",
            "     8 |     0.070 |     0.070 |      0.000\n",
            "     9 |     0.110 |     0.110 |      0.000\n",
            "    10 |     0.090 |     0.090 |      0.000\n"
          ]
        }
      ]
    },
    {
      "cell_type": "markdown",
      "source": [
        "#### Parte teorica | ¿Porque funciona?\n",
        "\n",
        "Esto funciona porque generamos un arreglo de 100 elementos tal que lo llenamos de la siguiente forma.\n",
        "\n",
        "\n",
        "Como tenemos que nuesta va toma valores del 1 al 10  con $p_1, …, p_{10}$ las probabilidades de que salgan. El arreglo tiene en las primeras posiciones $p_1*100$ posiciones el $1$, luego en las $p_2*100$ posiciones el $2$ y asi sucecisibamente. Para ser precisos l arreglo queda de las siguiente manera:\n",
        "- $p_1*100 = 11$\n",
        "- $p_2*100 = 14$\n",
        "- $p_3*100 = 9$\n",
        "- $p_4*100 = 8$\n",
        "- $p_5*100 = 12$\n",
        "- $p_6*100 = 10$\n",
        "- $p_7*100 = 9$\n",
        "- $p_8*100 = 7$\n",
        "- $p_9*100 = 11$\n",
        "- $p_{10}*100 = 9$\n",
        "\n",
        "$$\n",
        "[0,0,0,0,0,0,0,0,0,0,0,\n",
        "1,1,1,1,1,1,1,1,1,1,1,1,1,1,\n",
        "2,2,2,2,2,2,2,2,2,\n",
        "3,3,3,3,3,3,3,3,\n",
        "4,4,4,4,4,4,4,4,4,4,4,4,\n",
        "5,5,5,5,5,5,5,5,5,5,\n",
        "6,6,6,6,6,6,6,6,6,\n",
        "7,7,7,7,7,7,7,\n",
        "8,8,8,8,8,8,8,8,8,8,8,\n",
        "9,9,9,9,9,9,9,9,9]\n",
        "$$\n",
        "\n",
        "Claramente tenemos que $P(X = A[K]) = 0,01$ con $k\\in\\{0,\\dots,99\\}$ y justamente por esto se da:\n",
        "\n",
        "$$\n",
        "P(X = 1) = P(X = A[0]) + \\dots + P(X = A[10]) = 11*0.01 = 0.11 = p_1\n",
        "$$\n",
        "\n",
        "de manera similar para cualquier $x_1 \\in \\{1,\\dots,10\\}$"
      ],
      "metadata": {
        "id": "MUip9hFp6NQK"
      }
    },
    {
      "cell_type": "markdown",
      "source": [
        "### Comparacion de eficiencia\n",
        "\n",
        "Compare la eficiencia de los tres algoritmos realizando 10000 simulaciones"
      ],
      "metadata": {
        "id": "bGRLj1Q4AmO0"
      }
    },
    {
      "cell_type": "code",
      "source": [
        "from time import time\n",
        "\n",
        "def tiempo_metodo(metodo, N=10_000):\n",
        "    empieza = time()\n",
        "    for _ in range(N):\n",
        "        metodo()\n",
        "    termina = time()\n",
        "    return termina - empieza\n",
        "\n",
        "metodos = [\n",
        "    (\"Aceptación-Rechazo (X)\", metodo_aceptacion_rechazo_X),\n",
        "    (\"Aceptación-Rechazo (X, c=3)\", metodo_aceptacion_rechazo_X_c3),\n",
        "    (\"Transformada Inversa (X)\", metodo_transformada_inversa_X),\n",
        "    (\"Método de la Urna (X)\", metodo_urna_X),\n",
        "]\n",
        "\n",
        "resultados = [(nombre, tiempo_metodo(f)) for nombre, f in metodos]\n",
        "for nombre, t in sorted(resultados, key=lambda x: x[1]):\n",
        "    print(f\"{nombre:<30} → {t:.4f}s\")"
      ],
      "metadata": {
        "colab": {
          "base_uri": "https://localhost:8080/"
        },
        "id": "Xqf4pn2NAxkM",
        "outputId": "5779b4ed-18c4-4209-98c2-0f461eefe37e"
      },
      "execution_count": 26,
      "outputs": [
        {
          "output_type": "stream",
          "name": "stdout",
          "text": [
            "Método de la Urna (X)          → 0.0020s\n",
            "Transformada Inversa (X)       → 0.0036s\n",
            "Aceptación-Rechazo (X)         → 0.0074s\n",
            "Aceptación-Rechazo (X, c=3)    → 0.0132s\n"
          ]
        }
      ]
    },
    {
      "cell_type": "markdown",
      "source": [
        "## Ejercicio 5\n",
        "\n",
        "Implemente dos métodos para generar una binomial $Bin(n, p)$:\n",
        "- I) Usando transformada inversa.\n",
        "- II) Simulando n ensayos con probabilidad de éxito p y contando el número de éxitos.\n",
        "\n",
        "Para ambos métodos:\n",
        "- a) Compare la eficiencia de ambos algoritmos para n = 10 y p = 0,3, evaluando el tiempo necesario para realizar 10000 simulaciones.\n",
        "- b) Estime el valor con mayor ocurrencia y la proporción de veces que se obtuvieron los valores 0 y 10 respectivamente.\n",
        "- c) Compare estos valores con las probabilidades teóricas de la binomial. Si están alejados, revise el código."
      ],
      "metadata": {
        "id": "e-NCJxU9HMl-"
      }
    },
    {
      "cell_type": "markdown",
      "source": [
        "### I) Usando transformada inversa."
      ],
      "metadata": {
        "id": "W8ZTutk0H1BT"
      }
    },
    {
      "cell_type": "code",
      "source": [
        "from random import random\n",
        "\n",
        "def bin_transformada_inversa(n,p):\n",
        "  c = p / (1 - p)\n",
        "  prob = (1 - p) ** n\n",
        "  F = prob; i=0\n",
        "  U = random()\n",
        "  while U >= F:\n",
        "    prob *= c * (n-i) / (i+1)\n",
        "    F += prob\n",
        "    i += 1\n",
        "  return i\n",
        "\n",
        "bin_transformada_inversa(10, 0.3)"
      ],
      "metadata": {
        "colab": {
          "base_uri": "https://localhost:8080/"
        },
        "id": "XSrU0UrzH3fL",
        "outputId": "c95d3cb0-3cda-4cbe-c92d-fd3cca2f6c42"
      },
      "execution_count": 27,
      "outputs": [
        {
          "output_type": "execute_result",
          "data": {
            "text/plain": [
              "2"
            ]
          },
          "metadata": {},
          "execution_count": 27
        }
      ]
    },
    {
      "cell_type": "markdown",
      "source": [
        "### II) Simulando n ensayos con probabilidad de éxito p y contando el número de éxitos."
      ],
      "metadata": {
        "id": "mrcDLV9IkAzw"
      }
    },
    {
      "cell_type": "code",
      "source": [
        "from random import random\n",
        "\n",
        "def bin_simulacion(n,p):\n",
        "  contador = 0\n",
        "  for _ in range(n):\n",
        "    if random() < p:\n",
        "      contador += 1\n",
        "  return contador\n",
        "\n",
        "bin_simulacion(10, 0.3)"
      ],
      "metadata": {
        "colab": {
          "base_uri": "https://localhost:8080/"
        },
        "id": "gX-zCwn-kGCa",
        "outputId": "56c820e4-d3ab-49fa-f837-2c4580897b49"
      },
      "execution_count": 28,
      "outputs": [
        {
          "output_type": "execute_result",
          "data": {
            "text/plain": [
              "4"
            ]
          },
          "metadata": {},
          "execution_count": 28
        }
      ]
    },
    {
      "cell_type": "markdown",
      "source": [
        "### a) Comparacion de eficiencia\n",
        "\n",
        "Compare la eficiencia de ambos algoritmos para `n = 10` y `p = 0,3`, evaluando el tiempo necesario para realizar `10000 simulaciones`."
      ],
      "metadata": {
        "id": "MAfMSCZ1ks_a"
      }
    },
    {
      "cell_type": "code",
      "source": [
        "from time import time\n",
        "\n",
        "def tiempo_metodo_binomial(metodo, n, p, N=10_000):\n",
        "    empieza = time()\n",
        "    for _ in range(N):\n",
        "        metodo(n, p)\n",
        "    termina = time()\n",
        "    return termina - empieza\n",
        "\n",
        "n = 10\n",
        "p = 0.3\n",
        "\n",
        "resultados_binomial = [\n",
        "    (\"Transformada Inversa\", tiempo_metodo_binomial(bin_transformada_inversa, n, p)),\n",
        "    (\"Simulación\", tiempo_metodo_binomial(bin_simulacion, n, p)),\n",
        "]\n",
        "\n",
        "print(f\"{'Metodo':<24} | Tiempo\")\n",
        "print(\"-\" * 35)\n",
        "for nombre, t in sorted(resultados_binomial, key=lambda x: x[1]):\n",
        "    print(f\"{nombre:<24} | {t:.4f}s\")\n"
      ],
      "metadata": {
        "colab": {
          "base_uri": "https://localhost:8080/"
        },
        "id": "oLsvpHpck33U",
        "outputId": "d996e774-823b-4a88-92c7-6684dc952823"
      },
      "execution_count": 29,
      "outputs": [
        {
          "output_type": "stream",
          "name": "stdout",
          "text": [
            "Metodo                   | Tiempo\n",
            "-----------------------------------\n",
            "Transformada Inversa     | 0.0068s\n",
            "Simulación               | 0.0085s\n"
          ]
        }
      ]
    },
    {
      "cell_type": "markdown",
      "source": [
        "### b) Estimaciones\n",
        "\n",
        "Estime el valor con mayor ocurrencia y la proporción de veces que se obtuvieron los valores 0 y 10 respectivamente."
      ],
      "metadata": {
        "id": "ous8yXzOmLCa"
      }
    },
    {
      "cell_type": "code",
      "source": [
        "def valor_con_mayor_ocurrencia(metodo, n, p, N=10_000):\n",
        "    valores = [0 for _ in range(n+1)]\n",
        "\n",
        "    for _ in range(N):\n",
        "        valor = metodo(n, p)\n",
        "        valores[valor] += 1\n",
        "\n",
        "    return valores.index(max(valores))"
      ],
      "metadata": {
        "id": "XZxXqKsbmwEj"
      },
      "execution_count": 30,
      "outputs": []
    },
    {
      "cell_type": "code",
      "source": [
        "n = 10\n",
        "p = 0.3\n",
        "\n",
        "resultados_binomial = [\n",
        "    (\"Transformada Inversa\", valor_con_mayor_ocurrencia(bin_transformada_inversa, n, p)),\n",
        "    (\"Simulación\", valor_con_mayor_ocurrencia(bin_simulacion, n, p)),\n",
        "]\n",
        "\n",
        "print(f\"{'Metodo':<24} | Valor con mayor ocurrencia\")\n",
        "print(\"-\" * 55)\n",
        "for nombre, v in resultados_binomial:\n",
        "    print(f\"{nombre:<24} | {v:>12}\")"
      ],
      "metadata": {
        "colab": {
          "base_uri": "https://localhost:8080/"
        },
        "id": "9A6AV2rfnO9w",
        "outputId": "1f47b595-910f-4618-a018-9d720761c167"
      },
      "execution_count": 31,
      "outputs": [
        {
          "output_type": "stream",
          "name": "stdout",
          "text": [
            "Metodo                   | Valor con mayor ocurrencia\n",
            "-------------------------------------------------------\n",
            "Transformada Inversa     |            3\n",
            "Simulación               |            3\n"
          ]
        }
      ]
    },
    {
      "cell_type": "code",
      "source": [
        "def probabilidad_que_sea(numero, metodo, n, p, N=10_000):\n",
        "    contador = 0\n",
        "\n",
        "    for _ in range(N):\n",
        "      if numero == metodo(n, p):\n",
        "        contador += 1\n",
        "\n",
        "    return contador / N"
      ],
      "metadata": {
        "id": "Os6b0S--oYGv"
      },
      "execution_count": 32,
      "outputs": []
    },
    {
      "cell_type": "code",
      "source": [
        "n = 10\n",
        "p = 0.3\n",
        "\n",
        "resultados_binomial = [\n",
        "    (\n",
        "        \"Transformada Inversa\",\n",
        "        probabilidad_que_sea(0,bin_transformada_inversa, n, p),\n",
        "        probabilidad_que_sea(10,bin_transformada_inversa, n, p)\n",
        "    ),\n",
        "    (\n",
        "        \"Simulación\",\n",
        "        probabilidad_que_sea(0,bin_simulacion, n, p),\n",
        "        probabilidad_que_sea(100,bin_simulacion, n, p)\n",
        "    )\n",
        "]\n",
        "\n",
        "print(f\"{'Método':<24} | {'P(X = 0)':>10} | {'P(X = 10)':>10}\")\n",
        "print(\"-\" * 50)\n",
        "for nombre, v1, v2 in resultados_binomial:\n",
        "    print(f\"{nombre:<24} | {v1:10.8f} | {v2:10.8f}\")"
      ],
      "metadata": {
        "colab": {
          "base_uri": "https://localhost:8080/"
        },
        "id": "dU0sIsumotGC",
        "outputId": "07e2a5b4-dd98-4b59-9e33-13003afbc8fe"
      },
      "execution_count": 33,
      "outputs": [
        {
          "output_type": "stream",
          "name": "stdout",
          "text": [
            "Método                   |   P(X = 0) |  P(X = 10)\n",
            "--------------------------------------------------\n",
            "Transformada Inversa     | 0.03150000 | 0.00000000\n",
            "Simulación               | 0.02500000 | 0.00000000\n"
          ]
        }
      ]
    },
    {
      "cell_type": "markdown",
      "source": [
        "### c) Comparacion valores teoricos 🤔🤔\n",
        "\n",
        "Compare estos valores con las probabilidades teóricas de la binomial. Si están alejados, revise el código."
      ],
      "metadata": {
        "id": "biaTIU41qLTF"
      }
    },
    {
      "cell_type": "markdown",
      "source": [
        "Recordar que para $X$ binomial de parametros $p, n$ tenemos que:\n",
        "\n",
        "$$\n",
        " p(i) = P(X = i) = \\binom{n}{i} p^i (1 - p)^{n - i}\\\\\n",
        " E[X] = n*p\n",
        "$$\n"
      ],
      "metadata": {
        "id": "8ao-18rJqrt0"
      }
    },
    {
      "cell_type": "code",
      "source": [
        "import math\n",
        "\n",
        "def bin_prob_teorica(k, n, p):\n",
        "  return math.comb(n, k) * (p**k) * ((1-p)**(n-k))\n",
        "\n",
        "def bin_esperanza_teorica(n, p):\n",
        "  return n * p\n",
        "\n",
        "n = 10\n",
        "p = 0.3\n",
        "\n",
        "prob_0 = bin_prob_teorica(0, n, p)\n",
        "prob_10 = bin_prob_teorica(10, n, p)\n",
        "esperanza = bin_esperanza_teorica(n, p)\n",
        "\n",
        "print(f\"Probabilidad de que X = 0: {prob_0:.8f}\")\n",
        "print(f\"Probabilidad de que X = 10: {prob_10:.8f}\")\n",
        "print(f\"Esperanza de X: {esperanza}\")\n"
      ],
      "metadata": {
        "colab": {
          "base_uri": "https://localhost:8080/"
        },
        "id": "SGBqhmglqVou",
        "outputId": "71bc453d-29ac-4416-93b6-b35a43e3b02e"
      },
      "execution_count": 34,
      "outputs": [
        {
          "output_type": "stream",
          "name": "stdout",
          "text": [
            "Probabilidad de que X = 0: 0.02824752\n",
            "Probabilidad de que X = 10: 0.00000590\n",
            "Esperanza de X: 3.0\n"
          ]
        }
      ]
    },
    {
      "cell_type": "markdown",
      "source": [
        "## Ejercicio 6\n",
        "\n",
        "Una variable aleatoria $X$ tiene una función de probabilidad puntual $p_i = P(X = i)$ dada por:\n",
        "\n",
        "$$\n",
        "p_0 = 0,15, p_1 = 0,20, p_2 = 0,10, p_3 = 0,35, p_4 = 0,20\n",
        "$$\n"
      ],
      "metadata": {
        "id": "J6iF7vO8S2Pt"
      }
    },
    {
      "cell_type": "markdown",
      "source": [
        "### I) Describir algoritmo transformada inversa\n",
        "Describir mediante un pseudocódigo un algoritmo que simule X utilizando el método de la transformada inversa y que minimice el número esperado de búsquedas."
      ],
      "metadata": {
        "id": "Hn85r8HxTThY"
      }
    },
    {
      "cell_type": "code",
      "source": [
        "from random import random\n",
        "\n",
        "# Metodo generalizado - Funcion generadora\n",
        "def generadora_transformada_inversa_mejorada(probs):\n",
        "  \"\"\"\n",
        "  Funcion generadora de una transformada inversa mejorada.\n",
        "\n",
        "  `probs`: lista de (valor, probabilidad)\n",
        "\n",
        "  Retorna una funcion. La cual es la variabla aleatoria.\n",
        "\n",
        "  ---\n",
        "\n",
        "  Ejemplo:\n",
        "  ```\n",
        "  probs = [(1, 0.1), (2, 0.2), (3, 0.3), (4, 0.4)]\n",
        "  ```\n",
        "  \"\"\"\n",
        "\n",
        "  p_optimizado = sorted(probs, key=lambda x: x[1], reverse=True)\n",
        "\n",
        "  p = [x[1] for x in p_optimizado]\n",
        "  x = [x[0] for x in p_optimizado]\n",
        "\n",
        "  def variable_aleatoria():\n",
        "    U = random()\n",
        "    i, F = 0, p[0]\n",
        "\n",
        "    while U >= F:\n",
        "      i +=1; F += p[i]\n",
        "\n",
        "    return x[i]\n",
        "\n",
        "\n",
        "  return variable_aleatoria"
      ],
      "metadata": {
        "id": "rY7crb7sVGLn"
      },
      "execution_count": 35,
      "outputs": []
    },
    {
      "cell_type": "code",
      "source": [
        "metodo_transformada_inversa_mejorada = generadora_transformada_inversa_mejorada(\n",
        "     [(0, 0.15), (1, 0.2), (2, 0.1), (3, 0.35), (4, 0.2)]\n",
        ")\n",
        "\n",
        "metodo_transformada_inversa_mejorada()"
      ],
      "metadata": {
        "colab": {
          "base_uri": "https://localhost:8080/"
        },
        "id": "OuIT8xaouGSE",
        "outputId": "8d11891b-d8f0-494b-912f-cacde2f72f06"
      },
      "execution_count": 36,
      "outputs": [
        {
          "output_type": "execute_result",
          "data": {
            "text/plain": [
              "1"
            ]
          },
          "metadata": {},
          "execution_count": 36
        }
      ]
    },
    {
      "cell_type": "code",
      "source": [
        "%%timeit\n",
        "metodo_transformada_inversa_mejorada()"
      ],
      "metadata": {
        "colab": {
          "base_uri": "https://localhost:8080/"
        },
        "id": "IVQd2EawvAaz",
        "outputId": "977d9a21-c58e-434f-ec8c-5a3da018d05c"
      },
      "execution_count": 37,
      "outputs": [
        {
          "output_type": "stream",
          "name": "stdout",
          "text": [
            "228 ns ± 11.2 ns per loop (mean ± std. dev. of 7 runs, 1000000 loops each)\n"
          ]
        }
      ]
    },
    {
      "cell_type": "markdown",
      "source": [
        "### II) Describir algoritmo aceptación y rechazo\n",
        "Describir mediante un pseudocódigo un algoritmo que simule X utilizando el método de aceptación y rechazo con una variable soporte Y con distribución binomial $B(4,0.45)$."
      ],
      "metadata": {
        "id": "zJoR6juCTuYg"
      }
    },
    {
      "cell_type": "code",
      "source": [
        "from random import random\n",
        "import math\n",
        "\n",
        "# Codigo auxiliar para lo siguiente\n",
        "def binomial_transformada_inversa(n,p):\n",
        "  c = p / (1 - p)\n",
        "  prob = (1 - p) ** n\n",
        "  F = prob; i=0\n",
        "  U = random()\n",
        "  while U >= F:\n",
        "    prob *= c * (n-i) / (i+1)\n",
        "    F += prob\n",
        "    i += 1\n",
        "  return i\n",
        "\n",
        "\n",
        "def bin_prob_teorica(k, n, p):\n",
        "  return math.comb(n, k) * (p**k) * ((1-p)**(n-k))"
      ],
      "metadata": {
        "id": "FSkCHx-lqWAf"
      },
      "execution_count": 38,
      "outputs": []
    },
    {
      "cell_type": "code",
      "source": [
        "from random import random\n",
        "\n",
        "# Metodo generalizado - Funcion generadora\n",
        "def generadora_aceptacion_rechazo_por_binomial(probs, bin_n, bin_p):\n",
        "  \"\"\"\n",
        "  Funcion generadora de una aceptacion rechazo. Usando un binomial (n, p).\n",
        "\n",
        "  `prob_X`: funcion de probailida de masas de X, (numero) -> probabilidad\n",
        "  `bin_n`: parametro n de una binomial\n",
        "  `bin_p`: parametro p de una binomial\n",
        "\n",
        "  ---\n",
        "\n",
        "  ACLARACION: `prob_X` debe estar definida en el `0,..,bin_n`\n",
        "\n",
        "  RETORNA: una funcion. La cual es la variabla aleatoria.\n",
        "\n",
        "  ---\n",
        "\n",
        "  Ejemplo:\n",
        "  ```\n",
        "  probs = [(1, 0.1), (2, 0.2), (3, 0.3), (4, 0.4)]\n",
        "  bin_n: 10\n",
        "  bin_p: 0.1\n",
        "  ```\n",
        "  \"\"\"\n",
        "\n",
        "  # Construimos la funcion de probabilida de masa de X\n",
        "  tabla = dict(probs)\n",
        "  prob_X = lambda x: tabla.get(x, 0)\n",
        "\n",
        "  # Generamos la funcion Y\n",
        "  va_Y = lambda: binomial_transformada_inversa(bin_n, bin_p)\n",
        "  prob_Y = lambda x: bin_prob_teorica(x, bin_n, bin_p)\n",
        "\n",
        "  # Calculamos la constante c\n",
        "  c = max([prob_X(i) / prob_Y(i) for i in range(len(probs))])\n",
        "\n",
        "  def variable_aleatoria():\n",
        "    while True:\n",
        "      y = va_Y()\n",
        "      u = random()\n",
        "      if u <= prob_X(y) / (c * prob_Y(y)):\n",
        "       return y\n",
        "\n",
        "  return variable_aleatoria"
      ],
      "metadata": {
        "id": "ccatY7ycckpX"
      },
      "execution_count": 39,
      "outputs": []
    },
    {
      "cell_type": "code",
      "source": [
        "metodo_aceptacion_rechazo_por_binomial = generadora_aceptacion_rechazo_por_binomial(\n",
        "     probs=[(0, 0.15), (1, 0.2), (2, 0.1), (3, 0.35), (4, 0.2)],\n",
        "     bin_n=4,\n",
        "     bin_p=0.45\n",
        ")\n",
        "\n",
        "# Mejora\n",
        "# metodo_aceptacion_rechazo_por_binomial = generadora_aceptacion_rechazo_por_binomial(\n",
        "#      probs=[(0, 0.15), (1, 0.2), (2, 0.1), (3, 0.35), (4, 0.2)],\n",
        "#      bin_n=20,\n",
        "#      bin_p=0.114\n",
        "# )\n",
        "\n",
        "metodo_aceptacion_rechazo_por_binomial()"
      ],
      "metadata": {
        "colab": {
          "base_uri": "https://localhost:8080/"
        },
        "id": "EkHmNG4xsja3",
        "outputId": "012b0893-06f1-4f94-eb86-d18786fad921"
      },
      "execution_count": 40,
      "outputs": [
        {
          "output_type": "execute_result",
          "data": {
            "text/plain": [
              "0"
            ]
          },
          "metadata": {},
          "execution_count": 40
        }
      ]
    },
    {
      "cell_type": "code",
      "source": [
        "%%timeit\n",
        "metodo_aceptacion_rechazo_por_binomial()"
      ],
      "metadata": {
        "colab": {
          "base_uri": "https://localhost:8080/"
        },
        "id": "yvm6tb9zu5pP",
        "outputId": "23e2b3fa-96ac-44b1-dc25-eba49ed7b433"
      },
      "execution_count": 41,
      "outputs": [
        {
          "output_type": "stream",
          "name": "stdout",
          "text": [
            "7.27 µs ± 2.06 µs per loop (mean ± std. dev. of 7 runs, 100000 loops each)\n"
          ]
        }
      ]
    },
    {
      "cell_type": "markdown",
      "source": [
        "### III) Comparacion de eficiencia\n",
        "Compare la eficiencia de los dos algoritmos realizando 10000 simulaciones."
      ],
      "metadata": {
        "id": "S2qs85ohTvlu"
      }
    },
    {
      "cell_type": "code",
      "source": [
        "def tiempo_metodo(metodo, N=10_000):\n",
        "    empieza = time()\n",
        "    for _ in range(N):\n",
        "        metodo()\n",
        "    termina = time()\n",
        "    return termina - empieza\n",
        "\n",
        "metodos_ej6 = [\n",
        "    (\"Transformada Inversa (Optimizada)\", metodo_transformada_inversa_mejorada),\n",
        "    (\"Aceptación y Rechazo (Binomial)\", metodo_aceptacion_rechazo_por_binomial),\n",
        "]\n",
        "\n",
        "print(f\"{'Metodo':<40} | {'Tiempo (s)':>10}\")\n",
        "print(\"-\" * 55)\n",
        "resultados_ej6 = [(nombre, tiempo_metodo(f)) for nombre, f in metodos_ej6]\n",
        "for nombre, t in sorted(resultados_ej6, key=lambda x: x[1]):\n",
        "    print(f\"{nombre:<40} | {t:.4f}s\")"
      ],
      "metadata": {
        "colab": {
          "base_uri": "https://localhost:8080/"
        },
        "id": "zW2OgD0iuWQN",
        "outputId": "fe74130a-1b19-4bd0-dd91-75c991961f6d"
      },
      "execution_count": 42,
      "outputs": [
        {
          "output_type": "stream",
          "name": "stdout",
          "text": [
            "Metodo                                   | Tiempo (s)\n",
            "-------------------------------------------------------\n",
            "Transformada Inversa (Optimizada)        | 0.0023s\n",
            "Aceptación y Rechazo (Binomial)          | 0.0592s\n"
          ]
        }
      ]
    },
    {
      "cell_type": "markdown",
      "source": [
        "## Ejercicio 7\n",
        "\n",
        "Estime $P(Y > 2)$ con $λ = 10$, y **1000 repeticiones** para la **variable Poisson**, simulando con método de transformada inversa común e inversa mejorado."
      ],
      "metadata": {
        "id": "AbO7engC8sYq"
      }
    },
    {
      "cell_type": "markdown",
      "source": [
        "### Transformada inversa común"
      ],
      "metadata": {
        "id": "ik4nUj9n9I9c"
      }
    },
    {
      "cell_type": "markdown",
      "source": [
        "Recordar que:\n",
        "\n",
        "$$\n",
        "p_0 = e^{−λ} \\ \\ \\ \\ \\ \\ \\ \\ \\  \\ \\ \\ \\  \\ p_{i+1} = p_i\\frac{λ}{i+1}\n",
        "$$"
      ],
      "metadata": {
        "id": "btlhaXZa9Yec"
      }
    },
    {
      "cell_type": "code",
      "source": [
        "from math import exp\n",
        "from random import random\n",
        "\n",
        "def generadora_poisson_transformada_inversa(L):\n",
        "  \"\"\"\n",
        "  `L`: parametro lambda de una poisson\n",
        "\n",
        "  RETORNA: una funcion. La cual es la variabla aleatoria.\n",
        "  \"\"\"\n",
        "\n",
        "  def va():\n",
        "    U = random()\n",
        "    i = 0; p = exp(-L)\n",
        "    F = p\n",
        "    while U >= F:\n",
        "      i += 1\n",
        "      p *= L / i\n",
        "      F += p\n",
        "\n",
        "    return i\n",
        "\n",
        "  return va"
      ],
      "metadata": {
        "id": "aBo_YhXM9TC7"
      },
      "execution_count": 57,
      "outputs": []
    },
    {
      "cell_type": "code",
      "source": [
        "%%timeit -n 1_000_000\n",
        "poisson_transformada_inversa_comun = generadora_poisson_transformada_inversa(10)"
      ],
      "metadata": {
        "colab": {
          "base_uri": "https://localhost:8080/"
        },
        "id": "PluwWd4iAPT5",
        "outputId": "bcdd57c3-204e-409b-9e0b-f2cf5091c4ea"
      },
      "execution_count": 58,
      "outputs": [
        {
          "output_type": "stream",
          "name": "stdout",
          "text": [
            "182 ns ± 6.89 ns per loop (mean ± std. dev. of 7 runs, 1000000 loops each)\n"
          ]
        }
      ]
    },
    {
      "cell_type": "code",
      "source": [
        "poisson_transformada_inversa_comun = generadora_poisson_transformada_inversa(10)"
      ],
      "metadata": {
        "id": "e27osTe5tZ2d"
      },
      "execution_count": 61,
      "outputs": []
    },
    {
      "cell_type": "code",
      "source": [
        "%%timeit -n 1_000_000\n",
        "poisson_transformada_inversa_comun()"
      ],
      "metadata": {
        "colab": {
          "base_uri": "https://localhost:8080/"
        },
        "id": "6eoNy7EIAYU6",
        "outputId": "bd0fbd27-0185-4a4c-c544-18d223ac8da0"
      },
      "execution_count": 62,
      "outputs": [
        {
          "output_type": "stream",
          "name": "stdout",
          "text": [
            "1.22 µs ± 298 ns per loop (mean ± std. dev. of 7 runs, 1000000 loops each)\n"
          ]
        }
      ]
    },
    {
      "cell_type": "markdown",
      "source": [
        "### Transformada inversa mejorada"
      ],
      "metadata": {
        "id": "1O83BzTfA6xv"
      }
    },
    {
      "cell_type": "code",
      "source": [
        "from math import exp\n",
        "from random import random\n",
        "\n",
        "def generadora_poisson_transformada_inversa_mejorada(L):\n",
        "  \"\"\"\n",
        "  `L`: parametro lambda de una poisson\n",
        "\n",
        "  RETORNA: una funcion. La cual es la variabla aleatoria.\n",
        "  \"\"\"\n",
        "\n",
        "  # Precalculamos F y p\n",
        "  p_init = exp(-L)\n",
        "  F_init = p_init\n",
        "  for j in range(1, int(L) + 1):\n",
        "    p_init *= L / j\n",
        "    F_init += p_init\n",
        "\n",
        "  def va():\n",
        "    p = p_init; F = F_init\n",
        "\n",
        "    U = random()\n",
        "    if U >= F:\n",
        "      j = int(L) + 1\n",
        "      while U >= F:\n",
        "        p *= L / j; F += p\n",
        "        j += 1\n",
        "      return j - 1\n",
        "    else:\n",
        "      j = int(L)\n",
        "      while U < F:\n",
        "        F -= p; p *= j/L\n",
        "        j -= 1\n",
        "      return j+1\n",
        "\n",
        "  return va"
      ],
      "metadata": {
        "id": "4BRDjVUgA8fc"
      },
      "execution_count": 63,
      "outputs": []
    },
    {
      "cell_type": "code",
      "source": [
        "%%timeit -n 1_000_000\n",
        "poisson_transformada_inversa_mejorada = generadora_poisson_transformada_inversa_mejorada(10)"
      ],
      "metadata": {
        "colab": {
          "base_uri": "https://localhost:8080/"
        },
        "id": "ZG_72ioIBWu2",
        "outputId": "b2a14fdc-802c-4ca9-deaa-a86182331120"
      },
      "execution_count": 64,
      "outputs": [
        {
          "output_type": "stream",
          "name": "stdout",
          "text": [
            "1.32 µs ± 58.7 ns per loop (mean ± std. dev. of 7 runs, 1000000 loops each)\n"
          ]
        }
      ]
    },
    {
      "cell_type": "code",
      "source": [
        "poisson_transformada_inversa_mejorada = generadora_poisson_transformada_inversa_mejorada(10)"
      ],
      "metadata": {
        "id": "XBwQ367EtkW0"
      },
      "execution_count": 65,
      "outputs": []
    },
    {
      "cell_type": "code",
      "source": [
        "%%timeit -n 1_000_000\n",
        "poisson_transformada_inversa_mejorada()"
      ],
      "metadata": {
        "colab": {
          "base_uri": "https://localhost:8080/"
        },
        "id": "hQDVnwyJBby1",
        "outputId": "cf9de233-8e41-4eab-8199-5f9a977ad1ed"
      },
      "execution_count": 66,
      "outputs": [
        {
          "output_type": "stream",
          "name": "stdout",
          "text": [
            "486 ns ± 6.27 ns per loop (mean ± std. dev. of 7 runs, 1000000 loops each)\n"
          ]
        }
      ]
    },
    {
      "cell_type": "markdown",
      "source": [
        "### Conclusión\n",
        "\n",
        "Tenemos que el metodo mejorado corre en casi la mitad del tiempo que el comun.\n",
        "\n",
        "Pero notar algo importante en estos tiempos promedios:\n",
        "\n",
        "- `TI comun = 1.07 us`\n",
        "- `Inicialización de TI comun = 184 ns `\n",
        "\n",
        "y\n",
        "\n",
        "- `TI mejorado = 560 ns`\n",
        "- `Inicialización de TI mejorado = 1.49 us `\n",
        "\n",
        "Podemos ver como el tiempo de inicializacion de la mejora es 8 veces mas lenta. Es decir que para pocos valores (ie, 1 o 2 jaja) usar el metodo comun pero si necesitamos generar muchos ahora si conviene usar la mejora.\n"
      ],
      "metadata": {
        "id": "FweuVJZnDRVY"
      }
    },
    {
      "cell_type": "markdown",
      "source": [
        "## Ejercicio 8"
      ],
      "metadata": {
        "id": "vVtYg_-wIhX3"
      }
    },
    {
      "cell_type": "markdown",
      "source": [
        "### a) Método de la Transformada Inversa y el de Rechazo\n",
        "Desarrolle el método de la Transformada Inversa y el de Rechazo para generar una variable aleatoria X cuya distribución de probabilidad está dada por:"
      ],
      "metadata": {
        "id": "Wip7FdLtIkWV"
      }
    },
    {
      "cell_type": "markdown",
      "source": [
        "$$\n",
        "P(X = i) =\n",
        "\\frac\n",
        "{\n",
        "\\frac{λ^i}{i!} * e^{-λ}\n",
        "}{\n",
        "\\sum_{j=0}^{k} \\frac{λ^j}{j!} * e^{-λ}\n",
        "}\\ \\ \\ \\ (con\\ i=\\{1,\\dots,k\\})\n",
        "$$"
      ],
      "metadata": {
        "id": "N4TYBLhBYdVw"
      }
    },
    {
      "cell_type": "markdown",
      "source": [
        "notar que podemos simplificar ya que:\n",
        "\n",
        "\\begin{align}\n",
        "P(X = i) = &\n",
        "\\frac\n",
        "{\n",
        "\\frac{λ^i}{i!} * e^{-λ}\n",
        "}{\n",
        "\\sum_{j=0}^{k} \\frac{λ^j}{j!} * e^{-λ}\n",
        "}  \\\\\n",
        "= &\n",
        "\\frac\n",
        "{\n",
        "\\frac{λ^i}{i!} * e^{-λ}\n",
        "}{\n",
        "e^{-λ} *\\sum_{j=0}^{k} \\frac{λ^j}{j!}\n",
        "} \\\\\n",
        "= &\n",
        "\\frac\n",
        "{\n",
        "\\frac{λ^i}{i!}\n",
        "}{\n",
        "\\sum_{j=0}^{k} \\frac{λ^j}{j!}\n",
        "}\n",
        "\\end{align}\n",
        "\n",
        "entonces\n",
        "\n",
        "$$\n",
        "P(X = i) =\n",
        "\\frac\n",
        "{\n",
        "\\frac{λ^i}{i!}\n",
        "}{\n",
        "\\sum_{j=0}^{k} \\frac{λ^j}{j!}\n",
        "}\n",
        "$$"
      ],
      "metadata": {
        "id": "B3fYxrTtY5tp"
      }
    },
    {
      "cell_type": "markdown",
      "source": [
        "#### Constantes"
      ],
      "metadata": {
        "id": "ZdFu7Ia87e-h"
      }
    },
    {
      "cell_type": "code",
      "source": [
        "# Definimos parametros\n",
        "K = 10\n",
        "L = 0.7"
      ],
      "metadata": {
        "id": "QPgSwd8tRnB-"
      },
      "execution_count": 67,
      "outputs": []
    },
    {
      "cell_type": "code",
      "source": [
        "# Precalculamos todos lo valores necesarios\n",
        "import math\n",
        "\n",
        "def poisson_probabilidad_masa(i):\n",
        "    return ((L**i) / math.factorial(i)) * math.exp(-L)\n",
        "\n",
        "def poisson_probabilidad_masa(i):\n",
        "    return ((L**i) / math.factorial(i)) * math.exp(-L)\n",
        "\n",
        "sumatoria_poisson_hasta_K = sum(poisson_probabilidad_masa(j) for j in range(0,K+1))\n",
        "\n",
        "def probabilidad_masa_X(i):\n",
        "    return poisson_probabilidad_masa(i) / sumatoria_poisson_hasta_K\n",
        "\n",
        "x = [ i for i in range(0,K+1)]\n",
        "p = [ probabilidad_masa_X(i) for i in x]"
      ],
      "metadata": {
        "id": "bfhTA3bPRfNv"
      },
      "execution_count": 68,
      "outputs": []
    },
    {
      "cell_type": "markdown",
      "source": [
        "#### Transformada Inversa"
      ],
      "metadata": {
        "id": "6Y1w1H0fPs92"
      }
    },
    {
      "cell_type": "code",
      "source": [
        "# Definimos por el metodo de la transformada inversa la X\n",
        "from random import random\n",
        "\n",
        "def poisson_transformada_inversa_X():\n",
        "  U = random()\n",
        "  i, F = 0, p[0]\n",
        "  while U >= F:\n",
        "    i +=1; F += p[i]\n",
        "  return x[i]"
      ],
      "metadata": {
        "id": "CzbfBPUUPyfe"
      },
      "execution_count": 69,
      "outputs": []
    },
    {
      "cell_type": "code",
      "source": [
        "poisson_transformada_inversa_X()"
      ],
      "metadata": {
        "colab": {
          "base_uri": "https://localhost:8080/"
        },
        "id": "3xmrnEA_SgDy",
        "outputId": "e5bca662-a01f-4ee1-f090-8a4c43bd1e1d"
      },
      "execution_count": 70,
      "outputs": [
        {
          "output_type": "execute_result",
          "data": {
            "text/plain": [
              "2"
            ]
          },
          "metadata": {},
          "execution_count": 70
        }
      ]
    },
    {
      "cell_type": "markdown",
      "source": [
        "#### Aceptación y rechazo\n",
        "\n",
        "Para ello debemos encontrar otra v.a que podamos simular y luego usarla.\n",
        "\n",
        "Notar que si tomamos la v.a Y con distribucion de poisson lambda igual a la X tenemos que:\n",
        "\n",
        "$$\n",
        "P(Y = i) = \\frac{λ^i}{i!} * e^{-λ}\\ \\ \\ \\ \\ \\ (con\\ i\\in N \\cup \\{0\\})\n",
        "$$\n",
        "\n",
        "Y nos sirve para el metodo de aceptacion y rechazo ya que se cumple que:\n",
        "\n",
        "\\begin{align}\n",
        "  \\frac{P(X = i)}{P(Y = i)}\n",
        "  = &\n",
        "  \\frac\n",
        "  {\n",
        "  \\frac\n",
        "    {\n",
        "      \\frac{λ^i}{i!} * e^{-λ}\n",
        "    }\n",
        "    {\n",
        "      \\sum_{j=0}^{k} \\frac{λ^j}{j!} * e^{-λ}\n",
        "    }\n",
        "  }\n",
        "  {\n",
        "  \\frac{λ^i}{i!} * e^{-λ}\n",
        "  }\\ \\ \\ \\ (con\\ i=\\{1,\\dots,k\\})\n",
        "  \\\\\n",
        "  = &\n",
        "  \\frac\n",
        "  {\n",
        "    \\frac{λ^i}{i!} * e^{-λ}\n",
        "  }\n",
        "  {\n",
        "    \\sum_{j=0}^{k} \\frac{λ^j}{j!} * e^{-λ}\n",
        "  }\n",
        "  \\cdot\n",
        "  \\frac{1}\n",
        "  {\n",
        "    \\frac{λ^i}{i!} * e^{-λ}\\\n",
        "  }\n",
        "  \\\\\n",
        "  = &\n",
        "  \\frac\n",
        "  {\n",
        "    1\n",
        "  }\n",
        "  {\n",
        "    \\sum_{j=0}^{k} \\frac{λ^j}{j!} * e^{-λ}\n",
        "  }\n",
        "\\end{align}\n",
        "\n",
        "como el `k` es fijo tenemos que esto es una contante para todo `i`. Por lo tanto de aca concluimos que:\n",
        "\n",
        "$$\n",
        "c = \\frac{1}{\\sum_{j=0}^{k} \\frac{λ^j}{j!} * e^{-λ}}\n",
        "$$"
      ],
      "metadata": {
        "id": "KUpYNumtaf-k"
      }
    },
    {
      "cell_type": "code",
      "source": [
        "def poisson(lamda):\n",
        "    \"\"\"\n",
        "    Poisson sin optimizar del teorico.\n",
        "    \"\"\"\n",
        "    U = random()\n",
        "    i = 0\n",
        "    p = math.exp(-lamda)\n",
        "    F = p\n",
        "\n",
        "    while U >= F:\n",
        "        i += 1\n",
        "        p *= lamda / i\n",
        "        F = F + p\n",
        "\n",
        "    return i"
      ],
      "metadata": {
        "id": "OaPx1PVn6KL1"
      },
      "execution_count": 71,
      "outputs": []
    },
    {
      "cell_type": "code",
      "source": [
        "def poisson_ayr_X():\n",
        "    \"\"\"\n",
        "    Aceptación y Rechazo\n",
        "    \"\"\"\n",
        "    y = poisson(L)\n",
        "    u = random()\n",
        "    c = 1 / sumatoria_poisson_hasta_K\n",
        "    while u >= p[y] / (c * poisson_probabilidad_masa(y)):\n",
        "        y = poisson(L)\n",
        "        u = random()\n",
        "    return y"
      ],
      "metadata": {
        "id": "q9tX_1eT-5Mq"
      },
      "execution_count": 72,
      "outputs": []
    },
    {
      "cell_type": "code",
      "source": [
        "poisson_ayr_X()"
      ],
      "metadata": {
        "colab": {
          "base_uri": "https://localhost:8080/"
        },
        "id": "J8m8LAHh8ImB",
        "outputId": "ed6d9f86-d9ea-467c-f165-dd2ab2fda132"
      },
      "execution_count": 73,
      "outputs": [
        {
          "output_type": "execute_result",
          "data": {
            "text/plain": [
              "1"
            ]
          },
          "metadata": {},
          "execution_count": 73
        }
      ]
    },
    {
      "cell_type": "markdown",
      "source": [
        "### b) Estime P(X > 2)\n",
        "Estime P(X > 2) con k = 10 y λ = 0,7, y 1000 repeticiones. Compare con el valor exacto."
      ],
      "metadata": {
        "id": "3SY0iu7qIs9R"
      }
    },
    {
      "cell_type": "code",
      "source": [
        "from time import time\n",
        "\n",
        "def estimar_probabilidad(i, metodo, N):\n",
        "    count = 0\n",
        "    inicio = time()\n",
        "    for _ in range(N):\n",
        "        if metodo() > i:\n",
        "            count += 1\n",
        "    fin = time()\n",
        "    print(f\"Estimando P(X = {i}) con el metodo {metodo.__name__}\")\n",
        "    print(f\"  Resultado: {count / N}\")\n",
        "    print(f\"  Tiempo: {fin- inicio:.4f}s \\n\")\n",
        "\n",
        "\n",
        "N = 1_000_000\n",
        "estimar_probabilidad(2, poisson_transformada_inversa_X, N)\n",
        "estimar_probabilidad(2, poisson_ayr_X, N)\n",
        "print(f\"Valor exacto: {sum(probabilidad_masa_X(i) for i in range(2+1, K + 1))}\")\n"
      ],
      "metadata": {
        "colab": {
          "base_uri": "https://localhost:8080/"
        },
        "id": "Ox35lps08q-A",
        "outputId": "0b16ddb1-e9d3-455a-9dfe-77d76e0b47c4"
      },
      "execution_count": 74,
      "outputs": [
        {
          "output_type": "stream",
          "name": "stdout",
          "text": [
            "Estimando P(X = 2) con el metodo poisson_transformada_inversa_X\n",
            "  Resultado: 0.034053\n",
            "  Tiempo: 0.1974s \n",
            "\n",
            "Estimando P(X = 2) con el metodo poisson_ayr_X\n",
            "  Resultado: 0.034332\n",
            "  Tiempo: 0.6927s \n",
            "\n",
            "Valor exacto: 0.034141583873472554\n"
          ]
        }
      ]
    },
    {
      "cell_type": "markdown",
      "source": [
        "### c) Generalice el problema\n",
        "Generalice el problema escribiendo un pseudocódigo para el metodo de rechazo para cualquier variable aleatoria truncada usando como soporte a la variable original (con “cualquier variable aleatoria\n",
        "truncada” nos referimos a una variable como la vista en el inciso (a) pero ahora truncada en cualquier\n",
        "parte i = a,...,b)."
      ],
      "metadata": {
        "id": "PtWEmMhsJIAP"
      }
    },
    {
      "cell_type": "code",
      "source": [
        "from random import random\n",
        "import math\n",
        "\n",
        "def poisson(lamda):\n",
        "    \"\"\"\n",
        "    Poisson sin optimizar del teorico.\n",
        "    \"\"\"\n",
        "    U = random()\n",
        "    i = 0\n",
        "    p = math.exp(-lamda)\n",
        "    F = p\n",
        "\n",
        "    while U >= F:\n",
        "        i += 1\n",
        "        p *= lamda / i\n",
        "        F = F + p\n",
        "\n",
        "    return i\n",
        "\n",
        "def generadora_aceptacion_rechazo_poisson_truncada(a, b, lamda):\n",
        "  \"\"\"\n",
        "  Metodo generalizado usando aceptacion y rechazo para cualquier\n",
        "  variable aleatoria de poisson truncada. Usando como soporte\n",
        "  la variable poisson original de parametro lambda.\n",
        "\n",
        "  `a`: limite inferior\n",
        "  `b`: limite superior\n",
        "  `lamda`: parametro lambda de una poisson\n",
        "\n",
        "  RETORNA: una funcion. La cual es la variabla aleatoria.\n",
        "  \"\"\"\n",
        "\n",
        "  def poisson_probabilidad_masa(i):\n",
        "    return ((lamda**i) / math.factorial(i)) * math.exp(-lamda)\n",
        "\n",
        "  sumatoria_poisson_de_a_hasta_b = sum(poisson_probabilidad_masa(j) for j in range(a,b+1))\n",
        "\n",
        "  def probabilidad_masa_X(i):\n",
        "    return poisson_probabilidad_masa(i) / sumatoria_poisson_de_a_hasta_b\n",
        "\n",
        "  X_i = [ i for i in range(a,b+1)]\n",
        "  p_i = [ probabilidad_masa_X(i) for i in X_i]\n",
        "\n",
        "  def va_X():\n",
        "    \"\"\"\n",
        "    Aceptación y Rechazo\n",
        "    \"\"\"\n",
        "    y = poisson(lamda)\n",
        "    u = random()\n",
        "    c = 1 / sumatoria_poisson_de_a_hasta_b\n",
        "    while u >= p_i[y] / (c * poisson_probabilidad_masa(y)):\n",
        "        y = poisson(lamda)\n",
        "        u = random()\n",
        "    return y\n",
        "\n",
        "  return va_X"
      ],
      "metadata": {
        "id": "EQezLTjbi9MG"
      },
      "execution_count": 75,
      "outputs": []
    },
    {
      "cell_type": "code",
      "source": [
        "va = generadora_aceptacion_rechazo_poisson_truncada(0,10, 0.7)"
      ],
      "metadata": {
        "id": "9T7jhTv8lsyY"
      },
      "execution_count": 76,
      "outputs": []
    },
    {
      "cell_type": "markdown",
      "source": [
        "## Ejercicio 9\n",
        "\n",
        "Implemente dos métodos para simular una variable geométrica $Geom(p)$:"
      ],
      "metadata": {
        "id": "cut3kFK8m810"
      }
    },
    {
      "cell_type": "markdown",
      "source": [
        "### a) Transformada inversa\n",
        "\n",
        "Usando transformada inversa y aplicando la fórmula recursiva para $p(i) = P(X = i)$.\n",
        "\n",
        "Encontremos la formula recursiva para $p(i)$:\n",
        "\\begin{align}\n",
        "p(1) & = p⋅(1-p)^{1-1} \\\\\n",
        "& = p⋅(1-p)^{0} \\\\\n",
        "& = p⋅1 \\\\\n",
        "& \\fbox{$= p$} \\\\\n",
        "\\end{align}\n",
        "\n",
        "\\begin{align}\n",
        "p(i+1) & = p⋅(1-p)^{i+1-1} \\\\\n",
        "& = p⋅(1-p)^{i-1}⋅(1-p)\\\\\n",
        "& \\fbox{$= p(i)⋅(1-p)$} \\\\\n",
        "\\end{align}"
      ],
      "metadata": {
        "id": "bo-JfL8anVCL"
      }
    },
    {
      "cell_type": "code",
      "source": [
        "from random import random\n",
        "from math import log\n",
        "\n",
        "def geometrica_formula_cerrada(p):\n",
        "  \"\"\"\n",
        "  Formula cerrada vista en el teorico.\n",
        "  \"\"\"\n",
        "  U = random()\n",
        "  return int(log(1-U)/log(1-p))+1\n"
      ],
      "metadata": {
        "id": "l3jNMfFl2vUO"
      },
      "execution_count": 77,
      "outputs": []
    },
    {
      "cell_type": "code",
      "source": [
        "%%timeit\n",
        "geometrica_formula_cerrada(0.8)"
      ],
      "metadata": {
        "colab": {
          "base_uri": "https://localhost:8080/"
        },
        "id": "4iZtr5AV8_Zi",
        "outputId": "77ff34fe-9fb6-43ab-e897-f1c2f073631c"
      },
      "execution_count": 78,
      "outputs": [
        {
          "output_type": "stream",
          "name": "stdout",
          "text": [
            "498 ns ± 8.05 ns per loop (mean ± std. dev. of 7 runs, 1000000 loops each)\n"
          ]
        }
      ]
    },
    {
      "cell_type": "code",
      "source": [
        "%%timeit\n",
        "geometrica_formula_cerrada(0.01)"
      ],
      "metadata": {
        "colab": {
          "base_uri": "https://localhost:8080/"
        },
        "id": "PfZWUK2r3MUZ",
        "outputId": "8d8192c8-384d-4305-ea3f-8ae2e5ba2b30"
      },
      "execution_count": 79,
      "outputs": [
        {
          "output_type": "stream",
          "name": "stdout",
          "text": [
            "468 ns ± 3.99 ns per loop (mean ± std. dev. of 7 runs, 1000000 loops each)\n"
          ]
        }
      ]
    },
    {
      "cell_type": "code",
      "source": [
        "from random import random\n",
        "from math import log\n",
        "\n",
        "def geometrica_transformada_inversa(p):\n",
        "  \"\"\"\n",
        "  Metodo de la transformada.\n",
        "  \"\"\"\n",
        "  U = random()\n",
        "  i = 1; P = p; F = p\n",
        "  while U >= F:\n",
        "    P = P * (1 - p)\n",
        "    F += P\n",
        "    i += 1\n",
        "  return i"
      ],
      "metadata": {
        "id": "LFRNrnd46uM9"
      },
      "execution_count": 80,
      "outputs": []
    },
    {
      "cell_type": "code",
      "source": [
        "geometrica_transformada_inversa(0.8)"
      ],
      "metadata": {
        "colab": {
          "base_uri": "https://localhost:8080/"
        },
        "id": "d2-6fXgkAsGZ",
        "outputId": "c447a495-fc4c-43a7-a791-91ff0e6f6edf"
      },
      "execution_count": 81,
      "outputs": [
        {
          "output_type": "execute_result",
          "data": {
            "text/plain": [
              "3"
            ]
          },
          "metadata": {},
          "execution_count": 81
        }
      ]
    },
    {
      "cell_type": "code",
      "source": [
        "%%timeit\n",
        "geometrica_transformada_inversa(0.8)"
      ],
      "metadata": {
        "colab": {
          "base_uri": "https://localhost:8080/"
        },
        "id": "hY0SiU8i9CFY",
        "outputId": "1b0df4c8-c596-41e1-f50b-75e551d0c574"
      },
      "execution_count": 82,
      "outputs": [
        {
          "output_type": "stream",
          "name": "stdout",
          "text": [
            "169 ns ± 42.5 ns per loop (mean ± std. dev. of 7 runs, 10000000 loops each)\n"
          ]
        }
      ]
    },
    {
      "cell_type": "code",
      "source": [
        "%%timeit\n",
        "geometrica_transformada_inversa(0.01)"
      ],
      "metadata": {
        "colab": {
          "base_uri": "https://localhost:8080/"
        },
        "id": "ORdit3oc7M4F",
        "outputId": "e1052477-26cb-46ae-9aca-eb4e53130f52"
      },
      "execution_count": 83,
      "outputs": [
        {
          "output_type": "stream",
          "name": "stdout",
          "text": [
            "11 µs ± 3.13 µs per loop (mean ± std. dev. of 7 runs, 100000 loops each)\n"
          ]
        }
      ]
    },
    {
      "cell_type": "markdown",
      "source": [
        "Notar esta particularidad, para valores de `p` pequeños si conviene usar el metodo con la formula cerrada. Pero para valores de `p` grandes, usar la transformada inversa comun y corriente."
      ],
      "metadata": {
        "id": "U3huoqIr9Kxp"
      }
    },
    {
      "cell_type": "markdown",
      "source": [
        "### b) Simulando ensayos\n",
        "\n",
        "Simulando ensayos con probabilidad de éxito p hasta obtener un éxito."
      ],
      "metadata": {
        "id": "Z41-8dMUndHz"
      }
    },
    {
      "cell_type": "code",
      "source": [
        "from random import random\n",
        "\n",
        "def geometrica_simulacion(p):\n",
        "  i = 1\n",
        "  while True:\n",
        "    U = random()\n",
        "    if U <= p:\n",
        "      return i\n",
        "    i += 1"
      ],
      "metadata": {
        "id": "J5729GBs2tiB"
      },
      "execution_count": 84,
      "outputs": []
    },
    {
      "cell_type": "code",
      "source": [
        "geometrica_simulacion(0.8)"
      ],
      "metadata": {
        "colab": {
          "base_uri": "https://localhost:8080/"
        },
        "id": "dL1txY6C-PEr",
        "outputId": "94ae8f31-3475-4018-f074-6cc6aea3d5c1"
      },
      "execution_count": 85,
      "outputs": [
        {
          "output_type": "execute_result",
          "data": {
            "text/plain": [
              "1"
            ]
          },
          "metadata": {},
          "execution_count": 85
        }
      ]
    },
    {
      "cell_type": "markdown",
      "source": [
        "### Chequeo grafico"
      ],
      "metadata": {
        "id": "SfFxTOfJ-bWH"
      }
    },
    {
      "cell_type": "code",
      "source": [
        "import matplotlib.pyplot as plt\n",
        "\n",
        "def generar_graficos_comparativos(metodos, p, N):\n",
        "    fig, axes = plt.subplots(1, len(metodos), figsize=(5 * len(metodos), 4), sharey=True)\n",
        "\n",
        "    if len(metodos) == 1:\n",
        "        axes = [axes]\n",
        "\n",
        "    for ax, metodo in zip(axes, metodos):\n",
        "        valores_generados = [metodo(p) for _ in range(N)]\n",
        "        probabilidades = [valores_generados.count(i) / N for i in range(1, max(valores_generados) + 1)]\n",
        "\n",
        "        ax.scatter(range(1, len(probabilidades) + 1), probabilidades)\n",
        "        ax.set_title(f'{metodo.__name__}')\n",
        "        ax.set_xlabel('i')\n",
        "        ax.set_ylabel('P(X = i)')\n",
        "\n",
        "    plt.tight_layout()\n",
        "    plt.show()\n",
        "\n",
        "\n",
        "generar_graficos_comparativos(\n",
        "    [geometrica_formula_cerrada,\n",
        "     geometrica_transformada_inversa,\n",
        "     geometrica_simulacion],\n",
        "    p=0.8,\n",
        "    N=100_000\n",
        ")\n"
      ],
      "metadata": {
        "colab": {
          "base_uri": "https://localhost:8080/",
          "height": 306
        },
        "id": "mFsiAoNO-lQp",
        "outputId": "d5ef5ac1-3635-4f14-abf0-d00f1de5d208"
      },
      "execution_count": 86,
      "outputs": [
        {
          "output_type": "display_data",
          "data": {
            "text/plain": [
              "<Figure size 1500x400 with 3 Axes>"
            ],
            "image/png": "[encoded data removed]"
          },
          "metadata": {}
        }
      ]
    },
    {
      "cell_type": "markdown",
      "source": [
        "### Comparación\n",
        "\n",
        "Compare la eficiencia de estos algoritmos para `p = 0,8` y para `p = 0,2`.\n",
        "\n",
        "Para cada caso, realice `10000` simulaciones y calcule el promedio de los valores obtenidos. Comparar estos\n",
        "valores con el valor esperado de la distribución correspondiente. Si están alejados, revisar el código."
      ],
      "metadata": {
        "id": "lV9I4JmfniT0"
      }
    },
    {
      "cell_type": "code",
      "source": [
        "import pandas as pd\n",
        "from time import time\n",
        "\n",
        "def estadisticas(metodo, p, N=10000):\n",
        "    inicio = time()\n",
        "    valores = [metodo(p) for _ in range(N)]\n",
        "    fin = time()\n",
        "\n",
        "    tiempo_total = fin - inicio\n",
        "    promedio = sum(valores) / N\n",
        "\n",
        "    return tiempo_total, promedio\n",
        "\n",
        "\n",
        "valores_p = [0.8, 0.2]\n",
        "metodos = [geometrica_formula_cerrada,\n",
        "           geometrica_transformada_inversa,\n",
        "           geometrica_simulacion]\n",
        "\n",
        "tablas_por_p = {}\n",
        "\n",
        "for p in valores_p:\n",
        "    filas = []\n",
        "    for metodo in metodos:\n",
        "        tiempo_total, promedio = estadisticas(metodo, p)\n",
        "        filas.append({\n",
        "            \"Método\": metodo.__name__,\n",
        "            \"Promedio\": promedio,\n",
        "            \"Tiempo Total (s)\": tiempo_total\n",
        "        })\n",
        "\n",
        "    filas.append({\n",
        "        \"Método\": \"calculo_exacto\",\n",
        "        \"Promedio\": 1 / p,\n",
        "        \"Tiempo Total (s)\": \"-\"\n",
        "    })\n",
        "    tablas_por_p[p] = pd.DataFrame(filas).round(4)\n",
        "\n",
        "for p, tabla in tablas_por_p.items():\n",
        "    print(f\"\\n ------------------ Tabla para p = {p}:  ------------------ \")\n",
        "    print(tabla.to_string(index=False))\n"
      ],
      "metadata": {
        "colab": {
          "base_uri": "https://localhost:8080/"
        },
        "id": "DWRGVkozBWva",
        "outputId": "12f19799-71bf-4d03-b237-860707778559"
      },
      "execution_count": 87,
      "outputs": [
        {
          "output_type": "stream",
          "name": "stdout",
          "text": [
            "\n",
            " ------------------ Tabla para p = 0.8:  ------------------ \n",
            "                         Método  Promedio Tiempo Total (s)\n",
            "     geometrica_formula_cerrada    1.2454         0.006566\n",
            "geometrica_transformada_inversa    1.2537         0.002537\n",
            "          geometrica_simulacion    1.2637         0.001762\n",
            "                 calculo_exacto    1.2500                -\n",
            "\n",
            " ------------------ Tabla para p = 0.2:  ------------------ \n",
            "                         Método  Promedio Tiempo Total (s)\n",
            "     geometrica_formula_cerrada    4.9652         0.005335\n",
            "geometrica_transformada_inversa    4.9287          0.00512\n",
            "          geometrica_simulacion    5.0039         0.004135\n",
            "                 calculo_exacto    5.0000                -\n"
          ]
        }
      ]
    },
    {
      "cell_type": "markdown",
      "source": [
        "## Ejercicio 10"
      ],
      "metadata": {
        "id": "iG7nSkJLHBzQ"
      }
    },
    {
      "cell_type": "markdown",
      "source": [
        "### (a) Método para generar una variable aleatoria X\n",
        "\n",
        "Desarrolle un método para generar una variable aleatoria X cuya distribución de probabilidad está dada por:"
      ],
      "metadata": {
        "id": "C274rlnSHEds"
      }
    },
    {
      "cell_type": "markdown",
      "source": [
        "$$\n",
        "P(X = j) = (\\frac{1}{2})^{j+1} +\n",
        "\\frac\n",
        "{\n",
        "  (\\frac{1}{2})⋅{2^{j-1}}\n",
        "}\n",
        "{\n",
        "  3^j\n",
        "}\n",
        ", \\quad j = 1, 2, \\dots\n",
        "$$"
      ],
      "metadata": {
        "id": "grNXfW6PHJp-"
      }
    },
    {
      "cell_type": "markdown",
      "source": [
        "#### Parte teorica\n",
        "\n",
        "Podriamos usar el metodo de composición, notar que:\n",
        "\n",
        "\\begin{align}\n",
        "P(X = j) & = \\left(\\frac{1}{2}\\right)^{j+1} + \\frac{\\left(\\frac{1}{2}\\right)⋅{2^{j-1}}}{3^j} \\\\\n",
        "& = \\left(\\frac{1}{2}\\right)^{j+1} + \\frac{{\\frac{1}{2}⋅2^j⋅\\frac{1}{2}}}{3^j} \\\\\n",
        "& = \\left(\\frac{1}{2}\\right)^{j+1} + \\frac{1}{2}⋅\\frac{1}{2}⋅\\left(\\frac{2}{3}\\right)^j \\\\\n",
        "& =\\left(\\frac{1}{2}\\right)^{j+1} + \\frac{1}{2}⋅\\frac{1}{2}\\left(\\frac{2}{3}\\right)^j \\\\\n",
        "& = \\left(\\frac{1}{2}\\right)^{j+1} + \\frac{1}{2}⋅\\frac{1}{2}\\left(\\frac{2}{3}\\right)^j \\\\\n",
        "& = \\left(\\frac{1}{2}\\right)^{j+1+1-1} + \\frac{1}{2}⋅\\frac{1}{2}\\left(\\frac{2}{3}\\right)^{j+1-1} \\\\\n",
        "& = \\frac{1}{2}⋅\\frac{1}{2}⋅\\left(\\frac{1}{2}\\right)^{j-1} + \\frac{1}{2}⋅\\frac{1}{2}⋅\\frac{2}{3}⋅\\left(\\frac{2}{3}\\right)^{j-1} \\\\\n",
        "& = \\frac{1}{2}⋅\\frac{1}{2}⋅\\left(\\frac{1}{2}\\right)^{j-1} + \\frac{1}{2}⋅\\frac{1}{3}⋅\\left(\\frac{2}{3}\\right)^{j-1} \\\\\n",
        "& = \\frac{1}{2}⋅\\left(\\frac{1}{2}⋅\\left(\\frac{1}{2}\\right)^{j-1}\\right) + \\frac{1}{2}⋅\\left(\\frac{1}{3}⋅\\left(\\frac{2}{3}\\right)^{j-1}\\right)\\\\\n",
        "\\end{align}\n",
        "\n",
        "Y ahora podemos pensaralo como composicion de dos gemetricas, tal que $G_1 \\backsim Geom(p=1/2)$ y $G_2 \\backsim Geom(p=1/3)$\n",
        "\n",
        "Por lo tanto tenemos que:\n",
        "\n",
        "\\begin{align}\n",
        "P(X = j) = \\frac{1}{2}⋅P\\left(G_1 = j\\right) + \\frac{1}{2}⋅P\\left(G_2 = j\\right)\n",
        "\\end{align}"
      ],
      "metadata": {
        "id": "GI4KUaZam9z0"
      }
    },
    {
      "cell_type": "markdown",
      "source": [
        "#### Código"
      ],
      "metadata": {
        "id": "VlDQjjc3tJQb"
      }
    },
    {
      "cell_type": "code",
      "source": [
        "from random import random\n",
        "from numpy import log\n",
        "\n",
        "def va_geometrica(p):\n",
        "  U = random()\n",
        "  return int(log(1-U)/log(1-p))+1\n",
        "\n",
        "def composicion_X():\n",
        "  U = random()\n",
        "  if U <= 1/2:\n",
        "    return va_geometrica(1/2)\n",
        "  else:\n",
        "    return va_geometrica(1/3)"
      ],
      "metadata": {
        "id": "aZSyuoWUoO2s"
      },
      "execution_count": 88,
      "outputs": []
    },
    {
      "cell_type": "code",
      "source": [
        "%%timeit\n",
        "composicion_X()"
      ],
      "metadata": {
        "colab": {
          "base_uri": "https://localhost:8080/"
        },
        "id": "MP7lKMxKo0gp",
        "outputId": "70be4543-983b-45cb-9761-a7f4de46a085"
      },
      "execution_count": 89,
      "outputs": [
        {
          "output_type": "stream",
          "name": "stdout",
          "text": [
            "2.17 µs ± 75.4 ns per loop (mean ± std. dev. of 7 runs, 100000 loops each)\n"
          ]
        }
      ]
    },
    {
      "cell_type": "code",
      "source": [
        "from random import random\n",
        "\n",
        "def probabilidad_masa_X(j):\n",
        "  return (1/2)**(j+1) + (1/4)*(2/3)**j\n",
        "\n",
        "def transformada_inversa_X():\n",
        "  U = random()\n",
        "  j = 1; F = probabilidad_masa_X(j)\n",
        "  while U >= F:\n",
        "    j += 1\n",
        "    F += probabilidad_masa_X(j)\n",
        "  return j"
      ],
      "metadata": {
        "id": "BvELstrJsUmY"
      },
      "execution_count": 90,
      "outputs": []
    },
    {
      "cell_type": "code",
      "source": [
        "%%timeit\n",
        "transformada_inversa_X()"
      ],
      "metadata": {
        "colab": {
          "base_uri": "https://localhost:8080/"
        },
        "id": "XHL6No2U3G24",
        "outputId": "0db8ffd4-5e0f-4c29-d0cd-cd6550453f41"
      },
      "execution_count": 91,
      "outputs": [
        {
          "output_type": "stream",
          "name": "stdout",
          "text": [
            "804 ns ± 198 ns per loop (mean ± std. dev. of 7 runs, 1000000 loops each)\n"
          ]
        }
      ]
    },
    {
      "cell_type": "markdown",
      "source": [
        "### (b) Analisis de la Esperanza\n",
        "\n",
        "Estime E(X) con 1000 repeticiones y compare con la esperanza exacta."
      ],
      "metadata": {
        "id": "Xy-qQu2xnJEP"
      }
    },
    {
      "cell_type": "markdown",
      "source": [
        "#### Estimación de la esperanza"
      ],
      "metadata": {
        "id": "usl7t1J54SjK"
      }
    },
    {
      "cell_type": "code",
      "source": [
        "def estimacion_esperanza_X(metodo, N):\n",
        "  valores = [metodo() for _ in range(N)]\n",
        "  return sum(valores) / N\n",
        "\n",
        "N = 1000\n",
        "print(f\"Esperanza estimada con N=1000 y composición: {estimacion_esperanza_X(composicion_X, N)}\")\n",
        "print(f\"Esperanza estimada con N=1000 y transformada inversa: {estimacion_esperanza_X(transformada_inversa_X, N)}\")"
      ],
      "metadata": {
        "colab": {
          "base_uri": "https://localhost:8080/"
        },
        "id": "6VT5KZC03062",
        "outputId": "6fcad7af-cf76-4f82-9eec-787b407c715f"
      },
      "execution_count": 92,
      "outputs": [
        {
          "output_type": "stream",
          "name": "stdout",
          "text": [
            "Esperanza estimada con N=1000 y composición: 2.623\n",
            "Esperanza estimada con N=1000 y transformada inversa: 2.505\n"
          ]
        }
      ]
    },
    {
      "cell_type": "markdown",
      "source": [
        "#### Valor exacto de la esperanza\n",
        "\n",
        "\n",
        "Voy a usar que $X_1 \\backsim Geom(p=1/2)$ y $X_2 \\backsim Geom(p=1/3)$\n",
        "\n",
        "\\begin{align}\n",
        "E[X] & = \\sum_{j=1}^{\\infty} j \\cdot P(X = j) \\\\\n",
        "& = \\sum_{j=1}^{\\infty} j \\cdot \\left(\\left(\\frac{1}{2}\\right)^{j+1} + \\frac{1}{4}⋅\\left(\\frac{2}{3}\\right)^j\\right) \\\\\n",
        "& = \\sum_{j=1}^{\\infty} j \\cdot \\frac{1}{2} \\cdot  \\left(\\frac{1}{2}\\right)^j + \\sum_{j=1}^{\\infty} j \\cdot \\frac{1}{4} \\cdot \\frac{1}{3} \\cdot 3 \\cdot \\left(\\frac{2}{3}\\right)^j \\\\\n",
        "& = \\sum_{j=1}^{\\infty} j \\cdot \\frac{1}{2} \\cdot  \\left(\\frac{1}{2}\\right)^j + \\frac{3}{4} \\cdot \\sum_{j=1}^{\\infty} j \\cdot \\frac{1}{3} \\cdot \\left(\\frac{2}{3}\\right)^j \\\\\n",
        "& = \\sum_{j=1}^{\\infty} j \\cdot \\frac{1}{2} \\cdot  \\left(\\frac{1}{2}\\right)^j \\cdot \\frac{1}{2} \\cdot 2 + \\frac{3}{4} \\cdot \\sum_{j=1}^{\\infty} j \\cdot \\frac{1}{3} \\cdot \\left(\\frac{2}{3}\\right)^j \\cdot \\frac{2}{3} \\cdot \\frac{3}{2}  \\\\\n",
        "& = \\frac{1}{2} \\cdot  \\sum_{j=1}^{\\infty} j \\cdot \\frac{1}{2} \\cdot  \\left(\\frac{1}{2}\\right)^{j-1}  + \\frac{3}{4} \\cdot \\frac{2}{3} \\cdot  \\sum_{j=1}^{\\infty} j \\cdot \\frac{1}{3} \\cdot \\left(\\frac{2}{3}\\right)^{j-1}  \\\\\n",
        "& = \\frac{1}{2} \\cdot  \\sum_{j=1}^{\\infty} j \\cdot \\frac{1}{2} \\cdot  \\left(\\frac{1}{2}\\right)^{j-1}  + \\frac{1}{2} \\cdot \\sum_{j=1}^{\\infty} j \\cdot \\frac{1}{3} \\cdot \\left(\\frac{2}{3}\\right)^{j-1}  \\\\\n",
        "& = \\frac{1}{2} \\cdot  E[X_1]  + \\frac{1}{2} \\cdot  E[X_2] \\\\\n",
        "& = \\frac{1}{2} \\cdot  2 + \\frac{1}{2} \\cdot  3 \\\\\n",
        "& = \\frac{5}{2}  \\\\\n",
        "& \\fbox{= 2.5}\n",
        "\\end{align}\n"
      ],
      "metadata": {
        "id": "jg_vmwY_4VwW"
      }
    },
    {
      "cell_type": "markdown",
      "source": [
        "## Ejercicio 11\n",
        "Sea $X$ una variable aleatoria cuya distribución de probabilidad es $P(X = j) = p_j$ con $j =\n",
        "1,2,....$ Sea:\n",
        "\n",
        "$$\n",
        "λ_n = P(X = n | X > n-1) = \\frac{p_n}{1 - \\sum_{j=1}^{n-1} p_j},\\ \\ \\ n = 1,2,…\n",
        "$$\n",
        "\n",
        "Las cantidades $λ_n$, son las tasas discretas de riesgo. Considerando a $X$ como el tiempo (discreto) de vida de algún artículo, $λ_n$ representa la probabilidad de que habiendo funcionado correctamente hasta el tiempo $n-1$, se rompa en el tiempo $n$.\n",
        "\n"
      ],
      "metadata": {
        "id": "CBFYhgnfKMeG"
      }
    },
    {
      "cell_type": "markdown",
      "source": [
        "### a) Demostración recursiva de $p_n$\n",
        "\n",
        "Muestre que $p_1 = λ_1$ y que $p_n = (1-λ_1)(1-λ_2)···(1-λ_{n-1})λ_n$."
      ],
      "metadata": {
        "id": "0KGSs3uJMIyc"
      }
    },
    {
      "cell_type": "markdown",
      "source": [
        "**Demostración**\n",
        "\n",
        "Primero veamos que $p_1 = λ_1$ y  por definición de $λ_n$ sale que:\n",
        "\n",
        "\\begin{align}\n",
        "λ_1 & = \\frac{p_1}{1 - \\sum_{j=1}^{1-1} p_j} \\\\\n",
        "& = \\frac{p_1}{1 - \\sum_{j=1}^{0} p_j} \\\\\n",
        "& = \\frac{p_1}{1} \\\\\n",
        "& \\fbox{= $p_1$} \\\\\n",
        "\\end{align}\n",
        "\n",
        "---\n",
        "\n",
        "Ahora veamos que $p_n = (1-λ_1)(1-λ_2)···(1-λ_{n-1})λ_n$, para ello vamos a hacerlo por inducción en $p_n$.\n",
        "\n",
        "**Caso base (facil)**:\n",
        "\n",
        "Ver que $p_1 = λ_1$ y esto lo vimos antes.\n",
        "\n",
        "**Caso recursivo**:\n",
        "\n",
        "> Definimos:\n",
        "  - $m(n) = \\prod_{i=1}^n (1- λ_i)$\n",
        "  - $s(n) = \\sum_{i=1}^{n} p_i$\n",
        "\n",
        "> Resultado utiles:\n",
        "> - $$\\fbox{$p_n = (1-λ_1)(1-λ_2)···(1-λ_{n-1})λ_n = m(n-1)⋅λ_n\n",
        " \\ \\ \\ (🇭)\\ \\ $}$$\n",
        "> - Por definición:\n",
        "  \\begin{align}\n",
        "  λ_{n} & = \\frac{p_{n}}{1 - \\sum_{j=1}^{n-1} p_j} \\\\\n",
        "  λ_{n} & = \\frac{p_{n}}{1 - s(n-1)} \\\\\n",
        "  \\frac{1}{λ_{n}} & = \\frac{1 - s(n-1)}{p_{n}} \\\\\n",
        "  \\frac{p_{n}}{λ_{n}} & = 1 - s(n-1) \\\\\n",
        "  \\frac{m(n-1)⋅λ_n}{λ_{n}} & = 1 - s(n-1) \\\\\n",
        "  m(n-1) & = 1 - s(n-1) \\\\\n",
        "  m(n-1)+ s(n-1) & = 1  \\\\\n",
        "  \\end{align}\n",
        ">   $$\\fbox{$s(n-1) = 1 - m(n-1)\\ \\ \\ (🇵)\\ \\ $}$$\n",
        "  \n",
        "Veamos el caso de $p_{n+1}$ asumiendo que se cumple para $p_n$.\n",
        "\n",
        "\\begin{align}\n",
        "λ_{n+1} & = \\frac{p_{n+1}}{1 - \\sum_{j=1}^{n+1-1} p_j} \\\\\n",
        "& = \\frac{p_{n+1}}{1 - \\sum_{j=1}^{n} p_j} \\\\\n",
        "& = \\frac{p_{n+1}}{1 - s(n)} \\\\\n",
        "\\end{align}\n",
        "  \n",
        "entonces\n",
        "  \n",
        "\\begin{align}\n",
        "p_{n+1} & = λ_{n+1}⋅(1 - s(n)) \\\\\n",
        "& = λ_{n+1}⋅(1 - (s(n-1) + p_n )) \\\\\n",
        "& = λ_{n+1}⋅(1 - s(n-1) - p_n )\\ \\ \\ \\ (🇵) \\\\\n",
        "& = λ_{n+1}⋅(1 - (1 - m(n-1)) - p_n ) \\\\\n",
        "& = λ_{n+1}⋅(m(n-1) - p_n )\\ \\ \\ \\ (🇭) \\\\\n",
        "& = λ_{n+1}⋅( m(n-1) - m(n-1)⋅λ_n ) \\\\\n",
        "& = λ_{n+1}⋅m(n-1)⋅(1- λ_n )\\\\\n",
        "& = λ_{n+1}⋅m(n)\\\\\n",
        "& = λ_{n+1}⋅\\prod_{i=1}^n (1- λ_i)\\\\\n",
        "& = (1-λ_1)(1-λ_2)···(1-λ_{n-1})λ_{n+1}\\\\\n",
        "\\end{align}\n"
      ],
      "metadata": {
        "id": "m-eaWb_HMg2u"
      }
    },
    {
      "cell_type": "markdown",
      "source": [
        "### Método de la tasa discreta de riesgo"
      ],
      "metadata": {
        "id": "ahJYNFcGjvIL"
      }
    },
    {
      "cell_type": "markdown",
      "source": [
        "Es para simular variables aleatorias discretas: Se genera una sucesión de números aleatorios que termina cuando el n-ésimo número generado es menor que $λ_n$. El algoritmo puede escribirse como sigue:\n",
        "```\n",
        "Paso 1: X = 1\n",
        "Paso 2: Generar U\n",
        "Paso 3: Si U <λX, terminar.\n",
        "Paso 4: X = X + 1\n",
        "Paso 5: Ir al Paso 2\n",
        "```"
      ],
      "metadata": {
        "id": "rv0-WCg3z5a0"
      }
    },
    {
      "cell_type": "markdown",
      "source": [
        "### b) Muestre que X tienen la distribución de probabilidad deseada\n",
        "\n",
        "Muestre que los valores de X que genera este proceso tienen la distribución de probabilidad deseada.\n"
      ],
      "metadata": {
        "id": "4SqVOGYso_vd"
      }
    },
    {
      "cell_type": "markdown",
      "source": [
        "Debemos probar que:$P(X = n) = p_n$, pero ya vimos que $p_n = (1-λ_1)(1-λ_2)···(1-λ_{n-1})λ_n$. Por lo tanto hay alcanza ver que:\n",
        "$$\n",
        "P(X\\ genera\\ n) = (1-λ_1)(1-λ_2)···(1-λ_{n-1})λ_n\n",
        "$$\n",
        "\n",
        "Ahora analicemos el algoritmo, para ello sean $U_i \\backsim U(0,1)$\n",
        "\n",
        "\\begin{align}\n",
        "P(X\\ genera\\ n) & = P(U_0 ≥ λ_0,U_1 ≥ λ_1,…,U_{n-1} ≥ λ_{n-1},U_n ≤ λ_n) \\\\\n",
        "& = P(U_0 ≥ λ_0)⋅P(U_1 ≥ λ_1)⋅…⋅P(U_{n-1} ≥ λ_{n-1})⋅P(U_n ≤ λ_n) \\\\\n",
        "& = (1-P(U_0 < λ_0))⋅(1-P(U_1 < λ_1))⋅…⋅(1-P(U_{n-1} < λ_{n-1}))⋅P(U_n ≤ λ_n) \\\\\n",
        "& = (1 - λ_0)⋅(1 - λ_1)⋅…⋅(1 - λ_{n-1})⋅λ_n \\\\\n",
        "& = p_n  \n",
        "\\end{align}"
      ],
      "metadata": {
        "id": "mHktHiVGpHAM"
      }
    },
    {
      "cell_type": "markdown",
      "source": [
        "### c) Usar X es una variable aleatoria geométrica\n",
        "\n",
        "Suponga que X es una variable aleatoria geométrica con parámetro `p`:\n",
        "$$P(X = n) = p(1-p)^{n-1},\\ n ≥ 1$$\n",
        "Determine los valores de $λ_n,n ≥ 1$. Explique cómo funciona el algoritmo anterior en este caso y por qué es evidente su validez."
      ],
      "metadata": {
        "id": "kdDr01kascP2"
      }
    },
    {
      "cell_type": "markdown",
      "source": [
        "#### Determinar analiticamente los $λ_n$"
      ],
      "metadata": {
        "id": "sOVEXYDi3Zfa"
      }
    },
    {
      "cell_type": "markdown",
      "source": [
        "Tratemos de determinar analiticamente los $λ_n$. Recordando que $F(n) = P(X ≤ n) = 1-(1- p)^n$\n",
        "\n",
        "Por lo tanto:\n",
        "\\begin{align}\n",
        "  P(X > n-1) & = 1 - P(X ≤ n-1) \\\\\n",
        "  & = 1 - (1-(1-p)^{n-1}) \\\\\n",
        "  & = (1-p)^{n-1} \\\\\n",
        "\\end{align}\n",
        "\n",
        "Y ahora si:\n",
        "\n",
        "\\begin{align}\n",
        "  λ_n & = P(X = n | X > n-1) \\\\\n",
        "  & = \\frac{P(X = n)⋅P(X > n-1)}{P(X > n-1)} \\\\\n",
        "  & = \\frac{P(X = n)}{P(X > n-1)} \\\\\n",
        "  & = \\frac{p(1-p)^{n-1}}{(1-p)^{n-1}} \\\\\n",
        "  & = p \\\\\n",
        "\\end{align}"
      ],
      "metadata": {
        "id": "oRJweoiczkri"
      }
    },
    {
      "cell_type": "code",
      "source": [
        "# Revisemos el resultado anterior:\n",
        "\n",
        "def probabilidad_masa_geometrica(i,p):\n",
        "  return (p * (1-p)**(i-1))\n",
        "\n",
        "def lambda_asociado_a_gemetrica(i,p):\n",
        "  if i == 1:\n",
        "    return probabilidad_masa_geometrica(i,p)\n",
        "  else:\n",
        "    return probabilidad_masa_geometrica(i,p) / (1 - sum(probabilidad_masa_geometrica(j,p) for j in range(1,i)))\n",
        "\n",
        "def lambas_asociados_geometrica(p, n):\n",
        "  return [round(lambda_asociado_a_gemetrica(i,p),1) for i in range(1,n+1)]"
      ],
      "metadata": {
        "id": "5eu6GGl4xttu"
      },
      "execution_count": 93,
      "outputs": []
    },
    {
      "cell_type": "code",
      "source": [
        "lambas_asociados_geometrica(0.8, 10)"
      ],
      "metadata": {
        "colab": {
          "base_uri": "https://localhost:8080/"
        },
        "id": "yfLjXnbuy3bd",
        "outputId": "aaaca3db-dc29-4f10-b59a-4bba057e329a"
      },
      "execution_count": 94,
      "outputs": [
        {
          "output_type": "execute_result",
          "data": {
            "text/plain": [
              "[0.8, 0.8, 0.8, 0.8, 0.8, 0.8, 0.8, 0.8, 0.8, 0.8]"
            ]
          },
          "metadata": {},
          "execution_count": 94
        }
      ]
    },
    {
      "cell_type": "markdown",
      "source": [
        "#### Código"
      ],
      "metadata": {
        "id": "Uam4foVO3S9h"
      }
    },
    {
      "cell_type": "code",
      "source": [
        "from random import random\n",
        "\n",
        "def geom_tasa_discreta(p):\n",
        "    \"\"\"\n",
        "    Metodo de la tasa discreta para una variable geometrica\n",
        "    \"\"\"\n",
        "\n",
        "    k = 1\n",
        "    while True:\n",
        "        u = random()\n",
        "        if u < p:\n",
        "            return k\n",
        "        k += 1"
      ],
      "metadata": {
        "id": "vT9BmqUI3h6q"
      },
      "execution_count": 95,
      "outputs": []
    },
    {
      "cell_type": "code",
      "source": [
        "import matplotlib.pyplot as plt\n",
        "\n",
        "p = 0.8\n",
        "n_iteraciones = 100_000\n",
        "resultados = [geom_tasa_discreta(p) for _ in range(n_iteraciones)]\n",
        "\n",
        "# Gráfico\n",
        "plt.hist(resultados, bins=range(1, max(resultados) + 2), density=True, alpha=1, label='Simulación')\n",
        "plt.xlabel('k')\n",
        "plt.ylabel('Probabilidad')\n",
        "plt.title('Histograma de la variable geométrica (Método de la tasa discreta)')\n",
        "plt.legend()\n",
        "plt.show()\n"
      ],
      "metadata": {
        "colab": {
          "base_uri": "https://localhost:8080/",
          "height": 472
        },
        "id": "XTFFbh9b3seF",
        "outputId": "7dd811b3-31e8-41fc-baeb-bddc7be76aae"
      },
      "execution_count": 96,
      "outputs": [
        {
          "output_type": "display_data",
          "data": {
            "text/plain": [
              "<Figure size 640x480 with 1 Axes>"
            ],
            "image/png": "[encoded data removed]"
          },
          "metadata": {}
        }
      ]
    },
    {
      "cell_type": "markdown",
      "source": [
        "## Ejercicio 12"
      ],
      "metadata": {
        "id": "YmRLT-eX4qJ2"
      }
    },
    {
      "cell_type": "markdown",
      "source": [
        "¿Qué distribución tiene la variable simulada por el siguiente algoritmo?\n",
        "\n",
        "```python\n",
        "def QueDevuelve(p1,p2):\n",
        "  X = int(np.log(1-random())/np.log(1-p1))+1\n",
        "  Y = int(np.log(1-random())/np.log(1-p2))+1\n",
        "  return min(X,Y)\n",
        "```\n",
        "\n",
        "Escriba otro algoritmo que utilice un único número aleatorio (`random()`) y que simule una variable con\n",
        "la misma distribución que la simulada por `QueDevuelve(0.05, 0.2)`."
      ],
      "metadata": {
        "id": "AAnEEVFH447t"
      }
    },
    {
      "cell_type": "markdown",
      "source": [
        "### Analisis de la distibución\n"
      ],
      "metadata": {
        "id": "hyhfNc0YEarH"
      }
    },
    {
      "cell_type": "markdown",
      "source": [
        "Tenemos que la distibucion de $QueDevuelve(p_1,p_2) = \\min\\{X, Y\\}$ tal que $X\\backsim Geom(p_1)$ e $Y\\backsim Geom(p_2)$, llamemos $Z = \\min\\{X, Y\\}$\n",
        "\n",
        "Veamos esto con más detalle, por el teorico tenemos que:\n",
        "\\begin{align}\n",
        "P(Z > z) & = (1-F_X(z))⋅(1-F_Y(z)) \\\\\n",
        "& = (1-(1-(1- p_1)^z))⋅(1-(1-(1- p_2)^z)) \\\\\n",
        "& = (1- p_1)^z⋅(1- p_2)^z \\\\\n",
        "& = ((1- p_1)(1- p_2))^z \\\\\n",
        "\\end{align}\n",
        "\n",
        "y ahora\n",
        "\n",
        "\\begin{align}\n",
        "P(Z = z) & = P(Z ≥ z) - P(Z > z) \\\\\n",
        "& = P(Z > z-1) - P(Z > z)\\\\\n",
        "& = ((1- p_1)(1- p_2))^{z-1} - ((1- p_1)(1- p_2))^z\\\\\n",
        "& = ((1- p_1)(1- p_2))^{z-1} \\cdot (1-(1- p_1)(1- p_2))\\\\\n",
        "\\end{align}\n",
        "\n",
        "si tomamos $p = (1- p_1)(1- p_2)$\n",
        "\n",
        "\\begin{align}\n",
        "P(Z = z) & = (p)^{z-1} \\cdot (1-p)\\\\\n",
        "\\end{align}\n",
        "\n",
        "si hacemos $p' = 1-p$ entonces $p = 1-p'$ por lo tanto:\n",
        "\n",
        "\\begin{align}\n",
        "P(Z = z) & = (1-p')^{z-1} \\cdot (p')\\\\\n",
        "\\end{align}\n",
        "\n",
        "Aplicando un poco de aritmetica:\n",
        "\n",
        "\\begin{align}\n",
        "p & = 1-p_1-(1- p_1)(p_2) \\\\\n",
        "& = 1-p_1-(p_2- p_1⋅p_2) \\\\\n",
        "& = 1-p_1-p_2 + p_1⋅p_2 \\\\\n",
        "\\end{align}\n",
        "\n",
        "por lo tanto:\n",
        "\n",
        "\\begin{align}\n",
        "p' & = 1 - p \\\\\n",
        "& = 1 - (1-p_1-p_2 + p_1⋅p_2 ) \\\\\n",
        "& = p_1+p_2 - p_1⋅p_2  \\\\\n",
        "\\end{align}\n",
        "\n",
        "De aca conculimos que:\n",
        "$$\n",
        "Z \\backsim Geom(p_1 + p_2 - p_1⋅p_2 )\n",
        "$$\n",
        "\n"
      ],
      "metadata": {
        "id": "9w55C0RJEy-_"
      }
    },
    {
      "cell_type": "code",
      "source": [
        "import numpy as np\n",
        "from random import random\n",
        "\n",
        "def variable_aleatoria_Z(p1,p2):\n",
        "  p = p1 + p2 - p1*p2\n",
        "  return int(np.log(1-random())/np.log(1-p))+1"
      ],
      "metadata": {
        "id": "R-TMkmzUEfPR"
      },
      "execution_count": 97,
      "outputs": []
    },
    {
      "cell_type": "code",
      "source": [
        "%%timeit\n",
        "variable_aleatoria_Z(0.05,0.02)"
      ],
      "metadata": {
        "colab": {
          "base_uri": "https://localhost:8080/"
        },
        "id": "WtI1jlH-R65i",
        "outputId": "2bea6485-0ca8-4c11-abf2-87a9e92c8475"
      },
      "execution_count": 98,
      "outputs": [
        {
          "output_type": "stream",
          "name": "stdout",
          "text": [
            "2.59 µs ± 337 ns per loop (mean ± std. dev. of 7 runs, 100000 loops each)\n"
          ]
        }
      ]
    },
    {
      "cell_type": "code",
      "source": [
        "import numpy as np\n",
        "from random import random\n",
        "\n",
        "def QueDevuelve(p1,p2):\n",
        "  X = int(np.log(1-random())/np.log(1-p1))+1\n",
        "  Y = int(np.log(1-random())/np.log(1-p2))+1\n",
        "  return min(X,Y)"
      ],
      "metadata": {
        "id": "J-t3_96GSQmr"
      },
      "execution_count": 99,
      "outputs": []
    },
    {
      "cell_type": "code",
      "source": [
        "%%timeit\n",
        "QueDevuelve(0.05,0.2)"
      ],
      "metadata": {
        "colab": {
          "base_uri": "https://localhost:8080/"
        },
        "id": "A9ARgmZCSSvR",
        "outputId": "36287319-ffcf-47d1-c81f-8ba7c58f76f0"
      },
      "execution_count": 100,
      "outputs": [
        {
          "output_type": "stream",
          "name": "stdout",
          "text": [
            "7.33 µs ± 2.71 µs per loop (mean ± std. dev. of 7 runs, 100000 loops each)\n"
          ]
        }
      ]
    },
    {
      "cell_type": "markdown",
      "source": [
        "### Comparación"
      ],
      "metadata": {
        "id": "_nxJXOgJSWvS"
      }
    },
    {
      "cell_type": "code",
      "source": [
        "import numpy as np\n",
        "\n",
        "n_valores = 1_000_000\n",
        "p1 = 0.05\n",
        "p2 = 0.2\n",
        "\n",
        "valores_que_devuelve = [QueDevuelve(p1, p2) for _ in range(n_valores)]\n",
        "valores_variable_aleatoria_z = [variable_aleatoria_Z(p1, p2) for _ in range(n_valores)]\n",
        "\n",
        "probabilidades_que_devuelve = [0 for _ in range(0, max(valores_que_devuelve)+1)]\n",
        "probabilidades_variable_aleatoria_z = [0 for _ in range(0, max(valores_variable_aleatoria_z)+1)]\n",
        "\n",
        "for valor in valores_que_devuelve:\n",
        "  probabilidades_que_devuelve[valor] += 1\n",
        "\n",
        "for valor in valores_variable_aleatoria_z:\n",
        "  probabilidades_variable_aleatoria_z[valor] += 1\n",
        "\n",
        "probabilidades_que_devuelve = [probabilidad / n_valores for probabilidad in probabilidades_que_devuelve]\n",
        "probabilidades_variable_aleatoria_z = [probabilidad / n_valores for probabilidad in probabilidades_variable_aleatoria_z]"
      ],
      "metadata": {
        "id": "uZcXdHHMSZZv"
      },
      "execution_count": 101,
      "outputs": []
    },
    {
      "cell_type": "code",
      "source": [
        "import matplotlib.pyplot as plt\n",
        "import numpy as np\n",
        "\n",
        "x1 = np.arange(len(probabilidades_que_devuelve))\n",
        "x2 = np.arange(len(probabilidades_variable_aleatoria_z))\n",
        "\n",
        "# Primer gráfico: QueDevuelve\n",
        "plt.figure(figsize=(10, 4))\n",
        "plt.plot(x1, probabilidades_que_devuelve, 'o', color='blue')\n",
        "plt.title('Distribución de QueDevuelve(p1, p2)')\n",
        "plt.xlabel('Valor')\n",
        "plt.ylabel('Probabilidad')\n",
        "plt.grid(True)\n",
        "plt.show()\n",
        "\n",
        "# Segundo gráfico: Variable Aleatoria Z\n",
        "plt.figure(figsize=(10, 4))\n",
        "plt.plot(x2, probabilidades_variable_aleatoria_z, 'o', color='green')\n",
        "plt.title('Distribución de Variable Aleatoria Z (Geom(p1 + p2 - p1p2))')\n",
        "plt.xlabel('Valor')\n",
        "plt.ylabel('Probabilidad')\n",
        "plt.grid(True)\n",
        "plt.show()"
      ],
      "metadata": {
        "colab": {
          "base_uri": "https://localhost:8080/",
          "height": 805
        },
        "id": "lOQ1DidXUWn4",
        "outputId": "f330921e-198c-46b0-da3b-b7a14a5284b7"
      },
      "execution_count": 102,
      "outputs": [
        {
          "output_type": "display_data",
          "data": {
            "text/plain": [
              "<Figure size 1000x400 with 1 Axes>"
            ],
            "image/png": "[encoded data removed]"
          },
          "metadata": {}
        },
        {
          "output_type": "display_data",
          "data": {
            "text/plain": [
              "<Figure size 1000x400 with 1 Axes>"
            ],
            "image/png": "[encoded data removed]"
          },
          "metadata": {}
        }
      ]
    }
  ]
}