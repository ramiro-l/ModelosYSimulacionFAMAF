{
  "nbformat": 4,
  "nbformat_minor": 0,
  "metadata": {
    "colab": {
      "provenance": [],
      "collapsed_sections": [
        "oAQ8q3fqr4BP",
        "p1ZgWmxkwbO_",
        "4HFGtROiwfJM",
        "2MdCwYZ0YnYu",
        "nAaUn8wphTxr",
        "2jOiA1osylh8",
        "-PQzNwCS5N3J",
        "wPRhtgsxPHF2",
        "k0_snR6BTi81",
        "RvtFK8vPHGTW",
        "O_sbOxNIY7YF",
        "OMQ5_IKvf3j6",
        "ntbpQ32Kfy8a",
        "vCPvZF2Rg77R",
        "02jYZhCBiwMm",
        "8D9-xoI1vU1d",
        "hkQjN2Kmvql0",
        "fWl-bnn6vvKB",
        "zzk8IbssxCDK",
        "9-BqIxfWyAkG",
        "xRTgg04u_xtq",
        "XIdhMZgDFtod",
        "YlW2uzO2NsR5",
        "em82kvpRbbSC",
        "ezGoNzvFU2Rz",
        "xYb0UoihcDOG",
        "L3usgArtcy_h",
        "JoIPDwith406"
      ],
      "toc_visible": true,
      "authorship_tag": "ABX9TyNMMQ8jg601dgFJ5mUxu7Sl",
      "include_colab_link": true
    },
    "kernelspec": {
      "name": "python3",
      "display_name": "Python 3"
    },
    "language_info": {
      "name": "python"
    }
  },
  "cells": [
    {
      "cell_type": "markdown",
      "metadata": {
        "id": "view-in-github",
        "colab_type": "text"
      },
      "source": [
        "<a href=\"https://colab.research.google.com/github/ramiro-l/ModelosYSimulacionFAMAF/blob/main/Pr%C3%A1ctico5.ipynb\" target=\"_parent\"><img src=\"https://colab.research.google.com/assets/colab-badge.svg\" alt=\"Open In Colab\"/></a>"
      ]
    },
    {
      "cell_type": "markdown",
      "source": [
        "# PRÁCTICO 5"
      ],
      "metadata": {
        "id": "NQvcFixb5ZsA"
      }
    },
    {
      "cell_type": "markdown",
      "source": [
        "## Ejercicio 1\n",
        "\n",
        "Desarrolle un método para generar una variable aleatoria cuya densidad de probabilidad es:"
      ],
      "metadata": {
        "id": "9q44kG3i5U_4"
      }
    },
    {
      "cell_type": "markdown",
      "source": [
        "### a)\n",
        "\n",
        "$$\n",
        "f(x) =\n",
        "\\begin{cases}\n",
        "\\frac{x-2}{2} & \\text{si } 2 \\leq x \\leq 3 \\\\\n",
        "\\frac{2 - x/3}{2} & \\text{si } 3 \\leq x \\leq 6 \\\\\n",
        "0 & \\text{en otro caso}\n",
        "\\end{cases}\n",
        "$$"
      ],
      "metadata": {
        "id": "m59Bkc2X5tVu"
      }
    },
    {
      "cell_type": "markdown",
      "source": [
        "#### Parte Teorica"
      ],
      "metadata": {
        "id": "TBCXGzLxnAxb"
      }
    },
    {
      "cell_type": "markdown",
      "source": [
        "Para poder usar transformada inversa tengo que encontrar su $F(x)$, para ello tengo que calcular $\\int_{-∞}^{x}f(x)dx$.\n",
        "\n",
        "\n",
        "Si $-∞≤x≤2$\n",
        "\\begin{align*}\n",
        "\\int_{-∞}^{x}f(x)dx & = 0\n",
        "\\end{align*}\n",
        "\n",
        "\n",
        "Si $2≤x≤3$\n",
        "\\begin{align*}\n",
        "\\int_{-∞}^{x}f(x)dx & = \\int_{-∞}^{x}(x-2)/2dx \\\\\n",
        "& = \\frac{x^{2}}{4}-x+1\n",
        "\\end{align*}\n",
        "\n",
        "Si $3≤x≤6$\n",
        "\\begin{align*}\n",
        "\\int_{-∞}^{x}f(x)dx & = \\int_{2}^{3}f(x)dx + \\int_{3}^{6}f(x)dx \\\\\n",
        "& = \\frac{3^{2}}{4}-3+1 + \\int_{3}^{6}f(x) \\\\\n",
        "& = \\frac{-x^{2}}{12}+x-2\n",
        "\\end{align*}\n",
        "\n",
        "Entonces nos queda que:\n",
        "\n",
        "$$\n",
        "F(x) =\n",
        "\\begin{cases}\n",
        "0 & \\text{si } x \\le 2 \\\\\n",
        "\\frac{x^{2}}{4}-x+1 & \\text{si } 2 \\le x \\le 3 \\\\\n",
        "\\frac{-x^{2}}{12}+x-2 & \\text{si } 3 \\le x \\le 6 \\\\\n",
        "1 & \\text{si } x \\ge 6\n",
        "\\end{cases}\n",
        "$$\n",
        "\n",
        "Notar que el punto de quiebre es en\n",
        "\n",
        "$$\n",
        "F(3) = \\frac{3^{2}}{4}-3+1 = \\frac{9}{4}-2 = \\frac{1}{4}\n",
        "$$\n",
        "\n",
        "Ahora queda calcular $F^{-1}$ por partes igualando a $u$ una uniforme en el $0,1$.\n",
        "\n",
        "> Recordar **Bhaskara**:\n",
        ">\n",
        "> Si $ax^{2} + bx + c = 0$ tenemos que las raices son\n",
        "> $$ x_1 = \\frac{-b + \\sqrt{b^2 - 4ac}}{2a}\\ \\ \\ \\ y\\ \\ \\ \\ x_2 = \\frac{-b - \\sqrt{b^2 - 4ac}}{2a}$$\n",
        "\n",
        "Tenemos que despejar:\n",
        "\n",
        "$$\n",
        "u = \\frac{x^{2}}{4}-x+1 \\ \\ \\ \\ (1)\n",
        "$$\n",
        "y\n",
        "$$\n",
        "u = \\frac{-x^{2}}{12}+x-2 \\ \\ \\ \\ (2)\n",
        "$$\n",
        "\n",
        "Veamos (1)\n",
        "\n",
        "\\begin{align*}\n",
        "u & = \\frac{x^{2}}{4}-x+1 \\\\\n",
        "0 & = \\frac{x^{2}}{4}-x+(1-u) \\\\\n",
        "0 & = \\frac{1}{4} \\cdot x^{2}+(-1) \\cdot x+(1-u)\n",
        "\\end{align*}\n",
        "\n",
        "entonces $a=\\frac{1}{4}$, $b=-1$ y $c=1-u$\n",
        "\n",
        "\\begin{align*}\n",
        "x_i & = \\frac{-(-1) \\pm \\sqrt{(-1)^2 - 4\\frac{1}{4}(1-u)}}{2\\frac{1}{4}} \\\\\n",
        "x_i & = \\frac{1 \\pm \\sqrt{1 - 1+u}}{\\frac{1}{2}} \\\\\n",
        "x_i & = (1 \\pm \\sqrt{u})\\cdot2 \\\\\n",
        "\\end{align*}\n",
        "\n",
        "entonces\n",
        "\n",
        "$$\n",
        "x_1 = 2 + 2\\cdot\\sqrt{u} \\ \\ \\ \\ \\ \\ y \\ \\ \\ \\ \\ \\ x_2 = 2 - 2\\cdot\\sqrt{u}\n",
        "$$\n",
        "\n",
        "Como $x_1$ toma valores entre el $[2,4]$ y $x_2$ toma valores en el $[0,2]$ usamos $x_1$\n",
        "\n",
        "Veamos (2)\n",
        "\n",
        "\\begin{align*}\n",
        "u & = \\frac{-x^{2}}{12}+x-2  \\\\\n",
        "0 & = \\frac{-x^{2}}{12}+x-2-u  \\\\\n",
        "0 & = \\frac{-1}{12} \\cdot x^{2}+x+(-2-u)  \\\\\n",
        "\\end{align*}\n",
        "\n",
        "entonces $a=\\frac{-1}{12}$, $b=1$ y $c=(-2-u)$ por lo tanto\n",
        "\n",
        "\\begin{align*}\n",
        "x_i & =  \\frac{-1 \\pm \\sqrt{1^2 - 4(\\frac{-1}{12})(-2-u)}}{2(\\frac{-1}{12})} \\\\\n",
        "x_i & =  \\frac{-1 \\pm \\sqrt{1 - \\frac{2+u}{3}}}{\\frac{-1}{6}} \\\\\n",
        "x_i & =  6 \\pm 6 \\cdot \\sqrt{ 1 - \\frac{2+u}{3} } \\\\\n",
        "x_i & =  6 \\pm 6 \\cdot \\sqrt{ 1 - \\frac{2}{3} - \\frac{u}{3} } \\\\\n",
        "x_i & =  6 \\pm 6 \\cdot \\sqrt{ \\frac{1}{3} - \\frac{u}{3} } \\\\\n",
        "x_i & =  6 \\pm 6 \\cdot \\sqrt{\\frac{1 - u}{3}} \\\\\n",
        "x_i & =  6 \\pm 2 \\cdot 3 \\cdot \\sqrt{\\frac{1 - u}{3}} \\\\\n",
        "x_i & =  6 \\pm 2 \\cdot \\sqrt{9} \\cdot \\sqrt{\\frac{1 - u}{3}} \\\\\n",
        "x_i & =  6 \\pm 2 \\cdot \\sqrt{9\\cdot(\\frac{1 - u}{3})} \\\\\n",
        "x_i & =  6 \\pm 2 \\cdot \\sqrt{3\\cdot(1 - u)} \\\\\n",
        "\\end{align*}\n",
        "\n",
        "entonces\n",
        "\n",
        "$$\n",
        "x_1 = 6 - 2 \\cdot \\sqrt{3\\cdot(1 - u)}  \\ \\ \\ \\ \\ \\ y \\ \\ \\ \\ \\ \\ x_2 = 6 + 2 \\cdot \\sqrt{3\\cdot(1 - u)}\n",
        "$$\n",
        "\n",
        "Como $x_1$ toma valores aproximadamente entre el $[2.5,6]$ y $x_2$ toma valores en el $[6,8.5]$ usamos $x_1$\n",
        "\n",
        "\n",
        "\n"
      ],
      "metadata": {
        "id": "qhAFA_EqBTPe"
      }
    },
    {
      "cell_type": "code",
      "source": [
        "import numpy as np\n",
        "import matplotlib.pyplot as plt\n",
        "\n",
        "# Definición de f(x)\n",
        "def f(x):\n",
        "    return np.where(\n",
        "        (2 <= x) & (x <= 3),\n",
        "        (x - 2) / 2,\n",
        "        np.where(\n",
        "            (3 < x) & (x <= 6),\n",
        "            (2 - x / 3) / 2,\n",
        "            0\n",
        "        )\n",
        "    )\n",
        "\n",
        "# Definición de F(x)\n",
        "def F(x):\n",
        "    return np.where(\n",
        "        (x <= 2),\n",
        "        0,\n",
        "        np.where(\n",
        "            (x <= 3),\n",
        "            (x**2)/4 - x + 1,\n",
        "            np.where(\n",
        "                (x <= 6),\n",
        "                -x**2/12 + x - 2,\n",
        "                1\n",
        "            )\n",
        "        )\n",
        "    )\n",
        "\n",
        "# Definición de F_inv(x)\n",
        "def F_inv(x):\n",
        "    return np.where(\n",
        "        (x <= 1/4),\n",
        "        2 + 2 * np.sqrt(x),\n",
        "        np.where(\n",
        "            (x <= 1),\n",
        "            6 - 2 * np.sqrt(np.maximum(0, 3 * (1 - x))),\n",
        "            np.nan\n",
        "        )\n",
        "    )\n",
        "\n",
        "\n",
        "# Dominio común\n",
        "x = np.linspace(0, 10, 500)\n",
        "\n",
        "# Evaluar funciones\n",
        "y_f = f(x)\n",
        "y_F = F(x)\n",
        "y_F_inv = F_inv(x)\n",
        "\n",
        "plt.figure(figsize=(8, 5))\n",
        "plt.plot(x, y_f, label=\"f(x)\")\n",
        "plt.plot(x, y_F, label=\"F(x))\")\n",
        "plt.plot(x, y_F_inv, label=\"F_inv(x)\")\n",
        "\n",
        "\n",
        "plt.title(\"Todas las funciones\")\n",
        "plt.xlabel(\"x\")\n",
        "plt.ylabel(\"y\")\n",
        "plt.legend()\n",
        "plt.grid(True)\n",
        "plt.show()"
      ],
      "metadata": {
        "colab": {
          "base_uri": "https://localhost:8080/",
          "height": 487
        },
        "id": "hmQalHFM1jIE",
        "outputId": "bd531cc8-dc8d-4285-b96f-96fb8d4cc04d"
      },
      "execution_count": null,
      "outputs": [
        {
          "output_type": "display_data",
          "data": {
            "text/plain": [
              "<Figure size 800x500 with 1 Axes>"
            ],
            "image/png": "[encoded data removed]"
          },
          "metadata": {}
        }
      ]
    },
    {
      "cell_type": "markdown",
      "source": [
        "#### Código"
      ],
      "metadata": {
        "id": "_cCHRT9m6vJ_"
      }
    },
    {
      "cell_type": "code",
      "source": [
        "from random import random\n",
        "\n",
        "def f_tinv():\n",
        "  u = random()\n",
        "  if u < 0.25:\n",
        "    return 2 + 2*np.sqrt(u)\n",
        "  else:\n",
        "    return 6 - 2*np.sqrt(3*(1-u))\n"
      ],
      "metadata": {
        "id": "XRAkQK0g6UII"
      },
      "execution_count": null,
      "outputs": []
    },
    {
      "cell_type": "code",
      "source": [
        "f_tinv()"
      ],
      "metadata": {
        "colab": {
          "base_uri": "https://localhost:8080/"
        },
        "id": "tJ45FYhk6xGt",
        "outputId": "c6f35795-6745-47af-c801-b6b206755afb"
      },
      "execution_count": null,
      "outputs": [
        {
          "output_type": "execute_result",
          "data": {
            "text/plain": [
              "np.float64(5.144761229090943)"
            ]
          },
          "metadata": {},
          "execution_count": 26
        }
      ]
    },
    {
      "cell_type": "markdown",
      "source": [
        "#### Revisamos\n",
        "Revisamos que lo generado corresponda con la distibución deseada:"
      ],
      "metadata": {
        "id": "HNx5WvVB6-pn"
      }
    },
    {
      "cell_type": "code",
      "source": [
        "import seaborn as sns\n",
        "import matplotlib.pyplot as plt\n",
        "\n",
        "def f(x):\n",
        "    return np.where(\n",
        "        (2 <= x) & (x <= 3),\n",
        "        (x - 2) / 2,\n",
        "        np.where(\n",
        "            (3 < x) & (x <= 6),\n",
        "            (2 - x / 3) / 2,\n",
        "            0\n",
        "        )\n",
        "    )\n",
        "\n",
        "x = np.linspace(2, 6, 1000) # Genero el intervalo\n",
        "n_sim = int(1e5)\n",
        "s = np.empty(n_sim)\n",
        "for i in range(n_sim):\n",
        "  s[i]=f_tinv()\n",
        "\n",
        "\n",
        "sns.lineplot(x=x, y=f(x),color='red')\n",
        "sns.histplot(s, stat = 'density')\n",
        "plt.show()"
      ],
      "metadata": {
        "colab": {
          "base_uri": "https://localhost:8080/",
          "height": 430
        },
        "id": "lyexY7QQ7KsB",
        "outputId": "662023ec-528e-4cad-b2e9-c888a1925faa"
      },
      "execution_count": null,
      "outputs": [
        {
          "output_type": "display_data",
          "data": {
            "text/plain": [
              "<Figure size 640x480 with 1 Axes>"
            ],
            "image/png": "[encoded data removed]"
          },
          "metadata": {}
        }
      ]
    },
    {
      "cell_type": "markdown",
      "source": [
        "### b)\n",
        "\n",
        "$$\n",
        "f(x) =\n",
        "\\begin{cases}\n",
        "\\frac{6(x+3)}{35} & \\text{si } 0 \\leq x \\leq 1 \\\\\n",
        "\\frac{6x^2}{35} & \\text{si } 1 \\leq x \\leq 2 \\\\\n",
        "0 & \\text{en otro caso}\n",
        "\\end{cases}\n",
        "$$"
      ],
      "metadata": {
        "id": "MG7GRv426Vkj"
      }
    },
    {
      "cell_type": "markdown",
      "source": [
        "#### Parte teorica"
      ],
      "metadata": {
        "id": "O1EfPCw8lFs3"
      }
    },
    {
      "cell_type": "code",
      "source": [
        "import numpy as np\n",
        "import matplotlib.pyplot as plt\n",
        "\n",
        "def f(x):\n",
        "    return np.where(\n",
        "        (x <= 0),\n",
        "        0,\n",
        "        np.where(\n",
        "            (x <= 1),\n",
        "            (6 * (x + 3)) / 35,\n",
        "            np.where(\n",
        "                (x <= 2),\n",
        "                (6 * x**2)/ 35,\n",
        "                0\n",
        "            )\n",
        "        )\n",
        "    )\n",
        "\n",
        "x = np.linspace(0, 10, 500)\n",
        "y_f = f(x)\n",
        "\n",
        "plt.figure(figsize=(3, 2))\n",
        "plt.plot(x, y_f)\n",
        "plt.xlabel(\"x\")\n",
        "plt.ylabel(\"f(x)\")\n",
        "plt.grid(True)\n",
        "plt.show()"
      ],
      "metadata": {
        "colab": {
          "base_uri": "https://localhost:8080/",
          "height": 234
        },
        "id": "d0pID2f1sDe7",
        "outputId": "66b7a7da-ab5f-4917-d536-91d6ef03f2a7"
      },
      "execution_count": null,
      "outputs": [
        {
          "output_type": "display_data",
          "data": {
            "text/plain": [
              "<Figure size 300x200 with 1 Axes>"
            ],
            "image/png": "[encoded data removed]"
          },
          "metadata": {}
        }
      ]
    },
    {
      "cell_type": "markdown",
      "source": [
        "\n",
        "> Aclaración: No voy a ir con tanto detalle, el procedimiento es similar a la parte a).\n",
        "\n",
        "Calculo $F(x)$ por partes:\n",
        "\n",
        "Si $-∞≤x≤0$\n",
        "\\begin{align*}\n",
        "\\int_{-∞}^{x}f(x)dx & = 0\n",
        "\\end{align*}\n",
        "\n",
        "Si $0≤x≤1$\n",
        "\\begin{align*}\n",
        "\\int_{-∞}^{x}f(x)dx & = \\int_{0}^{x} \\frac{6(x+3)}{35}dx \\\\\n",
        "& =  \\frac{6}{35} ⋅ \\int_{0}^{x} (x+3)dx \\\\\n",
        "& =  \\frac{6}{35} ⋅ \\left[\\frac{x^2}{2}+3x\\right]_0^x \\\\\n",
        "& =  \\frac{6}{35} ⋅ \\left(\\left(\\frac{x^2}{2}+3x\\right) - \\left(\\frac{0^2}{2}+3\\cdot0\\right)\\right)\\\\\n",
        "& =  \\frac{6}{35} ⋅ \\left(\\frac{x^2}{2}+3x\\right) \\\\\n",
        "& =  \\frac{6}{35} ⋅ \\frac{x^2}{2}+ \\frac{6}{35} ⋅ 3x \\\\\n",
        "& =  \\frac{3}{35} ⋅ x^2+ \\frac{18}{35} ⋅ x \\\\\n",
        "& =  \\frac{3}{35} ⋅ x^2+ \\frac{18}{35} ⋅ x \\\\\n",
        "\\end{align*}\n",
        "\n",
        "Si $1≤x≤2$\n",
        "\\begin{align*}\n",
        "\\int_{-∞}^{x}f(x)dx & = \\int_{0}^{1}f(x)dx + \\int_{1}^{x} \\frac{6x^2}{35} dx \\\\\n",
        "& = \\frac{3}{35} ⋅ 1^2+ \\frac{18}{35} ⋅ 1+ \\int_{1}^{x} \\frac{6x^2}{35} dx \\\\\n",
        "& = \\frac{21}{35} + \\int_{1}^{x} \\frac{6x^2}{35} dx \\\\\n",
        "& = \\frac{21}{35}  + \\frac{6}{35} \\cdot \\int_{1}^{x} x^2 dx \\\\\n",
        "& = \\frac{21}{35}  + \\frac{6}{35} ⋅ \\left[\\frac{x^3}{3}\\right]_1^x \\\\\n",
        "& =  \\frac{21}{35}  + \\frac{6}{35} ⋅ \\left(\\left(\\frac{x^3}{3}\\right) - \\left(\\frac{1^3}{3}\\right)\\right)\\\\\n",
        "& =  \\frac{21}{35}  + \\frac{6}{35} ⋅ \\left(\\left(\\frac{x^3}{3}\\right) - \\left(\\frac{1}{3}\\right)\\right)\\\\\n",
        "& = \\frac{21}{35}  + \\frac{6}{35} ⋅ \\frac{x^3}{3} - \\frac{6}{35} ⋅ \\frac{1}{3}\\\\\n",
        "& =\\frac{21}{35}  + \\frac{2}{35} ⋅ x^3 - \\frac{2}{35} \\\\\n",
        "& = \\frac{2}{35} ⋅ x^3 + \\frac{19}{35} \\\\\n",
        "\\end{align*}\n",
        "\n",
        "> Revisar que F(2) sea 1:\n",
        "> $$\\frac{2}{35} ⋅ 2^3 + \\frac{19}{35} = \\frac{16}{35} + \\frac{19}{35} = \\frac{53}{35} = 1$$\n",
        "\n",
        "entonces F(x) queda definida por:\n",
        "\n",
        "\n",
        "$$\n",
        "F(x) =\n",
        "\\begin{cases}\n",
        "0 & \\text{si } x < 0 \\\\\n",
        "\\frac{3}{35} ⋅ x^2+ \\frac{18}{35} ⋅ x  & \\text{si } 0 \\le x \\le 1 \\\\\n",
        "\\frac{2}{35} ⋅ x^3 + \\frac{19}{35} & \\text{si } 1 < x \\le 2 \\\\\n",
        "1 & \\text{si } x > 2\n",
        "\\end{cases}\n",
        "$$\n",
        "\n",
        "y el punto de quiebre es en:\n",
        "\n",
        "$$\n",
        "F(1) = \\frac{3}{35} ⋅ 1^2+ \\frac{18}{35} ⋅ 1 = \\frac{3}{35}+ \\frac{18}{35} = \\frac{21}{35} = \\frac{3}{5}\n",
        "$$\n",
        "\n",
        "\n",
        "\n"
      ],
      "metadata": {
        "id": "T0HAFhoM8KA0"
      }
    },
    {
      "cell_type": "code",
      "source": [
        "import numpy as np\n",
        "import matplotlib.pyplot as plt\n",
        "\n",
        "def F(x):\n",
        "    return np.where(\n",
        "        (x <= 0),\n",
        "        0,\n",
        "        np.where(\n",
        "            (x <= 1),\n",
        "            (3 / 35) * x**2 + (18 / 35) * x,\n",
        "            np.where(\n",
        "                (x <= 2),\n",
        "                (2 / 35) * x**3 + (19 / 35),\n",
        "                1\n",
        "            )\n",
        "        )\n",
        "    )\n",
        "\n",
        "x = np.linspace(0, 10, 500)\n",
        "y_F = F(x)\n",
        "\n",
        "plt.figure(figsize=(3, 2))\n",
        "plt.plot(x, y_F)\n",
        "plt.xlabel(\"x\")\n",
        "plt.ylabel(\"F(x)\")\n",
        "plt.grid(True)\n",
        "plt.show()"
      ],
      "metadata": {
        "colab": {
          "base_uri": "https://localhost:8080/",
          "height": 234
        },
        "id": "RviZ-FQCDSnQ",
        "outputId": "77c6d980-e0b0-455a-9993-88dc8aaab7d2"
      },
      "execution_count": null,
      "outputs": [
        {
          "output_type": "display_data",
          "data": {
            "text/plain": [
              "<Figure size 300x200 with 1 Axes>"
            ],
            "image/png": "[encoded data removed]"
          },
          "metadata": {}
        }
      ]
    },
    {
      "cell_type": "markdown",
      "source": [
        "Ahora queda despejar la $x$ de:\n",
        "\n",
        "$$\n",
        "u = F(x)\n",
        "$$\n",
        "\n",
        "Si $0≤x≤1$\n",
        "\\begin{align*}\n",
        "u & = F(x) \\\\\n",
        "u & = \\frac{3}{35} ⋅ x^2+ \\frac{18}{35} ⋅ x \\\\\n",
        "u & = \\frac{1}{35} \\cdot \\left( 3 ⋅ x^2+ 18 ⋅ x \\right) \\\\\n",
        "u \\cdot 35 & =  3 ⋅ x^2+ 18 ⋅ x  \\\\\n",
        "0 & =  3 ⋅ x^2+ 18 ⋅ x - u \\cdot 35  \\\\\n",
        "\\end{align*}\n",
        "\n",
        "Ahora buscamos las raices con $a=3$ , $b=18$ y $c=(-u\\cdot35)$:\n",
        "\n",
        "\\begin{align*}\n",
        "x_i & = \\frac{-18 \\pm \\sqrt{18^2 - 4\\cdot3(-u⋅35)}}{2\\cdot3} \\\\\n",
        " & = \\frac{-18 \\pm \\sqrt{18^2 + 4⋅3⋅35⋅u}}{6} \\\\\n",
        " & = \\frac{-18 \\pm \\sqrt{324 + 420⋅u}}{6} \\\\\n",
        " & = -\\frac{18}{6} \\pm \\frac{\\sqrt{324 + 420⋅u}}{6}  \\\\\n",
        " & = -3 \\pm \\frac{\\sqrt{324 + 420⋅u}}{6}  \\\\\n",
        "\\end{align*}\n",
        "\n",
        "Claramente debemos tomar $x_2 =-3 + \\frac{\\sqrt{324 + 420⋅u}}{6}$ para que x este en el intervalor $(0,1)$.\n",
        "\n",
        "Si $1 < x ≤ 2$\n",
        "\n",
        "\\begin{align*}\n",
        "u & = F(x) \\\\\n",
        "u & = \\frac{2}{35} ⋅ x^3 + \\frac{19}{35} \\\\\n",
        "u - \\frac{19}{35} & =  x^3 \\\\\n",
        "\\left(u - \\frac{19}{35}\\right)⋅\\frac{35}{2} & =  x^3 \\\\\n",
        "\\sqrt[3]{\\left(u - \\frac{19}{35}\\right)⋅\\frac{35}{2}} & =  x \\\\\n",
        "\\sqrt[3]{u\\cdot\\frac{35}{2} - \\frac{19}{35}⋅\\frac{35}{2}} & =  x \\\\\n",
        "\\sqrt[3]{u\\cdot\\frac{35}{2} - \\frac{19}{2}} & =  x\n",
        "\\end{align*}\n",
        "\n",
        "\n"
      ],
      "metadata": {
        "id": "5_w40IyHDuro"
      }
    },
    {
      "cell_type": "code",
      "source": [
        "import numpy as np\n",
        "import matplotlib.pyplot as plt\n",
        "\n",
        "def F_1_inv(x):\n",
        "    return np.where(\n",
        "        (x <= 3/5),\n",
        "        -3 + np.sqrt(324 + 420 * x) / 6,\n",
        "        np.nan\n",
        "    )\n",
        "\n",
        "def F_2_inv(x):\n",
        "    return np.where(\n",
        "        (x > 3/5) & (x <= 1),\n",
        "        (x*(35/2)-(19/2))**(1/3),\n",
        "        np.nan\n",
        "    )\n",
        "\n",
        "\n",
        "# Dominio común\n",
        "x = np.linspace(0, 1, 1000)\n",
        "\n",
        "# Evaluar funciones\n",
        "y_F_1_inv = F_1_inv(x)\n",
        "y_F_2_inv = F_2_inv(x)\n",
        "\n",
        "plt.figure(figsize=(3, 2))\n",
        "plt.plot(x, y_F_1_inv, label=\"F_1_inv(x)\")\n",
        "plt.plot(x, y_F_2_inv, label=\"F_2_inv(x))\")\n",
        "\n",
        "plt.title(\"F_inv\")\n",
        "plt.xlabel(\"x\")\n",
        "plt.ylabel(\"y\")\n",
        "plt.legend()\n",
        "plt.grid(True)\n",
        "plt.show()"
      ],
      "metadata": {
        "colab": {
          "base_uri": "https://localhost:8080/",
          "height": 291
        },
        "id": "mFjrZKOBoVhe",
        "outputId": "03b134b5-d69b-4367-fef5-4e35726fffc5"
      },
      "execution_count": null,
      "outputs": [
        {
          "output_type": "stream",
          "name": "stderr",
          "text": [
            "<ipython-input-33-dfe16280da14>:14: RuntimeWarning: invalid value encountered in power\n",
            "  (x*(35/2)-(19/2))**(1/3),\n"
          ]
        },
        {
          "output_type": "display_data",
          "data": {
            "text/plain": [
              "<Figure size 300x200 with 1 Axes>"
            ],
            "image/png": "[encoded data removed]"
          },
          "metadata": {}
        }
      ]
    },
    {
      "cell_type": "markdown",
      "source": [
        "#### Código"
      ],
      "metadata": {
        "id": "s053ndWurA7w"
      }
    },
    {
      "cell_type": "code",
      "source": [
        "from random import random\n",
        "import numpy as np\n",
        "\n",
        "def f_tinv_ejb():\n",
        "  u = random()\n",
        "  if u <= 3/5:\n",
        "    return -3 + np.sqrt(324 + 420 * u) / 6\n",
        "  else:\n",
        "    return ((u*35-19)/2)**(1/3)"
      ],
      "metadata": {
        "id": "xphvN1EwrC_J"
      },
      "execution_count": null,
      "outputs": []
    },
    {
      "cell_type": "code",
      "source": [
        "f_tinv_ejb()"
      ],
      "metadata": {
        "colab": {
          "base_uri": "https://localhost:8080/"
        },
        "id": "585McGpOrudu",
        "outputId": "a8014096-14dd-41c6-fdb8-760b46bad7d7"
      },
      "execution_count": null,
      "outputs": [
        {
          "output_type": "execute_result",
          "data": {
            "text/plain": [
              "np.float64(0.14405591049286715)"
            ]
          },
          "metadata": {},
          "execution_count": 22
        }
      ]
    },
    {
      "cell_type": "markdown",
      "source": [
        "#### Revisamos\n",
        "\n",
        "Revisamos que lo generado corresponda con la distibución deseada:"
      ],
      "metadata": {
        "id": "oAQ8q3fqr4BP"
      }
    },
    {
      "cell_type": "code",
      "source": [
        "import seaborn as sns\n",
        "import matplotlib.pyplot as plt\n",
        "import numpy as np\n",
        "\n",
        "def f(x):\n",
        "    return np.where(\n",
        "        (x <= 0),\n",
        "        0,\n",
        "        np.where(\n",
        "            (x <= 1),\n",
        "            (6 * (x + 3)) / 35,\n",
        "            np.where(\n",
        "                (x <= 2),\n",
        "                (6 * x**2)/ 35,\n",
        "                0\n",
        "            )\n",
        "        )\n",
        "    )\n",
        "\n",
        "x = np.linspace(-0.5, 2.5, 1000)\n",
        "n_sim = int(4e5)\n",
        "s = np.empty(n_sim)\n",
        "for i in range(n_sim):\n",
        "  s[i]=f_tinv_ejb()\n",
        "\n",
        "\n",
        "sns.lineplot(x=x, y=f(x),color='red')\n",
        "sns.histplot(s, stat = 'density')\n",
        "plt.show()"
      ],
      "metadata": {
        "colab": {
          "base_uri": "https://localhost:8080/",
          "height": 430
        },
        "id": "bbqzkDMOr5DP",
        "outputId": "cdc40239-2bdf-4407-98dc-6f3949c2e81e"
      },
      "execution_count": null,
      "outputs": [
        {
          "output_type": "display_data",
          "data": {
            "text/plain": [
              "<Figure size 640x480 with 1 Axes>"
            ],
            "image/png": "[encoded data removed]"
          },
          "metadata": {}
        }
      ]
    },
    {
      "cell_type": "markdown",
      "source": [
        "### c)\n",
        "\n",
        "$$\n",
        "f(x) =\n",
        "\\begin{cases}\n",
        "\\frac{e^{4x}}{4} & \\text{si } -\\infty < x \\leq 0 \\\\\n",
        "\\frac{1}{4} & \\text{si } 0 < x \\leq \\frac{15}{4} \\\\\n",
        "0 & \\text{en otro caso}\n",
        "\\end{cases}\n",
        "$$"
      ],
      "metadata": {
        "id": "9syiuZx96ixr"
      }
    },
    {
      "cell_type": "markdown",
      "source": [
        "#### Parte teorica\n",
        "\n",
        "Echa en papel, es facil."
      ],
      "metadata": {
        "id": "od2F978onDVb"
      }
    },
    {
      "cell_type": "markdown",
      "source": [
        "#### Código"
      ],
      "metadata": {
        "id": "8y6mlkKyfizw"
      }
    },
    {
      "cell_type": "code",
      "source": [
        "from random import random\n",
        "import numpy as np\n",
        "\n",
        "def f_tinv_ejc():\n",
        "  u = random()\n",
        "  if u <= 1/16:\n",
        "    return np.log(16*u)/4\n",
        "  else:\n",
        "    return 4*u-1/4\n"
      ],
      "metadata": {
        "id": "5LYNLOYwdu6R"
      },
      "execution_count": null,
      "outputs": []
    },
    {
      "cell_type": "code",
      "source": [
        "f_tinv_ejc()"
      ],
      "metadata": {
        "colab": {
          "base_uri": "https://localhost:8080/"
        },
        "id": "DcJR_XQofBkl",
        "outputId": "a791336b-5ae2-4671-e920-566a01e242c6"
      },
      "execution_count": null,
      "outputs": [
        {
          "output_type": "execute_result",
          "data": {
            "text/plain": [
              "2.0705212509594135"
            ]
          },
          "metadata": {},
          "execution_count": 22
        }
      ]
    },
    {
      "cell_type": "markdown",
      "source": [
        "#### Revisamos\n",
        "\n",
        "Revisamos que lo generado corresponda con la distibución deseada:"
      ],
      "metadata": {
        "id": "Hotdq-IBk4wY"
      }
    },
    {
      "cell_type": "code",
      "source": [
        "import seaborn as sns\n",
        "import matplotlib.pyplot as plt\n",
        "import numpy as np\n",
        "\n",
        "def f(x):\n",
        "    return np.where(\n",
        "        (x <= 0),\n",
        "        np.exp(4 * x) / 4,\n",
        "        np.where(\n",
        "            (x <= 15/4),\n",
        "            1/4,\n",
        "            0\n",
        "        )\n",
        "    )\n",
        "\n",
        "x = np.linspace(-5, 5, 1000)\n",
        "n_sim = int(1e5)\n",
        "s = np.empty(n_sim)\n",
        "for i in range(n_sim):\n",
        "  s[i]=f_tinv_ejc()\n",
        "\n",
        "\n",
        "sns.lineplot(x=x, y=f(x),color='red')\n",
        "sns.histplot(s, stat = 'density')\n",
        "plt.show()"
      ],
      "metadata": {
        "colab": {
          "base_uri": "https://localhost:8080/",
          "height": 430
        },
        "id": "OSwnvjh6lPB4",
        "outputId": "3cca968d-2de0-4130-f3c9-07e7dcb31c22"
      },
      "execution_count": null,
      "outputs": [
        {
          "output_type": "display_data",
          "data": {
            "text/plain": [
              "<Figure size 640x480 with 1 Axes>"
            ],
            "image/png": "[encoded data removed]"
          },
          "metadata": {}
        }
      ]
    },
    {
      "cell_type": "markdown",
      "source": [
        "## Ejercicio 2"
      ],
      "metadata": {
        "id": "p1ZgWmxkwbO_"
      }
    },
    {
      "cell_type": "markdown",
      "source": [
        "### a)\n",
        "\n",
        "Desarrolle métodos para generar las siguientes variables aleatorias:\n",
        "\n",
        "> Ayuda: la distribución Pareto y la distribución Weibull tienen distribución acumulada F con forma\n",
        "cerrada, por lo cual puede aplicarse el método de la transformada Inversa. La distribución de Erlang\n",
        "pertenece a la familia de las Gammas. Puede simularse por rechazo o como suma de exponenciales.\n"
      ],
      "metadata": {
        "id": "4HFGtROiwfJM"
      }
    },
    {
      "cell_type": "markdown",
      "source": [
        "### i) Distribución Pareto\n"
      ],
      "metadata": {
        "id": "8w7C0fNPPhEU"
      }
    },
    {
      "cell_type": "markdown",
      "source": [
        "$$f(x) = a x^{-(a+1)}, \\quad 1 \\leq x < \\infty,\\quad a > 0$$"
      ],
      "metadata": {
        "id": "N9lmr5wzhOvY"
      }
    },
    {
      "cell_type": "markdown",
      "source": [
        "#### Parte teorica"
      ],
      "metadata": {
        "id": "jm3K-9z1XzXm"
      }
    },
    {
      "cell_type": "markdown",
      "source": [
        "Como se menciona que tiene una F() cerrada, voy a usar el metodo de la transformada inversa.\n",
        "\n",
        "Primero voy a buscar su función de distibución acumulada (F(x)), analizando por intervalos:\n",
        "\n",
        "Si $-∞≤x≤1$:\n",
        "\\begin{align*}\n",
        "F(x) = \\int_{-∞}^{x} f(x) dx = 0\n",
        "\\end{align*}\n",
        "\n",
        "Si $1≤x≤∞$:\n",
        "\\begin{align*}\n",
        "F(x) & = \\int_{-∞}^{x} f(x) dx \\\\\n",
        "& = \\int_{1}^{x} a x^{-(a+1)} dx \\\\\n",
        "& = a⋅\\int_{1}^{x} x^{-(a+1)} dx \\\\\n",
        "& = a⋅\\left[ \\frac{x^{-(a+1)+1}}{-(a+1)+1} \\right]_1^{}\\\\\n",
        "& = a⋅\\left[ \\frac{x^{-a}}{-a} \\right]_1^{x} \\\\\n",
        "& = a⋅\\left( \\frac{x^{-a}}{-a} -  \\frac{1^{-a}}{-a} \\right) \\\\\n",
        "& = a⋅ \\frac{1}{-a} ⋅ \\left( x^{-a} -  1^{-a} \\right) \\\\\n",
        "& = - \\left( x^{-a} -  1^{-a} \\right) \\\\\n",
        "& = - \\left( x^{-a} -  1 \\right) \\\\\n",
        "& = 1 - x^{-a} \\\\\n",
        "\\end{align*}\n",
        "\n",
        "entonces tenemos que:\n",
        "\n",
        "$$\n",
        "F(x) =\n",
        "\\begin{cases}\n",
        "0 & \\text{si } x < 1 \\\\\n",
        "1 - x^{-a}  & \\text{si } 1 \\le x \\le ∞ \\\\\n",
        "\\end{cases}\n",
        "$$\n",
        "\n",
        "> Claramente $F(∞) = 1 - x^{-∞} = 1 - \\frac{1}{x^{∞}} = 1-0 = 1$\n",
        "\n",
        "Ahora igualamos $F(x)$ a $u$ una v.a uniforme en el $(0,1)$ y despejamos la $x$.\n",
        "\n",
        "\\begin{align*}\n",
        "F(x) & = u \\\\\n",
        "1 - x^{-a} & = u \\\\\n",
        "1 - u  & =  x^{-a} \\\\\n",
        "\\sqrt[-a]{1 - u} & =  \\sqrt[-a]{x^{-a}} \\\\\n",
        "\\sqrt[-a]{1 - u} & =  x \\\\\n",
        "\\left(1 - u\\right)^{-\\frac{1}{a}} & =  x \\\\\n",
        "\\end{align*}"
      ],
      "metadata": {
        "id": "8KN1aX3UXycM"
      }
    },
    {
      "cell_type": "markdown",
      "source": [
        "#### Código"
      ],
      "metadata": {
        "id": "Z0Eh4ganX2vV"
      }
    },
    {
      "cell_type": "code",
      "source": [
        "from random import random\n",
        "import numpy as np\n",
        "\n",
        "def pareto_tinv(a):\n",
        "  u = random()\n",
        "  return (1-u)**(-1/a)"
      ],
      "metadata": {
        "id": "XqknztmvX5TY"
      },
      "execution_count": null,
      "outputs": []
    },
    {
      "cell_type": "code",
      "source": [
        "pareto_tinv(2)"
      ],
      "metadata": {
        "colab": {
          "base_uri": "https://localhost:8080/"
        },
        "id": "SNQscuq9YXec",
        "outputId": "cfd628c7-3041-4135-ba99-007fd7b994fa"
      },
      "execution_count": null,
      "outputs": [
        {
          "output_type": "execute_result",
          "data": {
            "text/plain": [
              "2.115085818617671"
            ]
          },
          "metadata": {},
          "execution_count": 68
        }
      ]
    },
    {
      "cell_type": "markdown",
      "source": [
        "#### Revisamos\n",
        "\n",
        "Basicamente revisamos que lo generado corresponda con la distibución deseada:"
      ],
      "metadata": {
        "id": "2MdCwYZ0YnYu"
      }
    },
    {
      "cell_type": "code",
      "source": [
        "import seaborn as sns\n",
        "import matplotlib.pyplot as plt\n",
        "import numpy as np\n",
        "\n",
        "a = 1\n",
        "\n",
        "def f(x):\n",
        "    return np.where(\n",
        "        (x <= 0),\n",
        "        0,\n",
        "        a*(x**(-(a+1)))\n",
        "    )\n",
        "\n",
        "\n",
        "\n",
        "limit = 20\n",
        "x = np.linspace(1, limit, 1_000)\n",
        "n_sim = int(1e5)\n",
        "s = np.empty(n_sim)\n",
        "for i in range(n_sim):\n",
        "  s[i]=pareto_tinv(a)\n",
        "\n",
        "s_filtered = s[s < limit]\n",
        "sns.lineplot(x=x, y=f(x),color='red')\n",
        "sns.histplot(s_filtered, stat = 'density')\n",
        "plt.xlim(0, limit)\n",
        "plt.show()"
      ],
      "metadata": {
        "colab": {
          "base_uri": "https://localhost:8080/",
          "height": 430
        },
        "id": "TLMrTB06Yvwo",
        "outputId": "bc4be2e8-1813-4911-9431-766f6b53aad2"
      },
      "execution_count": null,
      "outputs": [
        {
          "output_type": "display_data",
          "data": {
            "text/plain": [
              "<Figure size 640x480 with 1 Axes>"
            ],
            "image/png": "[encoded data removed]"
          },
          "metadata": {}
        }
      ]
    },
    {
      "cell_type": "markdown",
      "source": [
        "### ii) Distribución Erlang"
      ],
      "metadata": {
        "id": "j2urgd8khHLt"
      }
    },
    {
      "cell_type": "markdown",
      "source": [
        "$$f(x) = \\frac{x^{k-1} e^{-x/\\mu}}{(k -1)! \\, \\mu^{k}}, \\quad 0 \\leq x < \\infty,\\quad \\mu > 0,\\quad k\\ \\text{entero}$$"
      ],
      "metadata": {
        "id": "mKn2eucfhS2T"
      }
    },
    {
      "cell_type": "markdown",
      "source": [
        "#### Parte teorica"
      ],
      "metadata": {
        "id": "nAaUn8wphTxr"
      }
    },
    {
      "cell_type": "markdown",
      "source": [
        "En la consigna nos ayuda diciendo que se parece a una gama y por ello conviene usar el metodo de acepración y rechazo. Recordemos la **PDF** de una gama:\n",
        "\n",
        "Dados $α > 0$ y $β > 0$ tenemos que:\n",
        "$$\n",
        "f_{Gama}(x) = \\frac{1}{\\Gamma(α)} β^{-α} x^{α - 1} e^{-x/β}\\ \\ \\ \\ si\\ x>0\n",
        "$$\n",
        "\n",
        "pero si tomamos $α  = k \\in N$, tenemos que:\n",
        "\\begin{align*}\n",
        "f_{Gama}(x) & = \\frac{1}{(k−1)!} β^{-k} x^{k - 1} e^{-x/β} \\\\\n",
        "& = \\frac{x^{k - 1} e^{-x/β}}{(k−1)! β^{k}}\n",
        "\\end{align*}\n",
        "\n",
        "y asi llegamos a la f. Notar que $f_{Gama}$ y la nuesta son iguals si $k = \\alpha$ y $α =β$.\n",
        "\n",
        "Ahora queda ver que metodo usar. Recordar que en el teorico vimos que:\n",
        "\n",
        "- **Distribucion del tiempo de arribo (2.1.4)** \\\\\n",
        "Dadas $X_1, X_2, . . . , X_n$ con $Xj∼E(λ)$ tenemos que\n",
        "$$\n",
        "\\sum_{i=1}^{n} X_i ∼ Gama\\left(n, \\frac{1}{λ}\\right)\n",
        "$$\n",
        "\n",
        "- **Usar aceptación y rechazo con una exponencial** \\\\\n",
        "Mucho laburo ...\n",
        "\n",
        "De todas formas hay que generar una exponencial y luego usarla.\n"
      ],
      "metadata": {
        "id": "hd6p331FhSb1"
      }
    },
    {
      "cell_type": "markdown",
      "source": [
        "#### Código"
      ],
      "metadata": {
        "id": "ii3__egmwKA6"
      }
    },
    {
      "cell_type": "code",
      "source": [
        "from random import random\n",
        "from numpy import log\n",
        "\n",
        "def exponencial(lamda):\n",
        "  U = 1-random()\n",
        "  return -log(1-U)/lamda"
      ],
      "metadata": {
        "id": "uAapJIIOswPm"
      },
      "execution_count": null,
      "outputs": []
    },
    {
      "cell_type": "code",
      "source": [
        "def erlang_sum_exp(k,u):\n",
        "  exp = [exponencial(1/u) for _ in range(k)]\n",
        "  return sum(exp)"
      ],
      "metadata": {
        "id": "2Hhvt4MSwc-H"
      },
      "execution_count": null,
      "outputs": []
    },
    {
      "cell_type": "code",
      "source": [
        "erlang_sum_exp(2,2)"
      ],
      "metadata": {
        "colab": {
          "base_uri": "https://localhost:8080/"
        },
        "id": "906kqunmw0kv",
        "outputId": "084a7488-66c9-4582-aba9-cd57f024020a"
      },
      "execution_count": null,
      "outputs": [
        {
          "output_type": "execute_result",
          "data": {
            "text/plain": [
              "np.float64(3.257135549446696)"
            ]
          },
          "metadata": {},
          "execution_count": 80
        }
      ]
    },
    {
      "cell_type": "markdown",
      "source": [
        "#### Revisamos\n",
        "\n",
        "Revisamos que lo generado corresponda con la distibución deseada:"
      ],
      "metadata": {
        "id": "tpXAsXxbw5uu"
      }
    },
    {
      "cell_type": "code",
      "source": [
        "import seaborn as sns\n",
        "import matplotlib.pyplot as plt\n",
        "import numpy as np\n",
        "import math\n",
        "\n",
        "k = 2\n",
        "u = 2\n",
        "\n",
        "def f(x):\n",
        "    return np.where(\n",
        "        (x >= 0),\n",
        "        (x**(k-1) * np.exp(-x/u)) / (math.factorial(k-1) * u**k),\n",
        "        0\n",
        "    )\n",
        "\n",
        "x = np.linspace(0, 30, 1000)\n",
        "n_sim = int(1e5)\n",
        "s = np.empty(n_sim)\n",
        "for i in range(n_sim):\n",
        "  s[i]=erlang_sum_exp(k,u)\n",
        "\n",
        "\n",
        "sns.lineplot(x=x, y=f(x),color='red')\n",
        "sns.histplot(s, stat = 'density')\n",
        "plt.show()"
      ],
      "metadata": {
        "colab": {
          "base_uri": "https://localhost:8080/",
          "height": 430
        },
        "id": "ZAuOuCpDxCMY",
        "outputId": "048f5ec1-0bd8-4ca6-d005-aa45ce3026ff"
      },
      "execution_count": null,
      "outputs": [
        {
          "output_type": "display_data",
          "data": {
            "text/plain": [
              "<Figure size 640x480 with 1 Axes>"
            ],
            "image/png": "[encoded data removed]"
          },
          "metadata": {}
        }
      ]
    },
    {
      "cell_type": "markdown",
      "source": [
        "### iii) Distribución Weibull"
      ],
      "metadata": {
        "id": "eMcD0V8fyBL9"
      }
    },
    {
      "cell_type": "markdown",
      "source": [
        "$$\n",
        "f(x) = \\frac{\\beta}{\\lambda} \\left( \\frac{x}{\\lambda} \\right)^{\\beta - 1}e^{- \\left( x/\\lambda \\right)^{\\beta}}, \\quad x \\geq 0,\\quad \\lambda > 0,\\quad \\beta > 0\n",
        "$$\n",
        "\n",
        "Notar que se puede simplificar:\n",
        "\n",
        "\\begin{align*}\n",
        "f(x) & = \\frac{\\beta}{\\lambda} \\left( \\frac{x}{\\lambda} \\right)^{\\beta - 1}e^{- \\left( x/\\lambda \\right)^{\\beta}} \\\\\n",
        " & = \\beta \\lambda^{-1} \\left( \\frac{x}{\\lambda} \\right)^{\\beta - 1}e^{- \\left( x/\\lambda \\right)^{\\beta}} \\\\\n",
        " & = \\beta \\lambda^{-1} \\lambda^{-({\\beta - 1})} x^{\\beta - 1} e^{- \\left( x/\\lambda \\right)^{\\beta}} \\\\\n",
        " & = \\beta \\lambda^{-1} \\lambda^{-\\beta + 1} x^{\\beta - 1} e^{- \\left( x/\\lambda \\right)^{\\beta}} \\\\\n",
        " & = \\beta \\lambda^{-\\beta} x^{\\beta - 1} e^{- \\left( x/\\lambda \\right)^{\\beta}} \\\\\n",
        "\\end{align*}"
      ],
      "metadata": {
        "id": "55ODvddHyK-h"
      }
    },
    {
      "cell_type": "markdown",
      "source": [
        "#### Parte teorica"
      ],
      "metadata": {
        "id": "2jOiA1osylh8"
      }
    },
    {
      "cell_type": "markdown",
      "source": [
        "Segun la ayuda, tenemos que $f$ tiene que existe formula cerrada para $F$ y nos sirve para usar el metodo de la trasnformada inversa.\n",
        "\n",
        "Calculemos:\n",
        "\n",
        "\\begin{align*}\n",
        "F(x) & = \\int_{-∞}^{x} f(x) dx \\\\\n",
        "& = \\int_{-∞}^{x} \\beta \\lambda^{-\\beta} x^{\\beta - 1} e^{- \\left( x/\\lambda \\right)^{\\beta}} dx \\\\\n",
        "& =  \\beta \\lambda^{-\\beta}  \\int_{-∞}^{x}x^{\\beta - 1} e^{- \\left( x/\\lambda \\right)^{\\beta}} dx \\\\\n",
        "& ... \\\\\n",
        "& = 1-e^{−(x/λ)^β}\n",
        "\\end{align*}\n",
        "\n",
        "> Ayuda: https://en.wikipedia.org/wiki/Weibull_distribution\n",
        "\n",
        "por lo tanto si igualamos a $u$ una v.a uniforme en el (0,1):\n",
        "\n",
        "\\begin{align*}\n",
        "F(x) & = u \\\\\n",
        "1-e^{-(x/λ)^{β}} & = u \\\\\n",
        "e^{-(x/λ)^{β}} & = 1-u \\\\\n",
        "\\frac{1}{e^{(x/λ)^{β}}} & = 1-u \\\\\n",
        "e^{(x/λ)^{β}} & = \\frac{1}{1-u} \\\\\n",
        "(x/λ)^{β} & = ln\\left(\\frac{1}{1-u} \\right)\\\\\n",
        "x/λ & = \\sqrt[β]{ ln\\left(\\frac{1}{1-u} \\right)}\\\\\n",
        "x & = \\sqrt[β]{ ln\\left(\\frac{1}{1-u} \\right)} ⋅ λ\\\\\n",
        "x & = \\sqrt[β]{-ln(1-u)} ⋅ λ\\\\\n",
        "\\end{align*}\n"
      ],
      "metadata": {
        "id": "kBi27IClyniv"
      }
    },
    {
      "cell_type": "markdown",
      "source": [
        "#### Código"
      ],
      "metadata": {
        "id": "vVj7t32y4dTY"
      }
    },
    {
      "cell_type": "code",
      "source": [
        "from random import random\n",
        "import numpy as np\n",
        "\n",
        "def weibull_tinv(beta, lamda):\n",
        "  u = random()\n",
        "  return ((np.log(1/(1-u)))**(1/beta)) * lamda"
      ],
      "metadata": {
        "id": "SU2dn6Ui4hMC"
      },
      "execution_count": null,
      "outputs": []
    },
    {
      "cell_type": "code",
      "source": [
        "weibull_tinv(2,2)"
      ],
      "metadata": {
        "colab": {
          "base_uri": "https://localhost:8080/"
        },
        "id": "vkWFi2Xb4-3_",
        "outputId": "46308517-b168-4eb2-ab25-9c472d1a8162"
      },
      "execution_count": null,
      "outputs": [
        {
          "output_type": "execute_result",
          "data": {
            "text/plain": [
              "np.float64(2.066015008782673)"
            ]
          },
          "metadata": {},
          "execution_count": 34
        }
      ]
    },
    {
      "cell_type": "markdown",
      "source": [
        "#### Revisamos\n",
        "\n",
        "Revisamos que lo generado corresponda con la distibución deseada:"
      ],
      "metadata": {
        "id": "-PQzNwCS5N3J"
      }
    },
    {
      "cell_type": "code",
      "source": [
        "import seaborn as sns\n",
        "import matplotlib.pyplot as plt\n",
        "import numpy as np\n",
        "\n",
        "beta = 2\n",
        "lamda = 2\n",
        "\n",
        "def f(x):\n",
        "    return np.where(\n",
        "        (x <= 0),\n",
        "        0,\n",
        "        (beta/lamda) * (x/lamda)**(beta-1) * np.exp(-(x/lamda)**beta)\n",
        "    )\n",
        "\n",
        "\n",
        "\n",
        "x = np.linspace(0, 10, 1_000)\n",
        "n_sim = int(1e5)\n",
        "s = np.empty(n_sim)\n",
        "for i in range(n_sim):\n",
        "  s[i]=weibull_tinv(beta, lamda)\n",
        "\n",
        "sns.lineplot(x=x, y=f(x),color='red')\n",
        "sns.histplot(s, stat = 'density')\n",
        "plt.show()"
      ],
      "metadata": {
        "colab": {
          "base_uri": "https://localhost:8080/",
          "height": 430
        },
        "id": "UY5pGaXC5Oo4",
        "outputId": "5b0799d0-3088-4099-9d11-e20ab0917239"
      },
      "execution_count": null,
      "outputs": [
        {
          "output_type": "display_data",
          "data": {
            "text/plain": [
              "<Figure size 640x480 with 1 Axes>"
            ],
            "image/png": "[encoded data removed]"
          },
          "metadata": {}
        }
      ]
    },
    {
      "cell_type": "markdown",
      "source": [
        "### b) Compara valor exacto y estimación de la media\n",
        "Estime la media de cada variable con 10.000 repeticiones, usando los parámetros $α$ = 2, µ = 2, k = 2, λ = 1, β = 2. Busque en la web los valores de las esperanzas para cada variable con estos parámetros (cuidado con las parametrizaciones) y compare los valores obtenidos."
      ],
      "metadata": {
        "id": "wPRhtgsxPHF2"
      }
    },
    {
      "cell_type": "markdown",
      "source": [
        "Fuentes:\n",
        "\n",
        "- https://en.wikipedia.org/wiki/Pareto_distribution \\\\\n",
        "$E[Pareto(α)] = α/(α-1)$ si $α>1$ \\\\\n",
        "$E[Pareto(α)] = ∞\\ \\ \\ \\  \\ \\ \\ \\ \\ \\ \\ \\ \\ \\ $si $α ≤ 1$\n",
        "\n",
        "- De las notas de clase \\\\\n",
        "$E[Erlang(k,μ)] = E[Gamma(k,μ)] = k\\cdotμ$\n",
        "\n",
        "- De las notas de clase \\\\\n",
        "$E[Weibull(β,λ)] = λ/β  \\cdot \\Gamma (1/β)$\n"
      ],
      "metadata": {
        "id": "eeLYJlLj_npR"
      }
    },
    {
      "cell_type": "code",
      "source": [
        "import math\n",
        "\n",
        "def pareto_esperanza_exacta(a):\n",
        "  return a/(a-1)\n",
        "\n",
        "def erlang_esperanza_exacta(k,u):\n",
        "  return k*u\n",
        "\n",
        "def weibull_esperanza_exacta(beta, lamda):\n",
        "  return (lamda/beta)*math.gamma(1/beta)\n",
        "\n",
        "def etimacion_esperanza(N, metodo, *args,**kwargs):\n",
        "  valores = [metodo(*args, **kwargs) for _ in range(N)]\n",
        "  return sum(valores)/N\n",
        "\n",
        "N = 10000\n",
        "parametros = [\n",
        "    (\"Pareto\", {\"a\": 2}, pareto_tinv, pareto_esperanza_exacta),\n",
        "    (\"Erlang\", {\"k\": 2, \"u\": 2}, erlang_sum_exp, erlang_esperanza_exacta),\n",
        "    (\"Weibull\", {\"beta\": 2, \"lamda\": 1}, weibull_tinv, weibull_esperanza_exacta),\n",
        "]\n",
        "\n",
        "for nombre, parametros_metodo, metodo, esperanza_exacta in parametros:\n",
        "  estimacion_esperanza = etimacion_esperanza(N, metodo, **parametros_metodo)\n",
        "  esperanza_exacta = esperanza_exacta(**parametros_metodo)\n",
        "  print(\"-\"*50)\n",
        "  print(f\"Distibución {nombre}\")\n",
        "  print(f\"-   Estimación de la esperanza: {estimacion_esperanza}\")\n",
        "  print(f\"-   Esperanza exacta: {esperanza_exacta}\")\n",
        "  print(\"-\"*50)\n",
        "\n",
        "\n"
      ],
      "metadata": {
        "colab": {
          "base_uri": "https://localhost:8080/"
        },
        "id": "cPu47kwSFHh_",
        "outputId": "075934a7-df0c-4da5-c844-0ed63cf1494c"
      },
      "execution_count": null,
      "outputs": [
        {
          "output_type": "stream",
          "name": "stdout",
          "text": [
            "--------------------------------------------------\n",
            "Distibución Pareto\n",
            "-   Estimación de la esperanza: 2.0174864571590367\n",
            "-   Esperanza exacta: 2.0\n",
            "--------------------------------------------------\n",
            "--------------------------------------------------\n",
            "Distibución Erlang\n",
            "-   Estimación de la esperanza: 3.968814879335733\n",
            "-   Esperanza exacta: 4\n",
            "--------------------------------------------------\n",
            "--------------------------------------------------\n",
            "Distibución Weibull\n",
            "-   Estimación de la esperanza: 0.8821168772378932\n",
            "-   Esperanza exacta: 0.8862269254527579\n",
            "--------------------------------------------------\n"
          ]
        }
      ]
    },
    {
      "cell_type": "markdown",
      "source": [
        "## Ejercicio 3\n",
        "\n",
        "Método de la composición:\n"
      ],
      "metadata": {
        "id": "k0_snR6BTi81"
      }
    },
    {
      "cell_type": "markdown",
      "source": [
        "### a)\n",
        "Suponga que es relativamente fácil generar n variables aleatorias a partir de sus distribuciones de\n",
        "probabilidad $Fi, i = 1,...,n$. Implemente un método para generar una variable aleatoria cuya distribución de probabilidad es\n",
        "$$\n",
        "F(x) = \\sum_{i=1}^n p_i \\cdot F_i(x)\n",
        "$$\n",
        "\n",
        "donde $p_i, i = 1,...,n$, son números no negativos cuya suma es 1.\n"
      ],
      "metadata": {
        "id": "ZBULz8joaUHP"
      }
    },
    {
      "cell_type": "markdown",
      "source": [
        "#### Metodo"
      ],
      "metadata": {
        "id": "yD9kAfm25obh"
      }
    },
    {
      "cell_type": "code",
      "source": [
        "from random import random\n",
        "from collections.abc import Callable\n",
        "from typing import TypeAlias\n",
        "\n",
        "VariableAleatoria: TypeAlias = Callable[[],float]\n",
        "\n",
        "def composicion(p: list[float], metodos: list[VariableAleatoria]) -> VariableAleatoria:\n",
        "  if sum(p) != 1:\n",
        "    raise ValueError(\"La suma de los pesos debe ser 1\")\n",
        "  if len(p) != len(metodos):\n",
        "    raise ValueError(\"La cantidad de pesos debe ser igual a la cantidad de métodos\")\n",
        "\n",
        "  sum_p: float = 0.0\n",
        "  acum_p: list[float] = []\n",
        "  for i in range(len(p)):\n",
        "    sum_p += p[i]\n",
        "    acum_p.append(sum_p)\n",
        "\n",
        "  def va() -> float:\n",
        "    u = random()\n",
        "    for i in range(len(acum_p)):\n",
        "      if u <= acum_p[i]:\n",
        "        return metodos[i]()\n",
        "\n",
        "  return va"
      ],
      "metadata": {
        "id": "LiGqfC4Hu0vr"
      },
      "execution_count": 59,
      "outputs": []
    },
    {
      "cell_type": "markdown",
      "source": [
        "#### Demostración\n",
        "\n",
        "Llamemos $Z$ la variable aleatoria propuesta. Ademas denotemos $X_1,\\dots,X_n$ las v.a de las $F_i$ con $i=1,\\dots,n$. Sea $M_j$ el conjunto de valores que toma $X_i$  en donde este definida con $j \\in N$ y por ultimo sean $f_{X_i}$ las funciones de probabilida de densidad asociadas.\n",
        "\n",
        "Ahora si con esto podemos analizar mejor $Z$.\n",
        "\n",
        "Sea $x$ cualquiera:\n",
        "\\begin{align*}\n",
        "f_Z(x) & = P(Z = x) \\\\\n",
        "& = \\sum_{i=1}^{n} p_i ⋅ P(X_j = x) \\\\\n",
        "& = \\sum_{i=1}^{n} p_i ⋅ f_{X_i}(x)\n",
        "\\end{align*}\n",
        "\n",
        "> Recordar que cada $f_{X_i}$ esta definida para todo valor $x$ y si no se escribe entonces se asume que $f_{X_i}(x) = 0$.\n",
        "\n",
        "Ahora calculemos su acumulada:\n",
        "\n",
        "\\begin{align*}\n",
        "F_Z(x) & = \\int_{-∞}^{x} f_Z(x) dx \\\\\n",
        "& = \\int_{-∞}^{x} f_Z(x) dx \\\\\n",
        "& = \\int_{-∞}^{x} \\sum_{i=1}^{n}  p_i⋅f_{X_i}(x) dx \\\\\n",
        "& = \\sum_{i=1}^{n} p_i⋅ \\int_{-∞}^{x} f_{X_i}(x) dx \\\\\n",
        "& = \\sum_{i=1}^{n} p_i⋅ F_{X_i}(x) \\\\\n",
        "\\end{align*}\n"
      ],
      "metadata": {
        "id": "PBja8JYC5jq2"
      }
    },
    {
      "cell_type": "markdown",
      "source": [
        "### b)\n",
        "Genere datos usando tres exponenciales independientes con media 3, 5 y 7 respectivamente y p =(0.5,0.3,0.2). Calcule la esperanza exacta de la mezcla y estime con 10.000 repeticiones. Tenga cuidado con la parametrización que este usando!!"
      ],
      "metadata": {
        "id": "-XpxfGxdaUro"
      }
    },
    {
      "cell_type": "markdown",
      "source": [
        "#### Esperanza exacta"
      ],
      "metadata": {
        "id": "UfhRfJqkGNB1"
      }
    },
    {
      "cell_type": "markdown",
      "source": [
        "Caculemos la esperanza exacta:\n",
        "\n",
        "$$\n",
        "X_1 \\backsim \\mathcal{E} (λ=(1/3))\\ \\ ,\\ \\\n",
        "X_2 \\backsim \\mathcal{E} (λ=(1/5))\\ \\ ,\\ \\\n",
        "X_3 \\backsim \\mathcal{E} (λ=(1/7))\n",
        "$$\n",
        "\\begin{align*}\n",
        "E[Z] & =\\sum_{i=1}^{n} p_i⋅ E[{X_i}] \\\\\n",
        "& =  0.5 ⋅ E[{X_1}] + 0.3 ⋅ E[{X_2}] + 0.2 ⋅ E[{X_3}] \\\\\n",
        "& =  0.5 ⋅ 3 + 0.3 ⋅ 5 + 0.2 ⋅ 7 \\\\\n",
        "& = 4,4\n",
        "\\end{align*}"
      ],
      "metadata": {
        "id": "xz7DHrvtCsME"
      }
    },
    {
      "cell_type": "markdown",
      "source": [
        "#### Código"
      ],
      "metadata": {
        "id": "RJQqdxDwGQ7T"
      }
    },
    {
      "cell_type": "code",
      "source": [
        "from random import random\n",
        "from numpy import log\n",
        "\n",
        "def exponencial(lamda):\n",
        "  U = 1-random()\n",
        "  return -log(1-U)/lamda"
      ],
      "metadata": {
        "id": "gApwgmMTCDMD"
      },
      "execution_count": 39,
      "outputs": []
    },
    {
      "cell_type": "code",
      "source": [
        "p_s = [0.5,0.3,0.2]\n",
        "metodos =[ lambda: exponencial(1/3), lambda: exponencial(1/5), lambda: exponencial(1/7)]\n",
        "\n",
        "va_Z = composicion(p_s, metodos)"
      ],
      "metadata": {
        "id": "Qae_3Qd6CJhZ"
      },
      "execution_count": 58,
      "outputs": []
    },
    {
      "cell_type": "markdown",
      "source": [
        "#### Comparación"
      ],
      "metadata": {
        "id": "YNIBXydpGSUc"
      }
    },
    {
      "cell_type": "code",
      "source": [
        "N = 10**4\n",
        "valores = [va_Z() for _ in range(N)]\n",
        "estimacion_esperanza = sum(valores)/N\n",
        "print(f\"Estimación de la esperanza: {estimacion_esperanza}\")\n",
        "print(f\"Esperanza exacta: {4.4}\")"
      ],
      "metadata": {
        "colab": {
          "base_uri": "https://localhost:8080/"
        },
        "id": "lY1gTUNxCk6e",
        "outputId": "f9ba2522-b79e-46a1-d820-1c7e757fb5a7"
      },
      "execution_count": 56,
      "outputs": [
        {
          "output_type": "stream",
          "name": "stdout",
          "text": [
            "Estimación de la esperanza: 4.4041666034684\n",
            "Esperanza exacta: 4.4\n"
          ]
        }
      ]
    },
    {
      "cell_type": "markdown",
      "source": [
        "## Ejercicio 4 😰😰😰\n"
      ],
      "metadata": {
        "id": "RvtFK8vPHGTW"
      }
    },
    {
      "cell_type": "markdown",
      "source": [
        "Desarrolle un método para generar la variable aleatoria con función de distribución:\n",
        "\n",
        "$$\n",
        "F(x) = \\int_0^∞ x^y e^{-y} dy,\\ \\ \\ \\ \\ \\ 0 ≤ x ≤ 1\n",
        "$$\n",
        "\n",
        "Piense en el método de composición del ejercicio anterior. En particular, sea F la función de distribución de X y suponga que la distribución condicional de X dado Y = y es\n",
        "\n",
        "$$\n",
        "P(X ≤ x|Y = y) = x^y,\\ \\ \\ \\ \\ \\ \\ \\ 0 ≤ x ≤ 1\n",
        "$$\n"
      ],
      "metadata": {
        "id": "hZR8zaGZHMZV"
      }
    },
    {
      "cell_type": "markdown",
      "source": [
        "#### Parte teorica"
      ],
      "metadata": {
        "id": "3_D65SGaY4dY"
      }
    },
    {
      "cell_type": "markdown",
      "source": [
        "Si suponemos $Y \\backsim \\mathcal{E}(λ=1)$, por definición:\n",
        "\n",
        "$$f_Y(x) =e^{-x}$$\n",
        "\n",
        "Entonces si asumimos que $P(X ≤ x|Y = y) = x^y$, tenemos que:\n",
        "\n",
        "\\begin{align*}\n",
        "F(x) & = \\int_0^∞ x^y e^{-y} dy \\\\\n",
        "& = \\int_0^∞ P(X ≤ x|Y = y) f_Y(y) dy\n",
        "\\end{align*}"
      ],
      "metadata": {
        "id": "ic1339-ZPyGx"
      }
    },
    {
      "cell_type": "markdown",
      "source": [
        "## Ejercicio 5"
      ],
      "metadata": {
        "id": "O_sbOxNIY7YF"
      }
    },
    {
      "cell_type": "markdown",
      "source": [
        "### a) Metodos\n",
        "\n",
        "Considere que es sencillo generar una variable aleatoria a partir de cualquiera de las distribuciones $F_i, i = 1,...,n$. Explique cómo generar variables aleatorias a partir de las siguientes distribuciones:\n",
        "\n",
        "> **Sugerencia**: Si $X_i, i = 1,...,n$, son variables aleatorias independientes, donde $X_i$ tiene distribución $F_i$ ¿cuál variable aleatoria tiene como distribución a $F$ en cada caso?\n",
        "\n"
      ],
      "metadata": {
        "id": "Ui_0KOuqY97Y"
      }
    },
    {
      "cell_type": "markdown",
      "source": [
        "#### i)\n",
        "$$F_M(x) =\\prod_{i=1}^n F_i(x)$$"
      ],
      "metadata": {
        "id": "cLQ3xhBjZ4nq"
      }
    },
    {
      "cell_type": "markdown",
      "source": [
        "##### Código"
      ],
      "metadata": {
        "id": "OMQ5_IKvf3j6"
      }
    },
    {
      "cell_type": "code",
      "source": [
        "from random import random\n",
        "from collections.abc import Callable\n",
        "\n",
        "def composicion_M(metodos: list[Callable[[],float]]) -> float:\n",
        "  valores = [metodo() for metodo in metodos]\n",
        "  return max(valores)\n"
      ],
      "metadata": {
        "id": "ECNx21eMZ7Tp"
      },
      "execution_count": 63,
      "outputs": []
    },
    {
      "cell_type": "markdown",
      "source": [
        "##### Demostración\n",
        "\n",
        "En el teorico vimos (pag 93, ej6.3) que si son $X_1,…,X_n$ v.a independientes con función de distribucion acumulada $F_1,…,F_n$ si:\n",
        "$$\n",
        "M = \\max\\{X_1,...,X_n\\}\n",
        "$$\n",
        "entonces\n",
        "$$\n",
        "F_M(x) = F_1(x) \\dots F_n(x) = \\prod_{i=1}^n F_i(x)\n",
        "$$"
      ],
      "metadata": {
        "id": "z-JGZVbKaqKH"
      }
    },
    {
      "cell_type": "markdown",
      "source": [
        "#### ii)\n",
        "$$F_M(x) =1-\\prod_{i=1}^n (1-F_i(x))$$"
      ],
      "metadata": {
        "id": "ntbpQ32Kfy8a"
      }
    },
    {
      "cell_type": "markdown",
      "source": [
        "##### Código"
      ],
      "metadata": {
        "id": "1DaeXRikgB1I"
      }
    },
    {
      "cell_type": "code",
      "source": [
        "from random import random\n",
        "from collections.abc import Callable\n",
        "\n",
        "def composicion_m(metodos: list[Callable[[],float]]) -> float:\n",
        "  valores = [metodo() for metodo in metodos]\n",
        "  return min(valores)\n"
      ],
      "metadata": {
        "id": "reEf1kxjgFXQ"
      },
      "execution_count": 64,
      "outputs": []
    },
    {
      "cell_type": "markdown",
      "source": [
        "##### Demostración\n",
        "\n",
        "En el teorico vimos (pag 27) que si son $X_1,…,X_n$ v.a independientes con función de distribucion acumulada $F_1,…,F_n$ si:\n",
        "$$\n",
        "M = \\min\\{X_1,...,X_n\\}\n",
        "$$\n",
        "entonces\n",
        "$$\n",
        "1 - F_M(x) = (1-F_1(x)) \\dots (1-F_n(x)) = \\prod_{i=1}^n (1-F_i(x))\n",
        "$$\n",
        "por lo tanto\n",
        "\\begin{align*}\n",
        "1 - F_M(x) & = \\prod_{i=1}^n (1-F_i(x)) \\\\\n",
        "-1 + F_M(x) & = - \\prod_{i=1}^n (1-F_i(x)) \\\\\n",
        "F_M(x) & = 1 - \\prod_{i=1}^n (1-F_i(x)) \\\\\n",
        "\\end{align*}"
      ],
      "metadata": {
        "id": "xIzQ1iAagLEP"
      }
    },
    {
      "cell_type": "markdown",
      "source": [
        "### b) Muestras de M y m\n",
        "\n",
        "Genere una muestra de 10 valores de las variables M y m con distribuciones $F_M$ y $F_m$ si $X_i$ son exponenciales independientes con parámetros 1, 2 y 3 respectivamente.\n"
      ],
      "metadata": {
        "id": "vCPvZF2Rg77R"
      }
    },
    {
      "cell_type": "code",
      "source": [
        "from random import random\n",
        "from numpy import log\n",
        "\n",
        "def exponencial(lamda):\n",
        "  U = 1-random()\n",
        "  return -log(1-U)/lamda"
      ],
      "metadata": {
        "id": "Um0-2v9yhFO7"
      },
      "execution_count": 65,
      "outputs": []
    },
    {
      "cell_type": "code",
      "source": [
        "N = 10\n",
        "metodos =[ lambda: exponencial(1), lambda: exponencial(2), lambda: exponencial(3)]\n",
        "\n",
        "print(\"-\"*100)\n",
        "print(f\"Variable M\")\n",
        "print([round(float(composicion_M(metodos)), 6) for _ in range(N)])\n",
        "print(\"-\"*100)\n",
        "print(f\"Variable m\")\n",
        "print([round(float(composicion_m(metodos)), 6) for _ in range(N)])\n",
        "print(\"-\"*100)"
      ],
      "metadata": {
        "colab": {
          "base_uri": "https://localhost:8080/"
        },
        "id": "sAitJlXmhQH6",
        "outputId": "4d45ffba-4dba-4d7c-b51a-8c27e9319349"
      },
      "execution_count": 69,
      "outputs": [
        {
          "output_type": "stream",
          "name": "stdout",
          "text": [
            "----------------------------------------------------------------------------------------------------\n",
            "Variable M\n",
            "[3.120511, 0.909118, 2.240785, 0.822157, 0.27318, 0.628103, 1.451072, 1.472779, 0.742259, 1.320877]\n",
            "----------------------------------------------------------------------------------------------------\n",
            "Variable m\n",
            "[0.017144, 0.266311, 0.202298, 0.11119, 0.445671, 0.157791, 0.213326, 0.011426, 0.443329, 0.545373]\n",
            "----------------------------------------------------------------------------------------------------\n"
          ]
        }
      ]
    },
    {
      "cell_type": "markdown",
      "source": [
        "## Ejercicio 6"
      ],
      "metadata": {
        "id": "02jYZhCBiwMm"
      }
    },
    {
      "cell_type": "markdown",
      "source": [
        "Utilice el **método del rechazo** y los resultados del **ejercicio anterior** para desarrollar otros dos métodos, además del método de la **transformada inversa**, para generar una variable aleatoria con distribución de probabilidad:\n",
        "$$\n",
        "F(x) = x^n,\\ \\ \\ \\ \\ \\ 0 ≤ x ≤ 1.\n",
        "$$\n",
        "\n",
        "Analice la eficiencia de los tres métodos para generar la variable a partir de F\n",
        "\n",
        "> Notar que si $n < 1$, $F$ no esta bien definida porque da mayor a 1 en cualquier x menor que 1."
      ],
      "metadata": {
        "id": "7UHLLfumi095"
      }
    },
    {
      "cell_type": "markdown",
      "source": [
        "### Metodo de rechazo"
      ],
      "metadata": {
        "id": "tVVhvgIhjRr-"
      }
    },
    {
      "cell_type": "markdown",
      "source": [
        "#### Parte Teorica"
      ],
      "metadata": {
        "id": "8D9-xoI1vU1d"
      }
    },
    {
      "cell_type": "markdown",
      "source": [
        "Por definición tenemos que:\n",
        "\n",
        "$$\n",
        "f(x) = F'(x) = n⋅x^{n-1},\\ \\ con\\ \\ 0 ≤ x ≤ 1\n",
        "$$\n",
        "\n",
        "propongo $G \\backsim U(0,1)$ por lo tanto $g(x) = 1$, entonces buscamos el $c$:\n",
        "\n",
        "\\begin{align*}\n",
        "\\frac{f(x)}{g(x)} & \\le c \\\\\n",
        "\\frac{n⋅x^{n-1}}{1} & \\le c \\\\\n",
        "n⋅x^{n-1} & \\le c \\\\\n",
        "\\end{align*}\n",
        "\n",
        "Como $n ≥ 1$ y $0 ≤ x ≤ 1$ entonces $n⋅x^{n-1}$ es creciente por lo tanto el maximo esta en $x=1$, por ello $c= n⋅1^{n-1} = n$\n",
        "\n",
        "Ahora en el código, tenemos que ver:\n",
        "\\begin{align*}\n",
        "u & \\le \\frac{f(y)}{c\\cdot g(y)} \\\\\n",
        "u & \\le \\frac{1}{c}⋅n⋅y^{n-1} \\\\\n",
        "u & \\le \\frac{1}{n}⋅n⋅y^{n-1} \\\\\n",
        "u & \\le y^{n-1} \\\\\n",
        "\\end{align*}"
      ],
      "metadata": {
        "id": "r2WVB9cMvUKO"
      }
    },
    {
      "cell_type": "markdown",
      "source": [
        "#### Código"
      ],
      "metadata": {
        "id": "PL9yIU3avX3R"
      }
    },
    {
      "cell_type": "code",
      "source": [
        "from random import random\n",
        "\n",
        "def X_metodo_rechazo(n:float) -> float:\n",
        "  if(n < 1): raise ValueError(\"n debe ser mayor o igual a 1\")\n",
        "  while True:\n",
        "    y = random()\n",
        "    u = random()\n",
        "    if u <= y**(n-1):\n",
        "      return y"
      ],
      "metadata": {
        "id": "d6GWZO4itYOf"
      },
      "execution_count": 100,
      "outputs": []
    },
    {
      "cell_type": "code",
      "source": [
        "X_metodo_rechazo(10)"
      ],
      "metadata": {
        "colab": {
          "base_uri": "https://localhost:8080/"
        },
        "id": "-T_G1HaCvH-j",
        "outputId": "6be17917-4fea-400a-ceaf-d7d4fb89e83c"
      },
      "execution_count": 90,
      "outputs": [
        {
          "output_type": "execute_result",
          "data": {
            "text/plain": [
              "0.9502610539568618"
            ]
          },
          "metadata": {},
          "execution_count": 90
        }
      ]
    },
    {
      "cell_type": "markdown",
      "source": [
        "### Metodo M (ej anterior)"
      ],
      "metadata": {
        "id": "hkQjN2Kmvql0"
      }
    },
    {
      "cell_type": "markdown",
      "source": [
        "#### Parte Teorica"
      ],
      "metadata": {
        "id": "fWl-bnn6vvKB"
      }
    },
    {
      "cell_type": "markdown",
      "source": [
        "\n",
        "Por definición tenemos que:\n",
        "\n",
        "$$\n",
        "F_X(x) = \\prod_{i=1}^n x\n",
        "$$\n",
        "\n",
        "\n",
        "y con $X_1,…,X_n \\backsim U(0,1)$ tenemos que $F_{X_i}(x) = x$ por lo tanto\n",
        "\n",
        "$$\n",
        "F_X(x) = \\prod_{i=1}^n F_{X_i}(x)\n",
        "$$\n",
        "\n",
        "pero esto es lo mismo que $M$ usando las $X_1,…,X_n$. Por lo tanto $F_X = F_M$.\n",
        "\n",
        "Entonces:\n",
        "$$\n",
        "X = M = \\max\\{X_1,\\dots,X_n\\}\n",
        "$$"
      ],
      "metadata": {
        "id": "FGrkjfedtXlb"
      }
    },
    {
      "cell_type": "markdown",
      "source": [
        "#### Código"
      ],
      "metadata": {
        "id": "41DbN8L6v-eF"
      }
    },
    {
      "cell_type": "code",
      "source": [
        "from random import random\n",
        "from collections.abc import Callable\n",
        "\n",
        "def X_composicion_M(n:float) -> float:\n",
        "  if(n < 1): raise ValueError(\"n debe ser mayor o igual a 1\")\n",
        "  valores = [random() for _ in range(n)]\n",
        "  return max(valores)"
      ],
      "metadata": {
        "id": "VBQevCFgv9-a"
      },
      "execution_count": 99,
      "outputs": []
    },
    {
      "cell_type": "code",
      "source": [
        "X_composicion_M(10)"
      ],
      "metadata": {
        "colab": {
          "base_uri": "https://localhost:8080/"
        },
        "id": "lWRLMTMfwqfo",
        "outputId": "5d9a505f-fc3f-4f0e-fd12-8ed9a7299c14"
      },
      "execution_count": 85,
      "outputs": [
        {
          "output_type": "execute_result",
          "data": {
            "text/plain": [
              "0.9952962393060946"
            ]
          },
          "metadata": {},
          "execution_count": 85
        }
      ]
    },
    {
      "cell_type": "markdown",
      "source": [
        "### Metodo de la Inversa"
      ],
      "metadata": {
        "id": "eo_kcYLFwz19"
      }
    },
    {
      "cell_type": "markdown",
      "source": [
        "#### Parte Teorica"
      ],
      "metadata": {
        "id": "zzk8IbssxCDK"
      }
    },
    {
      "cell_type": "markdown",
      "source": [
        "Tenemos que:\n",
        "$$\n",
        "F(x) = x^n\n",
        "$$\n",
        "Ahora igualamos a $u$ una valor de una uniforme en el 0,1.\n",
        "\n",
        "\\begin{align*}\n",
        "F(x) & = u \\\\\n",
        "x^n & = u \\\\\n",
        "x & = \\sqrt[n]{u} = {u}^{1/n} \\\\\n",
        "\\end{align*}\n"
      ],
      "metadata": {
        "id": "p8PIXF80xFZR"
      }
    },
    {
      "cell_type": "markdown",
      "source": [
        "#### Código"
      ],
      "metadata": {
        "id": "MpaUXI-CxEEW"
      }
    },
    {
      "cell_type": "code",
      "source": [
        "from random import random\n",
        "\n",
        "def X_tinv(n:float) -> float:\n",
        "  if(n < 1): raise ValueError(\"n debe ser mayor o igual a 1\")\n",
        "  u = random()\n",
        "  return u**(1/n)"
      ],
      "metadata": {
        "id": "Vy2Oz-AvxrTe"
      },
      "execution_count": 98,
      "outputs": []
    },
    {
      "cell_type": "code",
      "source": [
        "X_tinv(10)"
      ],
      "metadata": {
        "colab": {
          "base_uri": "https://localhost:8080/"
        },
        "id": "idtSdomvx43X",
        "outputId": "06b9a41b-0219-464f-f05a-9175f2cfe90d"
      },
      "execution_count": 88,
      "outputs": [
        {
          "output_type": "execute_result",
          "data": {
            "text/plain": [
              "0.8816438348612331"
            ]
          },
          "metadata": {},
          "execution_count": 88
        }
      ]
    },
    {
      "cell_type": "markdown",
      "source": [
        "### Comparación"
      ],
      "metadata": {
        "id": "9-BqIxfWyAkG"
      }
    },
    {
      "cell_type": "code",
      "source": [
        "%%timeit\n",
        "X_metodo_rechazo(10)"
      ],
      "metadata": {
        "colab": {
          "base_uri": "https://localhost:8080/"
        },
        "id": "igpxpKmIyDOj",
        "outputId": "5bab876d-bd18-447e-f5fe-760a83413529"
      },
      "execution_count": 93,
      "outputs": [
        {
          "output_type": "stream",
          "name": "stdout",
          "text": [
            "1.85 µs ± 402 ns per loop (mean ± std. dev. of 7 runs, 1000000 loops each)\n"
          ]
        }
      ]
    },
    {
      "cell_type": "code",
      "source": [
        "%%timeit\n",
        "X_composicion_M(10)"
      ],
      "metadata": {
        "colab": {
          "base_uri": "https://localhost:8080/"
        },
        "id": "ywm6MiGLyIhH",
        "outputId": "8f6a7754-c096-487c-8c9f-ec72128797ff"
      },
      "execution_count": 92,
      "outputs": [
        {
          "output_type": "stream",
          "name": "stdout",
          "text": [
            "1.47 µs ± 443 ns per loop (mean ± std. dev. of 7 runs, 1000000 loops each)\n"
          ]
        }
      ]
    },
    {
      "cell_type": "code",
      "source": [
        "%%timeit\n",
        "X_tinv(10)"
      ],
      "metadata": {
        "colab": {
          "base_uri": "https://localhost:8080/"
        },
        "id": "EpIuXzBSyLBt",
        "outputId": "01654d31-5459-4489-c53e-2d89f6520a6d"
      },
      "execution_count": 94,
      "outputs": [
        {
          "output_type": "stream",
          "name": "stdout",
          "text": [
            "204 ns ± 24.9 ns per loop (mean ± std. dev. of 7 runs, 10000000 loops each)\n"
          ]
        }
      ]
    },
    {
      "cell_type": "markdown",
      "source": [
        "En resumen el metodo de transformada inversa es el mejor."
      ],
      "metadata": {
        "id": "Tg58nY0KzklI"
      }
    },
    {
      "cell_type": "markdown",
      "source": [
        "### Revisamos"
      ],
      "metadata": {
        "id": "VnQv-_hMyaSp"
      }
    },
    {
      "cell_type": "code",
      "source": [
        "import seaborn as sns\n",
        "import matplotlib.pyplot as plt\n",
        "import numpy as np\n",
        "\n",
        "n = 10\n",
        "def f(x):\n",
        "    return np.where(\n",
        "        (0 <= x) & (x <= 1),\n",
        "        n*x**(n-1),\n",
        "        0\n",
        "    )\n",
        "\n",
        "# Simulaciones\n",
        "n_sim = int(2e4)\n",
        "x = np.linspace(0, 1, 1000)\n",
        "samples_rechazo = np.array([X_metodo_rechazo(n) for _ in range(n_sim)])\n",
        "samples_compos = np.array([X_composicion_M(n) for _ in range(n_sim)])\n",
        "samples_inv = np.array([X_tinv(n) for _ in range(n_sim)])\n",
        "\n",
        "# Plot\n",
        "fig, axes = plt.subplots(1, 3, figsize=(18, 5), sharey=True)\n",
        "\n",
        "# Gráfico 1: Rechazo\n",
        "sns.histplot(samples_rechazo, stat='density', ax=axes[0], color='skyblue')\n",
        "axes[0].plot(x, f(x), color='red')\n",
        "axes[0].set_title(\"Método de Rechazo\")\n",
        "\n",
        "# Gráfico 2: Composición\n",
        "sns.histplot(samples_compos, stat='density', ax=axes[1], color='lightgreen')\n",
        "axes[1].plot(x, f(x), color='red')\n",
        "axes[1].set_title(\"Método de Composición\")\n",
        "\n",
        "# Gráfico 3: Transformada Inversa\n",
        "sns.histplot(samples_inv, stat='density', ax=axes[2], color='lightcoral')\n",
        "axes[2].plot(x, f(x), color='red')\n",
        "axes[2].set_title(\"Transformada Inversa\")\n",
        "\n",
        "plt.tight_layout()\n",
        "plt.show()"
      ],
      "metadata": {
        "colab": {
          "base_uri": "https://localhost:8080/",
          "height": 319
        },
        "id": "67eWR_UZyfnW",
        "outputId": "c63840a6-20ff-4989-90cb-f95c5b1565d6"
      },
      "execution_count": 105,
      "outputs": [
        {
          "output_type": "display_data",
          "data": {
            "text/plain": [
              "<Figure size 1800x500 with 3 Axes>"
            ],
            "image/png": "[encoded data removed]"
          },
          "metadata": {}
        }
      ]
    },
    {
      "cell_type": "markdown",
      "source": [
        "## Ejercicio 7"
      ],
      "metadata": {
        "id": "TweB915Lz0o0"
      }
    },
    {
      "cell_type": "markdown",
      "source": [
        "### a) Métodos\n",
        "\n",
        "Desarrolle dos métodos para generar una variable aleatoria X con densidad de probabilidad:\n",
        "\n",
        "$$\n",
        "f(x) =\n",
        "\\begin{cases}\n",
        "\\frac{1}{x}, & \\text{si } 1 \\leq x \\leq e, \\\\\n",
        "0,           & \\text{en otro caso}.\n",
        "\\end{cases}\n",
        "$$\n",
        "\n"
      ],
      "metadata": {
        "id": "IsTQtYOV0xsh"
      }
    },
    {
      "cell_type": "markdown",
      "source": [
        "#### i) Transformada inversa\n"
      ],
      "metadata": {
        "id": "01KIAcjc9EQK"
      }
    },
    {
      "cell_type": "markdown",
      "source": [
        "##### Parte Teorica"
      ],
      "metadata": {
        "id": "XDbKKkLJ9HGq"
      }
    },
    {
      "cell_type": "markdown",
      "source": [
        "Tenemos que calcular primero $F(x)$:\n",
        "\n",
        "Si $-∞ ≤ x < 1$\n",
        "\\begin{align*}\n",
        "F(x) & = \\int_{-∞}^x f(x) dx = 0\n",
        "\\end{align*}\n",
        "\n",
        "Si $1 ≤ x < e$\n",
        "\\begin{align*}\n",
        "F(x) & = \\int_{-∞}^x f(x) dx \\\\\n",
        "& = \\int_{1}^x \\frac{1}{x} dx \\\\\n",
        "&\\ = [\\ln(x)]_{1}^x \\\\\n",
        "&\\ = \\ln(x) - \\ln (1) \\\\\n",
        "&\\ = \\ln(x) \\\\\n",
        "\\end{align*}\n",
        "\n",
        "> Revisamos, $F(e) = \\ln(1) = 1$ por lo tanto eta bien.\n",
        "\n",
        "Ahora si:\n",
        "\n",
        "$$\n",
        "F(x) =\n",
        "\\begin{cases}\n",
        "0  & \\text{si } x < 1, \\\\\n",
        "\\ln(x) & \\text{si } 1 \\leq x \\leq e, \\\\\n",
        "1 & \\text{si } x ≥ e, \\\\\n",
        "\\end{cases}\n",
        "$$\n",
        "\n",
        "ahora igualamos a $u$ un valor de la v.a uniforme en el 0,1 y despejamos la x:\n",
        "\n",
        "\\begin{align*}\n",
        "F(x) & = u \\\\\n",
        "\\ln(x) & = u \\\\\n",
        "x & = e^u\n",
        "\\end{align*}"
      ],
      "metadata": {
        "id": "w_JgqMZn9LZP"
      }
    },
    {
      "cell_type": "markdown",
      "source": [
        "##### Código"
      ],
      "metadata": {
        "id": "KqsKfev2_Y68"
      }
    },
    {
      "cell_type": "code",
      "source": [
        "from random import random\n",
        "import math\n",
        "\n",
        "def ej7_tinv() -> float:\n",
        "  u = random()\n",
        "  return math.exp(u)"
      ],
      "metadata": {
        "id": "ZkCkB_eo_aI4"
      },
      "execution_count": 131,
      "outputs": []
    },
    {
      "cell_type": "code",
      "source": [
        "ej7_tinv()"
      ],
      "metadata": {
        "colab": {
          "base_uri": "https://localhost:8080/"
        },
        "id": "S9sBEGF__p-G",
        "outputId": "ffce84b8-c7ea-4c91-f287-9614c1ac65ef"
      },
      "execution_count": 132,
      "outputs": [
        {
          "output_type": "execute_result",
          "data": {
            "text/plain": [
              "2.557534803183013"
            ]
          },
          "metadata": {},
          "execution_count": 132
        }
      ]
    },
    {
      "cell_type": "markdown",
      "source": [
        "##### Revisamos"
      ],
      "metadata": {
        "id": "xRTgg04u_xtq"
      }
    },
    {
      "cell_type": "code",
      "source": [
        "import seaborn as sns\n",
        "import matplotlib.pyplot as plt\n",
        "import numpy as np\n",
        "from math import e\n",
        "\n",
        "def f(x):\n",
        "    return np.where(\n",
        "        (1 <= x) & (x <= e),\n",
        "        1/x,\n",
        "        0\n",
        "    )\n",
        "\n",
        "x = np.linspace(0.5, 3, 1000)\n",
        "n_sim = int(1e5)\n",
        "s = np.empty(n_sim)\n",
        "for i in range(n_sim):\n",
        "  s[i]=ej7_tinv()\n",
        "\n",
        "\n",
        "sns.lineplot(x=x, y=f(x),color='red')\n",
        "sns.histplot(s, stat = 'density')\n",
        "plt.show()"
      ],
      "metadata": {
        "colab": {
          "base_uri": "https://localhost:8080/",
          "height": 430
        },
        "id": "rQvEiTuk_xbA",
        "outputId": "8ad2ee23-c2de-45a4-cbda-5b7e796f99df"
      },
      "execution_count": 136,
      "outputs": [
        {
          "output_type": "display_data",
          "data": {
            "text/plain": [
              "<Figure size 640x480 with 1 Axes>"
            ],
            "image/png": "[encoded data removed]"
          },
          "metadata": {}
        }
      ]
    },
    {
      "cell_type": "markdown",
      "source": [
        "#### ii) Aceptación y rechazo\n",
        "\n",
        "Aplicando el método de aceptación y rechazo con una variable uniforme."
      ],
      "metadata": {
        "id": "JePQyPEuAp9g"
      }
    },
    {
      "cell_type": "markdown",
      "source": [
        "##### Parte Teorica"
      ],
      "metadata": {
        "id": "3KSOxPNKAx5M"
      }
    },
    {
      "cell_type": "markdown",
      "source": [
        "Para usar el metodo de aceptación y rechazo voy a usar $Y \\backsim U(0,e)$ por lo tanto  $f_Y(x) = \\frac{1}{e}$.\n",
        "\n",
        "Ahora despejemos el $c$:\n",
        "\n",
        "\\begin{align*}\n",
        "\\frac{f(x)}{f_Y(x)} & ≤ c \\\\\n",
        "\\frac{1/x}{1/e} & ≤ c \\\\\n",
        "\\frac{e}{x} & ≤ c \\\\\n",
        "\\end{align*}\n",
        "\n",
        "claramente $\\frac{e}{x}$ es decreciente en el intervalo $1 \\le x \\le e$ por lo tanto el maximo esta en $x = 1$ por lo tanto:\n",
        "\n",
        "$$c = e$$\n",
        "\n",
        "Ademas notar que en el metodo se hace:\n",
        "\\begin{align*}\n",
        "u & \\le \\frac{f(x)}{c \\cdot f_Y(x)} \\\\\n",
        "u & \\le \\frac{1/x}{e \\cdot 1/e} \\\\\n",
        "u & \\le \\frac{1/x}{1} \\\\\n",
        "u & \\le 1/x \\\\\n",
        "\\end{align*}\n",
        "\n"
      ],
      "metadata": {
        "id": "93I2NSyrBLdk"
      }
    },
    {
      "cell_type": "markdown",
      "source": [
        "##### Código"
      ],
      "metadata": {
        "id": "hyQN0RPMFk97"
      }
    },
    {
      "cell_type": "code",
      "source": [
        "from random import random\n",
        "import math\n",
        "\n",
        "def uniforme(a,b):\n",
        "  return a + (b-a)*random()\n",
        "\n",
        "def ej7_metodo_rechazo():\n",
        "  while True:\n",
        "    y = uniforme(1,e)\n",
        "    u = random()\n",
        "    if u <= 1/y:\n",
        "      return y"
      ],
      "metadata": {
        "id": "-RFG2FlVE3sF"
      },
      "execution_count": 133,
      "outputs": []
    },
    {
      "cell_type": "code",
      "source": [
        "ej7_metodo_rechazo()"
      ],
      "metadata": {
        "colab": {
          "base_uri": "https://localhost:8080/"
        },
        "id": "2B-G_wJ_FrAn",
        "outputId": "c34616e3-1468-4569-c0df-e23f84541c0c"
      },
      "execution_count": 134,
      "outputs": [
        {
          "output_type": "execute_result",
          "data": {
            "text/plain": [
              "1.7552761433288282"
            ]
          },
          "metadata": {},
          "execution_count": 134
        }
      ]
    },
    {
      "cell_type": "markdown",
      "source": [
        "##### Revisamos"
      ],
      "metadata": {
        "id": "XIdhMZgDFtod"
      }
    },
    {
      "cell_type": "code",
      "source": [
        "import seaborn as sns\n",
        "import matplotlib.pyplot as plt\n",
        "import numpy as np\n",
        "from math import e\n",
        "\n",
        "def f(x):\n",
        "    return np.where(\n",
        "        (1 <= x) & (x <= e),\n",
        "        1/x,\n",
        "        0\n",
        "    )\n",
        "\n",
        "x = np.linspace(0.5, 3, 1000)\n",
        "n_sim = int(1e5)\n",
        "s = np.empty(n_sim)\n",
        "for i in range(n_sim):\n",
        "  s[i]=ej7_metodo_rechazo()\n",
        "\n",
        "\n",
        "sns.lineplot(x=x, y=f(x),color='red')\n",
        "sns.histplot(s, stat = 'density')\n",
        "plt.show()"
      ],
      "metadata": {
        "colab": {
          "base_uri": "https://localhost:8080/",
          "height": 430
        },
        "id": "HVQBfmg0Fxjw",
        "outputId": "537fdc79-5f49-4473-b70d-35c6be22db6f"
      },
      "execution_count": 135,
      "outputs": [
        {
          "output_type": "display_data",
          "data": {
            "text/plain": [
              "<Figure size 640x480 with 1 Axes>"
            ],
            "image/png": "[encoded data removed]"
          },
          "metadata": {}
        }
      ]
    },
    {
      "cell_type": "markdown",
      "source": [
        "### b) Comparar eficiencia y esperanza\n",
        "\n",
        "Compare la eficiencia de ambos métodos realizando 10.000 simulaciones y comparando el promedio de los valores obtenidos. Compruebe que se obtiene un valor aproximado del valor esperado de $X$.\n"
      ],
      "metadata": {
        "id": "z-PeqIxaF40Z"
      }
    },
    {
      "cell_type": "code",
      "source": [
        "%%timeit\n",
        "ej7_tinv()"
      ],
      "metadata": {
        "colab": {
          "base_uri": "https://localhost:8080/"
        },
        "id": "5KJB9RGpGHvy",
        "outputId": "d733fa28-6def-4da2-b4eb-240bf246bb36"
      },
      "execution_count": 137,
      "outputs": [
        {
          "output_type": "stream",
          "name": "stdout",
          "text": [
            "141 ns ± 29.2 ns per loop (mean ± std. dev. of 7 runs, 10000000 loops each)\n"
          ]
        }
      ]
    },
    {
      "cell_type": "code",
      "source": [
        "%%timeit\n",
        "ej7_metodo_rechazo()"
      ],
      "metadata": {
        "colab": {
          "base_uri": "https://localhost:8080/"
        },
        "id": "BPoe_UOoGbWZ",
        "outputId": "054ea7f2-ed73-455c-c404-1da4047d0501"
      },
      "execution_count": 138,
      "outputs": [
        {
          "output_type": "stream",
          "name": "stdout",
          "text": [
            "596 ns ± 175 ns per loop (mean ± std. dev. of 7 runs, 1000000 loops each)\n"
          ]
        }
      ]
    },
    {
      "cell_type": "code",
      "source": [
        "from time import time\n",
        "\n",
        "def esperanza(metodo, N=10_000):\n",
        "  \"\"\"\n",
        "  Estima la esperanza de metodo() usando N simulaciones.\n",
        "\n",
        "  Retorna una tupla (esperanza, tiempo)\n",
        "  \"\"\"\n",
        "  inicio = time()\n",
        "  valores = [metodo() for _ in range(N)]\n",
        "  fin = time()\n",
        "  return round(sum(valores)/N, 9), round(fin - inicio, 6)\n",
        "\n",
        "print(\"Nombre               | Esperanza    | Tiempo\")\n",
        "print(f\"Transformada Inversa | {esperanza(ej7_tinv)}\")\n",
        "print(f\"Metodo de Rechazo    | {esperanza(ej7_metodo_rechazo)}\")\n"
      ],
      "metadata": {
        "colab": {
          "base_uri": "https://localhost:8080/"
        },
        "id": "BP1gDfYXGg6p",
        "outputId": "73013d92-a142-4158-cb48-e3136f142f2c"
      },
      "execution_count": 153,
      "outputs": [
        {
          "output_type": "stream",
          "name": "stdout",
          "text": [
            "Nombre               | Esperanza    | Tiempo\n",
            "Transformada Inversa | (1.721897813, 0.001682)\n",
            "Metodo de Rechazo    | (1.715358711, 0.007117)\n"
          ]
        }
      ]
    },
    {
      "cell_type": "markdown",
      "source": [
        "### c) Estime $P(X ≤ 2)$\n",
        "\n",
        "Estime la probabilidad $P(X ≤ 2)$ y compárela con el valor real."
      ],
      "metadata": {
        "id": "ipTMv6fgF__h"
      }
    },
    {
      "cell_type": "markdown",
      "source": [
        "#### Valor real\n",
        "\n",
        "Ya calculamos antes que\n",
        "$$\n",
        "F(x) =\n",
        "\\begin{cases}\n",
        "0  & \\text{si } x < 1, \\\\\n",
        "\\ln(x) & \\text{si } 1 \\leq x \\leq e, \\\\\n",
        "1 & \\text{si } x ≥ e, \\\\\n",
        "\\end{cases}\n",
        "$$\n",
        "\n",
        "por lo tanto\n",
        "\n",
        "$$\n",
        "P(X ≤ 2) = F(2) = ln(2) = 0,693147\n",
        "$$"
      ],
      "metadata": {
        "id": "W0SINFTTJ7sM"
      }
    },
    {
      "cell_type": "markdown",
      "source": [
        "#### Estimación"
      ],
      "metadata": {
        "id": "utY1fIGsKbMO"
      }
    },
    {
      "cell_type": "code",
      "source": [
        "import numpy as np\n",
        "\n",
        "def estimacion_prob(x, metodo, N=10_000):\n",
        "    \"\"\"\n",
        "    Estima P(metodo() <= x) usando N simulaciones.\n",
        "    \"\"\"\n",
        "    valores = [metodo() for _ in range(N)]\n",
        "    cuenta = sum(v <= x for v in valores)\n",
        "    return cuenta / N\n",
        "\n",
        "print(\"Metodo               | Estimacion\")\n",
        "print(f\"Transformada Inversa | {estimacion_prob(2, ej7_tinv)}\")\n",
        "print(f\"Metodo de Rechazo    | {estimacion_prob(2, ej7_metodo_rechazo)}\")\n",
        "print(f\"Valor Real           | {round(np.log(2), 4)}\")\n",
        ""
      ],
      "metadata": {
        "colab": {
          "base_uri": "https://localhost:8080/"
        },
        "id": "VkIkwnFMKeGD",
        "outputId": "5b272cfe-76bb-4b46-854f-eacdb5bbeb59"
      },
      "execution_count": 156,
      "outputs": [
        {
          "output_type": "stream",
          "name": "stdout",
          "text": [
            "Metodo               | Estimacion\n",
            "Transformada Inversa | 0.6961\n",
            "Metodo de Rechazo    | 0.6906\n",
            "Valor Real           | 0.6931\n"
          ]
        }
      ]
    },
    {
      "cell_type": "markdown",
      "source": [
        "## Ejercicio 8"
      ],
      "metadata": {
        "id": "mIdFzrECMK-r"
      }
    },
    {
      "cell_type": "markdown",
      "source": [
        "### a)\n",
        "\n",
        "Sean $U$ y $V$ dos variables aleatorias uniformes en (0,1) e independientes. Pruebe que la variable $X = U +V$ tiene una densidad triangular:\n",
        "\n",
        "$$\n",
        "f(x) =\n",
        "\\begin{cases}\n",
        "x,        & \\text{si } 0 \\leq x < 1, \\\\\n",
        "2 - x,    & \\text{si } 1 \\leq x < 2, \\\\\n",
        "0,        & \\text{en otro caso}.\n",
        "\\end{cases}\n",
        "$$\n"
      ],
      "metadata": {
        "id": "CtlzrjV5MTVi"
      }
    },
    {
      "cell_type": "markdown",
      "source": [
        "#### Demostración"
      ],
      "metadata": {
        "id": "YlW2uzO2NsR5"
      }
    },
    {
      "cell_type": "markdown",
      "source": [
        "Por def tenemos que $f_U(x) = 1$ y $f_V(x) = 1$.\n",
        "\n",
        "Por convolución tenemos que:\n",
        "\\begin{align*}\n",
        "f_X(t) & = ∫_{-∞}^∞ f_U(x)⋅f_V(y-x)\\ dx\\\\\n",
        "& = ∫_{-∞}^∞ I_{(0,1)}(x)⋅I_{(0,1)}(t-x)\\ dx\\\\\n",
        "\\end{align*}\n",
        "\n",
        "Notar que si $t-x \\in (0,1)$ entonces\n",
        "\\begin{align*}\n",
        "0 ≤ t-x ≤ 1 \\\\\n",
        "0 > x-t > -1 \\\\\n",
        "t > x > t-1 \\\\\n",
        "\\end{align*}\n",
        "entonces $x \\in (t-1, t)$ y seguimos:\n",
        "\\begin{align*}\n",
        "f_X(t)  & = ∫_{-∞}^∞ I_{(0,1)}(x)⋅I_{(0,1)}(t-x)\\ dx \\\\\n",
        "& = ∫_{-∞}^∞ I_{(0,1)}(x)⋅I_{(t-1,t)}(x)\\ dx \\\\\n",
        "\\end{align*}\n",
        "\n",
        "notar que\n",
        "\n",
        "$$\n",
        "I_{(0,1)}(x)⋅I_{(t-1,t)}(x) = 1\\ \\ sii\\ x\\in(0,1)\\cap(t-1,t)\n",
        "$$\n",
        "\n",
        "y $(0,1)\\cap(t-1,t)$ no es vacio solo si $ t\\in(0,2)$. Ahora por casos:\n",
        "\n",
        "Si $t \\in (0,1)$ entonces:\n",
        "$$\n",
        "(0,1)\\cap(t-1,t) = (0,t)\n",
        "$$\n",
        "\n",
        "Si $t \\in [1,2)$ entonces:\n",
        "$$\n",
        "(0,1)\\cap(t-1,t) = (t-1,1)\n",
        "$$\n",
        "\n",
        "Recapitulando tenemos que:\n",
        "\n",
        "Si $t \\in (0,1)$ entonces:\n",
        "\\begin{align*}\n",
        "f_X(t) & = ∫_{0}^t 1\\ dx \\\\\n",
        "& = [x]_0^t \\\\\n",
        "& = t - x \\\\\n",
        "& = t\n",
        "\\end{align*}\n",
        "\n",
        "Si $t \\in [1,2)$ entonces:\n",
        "\\begin{align*}\n",
        "f_X(t) & = ∫_{t-1}^1 1\\ dx \\\\\n",
        "& = [x]_{t-1}^1 \\\\\n",
        "& = 1 - (t-1) \\\\\n",
        "& = 1 - t + 1 \\\\\n",
        "& = 2 - t\n",
        "\\end{align*}\n",
        "\n",
        "entonces:\n",
        "\n",
        "$$\n",
        "f(x) =\n",
        "\\begin{cases}\n",
        "x,        & \\text{si } 0 \\leq x < 1, \\\\\n",
        "2 - x,    & \\text{si } 1 \\leq x < 2, \\\\\n",
        "0,        & \\text{en otro caso}.\n",
        "\\end{cases}\n",
        "$$\n"
      ],
      "metadata": {
        "id": "jyURYlW-NuNp"
      }
    },
    {
      "cell_type": "markdown",
      "source": [
        "### b)\n",
        "\n",
        "Desarrolle tres algoritmos que simulen la variable $X$:"
      ],
      "metadata": {
        "id": "uTjlG-OQMgWE"
      }
    },
    {
      "cell_type": "markdown",
      "source": [
        "#### i) Suma de dos uniformes"
      ],
      "metadata": {
        "id": "K_tJ3omyUYWU"
      }
    },
    {
      "cell_type": "markdown",
      "source": [
        "##### Código"
      ],
      "metadata": {
        "id": "N5YWgPXjUaCR"
      }
    },
    {
      "cell_type": "code",
      "source": [
        "from random import random\n",
        "\n",
        "def ej8_sum_unif():\n",
        "  return random() + random()"
      ],
      "metadata": {
        "id": "qyxdyPWKUb8h"
      },
      "execution_count": 159,
      "outputs": []
    },
    {
      "cell_type": "markdown",
      "source": [
        "##### Revisamos"
      ],
      "metadata": {
        "id": "em82kvpRbbSC"
      }
    },
    {
      "cell_type": "code",
      "source": [
        "import seaborn as sns\n",
        "import matplotlib.pyplot as plt\n",
        "\n",
        "def f(x):\n",
        "    return np.where(\n",
        "        (0 <= x) & (x < 2),\n",
        "         np.where(\n",
        "            (x < 1),\n",
        "            x,\n",
        "            2-x\n",
        "        ),\n",
        "        0\n",
        "    )\n",
        "\n",
        "x = np.linspace(0, 2, 1000)\n",
        "n_sim = int(1e5)\n",
        "s = np.empty(n_sim)\n",
        "for i in range(n_sim):\n",
        "  s[i]=ej8_sum_unif()\n",
        "\n",
        "\n",
        "sns.lineplot(x=x, y=f(x),color='red')\n",
        "sns.histplot(s, stat = 'density')\n",
        "plt.show()"
      ],
      "metadata": {
        "colab": {
          "base_uri": "https://localhost:8080/",
          "height": 430
        },
        "id": "yqF-zlW_bdoC",
        "outputId": "b48c6761-6428-45f6-b0fb-dfd97036ec98"
      },
      "execution_count": 160,
      "outputs": [
        {
          "output_type": "display_data",
          "data": {
            "text/plain": [
              "<Figure size 640x480 with 1 Axes>"
            ],
            "image/png": "[encoded data removed]"
          },
          "metadata": {}
        }
      ]
    },
    {
      "cell_type": "markdown",
      "source": [
        "#### ii) Transformada inversa"
      ],
      "metadata": {
        "id": "7-tZ-0vlUwFe"
      }
    },
    {
      "cell_type": "markdown",
      "source": [
        "##### Parte teorica"
      ],
      "metadata": {
        "id": "ezGoNzvFU2Rz"
      }
    },
    {
      "cell_type": "markdown",
      "source": [
        "Tenemos que calcular F(x), vamos por casos:\n",
        "\n",
        "Si $0 ≤ x < 1$\n",
        "\\begin{align*}\n",
        "F(x) & = ∫_{-∞}^x f(x) dx \\\\\n",
        "& = ∫_{0}^x x dx \\\\\n",
        "& = \\left[\\frac{x^2}{2} \\right]_0^x \\\\\n",
        "& = \\frac{x^2}{2} - \\frac{0^2}{2} \\\\\n",
        "& = \\frac{x^2}{2} \\\\\n",
        "\\end{align*}\n",
        "\n",
        "Si $1 ≤ x < 2$\n",
        "\\begin{align*}\n",
        "F(x) & = ∫_{-∞}^x f(x) dx \\\\\n",
        "& = ∫_{-∞}^{1} f(x) dx + ∫_{1}^x 2 - x\\ dx \\\\\n",
        "& = F(1) + ∫_{1}^x 2 - x\\ dx \\\\\n",
        "& = \\frac{1}{2}  + ∫_{1}^x 2 - x\\ dx \\\\\n",
        "& = \\frac{1}{2}  + ∫_{1}^x 2\\ dx - ∫_{1}^x x\\ dx \\\\\n",
        "& = \\frac{1}{2}  + 2 ⋅ [x]_0^x  - \\left[\\frac{x^2}{2} \\right]_1^x  \\\\\n",
        "& = \\frac{1}{2}  + 2 ⋅ (x-2)  - \\left(\\frac{x^2}{2} - \\frac{1^2}{2} \\right)  \\\\\n",
        "& = \\frac{1}{2}  + 2 ⋅ x - 2  - \\left(\\frac{x^2}{2} - \\frac{1}{2} \\right)  \\\\\n",
        "& = \\frac{1}{2}  + 2 ⋅ x - 2  - \\frac{x^2}{2} + \\frac{1}{2} \\\\\n",
        "& = - \\frac{x^2}{2} + 2x  - 1 \\\\\n",
        "\\end{align*}\n",
        "\n",
        "entonces:\n",
        "\n",
        "$$\n",
        "F(x) =\n",
        "\\begin{cases}\n",
        "\\frac{1}{2} x^2               & \\text{si } 0 \\leq x < 1, \\\\\n",
        "-\\frac{1}{2} x^2 + 2x  - 1    & \\text{si } 1 \\leq x < 2, \\\\\n",
        "0                             & \\text{en otro caso}.\n",
        "\\end{cases}\n",
        "$$\n",
        "\n",
        "> Revisemos: $F(2) = -\\frac{1}{2} 2^2 + 2\\cdot2 - 1 = -2 + 4 - 1 = 2-1 = 1$, esta bien.\n",
        "\n",
        "> Punto de quiebre: $F(1) = -\\frac{1}{2} 1^2 + 2 - 1  = -\\frac{1}{2} + 1 = 1/2$\n",
        "\n",
        "ahora nos queda igualar a $u$ una uniforme en el 0,1 y despejar x:\n",
        "\n",
        "Caso 1:\n",
        "\\begin{align*}\n",
        "\\frac{1}{2} x^2 & = u \\\\\n",
        "x^2 & = u⋅2 \\\\\n",
        "x & = \\sqrt{u⋅2} \\\\\n",
        "\\end{align*}\n",
        "\n",
        "Caso 2:\n",
        "\\begin{align*}\n",
        "-\\frac{1}{2} x^2 + 2x  - 1  & = u \\\\\n",
        "-\\frac{1}{2} x^2 + 2x (-1-u) & = 0 \\\\\n",
        "\\end{align*}\n",
        "\n",
        "aplicamos bhaskara con $a=(-\\frac{1}{2})$, $b=2$ y $c=(-1-u)$:\n",
        "\\begin{align*}\n",
        "x_i & = \\frac{-2 \\pm \\sqrt{2^2 - 4(-\\frac{1}{2})(-1-u)}}{2(-\\frac{1}{2})} \\\\\n",
        " & =\\frac{-2 \\pm \\sqrt{4 + 2(-1-u)}}{-1} \\\\\n",
        " & = -(-2 \\pm \\sqrt{4 + 2(-1-u)}) \\\\\n",
        " & = 2 \\pm \\sqrt{4-2(1+u)} \\\\\n",
        "\\end{align*}\n",
        "\n",
        "claramente si queremos que $x_i$ este en el intervalo $[1,2]$ devemos usar la formula $x = 2 - \\sqrt{4-2(1+u)}$\n",
        "\n"
      ],
      "metadata": {
        "id": "OJjQ3C_mU4X8"
      }
    },
    {
      "cell_type": "markdown",
      "source": [
        "##### Código"
      ],
      "metadata": {
        "id": "qL4R9i66U1po"
      }
    },
    {
      "cell_type": "code",
      "source": [
        "from random import random\n",
        "\n",
        "def ej8_tinv():\n",
        "  u = random()\n",
        "  if u < 0.5:\n",
        "    return (2*u)**0.5\n",
        "  else:\n",
        "    return 2 - (4-2*(1+u))**0.5\n"
      ],
      "metadata": {
        "id": "t8sMgCI_bEd3"
      },
      "execution_count": 166,
      "outputs": []
    },
    {
      "cell_type": "markdown",
      "source": [
        "##### Revisamos"
      ],
      "metadata": {
        "id": "xYb0UoihcDOG"
      }
    },
    {
      "cell_type": "code",
      "source": [
        "import seaborn as sns\n",
        "import matplotlib.pyplot as plt\n",
        "\n",
        "def f(x):\n",
        "    return np.where(\n",
        "        (0 <= x) & (x < 2),\n",
        "         np.where(\n",
        "            (x < 1),\n",
        "            x,\n",
        "            2-x\n",
        "        ),\n",
        "        0\n",
        "    )\n",
        "\n",
        "x = np.linspace(0, 2, 1000)\n",
        "n_sim = int(1e5)\n",
        "s = np.empty(n_sim)\n",
        "for i in range(n_sim):\n",
        "  s[i]=ej8_tinv()\n",
        "\n",
        "\n",
        "sns.lineplot(x=x, y=f(x),color='red')\n",
        "sns.histplot(s, stat = 'density')\n",
        "plt.show()"
      ],
      "metadata": {
        "colab": {
          "base_uri": "https://localhost:8080/",
          "height": 430
        },
        "id": "it8PiJ6ecD2X",
        "outputId": "a2d2fe9d-699d-41ca-8aaf-2f09ba2cb4a6"
      },
      "execution_count": 168,
      "outputs": [
        {
          "output_type": "display_data",
          "data": {
            "text/plain": [
              "<Figure size 640x480 with 1 Axes>"
            ],
            "image/png": "[encoded data removed]"
          },
          "metadata": {}
        }
      ]
    },
    {
      "cell_type": "markdown",
      "source": [
        "#### iii) Método de rechazo"
      ],
      "metadata": {
        "id": "wu1n_wbqcfG2"
      }
    },
    {
      "cell_type": "markdown",
      "source": [
        "##### Parte teorica"
      ],
      "metadata": {
        "id": "L3usgArtcy_h"
      }
    },
    {
      "cell_type": "markdown",
      "source": [
        "Claramente vamos a aproximar con $Y \\backsim U(0,2)$ (es lo más sensillo).\n",
        "\n",
        "Entonces $f_Y(x) = 1/2$ y si buscamos el $c$, tenemos que:\n",
        "\n",
        "$$\n",
        "\\frac{f(x)}{f_Y(x)} = 2 \\cdot f(x)\n",
        "$$\n",
        "\n",
        "claramente $c = 2$ ya que $f(x)$ es creciente en el 0,1 y el maximo es 1 y es decreiente en el 1,2 y el maximo es 1.\n",
        "\n",
        "En el metodo podemos simplificar:\n",
        "$$\n",
        "\\frac{f(y)}{c \\cdot f_Y(y)} = \\frac{f(y)}{2 \\cdot 1/2} = f(x)\n",
        "$$\n"
      ],
      "metadata": {
        "id": "tfKc_gxec1QC"
      }
    },
    {
      "cell_type": "markdown",
      "source": [
        "##### Código"
      ],
      "metadata": {
        "id": "Ozu149pWhhD7"
      }
    },
    {
      "cell_type": "code",
      "source": [
        "from random import random\n",
        "import math\n",
        "\n",
        "def ej8_f(x):\n",
        "  if x < 1:\n",
        "    return x\n",
        "  else:\n",
        "    return 2-x\n",
        "\n",
        "def uniforme(a,b):\n",
        "  return a + (b-a)*random()\n",
        "\n",
        "def ej8_metodo_rechazo():\n",
        "  while True:\n",
        "    y = uniforme(0,2)\n",
        "    u = random()\n",
        "    if u <= ej8_f(y):\n",
        "      return y"
      ],
      "metadata": {
        "id": "r3yoL4o9hkqh"
      },
      "execution_count": 169,
      "outputs": []
    },
    {
      "cell_type": "code",
      "source": [
        "ej8_metodo_rechazo()"
      ],
      "metadata": {
        "colab": {
          "base_uri": "https://localhost:8080/"
        },
        "id": "k0gKboF4h1M6",
        "outputId": "ded06e9d-5bbd-4ec6-b1c2-e2a1661ad181"
      },
      "execution_count": 170,
      "outputs": [
        {
          "output_type": "execute_result",
          "data": {
            "text/plain": [
              "0.7258876522206616"
            ]
          },
          "metadata": {},
          "execution_count": 170
        }
      ]
    },
    {
      "cell_type": "markdown",
      "source": [
        "##### Revisamos"
      ],
      "metadata": {
        "id": "JoIPDwith406"
      }
    },
    {
      "cell_type": "code",
      "source": [
        "import seaborn as sns\n",
        "import matplotlib.pyplot as plt\n",
        "\n",
        "def f(x):\n",
        "    return np.where(\n",
        "        (0 <= x) & (x < 2),\n",
        "         np.where(\n",
        "            (x < 1),\n",
        "            x,\n",
        "            2-x\n",
        "        ),\n",
        "        0\n",
        "    )\n",
        "\n",
        "x = np.linspace(0, 2, 1000)\n",
        "n_sim = int(1e5)\n",
        "s = np.empty(n_sim)\n",
        "for i in range(n_sim):\n",
        "  s[i]=ej8_metodo_rechazo()\n",
        "\n",
        "\n",
        "sns.lineplot(x=x, y=f(x),color='red')\n",
        "sns.histplot(s, stat = 'density')\n",
        "plt.show()"
      ],
      "metadata": {
        "colab": {
          "base_uri": "https://localhost:8080/",
          "height": 430
        },
        "id": "WFwmFnhMh5Y2",
        "outputId": "b490088f-1214-43ab-aa7a-c8830d7d572a"
      },
      "execution_count": 171,
      "outputs": [
        {
          "output_type": "display_data",
          "data": {
            "text/plain": [
              "<Figure size 640x480 with 1 Axes>"
            ],
            "image/png": "[encoded data removed]"
          },
          "metadata": {}
        }
      ]
    },
    {
      "cell_type": "markdown",
      "source": [
        "### c)  Comparación  🤔 🤔\n",
        "\n",
        "Compare la eficiencia de los tres algoritmos. Para cada caso, estimar el valor esperado promediando 10.000 valores simulados.\n",
        "\n",
        "¿Para qué valor $x_0$ se cumple que $P(X > x_0) = 0.125$?"
      ],
      "metadata": {
        "id": "fRgyJEmpMuas"
      }
    },
    {
      "cell_type": "code",
      "source": [
        "%%timeit\n",
        "ej8_sum_unif()"
      ],
      "metadata": {
        "colab": {
          "base_uri": "https://localhost:8080/"
        },
        "id": "uymW7BMujPXW",
        "outputId": "616a031f-98e8-40fd-ad4a-47bd6ae3a58f"
      },
      "execution_count": 174,
      "outputs": [
        {
          "output_type": "stream",
          "name": "stdout",
          "text": [
            "190 ns ± 71.5 ns per loop (mean ± std. dev. of 7 runs, 10000000 loops each)\n"
          ]
        }
      ]
    },
    {
      "cell_type": "code",
      "source": [
        "%%timeit\n",
        "ej8_tinv()"
      ],
      "metadata": {
        "colab": {
          "base_uri": "https://localhost:8080/"
        },
        "id": "_CT5Nw14jSzH",
        "outputId": "025644b3-f357-4758-b4b8-c068f8b053b6"
      },
      "execution_count": 178,
      "outputs": [
        {
          "output_type": "stream",
          "name": "stdout",
          "text": [
            "260 ns ± 7.08 ns per loop (mean ± std. dev. of 7 runs, 1000000 loops each)\n"
          ]
        }
      ]
    },
    {
      "cell_type": "code",
      "source": [
        "%%timeit\n",
        "ej8_metodo_rechazo()"
      ],
      "metadata": {
        "colab": {
          "base_uri": "https://localhost:8080/"
        },
        "id": "xj3VAjePjUx5",
        "outputId": "a4f9ed97-2888-4a9b-90d5-d80372ac3bcb"
      },
      "execution_count": 176,
      "outputs": [
        {
          "output_type": "stream",
          "name": "stdout",
          "text": [
            "675 ns ± 7.33 ns per loop (mean ± std. dev. of 7 runs, 1000000 loops each)\n"
          ]
        }
      ]
    },
    {
      "cell_type": "code",
      "source": [
        "from time import time\n",
        "\n",
        "def ej8_esperanza(metodo, N=10_000):\n",
        "  \"\"\"\n",
        "  Estima la esperanza de metodo() usando N simulaciones.\n",
        "\n",
        "  Retorna una tupla (esperanza, tiempo)\n",
        "  \"\"\"\n",
        "  inicio = time()\n",
        "  valores = [metodo() for _ in range(N)]\n",
        "  fin = time()\n",
        "  return round(sum(valores)/N, 9), round(fin - inicio, 6)\n",
        "\n",
        "print(\"Nombre               | Esperanza    | Tiempo\")\n",
        "print(f\"Suma de 2 unif       | {ej8_esperanza(ej8_sum_unif)}\")\n",
        "print(f\"Transformada Inversa | {ej8_esperanza(ej8_tinv)}\")\n",
        "print(f\"Metodo de Rechazo    | {ej8_esperanza(ej8_metodo_rechazo)}\")"
      ],
      "metadata": {
        "colab": {
          "base_uri": "https://localhost:8080/"
        },
        "id": "d1pBwWXZiwV3",
        "outputId": "c90f56be-046b-41b6-8180-4c78704eebda"
      },
      "execution_count": 177,
      "outputs": [
        {
          "output_type": "stream",
          "name": "stdout",
          "text": [
            "Nombre               | Esperanza    | Tiempo\n",
            "Suma de 2 unif       | (0.993936889, 0.001413)\n",
            "Transformada Inversa | (1.000904103, 0.004559)\n",
            "Metodo de Rechazo    | (1.00241919, 0.008378)\n"
          ]
        }
      ]
    },
    {
      "cell_type": "markdown",
      "source": [
        "### d)  🤔 🤔\n",
        "\n",
        "Compare la proporción de veces que el algoritmo devuelve un número mayor que $x_0$ con esta probabilidad.\n"
      ],
      "metadata": {
        "id": "j3ENCwjtM15i"
      }
    }
  ]
}