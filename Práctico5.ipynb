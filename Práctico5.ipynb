{
  "nbformat": 4,
  "nbformat_minor": 0,
  "metadata": {
    "colab": {
      "provenance": [],
      "collapsed_sections": [
        "9q44kG3i5U_4",
        "m59Bkc2X5tVu",
        "_cCHRT9m6vJ_",
        "MG7GRv426Vkj",
        "oAQ8q3fqr4BP",
        "9syiuZx96ixr",
        "8y6mlkKyfizw",
        "Hotdq-IBk4wY",
        "jm3K-9z1XzXm",
        "2MdCwYZ0YnYu",
        "nAaUn8wphTxr",
        "2jOiA1osylh8",
        "-PQzNwCS5N3J"
      ],
      "toc_visible": true,
      "authorship_tag": "ABX9TyPHvy7s2fzHc70dISmHpLBA",
      "include_colab_link": true
    },
    "kernelspec": {
      "name": "python3",
      "display_name": "Python 3"
    },
    "language_info": {
      "name": "python"
    }
  },
  "cells": [
    {
      "cell_type": "markdown",
      "metadata": {
        "id": "view-in-github",
        "colab_type": "text"
      },
      "source": [
        "<a href=\"https://colab.research.google.com/github/ramiro-l/ModelosYSimulacionFAMAF/blob/main/Pr%C3%A1ctico5.ipynb\" target=\"_parent\"><img src=\"https://colab.research.google.com/assets/colab-badge.svg\" alt=\"Open In Colab\"/></a>"
      ]
    },
    {
      "cell_type": "markdown",
      "source": [
        "# PRÁCTICO 5"
      ],
      "metadata": {
        "id": "NQvcFixb5ZsA"
      }
    },
    {
      "cell_type": "markdown",
      "source": [
        "## Ejercicio 1\n",
        "\n",
        "Desarrolle un método para generar una variable aleatoria cuya densidad de probabilidad es:"
      ],
      "metadata": {
        "id": "9q44kG3i5U_4"
      }
    },
    {
      "cell_type": "markdown",
      "source": [
        "### a)\n",
        "\n",
        "$$\n",
        "f(x) =\n",
        "\\begin{cases}\n",
        "\\frac{x-2}{2} & \\text{si } 2 \\leq x \\leq 3 \\\\\n",
        "\\frac{2 - x/3}{2} & \\text{si } 3 \\leq x \\leq 6 \\\\\n",
        "0 & \\text{en otro caso}\n",
        "\\end{cases}\n",
        "$$"
      ],
      "metadata": {
        "id": "m59Bkc2X5tVu"
      }
    },
    {
      "cell_type": "markdown",
      "source": [
        "#### Parte Teorica"
      ],
      "metadata": {
        "id": "TBCXGzLxnAxb"
      }
    },
    {
      "cell_type": "markdown",
      "source": [
        "Para poder usar transformada inversa tengo que encontrar su $F(x)$, para ello tengo que calcular $\\int_{-∞}^{x}f(x)dx$.\n",
        "\n",
        "\n",
        "Si $-∞≤x≤2$\n",
        "\\begin{align}\n",
        "\\int_{-∞}^{x}f(x)dx & = 0\n",
        "\\end{align}\n",
        "\n",
        "\n",
        "Si $2≤x≤3$\n",
        "\\begin{align}\n",
        "\\int_{-∞}^{x}f(x)dx & = \\int_{-∞}^{x}(x-2)/2dx \\\\\n",
        "& = \\frac{x^{2}}{4}-x+1\n",
        "\\end{align}\n",
        "\n",
        "Si $3≤x≤6$\n",
        "\\begin{align}\n",
        "\\int_{-∞}^{x}f(x)dx & = \\int_{2}^{3}f(x)dx + \\int_{3}^{6}f(x)dx \\\\\n",
        "& = \\frac{3^{2}}{4}-3+1 + \\int_{3}^{6}f(x) \\\\\n",
        "& = \\frac{-x^{2}}{12}+x-2\n",
        "\\end{align}\n",
        "\n",
        "Entonces nos queda que:\n",
        "\n",
        "$$\n",
        "F(x) =\n",
        "\\begin{cases}\n",
        "0 & \\text{si } x \\le 2 \\\\\n",
        "\\frac{x^{2}}{4}-x+1 & \\text{si } 2 \\le x \\le 3 \\\\\n",
        "\\frac{-x^{2}}{12}+x-2 & \\text{si } 3 \\le x \\le 6 \\\\\n",
        "1 & \\text{si } x \\ge 6\n",
        "\\end{cases}\n",
        "$$\n",
        "\n",
        "Notar que el punto de quiebre es en\n",
        "\n",
        "$$\n",
        "F(3) = \\frac{3^{2}}{4}-3+1 = \\frac{9}{4}-2 = \\frac{1}{4}\n",
        "$$\n",
        "\n",
        "Ahora queda calcular $F^{-1}$ por partes igualando a $u$ una uniforme en el $0,1$.\n",
        "\n",
        "> Recordar **Bhaskara**:\n",
        ">\n",
        "> Si $ax^{2} + bx + c = 0$ tenemos que las raices son\n",
        "> $$ x_1 = \\frac{-b + \\sqrt{b^2 - 4ac}}{2a}\\ \\ \\ \\ y\\ \\ \\ \\ x_2 = \\frac{-b - \\sqrt{b^2 - 4ac}}{2a}$$\n",
        "\n",
        "Tenemos que despejar:\n",
        "\n",
        "$$\n",
        "u = \\frac{x^{2}}{4}-x+1 \\ \\ \\ \\ (1)\n",
        "$$\n",
        "y\n",
        "$$\n",
        "u = \\frac{-x^{2}}{12}+x-2 \\ \\ \\ \\ (2)\n",
        "$$\n",
        "\n",
        "Veamos (1)\n",
        "\n",
        "\\begin{align}\n",
        "u & = \\frac{x^{2}}{4}-x+1 \\\\\n",
        "0 & = \\frac{x^{2}}{4}-x+(1-u) \\\\\n",
        "0 & = \\frac{1}{4} \\cdot x^{2}+(-1) \\cdot x+(1-u)\n",
        "\\end{align}\n",
        "\n",
        "entonces $a=\\frac{1}{4}$, $b=-1$ y $c=1-u$\n",
        "\n",
        "\\begin{align}\n",
        "x_i & = \\frac{-(-1) \\pm \\sqrt{(-1)^2 - 4\\frac{1}{4}(1-u)}}{2\\frac{1}{4}} \\\\\n",
        "x_i & = \\frac{1 \\pm \\sqrt{1 - 1+u}}{\\frac{1}{2}} \\\\\n",
        "x_i & = (1 \\pm \\sqrt{u})\\cdot2 \\\\\n",
        "\\end{align}\n",
        "\n",
        "entonces\n",
        "\n",
        "$$\n",
        "x_1 = 2 + 2\\cdot\\sqrt{u} \\ \\ \\ \\ \\ \\ y \\ \\ \\ \\ \\ \\ x_2 = 2 - 2\\cdot\\sqrt{u}\n",
        "$$\n",
        "\n",
        "Como $x_1$ toma valores entre el $[2,4]$ y $x_2$ toma valores en el $[0,2]$ usamos $x_1$\n",
        "\n",
        "Veamos (2)\n",
        "\n",
        "\\begin{align}\n",
        "u & = \\frac{-x^{2}}{12}+x-2  \\\\\n",
        "0 & = \\frac{-x^{2}}{12}+x-2-u  \\\\\n",
        "0 & = \\frac{-1}{12} \\cdot x^{2}+x+(-2-u)  \\\\\n",
        "\\end{align}\n",
        "\n",
        "entonces $a=\\frac{-1}{12}$, $b=1$ y $c=(-2-u)$ por lo tanto\n",
        "\n",
        "\\begin{align}\n",
        "x_i & =  \\frac{-1 \\pm \\sqrt{1^2 - 4(\\frac{-1}{12})(-2-u)}}{2(\\frac{-1}{12})} \\\\\n",
        "x_i & =  \\frac{-1 \\pm \\sqrt{1 - \\frac{2+u}{3}}}{\\frac{-1}{6}} \\\\\n",
        "x_i & =  6 \\pm 6 \\cdot \\sqrt{ 1 - \\frac{2+u}{3} } \\\\\n",
        "x_i & =  6 \\pm 6 \\cdot \\sqrt{ 1 - \\frac{2}{3} - \\frac{u}{3} } \\\\\n",
        "x_i & =  6 \\pm 6 \\cdot \\sqrt{ \\frac{1}{3} - \\frac{u}{3} } \\\\\n",
        "x_i & =  6 \\pm 6 \\cdot \\sqrt{\\frac{1 - u}{3}} \\\\\n",
        "x_i & =  6 \\pm 2 \\cdot 3 \\cdot \\sqrt{\\frac{1 - u}{3}} \\\\\n",
        "x_i & =  6 \\pm 2 \\cdot \\sqrt{9} \\cdot \\sqrt{\\frac{1 - u}{3}} \\\\\n",
        "x_i & =  6 \\pm 2 \\cdot \\sqrt{9\\cdot(\\frac{1 - u}{3})} \\\\\n",
        "x_i & =  6 \\pm 2 \\cdot \\sqrt{3\\cdot(1 - u)} \\\\\n",
        "\\end{align}\n",
        "\n",
        "entonces\n",
        "\n",
        "$$\n",
        "x_1 = 6 - 2 \\cdot \\sqrt{3\\cdot(1 - u)}  \\ \\ \\ \\ \\ \\ y \\ \\ \\ \\ \\ \\ x_2 = 6 + 2 \\cdot \\sqrt{3\\cdot(1 - u)}\n",
        "$$\n",
        "\n",
        "Como $x_1$ toma valores aproximadamente entre el $[2.5,6]$ y $x_2$ toma valores en el $[6,8.5]$ usamos $x_1$\n",
        "\n",
        "\n",
        "\n"
      ],
      "metadata": {
        "id": "qhAFA_EqBTPe"
      }
    },
    {
      "cell_type": "code",
      "source": [
        "import numpy as np\n",
        "import matplotlib.pyplot as plt\n",
        "\n",
        "# Definición de f(x)\n",
        "def f(x):\n",
        "    return np.where(\n",
        "        (2 <= x) & (x <= 3),\n",
        "        (x - 2) / 2,\n",
        "        np.where(\n",
        "            (3 < x) & (x <= 6),\n",
        "            (2 - x / 3) / 2,\n",
        "            0\n",
        "        )\n",
        "    )\n",
        "\n",
        "# Definición de F(x)\n",
        "def F(x):\n",
        "    return np.where(\n",
        "        (x <= 2),\n",
        "        0,\n",
        "        np.where(\n",
        "            (x <= 3),\n",
        "            (x**2)/4 - x + 1,\n",
        "            np.where(\n",
        "                (x <= 6),\n",
        "                -x**2/12 + x - 2,\n",
        "                1\n",
        "            )\n",
        "        )\n",
        "    )\n",
        "\n",
        "# Definición de F_inv(x)\n",
        "def F_inv(x):\n",
        "    return np.where(\n",
        "        (x <= 1/4),\n",
        "        2 + 2 * np.sqrt(x),\n",
        "        np.where(\n",
        "            (x <= 1),\n",
        "            6 - 2 * np.sqrt(np.maximum(0, 3 * (1 - x))),\n",
        "            np.nan\n",
        "        )\n",
        "    )\n",
        "\n",
        "\n",
        "# Dominio común\n",
        "x = np.linspace(0, 10, 500)\n",
        "\n",
        "# Evaluar funciones\n",
        "y_f = f(x)\n",
        "y_F = F(x)\n",
        "y_F_inv = F_inv(x)\n",
        "\n",
        "plt.figure(figsize=(8, 5))\n",
        "plt.plot(x, y_f, label=\"f(x)\")\n",
        "plt.plot(x, y_F, label=\"F(x))\")\n",
        "plt.plot(x, y_F_inv, label=\"F_inv(x)\")\n",
        "\n",
        "\n",
        "plt.title(\"Todas las funciones\")\n",
        "plt.xlabel(\"x\")\n",
        "plt.ylabel(\"y\")\n",
        "plt.legend()\n",
        "plt.grid(True)\n",
        "plt.show()"
      ],
      "metadata": {
        "colab": {
          "base_uri": "https://localhost:8080/",
          "height": 487
        },
        "id": "hmQalHFM1jIE",
        "outputId": "bd531cc8-dc8d-4285-b96f-96fb8d4cc04d"
      },
      "execution_count": null,
      "outputs": [
        {
          "output_type": "display_data",
          "data": {
            "text/plain": [
              "<Figure size 800x500 with 1 Axes>"
            ],
            "image/png": "[encoded data removed]"
          },
          "metadata": {}
        }
      ]
    },
    {
      "cell_type": "markdown",
      "source": [
        "#### Código"
      ],
      "metadata": {
        "id": "_cCHRT9m6vJ_"
      }
    },
    {
      "cell_type": "code",
      "source": [
        "from random import random\n",
        "\n",
        "def f_tinv():\n",
        "  u = random()\n",
        "  if u < 0.25:\n",
        "    return 2 + 2*np.sqrt(u)\n",
        "  else:\n",
        "    return 6 - 2*np.sqrt(3*(1-u))\n"
      ],
      "metadata": {
        "id": "XRAkQK0g6UII"
      },
      "execution_count": null,
      "outputs": []
    },
    {
      "cell_type": "code",
      "source": [
        "f_tinv()"
      ],
      "metadata": {
        "colab": {
          "base_uri": "https://localhost:8080/"
        },
        "id": "tJ45FYhk6xGt",
        "outputId": "c6f35795-6745-47af-c801-b6b206755afb"
      },
      "execution_count": null,
      "outputs": [
        {
          "output_type": "execute_result",
          "data": {
            "text/plain": [
              "np.float64(5.144761229090943)"
            ]
          },
          "metadata": {},
          "execution_count": 26
        }
      ]
    },
    {
      "cell_type": "markdown",
      "source": [
        "#### Revisamos\n",
        "Revisamos que o generado corresponfa con la distibución deseada:"
      ],
      "metadata": {
        "id": "HNx5WvVB6-pn"
      }
    },
    {
      "cell_type": "code",
      "source": [
        "import seaborn as sns\n",
        "import matplotlib.pyplot as plt\n",
        "\n",
        "def f(x):\n",
        "    return np.where(\n",
        "        (2 <= x) & (x <= 3),\n",
        "        (x - 2) / 2,\n",
        "        np.where(\n",
        "            (3 < x) & (x <= 6),\n",
        "            (2 - x / 3) / 2,\n",
        "            0\n",
        "        )\n",
        "    )\n",
        "\n",
        "x = np.linspace(2, 6, 1000) # Genero el intervalo\n",
        "n_sim = int(1e5)\n",
        "s = np.empty(n_sim)\n",
        "for i in range(n_sim):\n",
        "  s[i]=f_tinv()\n",
        "\n",
        "\n",
        "sns.lineplot(x=x, y=f(x),color='red')\n",
        "sns.histplot(s, stat = 'density')\n",
        "plt.show()"
      ],
      "metadata": {
        "colab": {
          "base_uri": "https://localhost:8080/",
          "height": 430
        },
        "id": "lyexY7QQ7KsB",
        "outputId": "662023ec-528e-4cad-b2e9-c888a1925faa"
      },
      "execution_count": null,
      "outputs": [
        {
          "output_type": "display_data",
          "data": {
            "text/plain": [
              "<Figure size 640x480 with 1 Axes>"
            ],
            "image/png": "[encoded data removed]"
          },
          "metadata": {}
        }
      ]
    },
    {
      "cell_type": "markdown",
      "source": [
        "### b)\n",
        "\n",
        "$$\n",
        "f(x) =\n",
        "\\begin{cases}\n",
        "\\frac{6(x+3)}{35} & \\text{si } 0 \\leq x \\leq 1 \\\\\n",
        "\\frac{6x^2}{35} & \\text{si } 1 \\leq x \\leq 2 \\\\\n",
        "0 & \\text{en otro caso}\n",
        "\\end{cases}\n",
        "$$"
      ],
      "metadata": {
        "id": "MG7GRv426Vkj"
      }
    },
    {
      "cell_type": "markdown",
      "source": [
        "#### Parte teorica"
      ],
      "metadata": {
        "id": "O1EfPCw8lFs3"
      }
    },
    {
      "cell_type": "code",
      "source": [
        "import numpy as np\n",
        "import matplotlib.pyplot as plt\n",
        "\n",
        "def f(x):\n",
        "    return np.where(\n",
        "        (x <= 0),\n",
        "        0,\n",
        "        np.where(\n",
        "            (x <= 1),\n",
        "            (6 * (x + 3)) / 35,\n",
        "            np.where(\n",
        "                (x <= 2),\n",
        "                (6 * x**2)/ 35,\n",
        "                0\n",
        "            )\n",
        "        )\n",
        "    )\n",
        "\n",
        "x = np.linspace(0, 10, 500)\n",
        "y_f = f(x)\n",
        "\n",
        "plt.figure(figsize=(3, 2))\n",
        "plt.plot(x, y_f)\n",
        "plt.xlabel(\"x\")\n",
        "plt.ylabel(\"f(x)\")\n",
        "plt.grid(True)\n",
        "plt.show()"
      ],
      "metadata": {
        "colab": {
          "base_uri": "https://localhost:8080/",
          "height": 234
        },
        "id": "d0pID2f1sDe7",
        "outputId": "66b7a7da-ab5f-4917-d536-91d6ef03f2a7"
      },
      "execution_count": null,
      "outputs": [
        {
          "output_type": "display_data",
          "data": {
            "text/plain": [
              "<Figure size 300x200 with 1 Axes>"
            ],
            "image/png": "[encoded data removed]"
          },
          "metadata": {}
        }
      ]
    },
    {
      "cell_type": "markdown",
      "source": [
        "\n",
        "> Aclaración: No voy a ir con tanto detalle, el procedimiento es similar a la parte a).\n",
        "\n",
        "Calculo $F(x)$ por partes:\n",
        "\n",
        "Si $-∞≤x≤0$\n",
        "\\begin{align}\n",
        "\\int_{-∞}^{x}f(x)dx & = 0\n",
        "\\end{align}\n",
        "\n",
        "Si $0≤x≤1$\n",
        "\\begin{align}\n",
        "\\int_{-∞}^{x}f(x)dx & = \\int_{0}^{x} \\frac{6(x+3)}{35}dx \\\\\n",
        "& =  \\frac{6}{35} ⋅ \\int_{0}^{x} (x+3)dx \\\\\n",
        "& =  \\frac{6}{35} ⋅ \\left[\\frac{x^2}{2}+3x\\right]_0^x \\\\\n",
        "& =  \\frac{6}{35} ⋅ \\left(\\left(\\frac{x^2}{2}+3x\\right) - \\left(\\frac{0^2}{2}+3\\cdot0\\right)\\right)\\\\\n",
        "& =  \\frac{6}{35} ⋅ \\left(\\frac{x^2}{2}+3x\\right) \\\\\n",
        "& =  \\frac{6}{35} ⋅ \\frac{x^2}{2}+ \\frac{6}{35} ⋅ 3x \\\\\n",
        "& =  \\frac{3}{35} ⋅ x^2+ \\frac{18}{35} ⋅ x \\\\\n",
        "& =  \\frac{3}{35} ⋅ x^2+ \\frac{18}{35} ⋅ x \\\\\n",
        "\\end{align}\n",
        "\n",
        "Si $1≤x≤2$\n",
        "\\begin{align}\n",
        "\\int_{-∞}^{x}f(x)dx & = \\int_{0}^{1}f(x)dx + \\int_{1}^{x} \\frac{6x^2}{35} dx \\\\\n",
        "& = \\frac{3}{35} ⋅ 1^2+ \\frac{18}{35} ⋅ 1+ \\int_{1}^{x} \\frac{6x^2}{35} dx \\\\\n",
        "& = \\frac{21}{35} + \\int_{1}^{x} \\frac{6x^2}{35} dx \\\\\n",
        "& = \\frac{21}{35}  + \\frac{6}{35} \\cdot \\int_{1}^{x} x^2 dx \\\\\n",
        "& = \\frac{21}{35}  + \\frac{6}{35} ⋅ \\left[\\frac{x^3}{3}\\right]_1^x \\\\\n",
        "& =  \\frac{21}{35}  + \\frac{6}{35} ⋅ \\left(\\left(\\frac{x^3}{3}\\right) - \\left(\\frac{1^3}{3}\\right)\\right)\\\\\n",
        "& =  \\frac{21}{35}  + \\frac{6}{35} ⋅ \\left(\\left(\\frac{x^3}{3}\\right) - \\left(\\frac{1}{3}\\right)\\right)\\\\\n",
        "& = \\frac{21}{35}  + \\frac{6}{35} ⋅ \\frac{x^3}{3} - \\frac{6}{35} ⋅ \\frac{1}{3}\\\\\n",
        "& =\\frac{21}{35}  + \\frac{2}{35} ⋅ x^3 - \\frac{2}{35} \\\\\n",
        "& = \\frac{2}{35} ⋅ x^3 + \\frac{19}{35} \\\\\n",
        "\\end{align}\n",
        "\n",
        "> Revisar que F(2) sea 1:\n",
        "> $$\\frac{2}{35} ⋅ 2^3 + \\frac{19}{35} = \\frac{16}{35} + \\frac{19}{35} = \\frac{53}{35} = 1$$\n",
        "\n",
        "entonces F(x) queda definida por:\n",
        "\n",
        "\n",
        "$$\n",
        "F(x) =\n",
        "\\begin{cases}\n",
        "0 & \\text{si } x < 0 \\\\\n",
        "\\frac{3}{35} ⋅ x^2+ \\frac{18}{35} ⋅ x  & \\text{si } 0 \\le x \\le 1 \\\\\n",
        "\\frac{2}{35} ⋅ x^3 + \\frac{19}{35} & \\text{si } 1 < x \\le 2 \\\\\n",
        "1 & \\text{si } x > 2\n",
        "\\end{cases}\n",
        "$$\n",
        "\n",
        "y el punto de quiebre es en:\n",
        "\n",
        "$$\n",
        "F(1) = \\frac{3}{35} ⋅ 1^2+ \\frac{18}{35} ⋅ 1 = \\frac{3}{35}+ \\frac{18}{35} = \\frac{21}{35} = \\frac{3}{5}\n",
        "$$\n",
        "\n",
        "\n",
        "\n"
      ],
      "metadata": {
        "id": "T0HAFhoM8KA0"
      }
    },
    {
      "cell_type": "code",
      "source": [
        "import numpy as np\n",
        "import matplotlib.pyplot as plt\n",
        "\n",
        "def F(x):\n",
        "    return np.where(\n",
        "        (x <= 0),\n",
        "        0,\n",
        "        np.where(\n",
        "            (x <= 1),\n",
        "            (3 / 35) * x**2 + (18 / 35) * x,\n",
        "            np.where(\n",
        "                (x <= 2),\n",
        "                (2 / 35) * x**3 + (19 / 35),\n",
        "                1\n",
        "            )\n",
        "        )\n",
        "    )\n",
        "\n",
        "x = np.linspace(0, 10, 500)\n",
        "y_F = F(x)\n",
        "\n",
        "plt.figure(figsize=(3, 2))\n",
        "plt.plot(x, y_F)\n",
        "plt.xlabel(\"x\")\n",
        "plt.ylabel(\"F(x)\")\n",
        "plt.grid(True)\n",
        "plt.show()"
      ],
      "metadata": {
        "colab": {
          "base_uri": "https://localhost:8080/",
          "height": 234
        },
        "id": "RviZ-FQCDSnQ",
        "outputId": "77c6d980-e0b0-455a-9993-88dc8aaab7d2"
      },
      "execution_count": null,
      "outputs": [
        {
          "output_type": "display_data",
          "data": {
            "text/plain": [
              "<Figure size 300x200 with 1 Axes>"
            ],
            "image/png": "[encoded data removed]"
          },
          "metadata": {}
        }
      ]
    },
    {
      "cell_type": "markdown",
      "source": [
        "Ahora queda despejar la $x$ de:\n",
        "\n",
        "$$\n",
        "u = F(x)\n",
        "$$\n",
        "\n",
        "Si $0≤x≤1$\n",
        "\\begin{align}\n",
        "u & = F(x) \\\\\n",
        "u & = \\frac{3}{35} ⋅ x^2+ \\frac{18}{35} ⋅ x \\\\\n",
        "u & = \\frac{1}{35} \\cdot \\left( 3 ⋅ x^2+ 18 ⋅ x \\right) \\\\\n",
        "u \\cdot 35 & =  3 ⋅ x^2+ 18 ⋅ x  \\\\\n",
        "0 & =  3 ⋅ x^2+ 18 ⋅ x - u \\cdot 35  \\\\\n",
        "\\end{align}\n",
        "\n",
        "Ahora buscamos las raices con $a=3$ , $b=18$ y $c=(-u\\cdot35)$:\n",
        "\n",
        "\\begin{align}\n",
        "x_i & = \\frac{-18 \\pm \\sqrt{18^2 - 4\\cdot3(-u⋅35)}}{2\\cdot3} \\\\\n",
        " & = \\frac{-18 \\pm \\sqrt{18^2 + 4⋅3⋅35⋅u}}{6} \\\\\n",
        " & = \\frac{-18 \\pm \\sqrt{324 + 420⋅u}}{6} \\\\\n",
        " & = -\\frac{18}{6} \\pm \\frac{\\sqrt{324 + 420⋅u}}{6}  \\\\\n",
        " & = -3 \\pm \\frac{\\sqrt{324 + 420⋅u}}{6}  \\\\\n",
        "\\end{align}\n",
        "\n",
        "Claramente debemos tomar $x_2 =-3 + \\frac{\\sqrt{324 + 420⋅u}}{6}$ para que x este en el intervalor $(0,1)$.\n",
        "\n",
        "Si $1 < x ≤ 2$\n",
        "\n",
        "\\begin{align}\n",
        "u & = F(x) \\\\\n",
        "u & = \\frac{2}{35} ⋅ x^3 + \\frac{19}{35} \\\\\n",
        "u - \\frac{19}{35} & =  x^3 \\\\\n",
        "\\left(u - \\frac{19}{35}\\right)⋅\\frac{35}{2} & =  x^3 \\\\\n",
        "\\sqrt[3]{\\left(u - \\frac{19}{35}\\right)⋅\\frac{35}{2}} & =  x \\\\\n",
        "\\sqrt[3]{u\\cdot\\frac{35}{2} - \\frac{19}{35}⋅\\frac{35}{2}} & =  x \\\\\n",
        "\\sqrt[3]{u\\cdot\\frac{35}{2} - \\frac{19}{2}} & =  x\n",
        "\\end{align}\n",
        "\n",
        "\n"
      ],
      "metadata": {
        "id": "5_w40IyHDuro"
      }
    },
    {
      "cell_type": "code",
      "source": [
        "import numpy as np\n",
        "import matplotlib.pyplot as plt\n",
        "\n",
        "def F_1_inv(x):\n",
        "    return np.where(\n",
        "        (x <= 3/5),\n",
        "        -3 + np.sqrt(324 + 420 * x) / 6,\n",
        "        np.nan\n",
        "    )\n",
        "\n",
        "def F_2_inv(x):\n",
        "    return np.where(\n",
        "        (x > 3/5) & (x <= 1),\n",
        "        (x*(35/2)-(19/2))**(1/3),\n",
        "        np.nan\n",
        "    )\n",
        "\n",
        "\n",
        "# Dominio común\n",
        "x = np.linspace(0, 1, 1000)\n",
        "\n",
        "# Evaluar funciones\n",
        "y_F_1_inv = F_1_inv(x)\n",
        "y_F_2_inv = F_2_inv(x)\n",
        "\n",
        "plt.figure(figsize=(3, 2))\n",
        "plt.plot(x, y_F_1_inv, label=\"F_1_inv(x)\")\n",
        "plt.plot(x, y_F_2_inv, label=\"F_2_inv(x))\")\n",
        "\n",
        "plt.title(\"F_inv\")\n",
        "plt.xlabel(\"x\")\n",
        "plt.ylabel(\"y\")\n",
        "plt.legend()\n",
        "plt.grid(True)\n",
        "plt.show()"
      ],
      "metadata": {
        "colab": {
          "base_uri": "https://localhost:8080/",
          "height": 291
        },
        "id": "mFjrZKOBoVhe",
        "outputId": "03b134b5-d69b-4367-fef5-4e35726fffc5"
      },
      "execution_count": null,
      "outputs": [
        {
          "output_type": "stream",
          "name": "stderr",
          "text": [
            "<ipython-input-33-dfe16280da14>:14: RuntimeWarning: invalid value encountered in power\n",
            "  (x*(35/2)-(19/2))**(1/3),\n"
          ]
        },
        {
          "output_type": "display_data",
          "data": {
            "text/plain": [
              "<Figure size 300x200 with 1 Axes>"
            ],
            "image/png": "[encoded data removed]"
          },
          "metadata": {}
        }
      ]
    },
    {
      "cell_type": "markdown",
      "source": [
        "#### Código"
      ],
      "metadata": {
        "id": "s053ndWurA7w"
      }
    },
    {
      "cell_type": "code",
      "source": [
        "from random import random\n",
        "import numpy as np\n",
        "\n",
        "def f_tinv_ejb():\n",
        "  u = random()\n",
        "  if u <= 3/5:\n",
        "    return -3 + np.sqrt(324 + 420 * u) / 6\n",
        "  else:\n",
        "    return ((u*35-19)/2)**(1/3)"
      ],
      "metadata": {
        "id": "xphvN1EwrC_J"
      },
      "execution_count": null,
      "outputs": []
    },
    {
      "cell_type": "code",
      "source": [
        "f_tinv_ejb()"
      ],
      "metadata": {
        "colab": {
          "base_uri": "https://localhost:8080/"
        },
        "id": "585McGpOrudu",
        "outputId": "a8014096-14dd-41c6-fdb8-760b46bad7d7"
      },
      "execution_count": null,
      "outputs": [
        {
          "output_type": "execute_result",
          "data": {
            "text/plain": [
              "np.float64(0.14405591049286715)"
            ]
          },
          "metadata": {},
          "execution_count": 22
        }
      ]
    },
    {
      "cell_type": "markdown",
      "source": [
        "#### Revisamos\n",
        "\n",
        "Revisamos que lo generado corresponda con la distibución deseada:"
      ],
      "metadata": {
        "id": "oAQ8q3fqr4BP"
      }
    },
    {
      "cell_type": "code",
      "source": [
        "import seaborn as sns\n",
        "import matplotlib.pyplot as plt\n",
        "import numpy as np\n",
        "\n",
        "def f(x):\n",
        "    return np.where(\n",
        "        (x <= 0),\n",
        "        0,\n",
        "        np.where(\n",
        "            (x <= 1),\n",
        "            (6 * (x + 3)) / 35,\n",
        "            np.where(\n",
        "                (x <= 2),\n",
        "                (6 * x**2)/ 35,\n",
        "                0\n",
        "            )\n",
        "        )\n",
        "    )\n",
        "\n",
        "x = np.linspace(-0.5, 2.5, 1000)\n",
        "n_sim = int(4e5)\n",
        "s = np.empty(n_sim)\n",
        "for i in range(n_sim):\n",
        "  s[i]=f_tinv_ejb()\n",
        "\n",
        "\n",
        "sns.lineplot(x=x, y=f(x),color='red')\n",
        "sns.histplot(s, stat = 'density')\n",
        "plt.show()"
      ],
      "metadata": {
        "colab": {
          "base_uri": "https://localhost:8080/",
          "height": 430
        },
        "id": "bbqzkDMOr5DP",
        "outputId": "cdc40239-2bdf-4407-98dc-6f3949c2e81e"
      },
      "execution_count": null,
      "outputs": [
        {
          "output_type": "display_data",
          "data": {
            "text/plain": [
              "<Figure size 640x480 with 1 Axes>"
            ],
            "image/png": "[encoded data removed]"
          },
          "metadata": {}
        }
      ]
    },
    {
      "cell_type": "markdown",
      "source": [
        "### c)\n",
        "\n",
        "$$\n",
        "f(x) =\n",
        "\\begin{cases}\n",
        "\\frac{e^{4x}}{4} & \\text{si } -\\infty < x \\leq 0 \\\\\n",
        "\\frac{1}{4} & \\text{si } 0 < x \\leq \\frac{15}{4} \\\\\n",
        "0 & \\text{en otro caso}\n",
        "\\end{cases}\n",
        "$$"
      ],
      "metadata": {
        "id": "9syiuZx96ixr"
      }
    },
    {
      "cell_type": "markdown",
      "source": [
        "#### Parte teorica\n",
        "\n",
        "Echa en papel, es facil."
      ],
      "metadata": {
        "id": "od2F978onDVb"
      }
    },
    {
      "cell_type": "markdown",
      "source": [
        "#### Código"
      ],
      "metadata": {
        "id": "8y6mlkKyfizw"
      }
    },
    {
      "cell_type": "code",
      "source": [
        "from random import random\n",
        "import numpy as np\n",
        "\n",
        "def f_tinv_ejc():\n",
        "  u = random()\n",
        "  if u <= 1/16:\n",
        "    return np.log(16*u)/4\n",
        "  else:\n",
        "    return 4*u-1/4\n"
      ],
      "metadata": {
        "id": "5LYNLOYwdu6R"
      },
      "execution_count": null,
      "outputs": []
    },
    {
      "cell_type": "code",
      "source": [
        "f_tinv_ejc()"
      ],
      "metadata": {
        "colab": {
          "base_uri": "https://localhost:8080/"
        },
        "id": "DcJR_XQofBkl",
        "outputId": "a791336b-5ae2-4671-e920-566a01e242c6"
      },
      "execution_count": null,
      "outputs": [
        {
          "output_type": "execute_result",
          "data": {
            "text/plain": [
              "2.0705212509594135"
            ]
          },
          "metadata": {},
          "execution_count": 22
        }
      ]
    },
    {
      "cell_type": "markdown",
      "source": [
        "#### Revisamos\n",
        "\n",
        "Revisamos que lo generado corresponda con la distibución deseada:"
      ],
      "metadata": {
        "id": "Hotdq-IBk4wY"
      }
    },
    {
      "cell_type": "code",
      "source": [
        "import seaborn as sns\n",
        "import matplotlib.pyplot as plt\n",
        "import numpy as np\n",
        "\n",
        "def f(x):\n",
        "    return np.where(\n",
        "        (x <= 0),\n",
        "        np.exp(4 * x) / 4,\n",
        "        np.where(\n",
        "            (x <= 15/4),\n",
        "            1/4,\n",
        "            0\n",
        "        )\n",
        "    )\n",
        "\n",
        "x = np.linspace(-5, 5, 1000)\n",
        "n_sim = int(1e5)\n",
        "s = np.empty(n_sim)\n",
        "for i in range(n_sim):\n",
        "  s[i]=f_tinv_ejc()\n",
        "\n",
        "\n",
        "sns.lineplot(x=x, y=f(x),color='red')\n",
        "sns.histplot(s, stat = 'density')\n",
        "plt.show()"
      ],
      "metadata": {
        "colab": {
          "base_uri": "https://localhost:8080/",
          "height": 430
        },
        "id": "OSwnvjh6lPB4",
        "outputId": "3cca968d-2de0-4130-f3c9-07e7dcb31c22"
      },
      "execution_count": null,
      "outputs": [
        {
          "output_type": "display_data",
          "data": {
            "text/plain": [
              "<Figure size 640x480 with 1 Axes>"
            ],
            "image/png": "[encoded data removed]"
          },
          "metadata": {}
        }
      ]
    },
    {
      "cell_type": "markdown",
      "source": [
        "## Ejercicio 2"
      ],
      "metadata": {
        "id": "p1ZgWmxkwbO_"
      }
    },
    {
      "cell_type": "markdown",
      "source": [
        "## a)\n",
        "\n",
        "Desarrolle métodos para generar las siguientes variables aleatorias:\n",
        "\n",
        "> Ayuda: la distribución Pareto y la distribución Weibull tienen distribución acumulada F con forma\n",
        "cerrada, por lo cual puede aplicarse el método de la transformada Inversa. La distribución de Erlang\n",
        "pertenece a la familia de las Gammas. Puede simularse por rechazo o como suma de exponenciales.\n"
      ],
      "metadata": {
        "id": "4HFGtROiwfJM"
      }
    },
    {
      "cell_type": "markdown",
      "source": [
        "### i) Distribución Pareto\n"
      ],
      "metadata": {
        "id": "8w7C0fNPPhEU"
      }
    },
    {
      "cell_type": "markdown",
      "source": [
        "$$f(x) = a x^{-(a+1)}, \\quad 1 \\leq x < \\infty,\\quad a > 0$$"
      ],
      "metadata": {
        "id": "N9lmr5wzhOvY"
      }
    },
    {
      "cell_type": "markdown",
      "source": [
        "#### Parte teorica"
      ],
      "metadata": {
        "id": "jm3K-9z1XzXm"
      }
    },
    {
      "cell_type": "markdown",
      "source": [
        "Como se menciona que tiene una F() cerrada, voy a usar el metodo de la transformada inversa.\n",
        "\n",
        "Primero voy a buscar su función de distibución acumulada (F(x)), analizando por intervalos:\n",
        "\n",
        "Si $-∞≤x≤1$:\n",
        "\\begin{align*}\n",
        "F(x) = \\int_{-∞}^{x} f(x) dx = 0\n",
        "\\end{align*}\n",
        "\n",
        "Si $1≤x≤∞$:\n",
        "\\begin{align*}\n",
        "F(x) & = \\int_{-∞}^{x} f(x) dx \\\\\n",
        "& = \\int_{1}^{x} a x^{-(a+1)} dx \\\\\n",
        "& = a⋅\\int_{1}^{x} x^{-(a+1)} dx \\\\\n",
        "& = a⋅\\left[ \\frac{x^{-(a+1)+1}}{-(a+1)+1} \\right]_1^{}\\\\\n",
        "& = a⋅\\left[ \\frac{x^{-a}}{-a} \\right]_1^{x} \\\\\n",
        "& = a⋅\\left( \\frac{x^{-a}}{-a} -  \\frac{1^{-a}}{-a} \\right) \\\\\n",
        "& = a⋅ \\frac{1}{-a} ⋅ \\left( x^{-a} -  1^{-a} \\right) \\\\\n",
        "& = - \\left( x^{-a} -  1^{-a} \\right) \\\\\n",
        "& = - \\left( x^{-a} -  1 \\right) \\\\\n",
        "& = 1 - x^{-a} \\\\\n",
        "\\end{align*}\n",
        "\n",
        "entonces tenemos que:\n",
        "\n",
        "$$\n",
        "F(x) =\n",
        "\\begin{cases}\n",
        "0 & \\text{si } x < 1 \\\\\n",
        "1 - x^{-a}  & \\text{si } 1 \\le x \\le ∞ \\\\\n",
        "\\end{cases}\n",
        "$$\n",
        "\n",
        "> Claramente $F(∞) = 1 - x^{-∞} = 1 - \\frac{1}{x^{∞}} = 1-0 = 1$\n",
        "\n",
        "Ahora igualamos $F(x)$ a $u$ una v.a uniforme en el $(0,1)$ y despejamos la $x$.\n",
        "\n",
        "\\begin{align*}\n",
        "F(x) & = u \\\\\n",
        "1 - x^{-a} & = u \\\\\n",
        "1 - u  & =  x^{-a} \\\\\n",
        "\\sqrt[-a]{1 - u} & =  \\sqrt[-a]{x^{-a}} \\\\\n",
        "\\sqrt[-a]{1 - u} & =  x \\\\\n",
        "\\left(1 - u\\right)^{-\\frac{1}{a}} & =  x \\\\\n",
        "\\end{align*}"
      ],
      "metadata": {
        "id": "8KN1aX3UXycM"
      }
    },
    {
      "cell_type": "markdown",
      "source": [
        "#### Código"
      ],
      "metadata": {
        "id": "Z0Eh4ganX2vV"
      }
    },
    {
      "cell_type": "code",
      "source": [
        "from random import random\n",
        "import numpy as np\n",
        "\n",
        "def pareto_tinv(a):\n",
        "  u = random()\n",
        "  return (1-u)**(-1/a)"
      ],
      "metadata": {
        "id": "XqknztmvX5TY"
      },
      "execution_count": 67,
      "outputs": []
    },
    {
      "cell_type": "code",
      "source": [
        "pareto_tinv(2)"
      ],
      "metadata": {
        "colab": {
          "base_uri": "https://localhost:8080/"
        },
        "id": "SNQscuq9YXec",
        "outputId": "cfd628c7-3041-4135-ba99-007fd7b994fa"
      },
      "execution_count": 68,
      "outputs": [
        {
          "output_type": "execute_result",
          "data": {
            "text/plain": [
              "2.115085818617671"
            ]
          },
          "metadata": {},
          "execution_count": 68
        }
      ]
    },
    {
      "cell_type": "markdown",
      "source": [
        "#### Revisamos\n",
        "\n",
        "Basicamente revisamos que lo generado corresponda con la distibución deseada:"
      ],
      "metadata": {
        "id": "2MdCwYZ0YnYu"
      }
    },
    {
      "cell_type": "code",
      "source": [
        "import seaborn as sns\n",
        "import matplotlib.pyplot as plt\n",
        "import numpy as np\n",
        "\n",
        "a = 1\n",
        "\n",
        "def f(x):\n",
        "    return np.where(\n",
        "        (x <= 0),\n",
        "        0,\n",
        "        a*(x**(-(a+1)))\n",
        "    )\n",
        "\n",
        "\n",
        "\n",
        "limit = 20\n",
        "x = np.linspace(1, limit, 1_000)\n",
        "n_sim = int(1e5)\n",
        "s = np.empty(n_sim)\n",
        "for i in range(n_sim):\n",
        "  s[i]=pareto_tinv(a)\n",
        "\n",
        "s_filtered = s[s < limit]\n",
        "sns.lineplot(x=x, y=f(x),color='red')\n",
        "sns.histplot(s_filtered, stat = 'density')\n",
        "plt.xlim(0, limit)\n",
        "plt.show()"
      ],
      "metadata": {
        "colab": {
          "base_uri": "https://localhost:8080/",
          "height": 430
        },
        "id": "TLMrTB06Yvwo",
        "outputId": "bc4be2e8-1813-4911-9431-766f6b53aad2"
      },
      "execution_count": null,
      "outputs": [
        {
          "output_type": "display_data",
          "data": {
            "text/plain": [
              "<Figure size 640x480 with 1 Axes>"
            ],
            "image/png": "[encoded data removed]"
          },
          "metadata": {}
        }
      ]
    },
    {
      "cell_type": "markdown",
      "source": [
        "### ii) Distribución Erlang"
      ],
      "metadata": {
        "id": "j2urgd8khHLt"
      }
    },
    {
      "cell_type": "markdown",
      "source": [
        "$$f(x) = \\frac{x^{k-1} e^{-x/\\mu}}{(k -1)! \\, \\mu^{k}}, \\quad 0 \\leq x < \\infty,\\quad \\mu > 0,\\quad k\\ \\text{entero}$$"
      ],
      "metadata": {
        "id": "mKn2eucfhS2T"
      }
    },
    {
      "cell_type": "markdown",
      "source": [
        "#### Parte teorica"
      ],
      "metadata": {
        "id": "nAaUn8wphTxr"
      }
    },
    {
      "cell_type": "markdown",
      "source": [
        "En la consigna nos ayuda diciendo que se parece a una gama y por ello conviene usar el metodo de acepración y rechazo. Recordemos la **PDF** de una gama:\n",
        "\n",
        "Dados $α > 0$ y $β > 0$ tenemos que:\n",
        "$$\n",
        "f_{Gama}(x) = \\frac{1}{\\Gamma(α)} β^{-α} x^{α - 1} e^{-x/β}\\ \\ \\ \\ si\\ x>0\n",
        "$$\n",
        "\n",
        "pero si tomamos $α  = k \\in N$, tenemos que:\n",
        "\\begin{align*}\n",
        "f_{Gama}(x) & = \\frac{1}{(k−1)!} β^{-k} x^{k - 1} e^{-x/β} \\\\\n",
        "& = \\frac{x^{k - 1} e^{-x/β}}{(k−1)! β^{k}}\n",
        "\\end{align*}\n",
        "\n",
        "y asi llegamos a la f. Notar que $f_{Gama}$ y la nuesta son iguals si $k = \\alpha$ y $α =β$.\n",
        "\n",
        "Ahora queda ver que metodo usar. Recordar que en el teorico vimos que:\n",
        "\n",
        "- **Distribucion del tiempo de arribo (2.1.4)** \\\\\n",
        "Dadas $X_1, X_2, . . . , X_n$ con $Xj∼E(λ)$ tenemos que\n",
        "$$\n",
        "\\sum_{i=1}^{n} X_i ∼ Gama\\left(n, \\frac{1}{λ}\\right)\n",
        "$$\n",
        "\n",
        "- **Usar aceptación y rechazo con una exponencial** \\\\\n",
        "Mucho laburo ...\n",
        "\n",
        "De todas formas hay que generar una exponencial y luego usarla.\n"
      ],
      "metadata": {
        "id": "hd6p331FhSb1"
      }
    },
    {
      "cell_type": "markdown",
      "source": [
        "#### Código"
      ],
      "metadata": {
        "id": "ii3__egmwKA6"
      }
    },
    {
      "cell_type": "code",
      "source": [
        "from random import random\n",
        "from numpy import log\n",
        "\n",
        "def exponencial(lamda):\n",
        "  U = 1-random()\n",
        "  return -log(1-U)/lamda"
      ],
      "metadata": {
        "id": "uAapJIIOswPm"
      },
      "execution_count": 78,
      "outputs": []
    },
    {
      "cell_type": "code",
      "source": [
        "def erlang_sum_exp(k,u):\n",
        "  exp = [exponencial(1/u) for _ in range(k)]\n",
        "  return sum(exp)"
      ],
      "metadata": {
        "id": "2Hhvt4MSwc-H"
      },
      "execution_count": 79,
      "outputs": []
    },
    {
      "cell_type": "code",
      "source": [
        "erlang_sum_exp(2,2)"
      ],
      "metadata": {
        "colab": {
          "base_uri": "https://localhost:8080/"
        },
        "id": "906kqunmw0kv",
        "outputId": "084a7488-66c9-4582-aba9-cd57f024020a"
      },
      "execution_count": 80,
      "outputs": [
        {
          "output_type": "execute_result",
          "data": {
            "text/plain": [
              "np.float64(3.257135549446696)"
            ]
          },
          "metadata": {},
          "execution_count": 80
        }
      ]
    },
    {
      "cell_type": "markdown",
      "source": [
        "#### Revisamos\n",
        "\n",
        "Revisamos que lo generado corresponda con la distibución deseada:"
      ],
      "metadata": {
        "id": "tpXAsXxbw5uu"
      }
    },
    {
      "cell_type": "code",
      "source": [
        "import seaborn as sns\n",
        "import matplotlib.pyplot as plt\n",
        "import numpy as np\n",
        "import math\n",
        "\n",
        "k = 2\n",
        "u = 2\n",
        "\n",
        "def f(x):\n",
        "    return np.where(\n",
        "        (x >= 0),\n",
        "        (x**(k-1) * np.exp(-x/u)) / (math.factorial(k-1) * u**k),\n",
        "        0\n",
        "    )\n",
        "\n",
        "x = np.linspace(0, 30, 1000)\n",
        "n_sim = int(1e5)\n",
        "s = np.empty(n_sim)\n",
        "for i in range(n_sim):\n",
        "  s[i]=erlang_sum_exp(k,u)\n",
        "\n",
        "\n",
        "sns.lineplot(x=x, y=f(x),color='red')\n",
        "sns.histplot(s, stat = 'density')\n",
        "plt.show()"
      ],
      "metadata": {
        "colab": {
          "base_uri": "https://localhost:8080/",
          "height": 430
        },
        "id": "ZAuOuCpDxCMY",
        "outputId": "048f5ec1-0bd8-4ca6-d005-aa45ce3026ff"
      },
      "execution_count": 60,
      "outputs": [
        {
          "output_type": "display_data",
          "data": {
            "text/plain": [
              "<Figure size 640x480 with 1 Axes>"
            ],
            "image/png": "[encoded data removed]"
          },
          "metadata": {}
        }
      ]
    },
    {
      "cell_type": "markdown",
      "source": [
        "### iii) Distribución Weibull"
      ],
      "metadata": {
        "id": "eMcD0V8fyBL9"
      }
    },
    {
      "cell_type": "markdown",
      "source": [
        "$$\n",
        "f(x) = \\frac{\\beta}{\\lambda} \\left( \\frac{x}{\\lambda} \\right)^{\\beta - 1}e^{- \\left( x/\\lambda \\right)^{\\beta}}, \\quad x \\geq 0,\\quad \\lambda > 0,\\quad \\beta > 0\n",
        "$$\n",
        "\n",
        "Notar que se puede simplificar:\n",
        "\n",
        "\\begin{align*}\n",
        "f(x) & = \\frac{\\beta}{\\lambda} \\left( \\frac{x}{\\lambda} \\right)^{\\beta - 1}e^{- \\left( x/\\lambda \\right)^{\\beta}} \\\\\n",
        " & = \\beta \\lambda^{-1} \\left( \\frac{x}{\\lambda} \\right)^{\\beta - 1}e^{- \\left( x/\\lambda \\right)^{\\beta}} \\\\\n",
        " & = \\beta \\lambda^{-1} \\lambda^{-({\\beta - 1})} x^{\\beta - 1} e^{- \\left( x/\\lambda \\right)^{\\beta}} \\\\\n",
        " & = \\beta \\lambda^{-1} \\lambda^{-\\beta + 1} x^{\\beta - 1} e^{- \\left( x/\\lambda \\right)^{\\beta}} \\\\\n",
        " & = \\beta \\lambda^{-\\beta} x^{\\beta - 1} e^{- \\left( x/\\lambda \\right)^{\\beta}} \\\\\n",
        "\\end{align*}"
      ],
      "metadata": {
        "id": "55ODvddHyK-h"
      }
    },
    {
      "cell_type": "markdown",
      "source": [
        "#### Parte teorica"
      ],
      "metadata": {
        "id": "2jOiA1osylh8"
      }
    },
    {
      "cell_type": "markdown",
      "source": [
        "Segun la ayuda, tenemos que $f$ tiene que existe formula cerrada para $F$ y nos sirve para usar el metodo de la trasnformada inversa.\n",
        "\n",
        "Calculemos:\n",
        "\n",
        "\\begin{align*}\n",
        "F(x) & = \\int_{-∞}^{x} f(x) dx \\\\\n",
        "& = \\int_{-∞}^{x} \\beta \\lambda^{-\\beta} x^{\\beta - 1} e^{- \\left( x/\\lambda \\right)^{\\beta}} dx \\\\\n",
        "& =  \\beta \\lambda^{-\\beta}  \\int_{-∞}^{x}x^{\\beta - 1} e^{- \\left( x/\\lambda \\right)^{\\beta}} dx \\\\\n",
        "& ... \\\\\n",
        "& = 1-e^{−(x/λ)^β}\n",
        "\\end{align*}\n",
        "\n",
        "> Ayuda: https://en.wikipedia.org/wiki/Weibull_distribution\n",
        "\n",
        "por lo tanto si igualamos a $u$ una v.a uniforme en el (0,1):\n",
        "\n",
        "\\begin{align*}\n",
        "F(x) & = u \\\\\n",
        "1-e^{-(x/λ)^{β}} & = u \\\\\n",
        "e^{-(x/λ)^{β}} & = 1-u \\\\\n",
        "\\frac{1}{e^{(x/λ)^{β}}} & = 1-u \\\\\n",
        "e^{(x/λ)^{β}} & = \\frac{1}{1-u} \\\\\n",
        "(x/λ)^{β} & = ln\\left(\\frac{1}{1-u} \\right)\\\\\n",
        "x/λ & = \\sqrt[β]{ ln\\left(\\frac{1}{1-u} \\right)}\\\\\n",
        "x & = \\sqrt[β]{ ln\\left(\\frac{1}{1-u} \\right)} ⋅ λ\\\\\n",
        "x & = \\sqrt[β]{-ln(1-u)} ⋅ λ\\\\\n",
        "\\end{align*}\n"
      ],
      "metadata": {
        "id": "kBi27IClyniv"
      }
    },
    {
      "cell_type": "markdown",
      "source": [
        "#### Código"
      ],
      "metadata": {
        "id": "vVj7t32y4dTY"
      }
    },
    {
      "cell_type": "code",
      "source": [
        "from random import random\n",
        "import numpy as np\n",
        "\n",
        "def weibull_tinv(beta, lamda):\n",
        "  u = random()\n",
        "  return ((np.log(1/(1-u)))**(1/beta)) * lamda"
      ],
      "metadata": {
        "id": "SU2dn6Ui4hMC"
      },
      "execution_count": 69,
      "outputs": []
    },
    {
      "cell_type": "code",
      "source": [
        "weibull_tinv(2,2)"
      ],
      "metadata": {
        "colab": {
          "base_uri": "https://localhost:8080/"
        },
        "id": "vkWFi2Xb4-3_",
        "outputId": "46308517-b168-4eb2-ab25-9c472d1a8162"
      },
      "execution_count": 34,
      "outputs": [
        {
          "output_type": "execute_result",
          "data": {
            "text/plain": [
              "np.float64(2.066015008782673)"
            ]
          },
          "metadata": {},
          "execution_count": 34
        }
      ]
    },
    {
      "cell_type": "markdown",
      "source": [
        "#### Revisamos\n",
        "\n",
        "Revisamos que lo generado corresponda con la distibución deseada:"
      ],
      "metadata": {
        "id": "-PQzNwCS5N3J"
      }
    },
    {
      "cell_type": "code",
      "source": [
        "import seaborn as sns\n",
        "import matplotlib.pyplot as plt\n",
        "import numpy as np\n",
        "\n",
        "beta = 2\n",
        "lamda = 2\n",
        "\n",
        "def f(x):\n",
        "    return np.where(\n",
        "        (x <= 0),\n",
        "        0,\n",
        "        (beta/lamda) * (x/lamda)**(beta-1) * np.exp(-(x/lamda)**beta)\n",
        "    )\n",
        "\n",
        "\n",
        "\n",
        "x = np.linspace(0, 10, 1_000)\n",
        "n_sim = int(1e5)\n",
        "s = np.empty(n_sim)\n",
        "for i in range(n_sim):\n",
        "  s[i]=weibull_tinv(beta, lamda)\n",
        "\n",
        "sns.lineplot(x=x, y=f(x),color='red')\n",
        "sns.histplot(s, stat = 'density')\n",
        "plt.show()"
      ],
      "metadata": {
        "colab": {
          "base_uri": "https://localhost:8080/",
          "height": 430
        },
        "id": "UY5pGaXC5Oo4",
        "outputId": "5b0799d0-3088-4099-9d11-e20ab0917239"
      },
      "execution_count": 37,
      "outputs": [
        {
          "output_type": "display_data",
          "data": {
            "text/plain": [
              "<Figure size 640x480 with 1 Axes>"
            ],
            "image/png": "[encoded data removed]"
          },
          "metadata": {}
        }
      ]
    },
    {
      "cell_type": "markdown",
      "source": [
        "## b)\n",
        "Estime la media de cada variable con 10.000 repeticiones, usando los parámetros $α$ = 2, µ = 2, k = 2, λ = 1, β = 2. Busque en la web los valores de las esperanzas para cada variable con estos parámetros (cuidado con las parametrizaciones) y compare los valores obtenidos."
      ],
      "metadata": {
        "id": "wPRhtgsxPHF2"
      }
    },
    {
      "cell_type": "markdown",
      "source": [
        "Fuentes:\n",
        "\n",
        "- https://en.wikipedia.org/wiki/Pareto_distribution \\\\\n",
        "$E[Pareto(α)] = α/(α-1)$ si $α>1$ \\\\\n",
        "$E[Pareto(α)] = ∞\\ \\ \\ \\  \\ \\ \\ \\ \\ \\ \\ \\ \\ \\ $si $α ≤ 1$\n",
        "\n",
        "- De las notas de clase \\\\\n",
        "$E[Erlang(k,μ)] = E[Gamma(k,μ)] = k\\cdotμ$\n",
        "\n",
        "- De las notas de clase \\\\\n",
        "$E[Weibull(β,λ)] = λ/β  \\cdot \\Gamma (1/β)$\n"
      ],
      "metadata": {
        "id": "eeLYJlLj_npR"
      }
    },
    {
      "cell_type": "code",
      "source": [
        "import math\n",
        "\n",
        "def pareto_esperanza_exacta(a):\n",
        "  return a/(a-1)\n",
        "\n",
        "def erlang_esperanza_exacta(k,u):\n",
        "  return k*u\n",
        "\n",
        "def weibull_esperanza_exacta(beta, lamda):\n",
        "  return (lamda/beta)*math.gamma(1/beta)\n",
        "\n",
        "def etimacion_esperanza(N, metodo, *args,**kwargs):\n",
        "  valores = [metodo(*args, **kwargs) for _ in range(N)]\n",
        "  return sum(valores)/N\n",
        "\n",
        "N = 10000\n",
        "parametros = [\n",
        "    (\"Pareto\", {\"a\": 2}, pareto_tinv, pareto_esperanza_exacta),\n",
        "    (\"Erlang\", {\"k\": 2, \"u\": 2}, erlang_sum_exp, erlang_esperanza_exacta),\n",
        "    (\"Weibull\", {\"beta\": 2, \"lamda\": 1}, weibull_tinv, weibull_esperanza_exacta),\n",
        "]\n",
        "\n",
        "for nombre, parametros_metodo, metodo, esperanza_exacta in parametros:\n",
        "  estimacion_esperanza = etimacion_esperanza(N, metodo, **parametros_metodo)\n",
        "  esperanza_exacta = esperanza_exacta(**parametros_metodo)\n",
        "  print(\"-\"*50)\n",
        "  print(f\"Distibución {nombre}\")\n",
        "  print(f\"-   Estimación de la esperanza: {estimacion_esperanza}\")\n",
        "  print(f\"-   Esperanza exacta: {esperanza_exacta}\")\n",
        "  print(\"-\"*50)\n",
        "\n",
        "\n"
      ],
      "metadata": {
        "colab": {
          "base_uri": "https://localhost:8080/"
        },
        "id": "cPu47kwSFHh_",
        "outputId": "075934a7-df0c-4da5-c844-0ed63cf1494c"
      },
      "execution_count": 84,
      "outputs": [
        {
          "output_type": "stream",
          "name": "stdout",
          "text": [
            "--------------------------------------------------\n",
            "Distibución Pareto\n",
            "-   Estimación de la esperanza: 2.0174864571590367\n",
            "-   Esperanza exacta: 2.0\n",
            "--------------------------------------------------\n",
            "--------------------------------------------------\n",
            "Distibución Erlang\n",
            "-   Estimación de la esperanza: 3.968814879335733\n",
            "-   Esperanza exacta: 4\n",
            "--------------------------------------------------\n",
            "--------------------------------------------------\n",
            "Distibución Weibull\n",
            "-   Estimación de la esperanza: 0.8821168772378932\n",
            "-   Esperanza exacta: 0.8862269254527579\n",
            "--------------------------------------------------\n"
          ]
        }
      ]
    }
  ]
}