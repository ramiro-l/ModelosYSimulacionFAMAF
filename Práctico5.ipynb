{
  "nbformat": 4,
  "nbformat_minor": 0,
  "metadata": {
    "colab": {
      "provenance": [],
      "collapsed_sections": [
        "4HFGtROiwfJM",
        "nAaUn8wphTxr",
        "2jOiA1osylh8",
        "-PQzNwCS5N3J",
        "wPRhtgsxPHF2",
        "RvtFK8vPHGTW",
        "O_sbOxNIY7YF",
        "OMQ5_IKvf3j6",
        "ntbpQ32Kfy8a",
        "vCPvZF2Rg77R",
        "02jYZhCBiwMm",
        "8D9-xoI1vU1d",
        "hkQjN2Kmvql0",
        "fWl-bnn6vvKB",
        "zzk8IbssxCDK",
        "9-BqIxfWyAkG",
        "xRTgg04u_xtq",
        "XIdhMZgDFtod",
        "YlW2uzO2NsR5",
        "K_tJ3omyUYWU",
        "em82kvpRbbSC",
        "xYb0UoihcDOG",
        "wu1n_wbqcfG2",
        "L3usgArtcy_h",
        "JoIPDwith406"
      ],
      "toc_visible": true,
      "authorship_tag": "ABX9TyMz/miK+oeFaA24Xzr8NS4s",
      "include_colab_link": true
    },
    "kernelspec": {
      "name": "python3",
      "display_name": "Python 3"
    },
    "language_info": {
      "name": "python"
    }
  },
  "cells": [
    {
      "cell_type": "markdown",
      "metadata": {
        "id": "view-in-github",
        "colab_type": "text"
      },
      "source": [
        "<a href=\"https://colab.research.google.com/github/ramiro-l/ModelosYSimulacionFAMAF/blob/main/Pr%C3%A1ctico5.ipynb\" target=\"_parent\"><img src=\"https://colab.research.google.com/assets/colab-badge.svg\" alt=\"Open In Colab\"/></a>"
      ]
    },
    {
      "cell_type": "markdown",
      "source": [
        "# PRÁCTICO 5"
      ],
      "metadata": {
        "id": "NQvcFixb5ZsA"
      }
    },
    {
      "cell_type": "markdown",
      "source": [
        "## Ejercicio 1\n",
        "\n",
        "Desarrolle un método para generar una variable aleatoria cuya densidad de probabilidad es:"
      ],
      "metadata": {
        "id": "9q44kG3i5U_4"
      }
    },
    {
      "cell_type": "markdown",
      "source": [
        "### a)\n",
        "\n",
        "$$\n",
        "f(x) =\n",
        "\\begin{cases}\n",
        "\\frac{x-2}{2} & \\text{si } 2 \\leq x \\leq 3 \\\\\n",
        "\\frac{2 - x/3}{2} & \\text{si } 3 \\leq x \\leq 6 \\\\\n",
        "0 & \\text{en otro caso}\n",
        "\\end{cases}\n",
        "$$"
      ],
      "metadata": {
        "id": "m59Bkc2X5tVu"
      }
    },
    {
      "cell_type": "markdown",
      "source": [
        "#### Parte Teorica"
      ],
      "metadata": {
        "id": "TBCXGzLxnAxb"
      }
    },
    {
      "cell_type": "markdown",
      "source": [
        "Para poder usar transformada inversa tengo que encontrar su $F(x)$, para ello tengo que calcular $\\int_{-∞}^{x}f(x)dx$.\n",
        "\n",
        "\n",
        "Si $-∞≤x≤2$\n",
        "\\begin{align*}\n",
        "\\int_{-∞}^{x}f(x)dx & = 0\n",
        "\\end{align*}\n",
        "\n",
        "\n",
        "Si $2≤x≤3$\n",
        "\\begin{align*}\n",
        "\\int_{-∞}^{x}f(x)dx & = \\int_{-∞}^{x}(x-2)/2dx \\\\\n",
        "& = \\frac{x^{2}}{4}-x+1\n",
        "\\end{align*}\n",
        "\n",
        "Si $3≤x≤6$\n",
        "\\begin{align*}\n",
        "\\int_{-∞}^{x}f(x)dx & = \\int_{2}^{3}f(x)dx + \\int_{3}^{6}f(x)dx \\\\\n",
        "& = \\frac{3^{2}}{4}-3+1 + \\int_{3}^{6}f(x) \\\\\n",
        "& = \\frac{-x^{2}}{12}+x-2\n",
        "\\end{align*}\n",
        "\n",
        "Entonces nos queda que:\n",
        "\n",
        "$$\n",
        "F(x) =\n",
        "\\begin{cases}\n",
        "0 & \\text{si } x \\le 2 \\\\\n",
        "\\frac{x^{2}}{4}-x+1 & \\text{si } 2 \\le x \\le 3 \\\\\n",
        "\\frac{-x^{2}}{12}+x-2 & \\text{si } 3 \\le x \\le 6 \\\\\n",
        "1 & \\text{si } x \\ge 6\n",
        "\\end{cases}\n",
        "$$\n",
        "\n",
        "Notar que el punto de quiebre es en\n",
        "\n",
        "$$\n",
        "F(3) = \\frac{3^{2}}{4}-3+1 = \\frac{9}{4}-2 = \\frac{1}{4}\n",
        "$$\n",
        "\n",
        "Ahora queda calcular $F^{-1}$ por partes igualando a $u$ una uniforme en el $0,1$.\n",
        "\n",
        "> Recordar **Bhaskara**:\n",
        ">\n",
        "> Si $ax^{2} + bx + c = 0$ tenemos que las raices son\n",
        "> $$ x_1 = \\frac{-b + \\sqrt{b^2 - 4ac}}{2a}\\ \\ \\ \\ y\\ \\ \\ \\ x_2 = \\frac{-b - \\sqrt{b^2 - 4ac}}{2a}$$\n",
        "\n",
        "Tenemos que despejar:\n",
        "\n",
        "$$\n",
        "u = \\frac{x^{2}}{4}-x+1 \\ \\ \\ \\ (1)\n",
        "$$\n",
        "y\n",
        "$$\n",
        "u = \\frac{-x^{2}}{12}+x-2 \\ \\ \\ \\ (2)\n",
        "$$\n",
        "\n",
        "Veamos (1)\n",
        "\n",
        "\\begin{align*}\n",
        "u & = \\frac{x^{2}}{4}-x+1 \\\\\n",
        "0 & = \\frac{x^{2}}{4}-x+(1-u) \\\\\n",
        "0 & = \\frac{1}{4} \\cdot x^{2}+(-1) \\cdot x+(1-u)\n",
        "\\end{align*}\n",
        "\n",
        "entonces $a=\\frac{1}{4}$, $b=-1$ y $c=1-u$\n",
        "\n",
        "\\begin{align*}\n",
        "x_i & = \\frac{-(-1) \\pm \\sqrt{(-1)^2 - 4\\frac{1}{4}(1-u)}}{2\\frac{1}{4}} \\\\\n",
        "x_i & = \\frac{1 \\pm \\sqrt{1 - 1+u}}{\\frac{1}{2}} \\\\\n",
        "x_i & = (1 \\pm \\sqrt{u})\\cdot2 \\\\\n",
        "\\end{align*}\n",
        "\n",
        "entonces\n",
        "\n",
        "$$\n",
        "x_1 = 2 + 2\\cdot\\sqrt{u} \\ \\ \\ \\ \\ \\ y \\ \\ \\ \\ \\ \\ x_2 = 2 - 2\\cdot\\sqrt{u}\n",
        "$$\n",
        "\n",
        "Como $x_1$ toma valores entre el $[2,4]$ y $x_2$ toma valores en el $[0,2]$ usamos $x_1$\n",
        "\n",
        "Veamos (2)\n",
        "\n",
        "\\begin{align*}\n",
        "u & = \\frac{-x^{2}}{12}+x-2  \\\\\n",
        "0 & = \\frac{-x^{2}}{12}+x-2-u  \\\\\n",
        "0 & = \\frac{-1}{12} \\cdot x^{2}+x+(-2-u)  \\\\\n",
        "\\end{align*}\n",
        "\n",
        "entonces $a=\\frac{-1}{12}$, $b=1$ y $c=(-2-u)$ por lo tanto\n",
        "\n",
        "\\begin{align*}\n",
        "x_i & =  \\frac{-1 \\pm \\sqrt{1^2 - 4(\\frac{-1}{12})(-2-u)}}{2(\\frac{-1}{12})} \\\\\n",
        "x_i & =  \\frac{-1 \\pm \\sqrt{1 - \\frac{2+u}{3}}}{\\frac{-1}{6}} \\\\\n",
        "x_i & =  6 \\pm 6 \\cdot \\sqrt{ 1 - \\frac{2+u}{3} } \\\\\n",
        "x_i & =  6 \\pm 6 \\cdot \\sqrt{ 1 - \\frac{2}{3} - \\frac{u}{3} } \\\\\n",
        "x_i & =  6 \\pm 6 \\cdot \\sqrt{ \\frac{1}{3} - \\frac{u}{3} } \\\\\n",
        "x_i & =  6 \\pm 6 \\cdot \\sqrt{\\frac{1 - u}{3}} \\\\\n",
        "x_i & =  6 \\pm 2 \\cdot 3 \\cdot \\sqrt{\\frac{1 - u}{3}} \\\\\n",
        "x_i & =  6 \\pm 2 \\cdot \\sqrt{9} \\cdot \\sqrt{\\frac{1 - u}{3}} \\\\\n",
        "x_i & =  6 \\pm 2 \\cdot \\sqrt{9\\cdot(\\frac{1 - u}{3})} \\\\\n",
        "x_i & =  6 \\pm 2 \\cdot \\sqrt{3\\cdot(1 - u)} \\\\\n",
        "\\end{align*}\n",
        "\n",
        "entonces\n",
        "\n",
        "$$\n",
        "x_1 = 6 - 2 \\cdot \\sqrt{3\\cdot(1 - u)}  \\ \\ \\ \\ \\ \\ y \\ \\ \\ \\ \\ \\ x_2 = 6 + 2 \\cdot \\sqrt{3\\cdot(1 - u)}\n",
        "$$\n",
        "\n",
        "Como $x_1$ toma valores aproximadamente entre el $[2.5,6]$ y $x_2$ toma valores en el $[6,8.5]$ usamos $x_1$\n",
        "\n",
        "\n",
        "\n"
      ],
      "metadata": {
        "id": "qhAFA_EqBTPe"
      }
    },
    {
      "cell_type": "code",
      "source": [
        "import numpy as np\n",
        "import matplotlib.pyplot as plt\n",
        "\n",
        "# Definición de f(x)\n",
        "def f(x):\n",
        "    return np.where(\n",
        "        (2 <= x) & (x <= 3),\n",
        "        (x - 2) / 2,\n",
        "        np.where(\n",
        "            (3 < x) & (x <= 6),\n",
        "            (2 - x / 3) / 2,\n",
        "            0\n",
        "        )\n",
        "    )\n",
        "\n",
        "# Definición de F(x)\n",
        "def F(x):\n",
        "    return np.where(\n",
        "        (x <= 2),\n",
        "        0,\n",
        "        np.where(\n",
        "            (x <= 3),\n",
        "            (x**2)/4 - x + 1,\n",
        "            np.where(\n",
        "                (x <= 6),\n",
        "                -x**2/12 + x - 2,\n",
        "                1\n",
        "            )\n",
        "        )\n",
        "    )\n",
        "\n",
        "# Definición de F_inv(x)\n",
        "def F_inv(x):\n",
        "    return np.where(\n",
        "        (x <= 1/4),\n",
        "        2 + 2 * np.sqrt(x),\n",
        "        np.where(\n",
        "            (x <= 1),\n",
        "            6 - 2 * np.sqrt(np.maximum(0, 3 * (1 - x))),\n",
        "            np.nan\n",
        "        )\n",
        "    )\n",
        "\n",
        "\n",
        "# Dominio común\n",
        "x = np.linspace(0, 10, 500)\n",
        "\n",
        "# Evaluar funciones\n",
        "y_f = f(x)\n",
        "y_F = F(x)\n",
        "y_F_inv = F_inv(x)\n",
        "\n",
        "plt.figure(figsize=(8, 5))\n",
        "plt.plot(x, y_f, label=\"f(x)\")\n",
        "plt.plot(x, y_F, label=\"F(x))\")\n",
        "plt.plot(x, y_F_inv, label=\"F_inv(x)\")\n",
        "\n",
        "\n",
        "plt.title(\"Todas las funciones\")\n",
        "plt.xlabel(\"x\")\n",
        "plt.ylabel(\"y\")\n",
        "plt.legend()\n",
        "plt.grid(True)\n",
        "plt.show()"
      ],
      "metadata": {
        "colab": {
          "base_uri": "https://localhost:8080/",
          "height": 487
        },
        "id": "hmQalHFM1jIE",
        "outputId": "bd531cc8-dc8d-4285-b96f-96fb8d4cc04d"
      },
      "execution_count": null,
      "outputs": [
        {
          "output_type": "display_data",
          "data": {
            "text/plain": [
              "<Figure size 800x500 with 1 Axes>"
            ],
            "image/png": "[encoded data removed]"
          },
          "metadata": {}
        }
      ]
    },
    {
      "cell_type": "markdown",
      "source": [
        "#### Código"
      ],
      "metadata": {
        "id": "_cCHRT9m6vJ_"
      }
    },
    {
      "cell_type": "code",
      "source": [
        "from random import random\n",
        "\n",
        "def f_tinv():\n",
        "  u = random()\n",
        "  if u < 0.25:\n",
        "    return 2 + 2*np.sqrt(u)\n",
        "  else:\n",
        "    return 6 - 2*np.sqrt(3*(1-u))\n"
      ],
      "metadata": {
        "id": "XRAkQK0g6UII"
      },
      "execution_count": null,
      "outputs": []
    },
    {
      "cell_type": "code",
      "source": [
        "f_tinv()"
      ],
      "metadata": {
        "colab": {
          "base_uri": "https://localhost:8080/"
        },
        "id": "tJ45FYhk6xGt",
        "outputId": "c6f35795-6745-47af-c801-b6b206755afb"
      },
      "execution_count": null,
      "outputs": [
        {
          "output_type": "execute_result",
          "data": {
            "text/plain": [
              "np.float64(5.144761229090943)"
            ]
          },
          "metadata": {},
          "execution_count": 26
        }
      ]
    },
    {
      "cell_type": "markdown",
      "source": [
        "#### Revisamos\n",
        "Revisamos que lo generado corresponda con la distibución deseada:"
      ],
      "metadata": {
        "id": "HNx5WvVB6-pn"
      }
    },
    {
      "cell_type": "code",
      "source": [
        "import numpy as np\n",
        "import seaborn as sns\n",
        "import matplotlib.pyplot as plt\n",
        "\n",
        "def f(x):\n",
        "    return np.where(\n",
        "        (2 <= x) & (x <= 3),\n",
        "        (x - 2) / 2,\n",
        "        np.where(\n",
        "            (3 < x) & (x <= 6),\n",
        "            (2 - x / 3) / 2,\n",
        "            0\n",
        "        )\n",
        "    )\n",
        "\n",
        "x = np.linspace(2, 6, 1000) # Genero el intervalo\n",
        "n_sim = int(1e5)\n",
        "s = np.empty(n_sim)\n",
        "for i in range(n_sim):\n",
        "  s[i]=f_tinv()\n",
        "\n",
        "\n",
        "sns.lineplot(x=x, y=f(x),color='red')\n",
        "sns.histplot(s, stat = 'density')\n",
        "plt.show()"
      ],
      "metadata": {
        "colab": {
          "base_uri": "https://localhost:8080/",
          "height": 430
        },
        "id": "lyexY7QQ7KsB",
        "outputId": "662023ec-528e-4cad-b2e9-c888a1925faa"
      },
      "execution_count": null,
      "outputs": [
        {
          "output_type": "display_data",
          "data": {
            "text/plain": [
              "<Figure size 640x480 with 1 Axes>"
            ],
            "image/png": "[encoded data removed]"
          },
          "metadata": {}
        }
      ]
    },
    {
      "cell_type": "markdown",
      "source": [
        "### b)\n",
        "\n",
        "$$\n",
        "f(x) =\n",
        "\\begin{cases}\n",
        "\\frac{6(x+3)}{35} & \\text{si } 0 \\leq x \\leq 1 \\\\\n",
        "\\frac{6x^2}{35} & \\text{si } 1 \\leq x \\leq 2 \\\\\n",
        "0 & \\text{en otro caso}\n",
        "\\end{cases}\n",
        "$$"
      ],
      "metadata": {
        "id": "MG7GRv426Vkj"
      }
    },
    {
      "cell_type": "markdown",
      "source": [
        "#### Parte teorica"
      ],
      "metadata": {
        "id": "O1EfPCw8lFs3"
      }
    },
    {
      "cell_type": "code",
      "source": [
        "import numpy as np\n",
        "import matplotlib.pyplot as plt\n",
        "\n",
        "def f(x):\n",
        "    return np.where(\n",
        "        (x <= 0),\n",
        "        0,\n",
        "        np.where(\n",
        "            (x <= 1),\n",
        "            (6 * (x + 3)) / 35,\n",
        "            np.where(\n",
        "                (x <= 2),\n",
        "                (6 * x**2)/ 35,\n",
        "                0\n",
        "            )\n",
        "        )\n",
        "    )\n",
        "\n",
        "x = np.linspace(0, 10, 500)\n",
        "y_f = f(x)\n",
        "\n",
        "plt.figure(figsize=(3, 2))\n",
        "plt.plot(x, y_f)\n",
        "plt.xlabel(\"x\")\n",
        "plt.ylabel(\"f(x)\")\n",
        "plt.grid(True)\n",
        "plt.show()"
      ],
      "metadata": {
        "colab": {
          "base_uri": "https://localhost:8080/",
          "height": 234
        },
        "id": "d0pID2f1sDe7",
        "outputId": "66b7a7da-ab5f-4917-d536-91d6ef03f2a7"
      },
      "execution_count": null,
      "outputs": [
        {
          "output_type": "display_data",
          "data": {
            "text/plain": [
              "<Figure size 300x200 with 1 Axes>"
            ],
            "image/png": "[encoded data removed]"
          },
          "metadata": {}
        }
      ]
    },
    {
      "cell_type": "markdown",
      "source": [
        "\n",
        "> Aclaración: No voy a ir con tanto detalle, el procedimiento es similar a la parte a).\n",
        "\n",
        "Calculo $F(x)$ por partes:\n",
        "\n",
        "Si $-∞≤x≤0$\n",
        "\\begin{align*}\n",
        "\\int_{-∞}^{x}f(x)dx & = 0\n",
        "\\end{align*}\n",
        "\n",
        "Si $0≤x≤1$\n",
        "\\begin{align*}\n",
        "\\int_{-∞}^{x}f(x)dx & = \\int_{0}^{x} \\frac{6(x+3)}{35}dx \\\\\n",
        "& =  \\frac{6}{35} ⋅ \\int_{0}^{x} (x+3)dx \\\\\n",
        "& =  \\frac{6}{35} ⋅ \\left[\\frac{x^2}{2}+3x\\right]_0^x \\\\\n",
        "& =  \\frac{6}{35} ⋅ \\left(\\left(\\frac{x^2}{2}+3x\\right) - \\left(\\frac{0^2}{2}+3\\cdot0\\right)\\right)\\\\\n",
        "& =  \\frac{6}{35} ⋅ \\left(\\frac{x^2}{2}+3x\\right) \\\\\n",
        "& =  \\frac{6}{35} ⋅ \\frac{x^2}{2}+ \\frac{6}{35} ⋅ 3x \\\\\n",
        "& =  \\frac{3}{35} ⋅ x^2+ \\frac{18}{35} ⋅ x \\\\\n",
        "& =  \\frac{3}{35} ⋅ x^2+ \\frac{18}{35} ⋅ x \\\\\n",
        "\\end{align*}\n",
        "\n",
        "Si $1≤x≤2$\n",
        "\\begin{align*}\n",
        "\\int_{-∞}^{x}f(x)dx & = \\int_{0}^{1}f(x)dx + \\int_{1}^{x} \\frac{6x^2}{35} dx \\\\\n",
        "& = \\frac{3}{35} ⋅ 1^2+ \\frac{18}{35} ⋅ 1+ \\int_{1}^{x} \\frac{6x^2}{35} dx \\\\\n",
        "& = \\frac{21}{35} + \\int_{1}^{x} \\frac{6x^2}{35} dx \\\\\n",
        "& = \\frac{21}{35}  + \\frac{6}{35} \\cdot \\int_{1}^{x} x^2 dx \\\\\n",
        "& = \\frac{21}{35}  + \\frac{6}{35} ⋅ \\left[\\frac{x^3}{3}\\right]_1^x \\\\\n",
        "& =  \\frac{21}{35}  + \\frac{6}{35} ⋅ \\left(\\left(\\frac{x^3}{3}\\right) - \\left(\\frac{1^3}{3}\\right)\\right)\\\\\n",
        "& =  \\frac{21}{35}  + \\frac{6}{35} ⋅ \\left(\\left(\\frac{x^3}{3}\\right) - \\left(\\frac{1}{3}\\right)\\right)\\\\\n",
        "& = \\frac{21}{35}  + \\frac{6}{35} ⋅ \\frac{x^3}{3} - \\frac{6}{35} ⋅ \\frac{1}{3}\\\\\n",
        "& =\\frac{21}{35}  + \\frac{2}{35} ⋅ x^3 - \\frac{2}{35} \\\\\n",
        "& = \\frac{2}{35} ⋅ x^3 + \\frac{19}{35} \\\\\n",
        "\\end{align*}\n",
        "\n",
        "> Revisar que F(2) sea 1:\n",
        "> $$\\frac{2}{35} ⋅ 2^3 + \\frac{19}{35} = \\frac{16}{35} + \\frac{19}{35} = \\frac{53}{35} = 1$$\n",
        "\n",
        "entonces F(x) queda definida por:\n",
        "\n",
        "\n",
        "$$\n",
        "F(x) =\n",
        "\\begin{cases}\n",
        "0 & \\text{si } x < 0 \\\\\n",
        "\\frac{3}{35} ⋅ x^2+ \\frac{18}{35} ⋅ x  & \\text{si } 0 \\le x \\le 1 \\\\\n",
        "\\frac{2}{35} ⋅ x^3 + \\frac{19}{35} & \\text{si } 1 < x \\le 2 \\\\\n",
        "1 & \\text{si } x > 2\n",
        "\\end{cases}\n",
        "$$\n",
        "\n",
        "y el punto de quiebre es en:\n",
        "\n",
        "$$\n",
        "F(1) = \\frac{3}{35} ⋅ 1^2+ \\frac{18}{35} ⋅ 1 = \\frac{3}{35}+ \\frac{18}{35} = \\frac{21}{35} = \\frac{3}{5}\n",
        "$$\n",
        "\n",
        "\n",
        "\n"
      ],
      "metadata": {
        "id": "T0HAFhoM8KA0"
      }
    },
    {
      "cell_type": "code",
      "source": [
        "import numpy as np\n",
        "import matplotlib.pyplot as plt\n",
        "\n",
        "def F(x):\n",
        "    return np.where(\n",
        "        (x <= 0),\n",
        "        0,\n",
        "        np.where(\n",
        "            (x <= 1),\n",
        "            (3 / 35) * x**2 + (18 / 35) * x,\n",
        "            np.where(\n",
        "                (x <= 2),\n",
        "                (2 / 35) * x**3 + (19 / 35),\n",
        "                1\n",
        "            )\n",
        "        )\n",
        "    )\n",
        "\n",
        "x = np.linspace(0, 10, 500)\n",
        "y_F = F(x)\n",
        "\n",
        "plt.figure(figsize=(3, 2))\n",
        "plt.plot(x, y_F)\n",
        "plt.xlabel(\"x\")\n",
        "plt.ylabel(\"F(x)\")\n",
        "plt.grid(True)\n",
        "plt.show()"
      ],
      "metadata": {
        "colab": {
          "base_uri": "https://localhost:8080/",
          "height": 234
        },
        "id": "RviZ-FQCDSnQ",
        "outputId": "77c6d980-e0b0-455a-9993-88dc8aaab7d2"
      },
      "execution_count": null,
      "outputs": [
        {
          "output_type": "display_data",
          "data": {
            "text/plain": [
              "<Figure size 300x200 with 1 Axes>"
            ],
            "image/png": "[encoded data removed]"
          },
          "metadata": {}
        }
      ]
    },
    {
      "cell_type": "markdown",
      "source": [
        "Ahora queda despejar la $x$ de:\n",
        "\n",
        "$$\n",
        "u = F(x)\n",
        "$$\n",
        "\n",
        "Si $0≤x≤1$\n",
        "\\begin{align*}\n",
        "u & = F(x) \\\\\n",
        "u & = \\frac{3}{35} ⋅ x^2+ \\frac{18}{35} ⋅ x \\\\\n",
        "u & = \\frac{1}{35} \\cdot \\left( 3 ⋅ x^2+ 18 ⋅ x \\right) \\\\\n",
        "u \\cdot 35 & =  3 ⋅ x^2+ 18 ⋅ x  \\\\\n",
        "0 & =  3 ⋅ x^2+ 18 ⋅ x - u \\cdot 35  \\\\\n",
        "\\end{align*}\n",
        "\n",
        "Ahora buscamos las raices con $a=3$ , $b=18$ y $c=(-u\\cdot35)$:\n",
        "\n",
        "\\begin{align*}\n",
        "x_i & = \\frac{-18 \\pm \\sqrt{18^2 - 4\\cdot3(-u⋅35)}}{2\\cdot3} \\\\\n",
        " & = \\frac{-18 \\pm \\sqrt{18^2 + 4⋅3⋅35⋅u}}{6} \\\\\n",
        " & = \\frac{-18 \\pm \\sqrt{324 + 420⋅u}}{6} \\\\\n",
        " & = -\\frac{18}{6} \\pm \\frac{\\sqrt{324 + 420⋅u}}{6}  \\\\\n",
        " & = -3 \\pm \\frac{\\sqrt{324 + 420⋅u}}{6}  \\\\\n",
        "\\end{align*}\n",
        "\n",
        "Claramente debemos tomar $x_2 =-3 + \\frac{\\sqrt{324 + 420⋅u}}{6}$ para que x este en el intervalor $(0,1)$.\n",
        "\n",
        "Si $1 < x ≤ 2$\n",
        "\n",
        "\\begin{align*}\n",
        "u & = F(x) \\\\\n",
        "u & = \\frac{2}{35} ⋅ x^3 + \\frac{19}{35} \\\\\n",
        "u - \\frac{19}{35} & =  x^3 \\\\\n",
        "\\left(u - \\frac{19}{35}\\right)⋅\\frac{35}{2} & =  x^3 \\\\\n",
        "\\sqrt[3]{\\left(u - \\frac{19}{35}\\right)⋅\\frac{35}{2}} & =  x \\\\\n",
        "\\sqrt[3]{u\\cdot\\frac{35}{2} - \\frac{19}{35}⋅\\frac{35}{2}} & =  x \\\\\n",
        "\\sqrt[3]{u\\cdot\\frac{35}{2} - \\frac{19}{2}} & =  x\n",
        "\\end{align*}\n",
        "\n",
        "\n"
      ],
      "metadata": {
        "id": "5_w40IyHDuro"
      }
    },
    {
      "cell_type": "code",
      "source": [
        "import numpy as np\n",
        "import matplotlib.pyplot as plt\n",
        "\n",
        "def F_1_inv(x):\n",
        "    return np.where(\n",
        "        (x <= 3/5),\n",
        "        -3 + np.sqrt(324 + 420 * x) / 6,\n",
        "        np.nan\n",
        "    )\n",
        "\n",
        "def F_2_inv(x):\n",
        "    return np.where(\n",
        "        (x > 3/5) & (x <= 1),\n",
        "        (x*(35/2)-(19/2))**(1/3),\n",
        "        np.nan\n",
        "    )\n",
        "\n",
        "\n",
        "# Dominio común\n",
        "x = np.linspace(0, 1, 1000)\n",
        "\n",
        "# Evaluar funciones\n",
        "y_F_1_inv = F_1_inv(x)\n",
        "y_F_2_inv = F_2_inv(x)\n",
        "\n",
        "plt.figure(figsize=(3, 2))\n",
        "plt.plot(x, y_F_1_inv, label=\"F_1_inv(x)\")\n",
        "plt.plot(x, y_F_2_inv, label=\"F_2_inv(x))\")\n",
        "\n",
        "plt.title(\"F_inv\")\n",
        "plt.xlabel(\"x\")\n",
        "plt.ylabel(\"y\")\n",
        "plt.legend()\n",
        "plt.grid(True)\n",
        "plt.show()"
      ],
      "metadata": {
        "colab": {
          "base_uri": "https://localhost:8080/",
          "height": 291
        },
        "id": "mFjrZKOBoVhe",
        "outputId": "03b134b5-d69b-4367-fef5-4e35726fffc5"
      },
      "execution_count": null,
      "outputs": [
        {
          "output_type": "stream",
          "name": "stderr",
          "text": [
            "<ipython-input-33-dfe16280da14>:14: RuntimeWarning: invalid value encountered in power\n",
            "  (x*(35/2)-(19/2))**(1/3),\n"
          ]
        },
        {
          "output_type": "display_data",
          "data": {
            "text/plain": [
              "<Figure size 300x200 with 1 Axes>"
            ],
            "image/png": "[encoded data removed]"
          },
          "metadata": {}
        }
      ]
    },
    {
      "cell_type": "markdown",
      "source": [
        "#### Código"
      ],
      "metadata": {
        "id": "s053ndWurA7w"
      }
    },
    {
      "cell_type": "code",
      "source": [
        "from random import random\n",
        "import numpy as np\n",
        "\n",
        "def f_tinv_ejb():\n",
        "  u = random()\n",
        "  if u <= 3/5:\n",
        "    return -3 + np.sqrt(324 + 420 * u) / 6\n",
        "  else:\n",
        "    return ((u*35-19)/2)**(1/3)"
      ],
      "metadata": {
        "id": "xphvN1EwrC_J"
      },
      "execution_count": null,
      "outputs": []
    },
    {
      "cell_type": "code",
      "source": [
        "f_tinv_ejb()"
      ],
      "metadata": {
        "colab": {
          "base_uri": "https://localhost:8080/"
        },
        "id": "585McGpOrudu",
        "outputId": "a8014096-14dd-41c6-fdb8-760b46bad7d7"
      },
      "execution_count": null,
      "outputs": [
        {
          "output_type": "execute_result",
          "data": {
            "text/plain": [
              "np.float64(0.14405591049286715)"
            ]
          },
          "metadata": {},
          "execution_count": 22
        }
      ]
    },
    {
      "cell_type": "markdown",
      "source": [
        "#### Revisamos\n",
        "\n",
        "Revisamos que lo generado corresponda con la distibución deseada:"
      ],
      "metadata": {
        "id": "oAQ8q3fqr4BP"
      }
    },
    {
      "cell_type": "code",
      "source": [
        "import seaborn as sns\n",
        "import matplotlib.pyplot as plt\n",
        "import numpy as np\n",
        "\n",
        "def f(x):\n",
        "    return np.where(\n",
        "        (x <= 0),\n",
        "        0,\n",
        "        np.where(\n",
        "            (x <= 1),\n",
        "            (6 * (x + 3)) / 35,\n",
        "            np.where(\n",
        "                (x <= 2),\n",
        "                (6 * x**2)/ 35,\n",
        "                0\n",
        "            )\n",
        "        )\n",
        "    )\n",
        "\n",
        "x = np.linspace(-0.5, 2.5, 1000)\n",
        "n_sim = int(4e5)\n",
        "s = np.empty(n_sim)\n",
        "for i in range(n_sim):\n",
        "  s[i]=f_tinv_ejb()\n",
        "\n",
        "\n",
        "sns.lineplot(x=x, y=f(x),color='red')\n",
        "sns.histplot(s, stat = 'density')\n",
        "plt.show()"
      ],
      "metadata": {
        "colab": {
          "base_uri": "https://localhost:8080/",
          "height": 430
        },
        "id": "bbqzkDMOr5DP",
        "outputId": "cdc40239-2bdf-4407-98dc-6f3949c2e81e"
      },
      "execution_count": null,
      "outputs": [
        {
          "output_type": "display_data",
          "data": {
            "text/plain": [
              "<Figure size 640x480 with 1 Axes>"
            ],
            "image/png": "[encoded data removed]"
          },
          "metadata": {}
        }
      ]
    },
    {
      "cell_type": "markdown",
      "source": [
        "### c)\n",
        "\n",
        "$$\n",
        "f(x) =\n",
        "\\begin{cases}\n",
        "\\frac{e^{4x}}{4} & \\text{si } -\\infty < x \\leq 0 \\\\\n",
        "\\frac{1}{4} & \\text{si } 0 < x \\leq \\frac{15}{4} \\\\\n",
        "0 & \\text{en otro caso}\n",
        "\\end{cases}\n",
        "$$"
      ],
      "metadata": {
        "id": "9syiuZx96ixr"
      }
    },
    {
      "cell_type": "markdown",
      "source": [
        "#### Parte teorica\n",
        "\n",
        "Echa en papel, es facil."
      ],
      "metadata": {
        "id": "od2F978onDVb"
      }
    },
    {
      "cell_type": "markdown",
      "source": [
        "#### Código"
      ],
      "metadata": {
        "id": "8y6mlkKyfizw"
      }
    },
    {
      "cell_type": "code",
      "source": [
        "from random import random\n",
        "import numpy as np\n",
        "\n",
        "def f_tinv_ejc():\n",
        "  u = random()\n",
        "  if u <= 1/16:\n",
        "    return np.log(16*u)/4\n",
        "  else:\n",
        "    return 4*u-1/4\n"
      ],
      "metadata": {
        "id": "5LYNLOYwdu6R"
      },
      "execution_count": null,
      "outputs": []
    },
    {
      "cell_type": "code",
      "source": [
        "f_tinv_ejc()"
      ],
      "metadata": {
        "colab": {
          "base_uri": "https://localhost:8080/"
        },
        "id": "DcJR_XQofBkl",
        "outputId": "a791336b-5ae2-4671-e920-566a01e242c6"
      },
      "execution_count": null,
      "outputs": [
        {
          "output_type": "execute_result",
          "data": {
            "text/plain": [
              "2.0705212509594135"
            ]
          },
          "metadata": {},
          "execution_count": 22
        }
      ]
    },
    {
      "cell_type": "markdown",
      "source": [
        "#### Revisamos\n",
        "\n",
        "Revisamos que lo generado corresponda con la distibución deseada:"
      ],
      "metadata": {
        "id": "Hotdq-IBk4wY"
      }
    },
    {
      "cell_type": "code",
      "source": [
        "import seaborn as sns\n",
        "import matplotlib.pyplot as plt\n",
        "import numpy as np\n",
        "\n",
        "def f(x):\n",
        "    return np.where(\n",
        "        (x <= 0),\n",
        "        np.exp(4 * x) / 4,\n",
        "        np.where(\n",
        "            (x <= 15/4),\n",
        "            1/4,\n",
        "            0\n",
        "        )\n",
        "    )\n",
        "\n",
        "x = np.linspace(-5, 5, 1000)\n",
        "n_sim = int(1e5)\n",
        "s = np.empty(n_sim)\n",
        "for i in range(n_sim):\n",
        "  s[i]=f_tinv_ejc()\n",
        "\n",
        "\n",
        "sns.lineplot(x=x, y=f(x),color='red')\n",
        "sns.histplot(s, stat = 'density')\n",
        "plt.show()"
      ],
      "metadata": {
        "colab": {
          "base_uri": "https://localhost:8080/",
          "height": 430
        },
        "id": "OSwnvjh6lPB4",
        "outputId": "3cca968d-2de0-4130-f3c9-07e7dcb31c22"
      },
      "execution_count": null,
      "outputs": [
        {
          "output_type": "display_data",
          "data": {
            "text/plain": [
              "<Figure size 640x480 with 1 Axes>"
            ],
            "image/png": "[encoded data removed]"
          },
          "metadata": {}
        }
      ]
    },
    {
      "cell_type": "markdown",
      "source": [
        "## Ejercicio 2"
      ],
      "metadata": {
        "id": "p1ZgWmxkwbO_"
      }
    },
    {
      "cell_type": "markdown",
      "source": [
        "### a)\n",
        "\n",
        "Desarrolle métodos para generar las siguientes variables aleatorias:\n",
        "\n",
        "> Ayuda: la distribución Pareto y la distribución Weibull tienen distribución acumulada F con forma\n",
        "cerrada, por lo cual puede aplicarse el método de la transformada Inversa. La distribución de Erlang\n",
        "pertenece a la familia de las Gammas. Puede simularse por rechazo o como suma de exponenciales.\n"
      ],
      "metadata": {
        "id": "4HFGtROiwfJM"
      }
    },
    {
      "cell_type": "markdown",
      "source": [
        "### i) Distribución Pareto\n"
      ],
      "metadata": {
        "id": "8w7C0fNPPhEU"
      }
    },
    {
      "cell_type": "markdown",
      "source": [
        "$$f(x) = a x^{-(a+1)}, \\quad 1 \\leq x < \\infty,\\quad a > 0$$"
      ],
      "metadata": {
        "id": "N9lmr5wzhOvY"
      }
    },
    {
      "cell_type": "markdown",
      "source": [
        "#### Parte teorica"
      ],
      "metadata": {
        "id": "jm3K-9z1XzXm"
      }
    },
    {
      "cell_type": "markdown",
      "source": [
        "Como se menciona que tiene una F() cerrada, voy a usar el metodo de la transformada inversa.\n",
        "\n",
        "Primero voy a buscar su función de distibución acumulada (F(x)), analizando por intervalos:\n",
        "\n",
        "Si $-∞≤x≤1$:\n",
        "\\begin{align*}\n",
        "F(x) = \\int_{-∞}^{x} f(x) dx = 0\n",
        "\\end{align*}\n",
        "\n",
        "Si $1≤x≤∞$:\n",
        "\\begin{align*}\n",
        "F(x) & = \\int_{-∞}^{x} f(x) dx \\\\\n",
        "& = \\int_{1}^{x} a x^{-(a+1)} dx \\\\\n",
        "& = a⋅\\int_{1}^{x} x^{-(a+1)} dx \\\\\n",
        "& = a⋅\\left[ \\frac{x^{-(a+1)+1}}{-(a+1)+1} \\right]_1^{}\\\\\n",
        "& = a⋅\\left[ \\frac{x^{-a}}{-a} \\right]_1^{x} \\\\\n",
        "& = a⋅\\left( \\frac{x^{-a}}{-a} -  \\frac{1^{-a}}{-a} \\right) \\\\\n",
        "& = a⋅ \\frac{1}{-a} ⋅ \\left( x^{-a} -  1^{-a} \\right) \\\\\n",
        "& = - \\left( x^{-a} -  1^{-a} \\right) \\\\\n",
        "& = - \\left( x^{-a} -  1 \\right) \\\\\n",
        "& = 1 - x^{-a} \\\\\n",
        "\\end{align*}\n",
        "\n",
        "entonces tenemos que:\n",
        "\n",
        "$$\n",
        "F(x) =\n",
        "\\begin{cases}\n",
        "0 & \\text{si } x < 1 \\\\\n",
        "1 - x^{-a}  & \\text{si } 1 \\le x \\le ∞ \\\\\n",
        "\\end{cases}\n",
        "$$\n",
        "\n",
        "> Claramente $F(∞) = 1 - x^{-∞} = 1 - \\frac{1}{x^{∞}} = 1-0 = 1$\n",
        "\n",
        "Ahora igualamos $F(x)$ a $u$ una v.a uniforme en el $(0,1)$ y despejamos la $x$.\n",
        "\n",
        "\\begin{align*}\n",
        "F(x) & = u \\\\\n",
        "1 - x^{-a} & = u \\\\\n",
        "1 - u  & =  x^{-a} \\\\\n",
        "\\sqrt[-a]{1 - u} & =  \\sqrt[-a]{x^{-a}} \\\\\n",
        "\\sqrt[-a]{1 - u} & =  x \\\\\n",
        "\\left(1 - u\\right)^{-\\frac{1}{a}} & =  x \\\\\n",
        "\\end{align*}"
      ],
      "metadata": {
        "id": "8KN1aX3UXycM"
      }
    },
    {
      "cell_type": "markdown",
      "source": [
        "#### Código"
      ],
      "metadata": {
        "id": "Z0Eh4ganX2vV"
      }
    },
    {
      "cell_type": "code",
      "source": [
        "from random import random\n",
        "import numpy as np\n",
        "\n",
        "def pareto_tinv(a):\n",
        "  u = random()\n",
        "  return (1-u)**(-1/a)"
      ],
      "metadata": {
        "id": "XqknztmvX5TY"
      },
      "execution_count": null,
      "outputs": []
    },
    {
      "cell_type": "code",
      "source": [
        "pareto_tinv(2)"
      ],
      "metadata": {
        "colab": {
          "base_uri": "https://localhost:8080/"
        },
        "id": "SNQscuq9YXec",
        "outputId": "cfd628c7-3041-4135-ba99-007fd7b994fa"
      },
      "execution_count": null,
      "outputs": [
        {
          "output_type": "execute_result",
          "data": {
            "text/plain": [
              "2.115085818617671"
            ]
          },
          "metadata": {},
          "execution_count": 68
        }
      ]
    },
    {
      "cell_type": "markdown",
      "source": [
        "#### Revisamos\n",
        "\n",
        "Basicamente revisamos que lo generado corresponda con la distibución deseada:"
      ],
      "metadata": {
        "id": "2MdCwYZ0YnYu"
      }
    },
    {
      "cell_type": "code",
      "source": [
        "import seaborn as sns\n",
        "import matplotlib.pyplot as plt\n",
        "import numpy as np\n",
        "\n",
        "a = 1\n",
        "\n",
        "def f(x):\n",
        "    return np.where(\n",
        "        (x <= 0),\n",
        "        0,\n",
        "        a*(x**(-(a+1)))\n",
        "    )\n",
        "\n",
        "\n",
        "\n",
        "limit = 20\n",
        "x = np.linspace(1, limit, 1_000)\n",
        "n_sim = int(1e5)\n",
        "s = np.empty(n_sim)\n",
        "for i in range(n_sim):\n",
        "  s[i]=pareto_tinv(a)\n",
        "\n",
        "s_filtered = s[s < limit]\n",
        "sns.lineplot(x=x, y=f(x),color='red')\n",
        "sns.histplot(s_filtered, stat = 'density')\n",
        "plt.xlim(0, limit)\n",
        "plt.show()"
      ],
      "metadata": {
        "colab": {
          "base_uri": "https://localhost:8080/",
          "height": 430
        },
        "id": "TLMrTB06Yvwo",
        "outputId": "bc4be2e8-1813-4911-9431-766f6b53aad2"
      },
      "execution_count": null,
      "outputs": [
        {
          "output_type": "display_data",
          "data": {
            "text/plain": [
              "<Figure size 640x480 with 1 Axes>"
            ],
            "image/png": "[encoded data removed]"
          },
          "metadata": {}
        }
      ]
    },
    {
      "cell_type": "markdown",
      "source": [
        "### ii) Distribución Erlang"
      ],
      "metadata": {
        "id": "j2urgd8khHLt"
      }
    },
    {
      "cell_type": "markdown",
      "source": [
        "$$f(x) = \\frac{x^{k-1} e^{-x/\\mu}}{(k -1)! \\, \\mu^{k}}, \\quad 0 \\leq x < \\infty,\\quad \\mu > 0,\\quad k\\ \\text{entero}$$"
      ],
      "metadata": {
        "id": "mKn2eucfhS2T"
      }
    },
    {
      "cell_type": "markdown",
      "source": [
        "#### Parte teorica"
      ],
      "metadata": {
        "id": "nAaUn8wphTxr"
      }
    },
    {
      "cell_type": "markdown",
      "source": [
        "En la consigna nos ayuda diciendo que se parece a una gama y por ello conviene usar el metodo de acepración y rechazo. Recordemos la **PDF** de una gama:\n",
        "\n",
        "Dados $α > 0$ y $β > 0$ tenemos que:\n",
        "$$\n",
        "f_{Gama}(x) = \\frac{1}{\\Gamma(α)} β^{-α} x^{α - 1} e^{-x/β}\\ \\ \\ \\ si\\ x>0\n",
        "$$\n",
        "\n",
        "pero si tomamos $α  = k \\in N$, tenemos que:\n",
        "\\begin{align*}\n",
        "f_{Gama}(x) & = \\frac{1}{(k−1)!} β^{-k} x^{k - 1} e^{-x/β} \\\\\n",
        "& = \\frac{x^{k - 1} e^{-x/β}}{(k−1)! β^{k}}\n",
        "\\end{align*}\n",
        "\n",
        "y asi llegamos a la f. Notar que $f_{Gama}$ y la nuesta son iguals si $k = \\alpha$ y $α =β$.\n",
        "\n",
        "Ahora queda ver que metodo usar. Recordar que en el teorico vimos que:\n",
        "\n",
        "- **Distribucion del tiempo de arribo (2.1.4)** \\\\\n",
        "Dadas $X_1, X_2, . . . , X_n$ con $Xj∼E(λ)$ tenemos que\n",
        "$$\n",
        "\\sum_{i=1}^{n} X_i ∼ Gama\\left(n, \\frac{1}{λ}\\right)\n",
        "$$\n",
        "\n",
        "- **Usar aceptación y rechazo con una exponencial** \\\\\n",
        "Mucho laburo ...\n",
        "\n",
        "De todas formas hay que generar una exponencial y luego usarla.\n"
      ],
      "metadata": {
        "id": "hd6p331FhSb1"
      }
    },
    {
      "cell_type": "markdown",
      "source": [
        "#### Código"
      ],
      "metadata": {
        "id": "ii3__egmwKA6"
      }
    },
    {
      "cell_type": "code",
      "source": [
        "from random import random\n",
        "from numpy import log\n",
        "\n",
        "def exponencial(lamda):\n",
        "  U = 1-random()\n",
        "  return -log(1-U)/lamda"
      ],
      "metadata": {
        "id": "uAapJIIOswPm"
      },
      "execution_count": null,
      "outputs": []
    },
    {
      "cell_type": "code",
      "source": [
        "def erlang_sum_exp(k,u):\n",
        "  exp = [exponencial(1/u) for _ in range(k)]\n",
        "  return sum(exp)"
      ],
      "metadata": {
        "id": "2Hhvt4MSwc-H"
      },
      "execution_count": null,
      "outputs": []
    },
    {
      "cell_type": "code",
      "source": [
        "erlang_sum_exp(2,2)"
      ],
      "metadata": {
        "colab": {
          "base_uri": "https://localhost:8080/"
        },
        "id": "906kqunmw0kv",
        "outputId": "084a7488-66c9-4582-aba9-cd57f024020a"
      },
      "execution_count": null,
      "outputs": [
        {
          "output_type": "execute_result",
          "data": {
            "text/plain": [
              "np.float64(3.257135549446696)"
            ]
          },
          "metadata": {},
          "execution_count": 80
        }
      ]
    },
    {
      "cell_type": "markdown",
      "source": [
        "#### Revisamos\n",
        "\n",
        "Revisamos que lo generado corresponda con la distibución deseada:"
      ],
      "metadata": {
        "id": "tpXAsXxbw5uu"
      }
    },
    {
      "cell_type": "code",
      "source": [
        "import seaborn as sns\n",
        "import matplotlib.pyplot as plt\n",
        "import numpy as np\n",
        "import math\n",
        "\n",
        "k = 2\n",
        "u = 2\n",
        "\n",
        "def f(x):\n",
        "    return np.where(\n",
        "        (x >= 0),\n",
        "        (x**(k-1) * np.exp(-x/u)) / (math.factorial(k-1) * u**k),\n",
        "        0\n",
        "    )\n",
        "\n",
        "x = np.linspace(0, 30, 1000)\n",
        "n_sim = int(1e5)\n",
        "s = np.empty(n_sim)\n",
        "for i in range(n_sim):\n",
        "  s[i]=erlang_sum_exp(k,u)\n",
        "\n",
        "\n",
        "sns.lineplot(x=x, y=f(x),color='red')\n",
        "sns.histplot(s, stat = 'density')\n",
        "plt.show()"
      ],
      "metadata": {
        "colab": {
          "base_uri": "https://localhost:8080/",
          "height": 430
        },
        "id": "ZAuOuCpDxCMY",
        "outputId": "048f5ec1-0bd8-4ca6-d005-aa45ce3026ff"
      },
      "execution_count": null,
      "outputs": [
        {
          "output_type": "display_data",
          "data": {
            "text/plain": [
              "<Figure size 640x480 with 1 Axes>"
            ],
            "image/png": "[encoded data removed]"
          },
          "metadata": {}
        }
      ]
    },
    {
      "cell_type": "markdown",
      "source": [
        "### iii) Distribución Weibull"
      ],
      "metadata": {
        "id": "eMcD0V8fyBL9"
      }
    },
    {
      "cell_type": "markdown",
      "source": [
        "$$\n",
        "f(x) = \\frac{\\beta}{\\lambda} \\left( \\frac{x}{\\lambda} \\right)^{\\beta - 1}e^{- \\left( x/\\lambda \\right)^{\\beta}}, \\quad x \\geq 0,\\quad \\lambda > 0,\\quad \\beta > 0\n",
        "$$\n",
        "\n",
        "Notar que se puede simplificar:\n",
        "\n",
        "\\begin{align*}\n",
        "f(x) & = \\frac{\\beta}{\\lambda} \\left( \\frac{x}{\\lambda} \\right)^{\\beta - 1}e^{- \\left( x/\\lambda \\right)^{\\beta}} \\\\\n",
        " & = \\beta \\lambda^{-1} \\left( \\frac{x}{\\lambda} \\right)^{\\beta - 1}e^{- \\left( x/\\lambda \\right)^{\\beta}} \\\\\n",
        " & = \\beta \\lambda^{-1} \\lambda^{-({\\beta - 1})} x^{\\beta - 1} e^{- \\left( x/\\lambda \\right)^{\\beta}} \\\\\n",
        " & = \\beta \\lambda^{-1} \\lambda^{-\\beta + 1} x^{\\beta - 1} e^{- \\left( x/\\lambda \\right)^{\\beta}} \\\\\n",
        " & = \\beta \\lambda^{-\\beta} x^{\\beta - 1} e^{- \\left( x/\\lambda \\right)^{\\beta}} \\\\\n",
        "\\end{align*}"
      ],
      "metadata": {
        "id": "55ODvddHyK-h"
      }
    },
    {
      "cell_type": "markdown",
      "source": [
        "#### Parte teorica"
      ],
      "metadata": {
        "id": "2jOiA1osylh8"
      }
    },
    {
      "cell_type": "markdown",
      "source": [
        "Segun la ayuda, tenemos que $f$ tiene que existe formula cerrada para $F$ y nos sirve para usar el metodo de la trasnformada inversa.\n",
        "\n",
        "Calculemos:\n",
        "\n",
        "\\begin{align*}\n",
        "F(x) & = \\int_{-∞}^{x} f(x) dx \\\\\n",
        "& = \\int_{-∞}^{x} \\beta \\lambda^{-\\beta} x^{\\beta - 1} e^{- \\left( x/\\lambda \\right)^{\\beta}} dx \\\\\n",
        "& =  \\beta \\lambda^{-\\beta}  \\int_{-∞}^{x}x^{\\beta - 1} e^{- \\left( x/\\lambda \\right)^{\\beta}} dx \\\\\n",
        "& ... \\\\\n",
        "& = 1-e^{−(x/λ)^β}\n",
        "\\end{align*}\n",
        "\n",
        "> Ayuda: https://en.wikipedia.org/wiki/Weibull_distribution\n",
        "\n",
        "por lo tanto si igualamos a $u$ una v.a uniforme en el (0,1):\n",
        "\n",
        "\\begin{align*}\n",
        "F(x) & = u \\\\\n",
        "1-e^{-(x/λ)^{β}} & = u \\\\\n",
        "e^{-(x/λ)^{β}} & = 1-u \\\\\n",
        "\\frac{1}{e^{(x/λ)^{β}}} & = 1-u \\\\\n",
        "e^{(x/λ)^{β}} & = \\frac{1}{1-u} \\\\\n",
        "(x/λ)^{β} & = ln\\left(\\frac{1}{1-u} \\right)\\\\\n",
        "x/λ & = \\sqrt[β]{ ln\\left(\\frac{1}{1-u} \\right)}\\\\\n",
        "x & = \\sqrt[β]{ ln\\left(\\frac{1}{1-u} \\right)} ⋅ λ\\\\\n",
        "x & = \\sqrt[β]{-ln(1-u)} ⋅ λ\\\\\n",
        "\\end{align*}\n"
      ],
      "metadata": {
        "id": "kBi27IClyniv"
      }
    },
    {
      "cell_type": "markdown",
      "source": [
        "#### Código"
      ],
      "metadata": {
        "id": "vVj7t32y4dTY"
      }
    },
    {
      "cell_type": "code",
      "source": [
        "from random import random\n",
        "import numpy as np\n",
        "\n",
        "def weibull_tinv(beta, lamda):\n",
        "  u = random()\n",
        "  return ((np.log(1/(1-u)))**(1/beta)) * lamda"
      ],
      "metadata": {
        "id": "SU2dn6Ui4hMC"
      },
      "execution_count": null,
      "outputs": []
    },
    {
      "cell_type": "code",
      "source": [
        "weibull_tinv(2,2)"
      ],
      "metadata": {
        "colab": {
          "base_uri": "https://localhost:8080/"
        },
        "id": "vkWFi2Xb4-3_",
        "outputId": "46308517-b168-4eb2-ab25-9c472d1a8162"
      },
      "execution_count": null,
      "outputs": [
        {
          "output_type": "execute_result",
          "data": {
            "text/plain": [
              "np.float64(2.066015008782673)"
            ]
          },
          "metadata": {},
          "execution_count": 34
        }
      ]
    },
    {
      "cell_type": "markdown",
      "source": [
        "#### Revisamos\n",
        "\n",
        "Revisamos que lo generado corresponda con la distibución deseada:"
      ],
      "metadata": {
        "id": "-PQzNwCS5N3J"
      }
    },
    {
      "cell_type": "code",
      "source": [
        "import seaborn as sns\n",
        "import matplotlib.pyplot as plt\n",
        "import numpy as np\n",
        "\n",
        "beta = 2\n",
        "lamda = 2\n",
        "\n",
        "def f(x):\n",
        "    return np.where(\n",
        "        (x <= 0),\n",
        "        0,\n",
        "        (beta/lamda) * (x/lamda)**(beta-1) * np.exp(-(x/lamda)**beta)\n",
        "    )\n",
        "\n",
        "\n",
        "\n",
        "x = np.linspace(0, 10, 1_000)\n",
        "n_sim = int(1e5)\n",
        "s = np.empty(n_sim)\n",
        "for i in range(n_sim):\n",
        "  s[i]=weibull_tinv(beta, lamda)\n",
        "\n",
        "sns.lineplot(x=x, y=f(x),color='red')\n",
        "sns.histplot(s, stat = 'density')\n",
        "plt.show()"
      ],
      "metadata": {
        "colab": {
          "base_uri": "https://localhost:8080/",
          "height": 430
        },
        "id": "UY5pGaXC5Oo4",
        "outputId": "5b0799d0-3088-4099-9d11-e20ab0917239"
      },
      "execution_count": null,
      "outputs": [
        {
          "output_type": "display_data",
          "data": {
            "text/plain": [
              "<Figure size 640x480 with 1 Axes>"
            ],
            "image/png": "[encoded data removed]"
          },
          "metadata": {}
        }
      ]
    },
    {
      "cell_type": "markdown",
      "source": [
        "### b) Compara valor exacto y estimación de la media\n",
        "Estime la media de cada variable con 10.000 repeticiones, usando los parámetros $α$ = 2, µ = 2, k = 2, λ = 1, β = 2. Busque en la web los valores de las esperanzas para cada variable con estos parámetros (cuidado con las parametrizaciones) y compare los valores obtenidos."
      ],
      "metadata": {
        "id": "wPRhtgsxPHF2"
      }
    },
    {
      "cell_type": "markdown",
      "source": [
        "Fuentes:\n",
        "\n",
        "- https://en.wikipedia.org/wiki/Pareto_distribution \\\\\n",
        "$E[Pareto(α)] = α/(α-1)$ si $α>1$ \\\\\n",
        "$E[Pareto(α)] = ∞\\ \\ \\ \\  \\ \\ \\ \\ \\ \\ \\ \\ \\ \\ $si $α ≤ 1$\n",
        "\n",
        "- De las notas de clase \\\\\n",
        "$E[Erlang(k,μ)] = E[Gamma(k,μ)] = k\\cdotμ$\n",
        "\n",
        "- De las notas de clase \\\\\n",
        "$E[Weibull(β,λ)] = λ/β  \\cdot \\Gamma (1/β)$\n"
      ],
      "metadata": {
        "id": "eeLYJlLj_npR"
      }
    },
    {
      "cell_type": "code",
      "source": [
        "import math\n",
        "\n",
        "def pareto_esperanza_exacta(a):\n",
        "  return a/(a-1)\n",
        "\n",
        "def erlang_esperanza_exacta(k,u):\n",
        "  return k*u\n",
        "\n",
        "def weibull_esperanza_exacta(beta, lamda):\n",
        "  return (lamda/beta)*math.gamma(1/beta)\n",
        "\n",
        "def etimacion_esperanza(N, metodo, *args,**kwargs):\n",
        "  valores = [metodo(*args, **kwargs) for _ in range(N)]\n",
        "  return sum(valores)/N\n",
        "\n",
        "N = 10000\n",
        "parametros = [\n",
        "    (\"Pareto\", {\"a\": 2}, pareto_tinv, pareto_esperanza_exacta),\n",
        "    (\"Erlang\", {\"k\": 2, \"u\": 2}, erlang_sum_exp, erlang_esperanza_exacta),\n",
        "    (\"Weibull\", {\"beta\": 2, \"lamda\": 1}, weibull_tinv, weibull_esperanza_exacta),\n",
        "]\n",
        "\n",
        "for nombre, parametros_metodo, metodo, esperanza_exacta in parametros:\n",
        "  estimacion_esperanza = etimacion_esperanza(N, metodo, **parametros_metodo)\n",
        "  esperanza_exacta = esperanza_exacta(**parametros_metodo)\n",
        "  print(\"-\"*50)\n",
        "  print(f\"Distibución {nombre}\")\n",
        "  print(f\"-   Estimación de la esperanza: {estimacion_esperanza}\")\n",
        "  print(f\"-   Esperanza exacta: {esperanza_exacta}\")\n",
        "  print(\"-\"*50)\n",
        "\n",
        "\n"
      ],
      "metadata": {
        "colab": {
          "base_uri": "https://localhost:8080/"
        },
        "id": "cPu47kwSFHh_",
        "outputId": "075934a7-df0c-4da5-c844-0ed63cf1494c"
      },
      "execution_count": null,
      "outputs": [
        {
          "output_type": "stream",
          "name": "stdout",
          "text": [
            "--------------------------------------------------\n",
            "Distibución Pareto\n",
            "-   Estimación de la esperanza: 2.0174864571590367\n",
            "-   Esperanza exacta: 2.0\n",
            "--------------------------------------------------\n",
            "--------------------------------------------------\n",
            "Distibución Erlang\n",
            "-   Estimación de la esperanza: 3.968814879335733\n",
            "-   Esperanza exacta: 4\n",
            "--------------------------------------------------\n",
            "--------------------------------------------------\n",
            "Distibución Weibull\n",
            "-   Estimación de la esperanza: 0.8821168772378932\n",
            "-   Esperanza exacta: 0.8862269254527579\n",
            "--------------------------------------------------\n"
          ]
        }
      ]
    },
    {
      "cell_type": "markdown",
      "source": [
        "## Ejercicio 3\n",
        "\n",
        "Método de la composición:\n"
      ],
      "metadata": {
        "id": "k0_snR6BTi81"
      }
    },
    {
      "cell_type": "markdown",
      "source": [
        "### a)\n",
        "Suponga que es relativamente fácil generar n variables aleatorias a partir de sus distribuciones de\n",
        "probabilidad $Fi, i = 1,...,n$. Implemente un método para generar una variable aleatoria cuya distribución de probabilidad es\n",
        "$$\n",
        "F(x) = \\sum_{i=1}^n p_i \\cdot F_i(x)\n",
        "$$\n",
        "\n",
        "donde $p_i, i = 1,...,n$, son números no negativos cuya suma es 1.\n"
      ],
      "metadata": {
        "id": "ZBULz8joaUHP"
      }
    },
    {
      "cell_type": "markdown",
      "source": [
        "#### Metodo"
      ],
      "metadata": {
        "id": "yD9kAfm25obh"
      }
    },
    {
      "cell_type": "code",
      "source": [
        "from random import random\n",
        "from collections.abc import Callable\n",
        "from typing import TypeAlias\n",
        "\n",
        "VariableAleatoria: TypeAlias = Callable[[],float]\n",
        "\n",
        "def composicion(p: list[float], metodos: list[VariableAleatoria]) -> VariableAleatoria:\n",
        "  if sum(p) != 1:\n",
        "    raise ValueError(\"La suma de los pesos debe ser 1\")\n",
        "  if len(p) != len(metodos):\n",
        "    raise ValueError(\"La cantidad de pesos debe ser igual a la cantidad de métodos\")\n",
        "\n",
        "  sum_p: float = 0.0\n",
        "  acum_p: list[float] = []\n",
        "  for i in range(len(p)):\n",
        "    sum_p += p[i]\n",
        "    acum_p.append(sum_p)\n",
        "\n",
        "  def va() -> float:\n",
        "    u = random()\n",
        "    for i in range(len(acum_p)):\n",
        "      if u <= acum_p[i]:\n",
        "        return metodos[i]()\n",
        "\n",
        "  return va"
      ],
      "metadata": {
        "id": "LiGqfC4Hu0vr"
      },
      "execution_count": null,
      "outputs": []
    },
    {
      "cell_type": "markdown",
      "source": [
        "#### Demostración\n",
        "\n",
        "Llamemos $Z$ la variable aleatoria propuesta. Ademas denotemos $X_1,\\dots,X_n$ las v.a de las $F_i$ con $i=1,\\dots,n$. Sea $M_j$ el conjunto de valores que toma $X_i$  en donde este definida con $j \\in N$ y por ultimo sean $f_{X_i}$ las funciones de probabilida de densidad asociadas.\n",
        "\n",
        "Ahora si con esto podemos analizar mejor $Z$.\n",
        "\n",
        "Sea $x$ cualquiera:\n",
        "\\begin{align*}\n",
        "f_Z(x) & = P(Z = x) \\\\\n",
        "& = \\sum_{i=1}^{n} p_i ⋅ P(X_j = x) \\\\\n",
        "& = \\sum_{i=1}^{n} p_i ⋅ f_{X_i}(x)\n",
        "\\end{align*}\n",
        "\n",
        "> Recordar que cada $f_{X_i}$ esta definida para todo valor $x$ y si no se escribe entonces se asume que $f_{X_i}(x) = 0$.\n",
        "\n",
        "Ahora calculemos su acumulada:\n",
        "\n",
        "\\begin{align*}\n",
        "F_Z(x) & = \\int_{-∞}^{x} f_Z(x) dx \\\\\n",
        "& = \\int_{-∞}^{x} f_Z(x) dx \\\\\n",
        "& = \\int_{-∞}^{x} \\sum_{i=1}^{n}  p_i⋅f_{X_i}(x) dx \\\\\n",
        "& = \\sum_{i=1}^{n} p_i⋅ \\int_{-∞}^{x} f_{X_i}(x) dx \\\\\n",
        "& = \\sum_{i=1}^{n} p_i⋅ F_{X_i}(x) \\\\\n",
        "\\end{align*}\n"
      ],
      "metadata": {
        "id": "PBja8JYC5jq2"
      }
    },
    {
      "cell_type": "markdown",
      "source": [
        "### b)\n",
        "Genere datos usando tres exponenciales independientes con media 3, 5 y 7 respectivamente y p =(0.5,0.3,0.2). Calcule la esperanza exacta de la mezcla y estime con 10.000 repeticiones. Tenga cuidado con la parametrización que este usando!!"
      ],
      "metadata": {
        "id": "-XpxfGxdaUro"
      }
    },
    {
      "cell_type": "markdown",
      "source": [
        "#### Esperanza exacta"
      ],
      "metadata": {
        "id": "UfhRfJqkGNB1"
      }
    },
    {
      "cell_type": "markdown",
      "source": [
        "Caculemos la esperanza exacta:\n",
        "\n",
        "$$\n",
        "X_1 \\backsim \\mathcal{E} (λ=(1/3))\\ \\ ,\\ \\\n",
        "X_2 \\backsim \\mathcal{E} (λ=(1/5))\\ \\ ,\\ \\\n",
        "X_3 \\backsim \\mathcal{E} (λ=(1/7))\n",
        "$$\n",
        "\\begin{align*}\n",
        "E[Z] & =\\sum_{i=1}^{n} p_i⋅ E[{X_i}] \\\\\n",
        "& =  0.5 ⋅ E[{X_1}] + 0.3 ⋅ E[{X_2}] + 0.2 ⋅ E[{X_3}] \\\\\n",
        "& =  0.5 ⋅ 3 + 0.3 ⋅ 5 + 0.2 ⋅ 7 \\\\\n",
        "& = 4,4\n",
        "\\end{align*}"
      ],
      "metadata": {
        "id": "xz7DHrvtCsME"
      }
    },
    {
      "cell_type": "markdown",
      "source": [
        "#### Código"
      ],
      "metadata": {
        "id": "RJQqdxDwGQ7T"
      }
    },
    {
      "cell_type": "code",
      "source": [
        "from random import random\n",
        "from numpy import log\n",
        "\n",
        "def exponencial(lamda):\n",
        "  U = 1-random()\n",
        "  return -log(1-U)/lamda"
      ],
      "metadata": {
        "id": "gApwgmMTCDMD"
      },
      "execution_count": null,
      "outputs": []
    },
    {
      "cell_type": "code",
      "source": [
        "p_s = [0.5,0.3,0.2]\n",
        "metodos =[ lambda: exponencial(1/3), lambda: exponencial(1/5), lambda: exponencial(1/7)]\n",
        "\n",
        "va_Z = composicion(p_s, metodos)"
      ],
      "metadata": {
        "id": "Qae_3Qd6CJhZ"
      },
      "execution_count": null,
      "outputs": []
    },
    {
      "cell_type": "markdown",
      "source": [
        "#### Comparación"
      ],
      "metadata": {
        "id": "YNIBXydpGSUc"
      }
    },
    {
      "cell_type": "code",
      "source": [
        "N = 10**4\n",
        "valores = [va_Z() for _ in range(N)]\n",
        "estimacion_esperanza = sum(valores)/N\n",
        "print(f\"Estimación de la esperanza: {estimacion_esperanza}\")\n",
        "print(f\"Esperanza exacta: {4.4}\")"
      ],
      "metadata": {
        "colab": {
          "base_uri": "https://localhost:8080/"
        },
        "id": "lY1gTUNxCk6e",
        "outputId": "f9ba2522-b79e-46a1-d820-1c7e757fb5a7"
      },
      "execution_count": null,
      "outputs": [
        {
          "output_type": "stream",
          "name": "stdout",
          "text": [
            "Estimación de la esperanza: 4.4041666034684\n",
            "Esperanza exacta: 4.4\n"
          ]
        }
      ]
    },
    {
      "cell_type": "markdown",
      "source": [
        "## Ejercicio 4 😰😰😰\n"
      ],
      "metadata": {
        "id": "RvtFK8vPHGTW"
      }
    },
    {
      "cell_type": "markdown",
      "source": [
        "Desarrolle un método para generar la variable aleatoria con función de distribución:\n",
        "\n",
        "$$\n",
        "F(x) = \\int_0^∞ x^y e^{-y} dy,\\ \\ \\ \\ \\ \\ 0 ≤ x ≤ 1\n",
        "$$\n",
        "\n",
        "Piense en el método de composición del ejercicio anterior. En particular, sea F la función de distribución de X y suponga que la distribución condicional de X dado Y = y es\n",
        "\n",
        "$$\n",
        "P(X ≤ x|Y = y) = x^y,\\ \\ \\ \\ \\ \\ \\ \\ 0 ≤ x ≤ 1\n",
        "$$\n"
      ],
      "metadata": {
        "id": "hZR8zaGZHMZV"
      }
    },
    {
      "cell_type": "markdown",
      "source": [
        "#### Parte teorica"
      ],
      "metadata": {
        "id": "3_D65SGaY4dY"
      }
    },
    {
      "cell_type": "markdown",
      "source": [
        "Si suponemos $Y \\backsim \\mathcal{E}(λ=1)$, por definición:\n",
        "\n",
        "$$f_Y(x) =e^{-x}$$\n",
        "\n",
        "Entonces si asumimos que $P(X ≤ x|Y = y) = x^y$, tenemos que:\n",
        "\n",
        "\\begin{align*}\n",
        "F(x) & = \\int_0^∞ x^y e^{-y} dy \\\\\n",
        "& = \\int_0^∞ P(X ≤ x|Y = y) f_Y(y) dy\n",
        "\\end{align*}"
      ],
      "metadata": {
        "id": "ic1339-ZPyGx"
      }
    },
    {
      "cell_type": "markdown",
      "source": [
        "## Ejercicio 5"
      ],
      "metadata": {
        "id": "O_sbOxNIY7YF"
      }
    },
    {
      "cell_type": "markdown",
      "source": [
        "### a) Metodos\n",
        "\n",
        "Considere que es sencillo generar una variable aleatoria a partir de cualquiera de las distribuciones $F_i, i = 1,...,n$. Explique cómo generar variables aleatorias a partir de las siguientes distribuciones:\n",
        "\n",
        "> **Sugerencia**: Si $X_i, i = 1,...,n$, son variables aleatorias independientes, donde $X_i$ tiene distribución $F_i$ ¿cuál variable aleatoria tiene como distribución a $F$ en cada caso?\n",
        "\n"
      ],
      "metadata": {
        "id": "Ui_0KOuqY97Y"
      }
    },
    {
      "cell_type": "markdown",
      "source": [
        "#### i)\n",
        "$$F_M(x) =\\prod_{i=1}^n F_i(x)$$"
      ],
      "metadata": {
        "id": "cLQ3xhBjZ4nq"
      }
    },
    {
      "cell_type": "markdown",
      "source": [
        "##### Código"
      ],
      "metadata": {
        "id": "OMQ5_IKvf3j6"
      }
    },
    {
      "cell_type": "code",
      "source": [
        "from random import random\n",
        "from collections.abc import Callable\n",
        "\n",
        "def composicion_M(metodos: list[Callable[[],float]]) -> float:\n",
        "  valores = [metodo() for metodo in metodos]\n",
        "  return max(valores)\n"
      ],
      "metadata": {
        "id": "ECNx21eMZ7Tp"
      },
      "execution_count": null,
      "outputs": []
    },
    {
      "cell_type": "markdown",
      "source": [
        "##### Demostración\n",
        "\n",
        "En el teorico vimos (pag 93, ej6.3) que si son $X_1,…,X_n$ v.a independientes con función de distribucion acumulada $F_1,…,F_n$ si:\n",
        "$$\n",
        "M = \\max\\{X_1,...,X_n\\}\n",
        "$$\n",
        "entonces\n",
        "$$\n",
        "F_M(x) = F_1(x) \\dots F_n(x) = \\prod_{i=1}^n F_i(x)\n",
        "$$"
      ],
      "metadata": {
        "id": "z-JGZVbKaqKH"
      }
    },
    {
      "cell_type": "markdown",
      "source": [
        "#### ii)\n",
        "$$F_M(x) =1-\\prod_{i=1}^n (1-F_i(x))$$"
      ],
      "metadata": {
        "id": "ntbpQ32Kfy8a"
      }
    },
    {
      "cell_type": "markdown",
      "source": [
        "##### Código"
      ],
      "metadata": {
        "id": "1DaeXRikgB1I"
      }
    },
    {
      "cell_type": "code",
      "source": [
        "from random import random\n",
        "from collections.abc import Callable\n",
        "\n",
        "def composicion_m(metodos: list[Callable[[],float]]) -> float:\n",
        "  valores = [metodo() for metodo in metodos]\n",
        "  return min(valores)\n"
      ],
      "metadata": {
        "id": "reEf1kxjgFXQ"
      },
      "execution_count": null,
      "outputs": []
    },
    {
      "cell_type": "markdown",
      "source": [
        "##### Demostración\n",
        "\n",
        "En el teorico vimos (pag 27) que si son $X_1,…,X_n$ v.a independientes con función de distribucion acumulada $F_1,…,F_n$ si:\n",
        "$$\n",
        "M = \\min\\{X_1,...,X_n\\}\n",
        "$$\n",
        "entonces\n",
        "$$\n",
        "1 - F_M(x) = (1-F_1(x)) \\dots (1-F_n(x)) = \\prod_{i=1}^n (1-F_i(x))\n",
        "$$\n",
        "por lo tanto\n",
        "\\begin{align*}\n",
        "1 - F_M(x) & = \\prod_{i=1}^n (1-F_i(x)) \\\\\n",
        "-1 + F_M(x) & = - \\prod_{i=1}^n (1-F_i(x)) \\\\\n",
        "F_M(x) & = 1 - \\prod_{i=1}^n (1-F_i(x)) \\\\\n",
        "\\end{align*}"
      ],
      "metadata": {
        "id": "xIzQ1iAagLEP"
      }
    },
    {
      "cell_type": "markdown",
      "source": [
        "### b) Muestras de M y m\n",
        "\n",
        "Genere una muestra de 10 valores de las variables M y m con distribuciones $F_M$ y $F_m$ si $X_i$ son exponenciales independientes con parámetros 1, 2 y 3 respectivamente.\n"
      ],
      "metadata": {
        "id": "vCPvZF2Rg77R"
      }
    },
    {
      "cell_type": "code",
      "source": [
        "from random import random\n",
        "from numpy import log\n",
        "\n",
        "def exponencial(lamda):\n",
        "  U = 1-random()\n",
        "  return -log(1-U)/lamda"
      ],
      "metadata": {
        "id": "Um0-2v9yhFO7"
      },
      "execution_count": null,
      "outputs": []
    },
    {
      "cell_type": "code",
      "source": [
        "N = 10\n",
        "metodos =[ lambda: exponencial(1), lambda: exponencial(2), lambda: exponencial(3)]\n",
        "\n",
        "print(\"-\"*100)\n",
        "print(f\"Variable M\")\n",
        "print([round(float(composicion_M(metodos)), 6) for _ in range(N)])\n",
        "print(\"-\"*100)\n",
        "print(f\"Variable m\")\n",
        "print([round(float(composicion_m(metodos)), 6) for _ in range(N)])\n",
        "print(\"-\"*100)"
      ],
      "metadata": {
        "colab": {
          "base_uri": "https://localhost:8080/"
        },
        "id": "sAitJlXmhQH6",
        "outputId": "4d45ffba-4dba-4d7c-b51a-8c27e9319349"
      },
      "execution_count": null,
      "outputs": [
        {
          "output_type": "stream",
          "name": "stdout",
          "text": [
            "----------------------------------------------------------------------------------------------------\n",
            "Variable M\n",
            "[3.120511, 0.909118, 2.240785, 0.822157, 0.27318, 0.628103, 1.451072, 1.472779, 0.742259, 1.320877]\n",
            "----------------------------------------------------------------------------------------------------\n",
            "Variable m\n",
            "[0.017144, 0.266311, 0.202298, 0.11119, 0.445671, 0.157791, 0.213326, 0.011426, 0.443329, 0.545373]\n",
            "----------------------------------------------------------------------------------------------------\n"
          ]
        }
      ]
    },
    {
      "cell_type": "markdown",
      "source": [
        "## Ejercicio 6"
      ],
      "metadata": {
        "id": "02jYZhCBiwMm"
      }
    },
    {
      "cell_type": "markdown",
      "source": [
        "Utilice el **método del rechazo** y los resultados del **ejercicio anterior** para desarrollar otros dos métodos, además del método de la **transformada inversa**, para generar una variable aleatoria con distribución de probabilidad:\n",
        "$$\n",
        "F(x) = x^n,\\ \\ \\ \\ \\ \\ 0 ≤ x ≤ 1.\n",
        "$$\n",
        "\n",
        "Analice la eficiencia de los tres métodos para generar la variable a partir de F\n",
        "\n",
        "> Notar que si $n < 1$, $F$ no esta bien definida porque da mayor a 1 en cualquier x menor que 1."
      ],
      "metadata": {
        "id": "7UHLLfumi095"
      }
    },
    {
      "cell_type": "markdown",
      "source": [
        "### Metodo de rechazo"
      ],
      "metadata": {
        "id": "tVVhvgIhjRr-"
      }
    },
    {
      "cell_type": "markdown",
      "source": [
        "#### Parte Teorica"
      ],
      "metadata": {
        "id": "8D9-xoI1vU1d"
      }
    },
    {
      "cell_type": "markdown",
      "source": [
        "Por definición tenemos que:\n",
        "\n",
        "$$\n",
        "f(x) = F'(x) = n⋅x^{n-1},\\ \\ con\\ \\ 0 ≤ x ≤ 1\n",
        "$$\n",
        "\n",
        "propongo $G \\backsim U(0,1)$ por lo tanto $g(x) = 1$, entonces buscamos el $c$:\n",
        "\n",
        "\\begin{align*}\n",
        "\\frac{f(x)}{g(x)} & \\le c \\\\\n",
        "\\frac{n⋅x^{n-1}}{1} & \\le c \\\\\n",
        "n⋅x^{n-1} & \\le c \\\\\n",
        "\\end{align*}\n",
        "\n",
        "Como $n ≥ 1$ y $0 ≤ x ≤ 1$ entonces $n⋅x^{n-1}$ es creciente por lo tanto el maximo esta en $x=1$, por ello $c= n⋅1^{n-1} = n$\n",
        "\n",
        "Ahora en el código, tenemos que ver:\n",
        "\\begin{align*}\n",
        "u & \\le \\frac{f(y)}{c\\cdot g(y)} \\\\\n",
        "u & \\le \\frac{1}{c}⋅n⋅y^{n-1} \\\\\n",
        "u & \\le \\frac{1}{n}⋅n⋅y^{n-1} \\\\\n",
        "u & \\le y^{n-1} \\\\\n",
        "\\end{align*}"
      ],
      "metadata": {
        "id": "r2WVB9cMvUKO"
      }
    },
    {
      "cell_type": "markdown",
      "source": [
        "#### Código"
      ],
      "metadata": {
        "id": "PL9yIU3avX3R"
      }
    },
    {
      "cell_type": "code",
      "source": [
        "from random import random\n",
        "\n",
        "def X_metodo_rechazo(n:float) -> float:\n",
        "  if(n < 1): raise ValueError(\"n debe ser mayor o igual a 1\")\n",
        "  while True:\n",
        "    y = random()\n",
        "    u = random()\n",
        "    if u <= y**(n-1):\n",
        "      return y"
      ],
      "metadata": {
        "id": "d6GWZO4itYOf"
      },
      "execution_count": null,
      "outputs": []
    },
    {
      "cell_type": "code",
      "source": [
        "X_metodo_rechazo(10)"
      ],
      "metadata": {
        "colab": {
          "base_uri": "https://localhost:8080/"
        },
        "id": "-T_G1HaCvH-j",
        "outputId": "6be17917-4fea-400a-ceaf-d7d4fb89e83c"
      },
      "execution_count": null,
      "outputs": [
        {
          "output_type": "execute_result",
          "data": {
            "text/plain": [
              "0.9502610539568618"
            ]
          },
          "metadata": {},
          "execution_count": 90
        }
      ]
    },
    {
      "cell_type": "markdown",
      "source": [
        "### Metodo M (ej anterior)"
      ],
      "metadata": {
        "id": "hkQjN2Kmvql0"
      }
    },
    {
      "cell_type": "markdown",
      "source": [
        "#### Parte Teorica"
      ],
      "metadata": {
        "id": "fWl-bnn6vvKB"
      }
    },
    {
      "cell_type": "markdown",
      "source": [
        "\n",
        "Por definición tenemos que:\n",
        "\n",
        "$$\n",
        "F_X(x) = \\prod_{i=1}^n x\n",
        "$$\n",
        "\n",
        "\n",
        "y con $X_1,…,X_n \\backsim U(0,1)$ tenemos que $F_{X_i}(x) = x$ por lo tanto\n",
        "\n",
        "$$\n",
        "F_X(x) = \\prod_{i=1}^n F_{X_i}(x)\n",
        "$$\n",
        "\n",
        "pero esto es lo mismo que $M$ usando las $X_1,…,X_n$. Por lo tanto $F_X = F_M$.\n",
        "\n",
        "Entonces:\n",
        "$$\n",
        "X = M = \\max\\{X_1,\\dots,X_n\\}\n",
        "$$"
      ],
      "metadata": {
        "id": "FGrkjfedtXlb"
      }
    },
    {
      "cell_type": "markdown",
      "source": [
        "#### Código"
      ],
      "metadata": {
        "id": "41DbN8L6v-eF"
      }
    },
    {
      "cell_type": "code",
      "source": [
        "from random import random\n",
        "from collections.abc import Callable\n",
        "\n",
        "def X_composicion_M(n:float) -> float:\n",
        "  if(n < 1): raise ValueError(\"n debe ser mayor o igual a 1\")\n",
        "  valores = [random() for _ in range(n)]\n",
        "  return max(valores)"
      ],
      "metadata": {
        "id": "VBQevCFgv9-a"
      },
      "execution_count": null,
      "outputs": []
    },
    {
      "cell_type": "code",
      "source": [
        "X_composicion_M(10)"
      ],
      "metadata": {
        "colab": {
          "base_uri": "https://localhost:8080/"
        },
        "id": "lWRLMTMfwqfo",
        "outputId": "5d9a505f-fc3f-4f0e-fd12-8ed9a7299c14"
      },
      "execution_count": null,
      "outputs": [
        {
          "output_type": "execute_result",
          "data": {
            "text/plain": [
              "0.9952962393060946"
            ]
          },
          "metadata": {},
          "execution_count": 85
        }
      ]
    },
    {
      "cell_type": "markdown",
      "source": [
        "### Metodo de la Inversa"
      ],
      "metadata": {
        "id": "eo_kcYLFwz19"
      }
    },
    {
      "cell_type": "markdown",
      "source": [
        "#### Parte Teorica"
      ],
      "metadata": {
        "id": "zzk8IbssxCDK"
      }
    },
    {
      "cell_type": "markdown",
      "source": [
        "Tenemos que:\n",
        "$$\n",
        "F(x) = x^n\n",
        "$$\n",
        "Ahora igualamos a $u$ una valor de una uniforme en el 0,1.\n",
        "\n",
        "\\begin{align*}\n",
        "F(x) & = u \\\\\n",
        "x^n & = u \\\\\n",
        "x & = \\sqrt[n]{u} = {u}^{1/n} \\\\\n",
        "\\end{align*}\n"
      ],
      "metadata": {
        "id": "p8PIXF80xFZR"
      }
    },
    {
      "cell_type": "markdown",
      "source": [
        "#### Código"
      ],
      "metadata": {
        "id": "MpaUXI-CxEEW"
      }
    },
    {
      "cell_type": "code",
      "source": [
        "from random import random\n",
        "\n",
        "def X_tinv(n:float) -> float:\n",
        "  if(n < 1): raise ValueError(\"n debe ser mayor o igual a 1\")\n",
        "  u = random()\n",
        "  return u**(1/n)"
      ],
      "metadata": {
        "id": "Vy2Oz-AvxrTe"
      },
      "execution_count": null,
      "outputs": []
    },
    {
      "cell_type": "code",
      "source": [
        "X_tinv(10)"
      ],
      "metadata": {
        "colab": {
          "base_uri": "https://localhost:8080/"
        },
        "id": "idtSdomvx43X",
        "outputId": "06b9a41b-0219-464f-f05a-9175f2cfe90d"
      },
      "execution_count": null,
      "outputs": [
        {
          "output_type": "execute_result",
          "data": {
            "text/plain": [
              "0.8816438348612331"
            ]
          },
          "metadata": {},
          "execution_count": 88
        }
      ]
    },
    {
      "cell_type": "markdown",
      "source": [
        "### Comparación"
      ],
      "metadata": {
        "id": "9-BqIxfWyAkG"
      }
    },
    {
      "cell_type": "code",
      "source": [
        "%%timeit\n",
        "X_metodo_rechazo(10)"
      ],
      "metadata": {
        "colab": {
          "base_uri": "https://localhost:8080/"
        },
        "id": "igpxpKmIyDOj",
        "outputId": "5bab876d-bd18-447e-f5fe-760a83413529"
      },
      "execution_count": null,
      "outputs": [
        {
          "output_type": "stream",
          "name": "stdout",
          "text": [
            "1.85 µs ± 402 ns per loop (mean ± std. dev. of 7 runs, 1000000 loops each)\n"
          ]
        }
      ]
    },
    {
      "cell_type": "code",
      "source": [
        "%%timeit\n",
        "X_composicion_M(10)"
      ],
      "metadata": {
        "colab": {
          "base_uri": "https://localhost:8080/"
        },
        "id": "ywm6MiGLyIhH",
        "outputId": "8f6a7754-c096-487c-8c9f-ec72128797ff"
      },
      "execution_count": null,
      "outputs": [
        {
          "output_type": "stream",
          "name": "stdout",
          "text": [
            "1.47 µs ± 443 ns per loop (mean ± std. dev. of 7 runs, 1000000 loops each)\n"
          ]
        }
      ]
    },
    {
      "cell_type": "code",
      "source": [
        "%%timeit\n",
        "X_tinv(10)"
      ],
      "metadata": {
        "colab": {
          "base_uri": "https://localhost:8080/"
        },
        "id": "EpIuXzBSyLBt",
        "outputId": "01654d31-5459-4489-c53e-2d89f6520a6d"
      },
      "execution_count": null,
      "outputs": [
        {
          "output_type": "stream",
          "name": "stdout",
          "text": [
            "204 ns ± 24.9 ns per loop (mean ± std. dev. of 7 runs, 10000000 loops each)\n"
          ]
        }
      ]
    },
    {
      "cell_type": "markdown",
      "source": [
        "En resumen el metodo de transformada inversa es el mejor."
      ],
      "metadata": {
        "id": "Tg58nY0KzklI"
      }
    },
    {
      "cell_type": "markdown",
      "source": [
        "### Revisamos"
      ],
      "metadata": {
        "id": "VnQv-_hMyaSp"
      }
    },
    {
      "cell_type": "code",
      "source": [
        "import seaborn as sns\n",
        "import matplotlib.pyplot as plt\n",
        "import numpy as np\n",
        "\n",
        "n = 10\n",
        "def f(x):\n",
        "    return np.where(\n",
        "        (0 <= x) & (x <= 1),\n",
        "        n*x**(n-1),\n",
        "        0\n",
        "    )\n",
        "\n",
        "# Simulaciones\n",
        "n_sim = int(2e4)\n",
        "x = np.linspace(0, 1, 1000)\n",
        "samples_rechazo = np.array([X_metodo_rechazo(n) for _ in range(n_sim)])\n",
        "samples_compos = np.array([X_composicion_M(n) for _ in range(n_sim)])\n",
        "samples_inv = np.array([X_tinv(n) for _ in range(n_sim)])\n",
        "\n",
        "# Plot\n",
        "fig, axes = plt.subplots(1, 3, figsize=(18, 5), sharey=True)\n",
        "\n",
        "# Gráfico 1: Rechazo\n",
        "sns.histplot(samples_rechazo, stat='density', ax=axes[0], color='skyblue')\n",
        "axes[0].plot(x, f(x), color='red')\n",
        "axes[0].set_title(\"Método de Rechazo\")\n",
        "\n",
        "# Gráfico 2: Composición\n",
        "sns.histplot(samples_compos, stat='density', ax=axes[1], color='lightgreen')\n",
        "axes[1].plot(x, f(x), color='red')\n",
        "axes[1].set_title(\"Método de Composición\")\n",
        "\n",
        "# Gráfico 3: Transformada Inversa\n",
        "sns.histplot(samples_inv, stat='density', ax=axes[2], color='lightcoral')\n",
        "axes[2].plot(x, f(x), color='red')\n",
        "axes[2].set_title(\"Transformada Inversa\")\n",
        "\n",
        "plt.tight_layout()\n",
        "plt.show()"
      ],
      "metadata": {
        "colab": {
          "base_uri": "https://localhost:8080/",
          "height": 319
        },
        "id": "67eWR_UZyfnW",
        "outputId": "c63840a6-20ff-4989-90cb-f95c5b1565d6"
      },
      "execution_count": null,
      "outputs": [
        {
          "output_type": "display_data",
          "data": {
            "text/plain": [
              "<Figure size 1800x500 with 3 Axes>"
            ],
            "image/png": "[encoded data removed]"
          },
          "metadata": {}
        }
      ]
    },
    {
      "cell_type": "markdown",
      "source": [
        "## Ejercicio 7"
      ],
      "metadata": {
        "id": "TweB915Lz0o0"
      }
    },
    {
      "cell_type": "markdown",
      "source": [
        "### a) Métodos\n",
        "\n",
        "Desarrolle dos métodos para generar una variable aleatoria X con densidad de probabilidad:\n",
        "\n",
        "$$\n",
        "f(x) =\n",
        "\\begin{cases}\n",
        "\\frac{1}{x}, & \\text{si } 1 \\leq x \\leq e, \\\\\n",
        "0,           & \\text{en otro caso}.\n",
        "\\end{cases}\n",
        "$$\n",
        "\n"
      ],
      "metadata": {
        "id": "IsTQtYOV0xsh"
      }
    },
    {
      "cell_type": "markdown",
      "source": [
        "#### i) Transformada inversa\n"
      ],
      "metadata": {
        "id": "01KIAcjc9EQK"
      }
    },
    {
      "cell_type": "markdown",
      "source": [
        "##### Parte Teorica"
      ],
      "metadata": {
        "id": "XDbKKkLJ9HGq"
      }
    },
    {
      "cell_type": "markdown",
      "source": [
        "Tenemos que calcular primero $F(x)$:\n",
        "\n",
        "Si $-∞ ≤ x < 1$\n",
        "\\begin{align*}\n",
        "F(x) & = \\int_{-∞}^x f(x) dx = 0\n",
        "\\end{align*}\n",
        "\n",
        "Si $1 ≤ x < e$\n",
        "\\begin{align*}\n",
        "F(x) & = \\int_{-∞}^x f(x) dx \\\\\n",
        "& = \\int_{1}^x \\frac{1}{x} dx \\\\\n",
        "&\\ = [\\ln(x)]_{1}^x \\\\\n",
        "&\\ = \\ln(x) - \\ln (1) \\\\\n",
        "&\\ = \\ln(x) \\\\\n",
        "\\end{align*}\n",
        "\n",
        "> Revisamos, $F(e) = \\ln(1) = 1$ por lo tanto eta bien.\n",
        "\n",
        "Ahora si:\n",
        "\n",
        "$$\n",
        "F(x) =\n",
        "\\begin{cases}\n",
        "0  & \\text{si } x < 1, \\\\\n",
        "\\ln(x) & \\text{si } 1 \\leq x \\leq e, \\\\\n",
        "1 & \\text{si } x ≥ e, \\\\\n",
        "\\end{cases}\n",
        "$$\n",
        "\n",
        "ahora igualamos a $u$ un valor de la v.a uniforme en el 0,1 y despejamos la x:\n",
        "\n",
        "\\begin{align*}\n",
        "F(x) & = u \\\\\n",
        "\\ln(x) & = u \\\\\n",
        "x & = e^u\n",
        "\\end{align*}"
      ],
      "metadata": {
        "id": "w_JgqMZn9LZP"
      }
    },
    {
      "cell_type": "markdown",
      "source": [
        "##### Código"
      ],
      "metadata": {
        "id": "KqsKfev2_Y68"
      }
    },
    {
      "cell_type": "code",
      "source": [
        "from random import random\n",
        "import math\n",
        "\n",
        "def ej7_tinv() -> float:\n",
        "  u = random()\n",
        "  return math.exp(u)"
      ],
      "metadata": {
        "id": "ZkCkB_eo_aI4"
      },
      "execution_count": null,
      "outputs": []
    },
    {
      "cell_type": "code",
      "source": [
        "ej7_tinv()"
      ],
      "metadata": {
        "colab": {
          "base_uri": "https://localhost:8080/"
        },
        "id": "S9sBEGF__p-G",
        "outputId": "ffce84b8-c7ea-4c91-f287-9614c1ac65ef"
      },
      "execution_count": null,
      "outputs": [
        {
          "output_type": "execute_result",
          "data": {
            "text/plain": [
              "2.557534803183013"
            ]
          },
          "metadata": {},
          "execution_count": 132
        }
      ]
    },
    {
      "cell_type": "markdown",
      "source": [
        "##### Revisamos"
      ],
      "metadata": {
        "id": "xRTgg04u_xtq"
      }
    },
    {
      "cell_type": "code",
      "source": [
        "import seaborn as sns\n",
        "import matplotlib.pyplot as plt\n",
        "import numpy as np\n",
        "from math import e\n",
        "\n",
        "def f(x):\n",
        "    return np.where(\n",
        "        (1 <= x) & (x <= e),\n",
        "        1/x,\n",
        "        0\n",
        "    )\n",
        "\n",
        "x = np.linspace(0.5, 3, 1000)\n",
        "n_sim = int(1e5)\n",
        "s = np.empty(n_sim)\n",
        "for i in range(n_sim):\n",
        "  s[i]=ej7_tinv()\n",
        "\n",
        "\n",
        "sns.lineplot(x=x, y=f(x),color='red')\n",
        "sns.histplot(s, stat = 'density')\n",
        "plt.show()"
      ],
      "metadata": {
        "colab": {
          "base_uri": "https://localhost:8080/",
          "height": 430
        },
        "id": "rQvEiTuk_xbA",
        "outputId": "8ad2ee23-c2de-45a4-cbda-5b7e796f99df"
      },
      "execution_count": null,
      "outputs": [
        {
          "output_type": "display_data",
          "data": {
            "text/plain": [
              "<Figure size 640x480 with 1 Axes>"
            ],
            "image/png": "[encoded data removed]"
          },
          "metadata": {}
        }
      ]
    },
    {
      "cell_type": "markdown",
      "source": [
        "#### ii) Aceptación y rechazo\n",
        "\n",
        "Aplicando el método de aceptación y rechazo con una variable uniforme."
      ],
      "metadata": {
        "id": "JePQyPEuAp9g"
      }
    },
    {
      "cell_type": "markdown",
      "source": [
        "##### Parte Teorica"
      ],
      "metadata": {
        "id": "3KSOxPNKAx5M"
      }
    },
    {
      "cell_type": "markdown",
      "source": [
        "Para usar el metodo de aceptación y rechazo voy a usar $Y \\backsim U(0,e)$ por lo tanto  $f_Y(x) = \\frac{1}{e}$.\n",
        "\n",
        "Ahora despejemos el $c$:\n",
        "\n",
        "\\begin{align*}\n",
        "\\frac{f(x)}{f_Y(x)} & ≤ c \\\\\n",
        "\\frac{1/x}{1/e} & ≤ c \\\\\n",
        "\\frac{e}{x} & ≤ c \\\\\n",
        "\\end{align*}\n",
        "\n",
        "claramente $\\frac{e}{x}$ es decreciente en el intervalo $1 \\le x \\le e$ por lo tanto el maximo esta en $x = 1$ por lo tanto:\n",
        "\n",
        "$$c = e$$\n",
        "\n",
        "Ademas notar que en el metodo se hace:\n",
        "\\begin{align*}\n",
        "u & \\le \\frac{f(x)}{c \\cdot f_Y(x)} \\\\\n",
        "u & \\le \\frac{1/x}{e \\cdot 1/e} \\\\\n",
        "u & \\le \\frac{1/x}{1} \\\\\n",
        "u & \\le 1/x \\\\\n",
        "\\end{align*}\n",
        "\n"
      ],
      "metadata": {
        "id": "93I2NSyrBLdk"
      }
    },
    {
      "cell_type": "markdown",
      "source": [
        "##### Código"
      ],
      "metadata": {
        "id": "hyQN0RPMFk97"
      }
    },
    {
      "cell_type": "code",
      "source": [
        "from random import random\n",
        "import math\n",
        "\n",
        "def uniforme(a,b):\n",
        "  return a + (b-a)*random()\n",
        "\n",
        "def ej7_metodo_rechazo():\n",
        "  while True:\n",
        "    y = uniforme(1,e)\n",
        "    u = random()\n",
        "    if u <= 1/y:\n",
        "      return y"
      ],
      "metadata": {
        "id": "-RFG2FlVE3sF"
      },
      "execution_count": null,
      "outputs": []
    },
    {
      "cell_type": "code",
      "source": [
        "ej7_metodo_rechazo()"
      ],
      "metadata": {
        "colab": {
          "base_uri": "https://localhost:8080/"
        },
        "id": "2B-G_wJ_FrAn",
        "outputId": "c34616e3-1468-4569-c0df-e23f84541c0c"
      },
      "execution_count": null,
      "outputs": [
        {
          "output_type": "execute_result",
          "data": {
            "text/plain": [
              "1.7552761433288282"
            ]
          },
          "metadata": {},
          "execution_count": 134
        }
      ]
    },
    {
      "cell_type": "markdown",
      "source": [
        "##### Revisamos"
      ],
      "metadata": {
        "id": "XIdhMZgDFtod"
      }
    },
    {
      "cell_type": "code",
      "source": [
        "import seaborn as sns\n",
        "import matplotlib.pyplot as plt\n",
        "import numpy as np\n",
        "from math import e\n",
        "\n",
        "def f(x):\n",
        "    return np.where(\n",
        "        (1 <= x) & (x <= e),\n",
        "        1/x,\n",
        "        0\n",
        "    )\n",
        "\n",
        "x = np.linspace(0.5, 3, 1000)\n",
        "n_sim = int(1e5)\n",
        "s = np.empty(n_sim)\n",
        "for i in range(n_sim):\n",
        "  s[i]=ej7_metodo_rechazo()\n",
        "\n",
        "\n",
        "sns.lineplot(x=x, y=f(x),color='red')\n",
        "sns.histplot(s, stat = 'density')\n",
        "plt.show()"
      ],
      "metadata": {
        "colab": {
          "base_uri": "https://localhost:8080/",
          "height": 430
        },
        "id": "HVQBfmg0Fxjw",
        "outputId": "537fdc79-5f49-4473-b70d-35c6be22db6f"
      },
      "execution_count": null,
      "outputs": [
        {
          "output_type": "display_data",
          "data": {
            "text/plain": [
              "<Figure size 640x480 with 1 Axes>"
            ],
            "image/png": "[encoded data removed]"
          },
          "metadata": {}
        }
      ]
    },
    {
      "cell_type": "markdown",
      "source": [
        "### b) Comparar eficiencia y esperanza\n",
        "\n",
        "Compare la eficiencia de ambos métodos realizando 10.000 simulaciones y comparando el promedio de los valores obtenidos. Compruebe que se obtiene un valor aproximado del valor esperado de $X$.\n"
      ],
      "metadata": {
        "id": "z-PeqIxaF40Z"
      }
    },
    {
      "cell_type": "code",
      "source": [
        "%%timeit\n",
        "ej7_tinv()"
      ],
      "metadata": {
        "colab": {
          "base_uri": "https://localhost:8080/"
        },
        "id": "5KJB9RGpGHvy",
        "outputId": "d733fa28-6def-4da2-b4eb-240bf246bb36"
      },
      "execution_count": null,
      "outputs": [
        {
          "output_type": "stream",
          "name": "stdout",
          "text": [
            "141 ns ± 29.2 ns per loop (mean ± std. dev. of 7 runs, 10000000 loops each)\n"
          ]
        }
      ]
    },
    {
      "cell_type": "code",
      "source": [
        "%%timeit\n",
        "ej7_metodo_rechazo()"
      ],
      "metadata": {
        "colab": {
          "base_uri": "https://localhost:8080/"
        },
        "id": "BPoe_UOoGbWZ",
        "outputId": "054ea7f2-ed73-455c-c404-1da4047d0501"
      },
      "execution_count": null,
      "outputs": [
        {
          "output_type": "stream",
          "name": "stdout",
          "text": [
            "596 ns ± 175 ns per loop (mean ± std. dev. of 7 runs, 1000000 loops each)\n"
          ]
        }
      ]
    },
    {
      "cell_type": "code",
      "source": [
        "from time import time\n",
        "\n",
        "def esperanza(metodo, N=10_000):\n",
        "  \"\"\"\n",
        "  Estima la esperanza de metodo() usando N simulaciones.\n",
        "\n",
        "  Retorna una tupla (esperanza, tiempo)\n",
        "  \"\"\"\n",
        "  inicio = time()\n",
        "  valores = [metodo() for _ in range(N)]\n",
        "  fin = time()\n",
        "  return round(sum(valores)/N, 9), round(fin - inicio, 6)\n",
        "\n",
        "print(\"Nombre               | Esperanza    | Tiempo\")\n",
        "print(f\"Transformada Inversa | {esperanza(ej7_tinv)}\")\n",
        "print(f\"Metodo de Rechazo    | {esperanza(ej7_metodo_rechazo)}\")\n"
      ],
      "metadata": {
        "colab": {
          "base_uri": "https://localhost:8080/"
        },
        "id": "BP1gDfYXGg6p",
        "outputId": "73013d92-a142-4158-cb48-e3136f142f2c"
      },
      "execution_count": null,
      "outputs": [
        {
          "output_type": "stream",
          "name": "stdout",
          "text": [
            "Nombre               | Esperanza    | Tiempo\n",
            "Transformada Inversa | (1.721897813, 0.001682)\n",
            "Metodo de Rechazo    | (1.715358711, 0.007117)\n"
          ]
        }
      ]
    },
    {
      "cell_type": "markdown",
      "source": [
        "### c) Estime $P(X ≤ 2)$\n",
        "\n",
        "Estime la probabilidad $P(X ≤ 2)$ y compárela con el valor real."
      ],
      "metadata": {
        "id": "ipTMv6fgF__h"
      }
    },
    {
      "cell_type": "markdown",
      "source": [
        "#### Valor real\n",
        "\n",
        "Ya calculamos antes que\n",
        "$$\n",
        "F(x) =\n",
        "\\begin{cases}\n",
        "0  & \\text{si } x < 1, \\\\\n",
        "\\ln(x) & \\text{si } 1 \\leq x \\leq e, \\\\\n",
        "1 & \\text{si } x ≥ e, \\\\\n",
        "\\end{cases}\n",
        "$$\n",
        "\n",
        "por lo tanto\n",
        "\n",
        "$$\n",
        "P(X ≤ 2) = F(2) = ln(2) = 0,693147\n",
        "$$"
      ],
      "metadata": {
        "id": "W0SINFTTJ7sM"
      }
    },
    {
      "cell_type": "markdown",
      "source": [
        "#### Estimación"
      ],
      "metadata": {
        "id": "utY1fIGsKbMO"
      }
    },
    {
      "cell_type": "code",
      "source": [
        "import numpy as np\n",
        "\n",
        "def estimacion_prob(x, metodo, N=10_000):\n",
        "    \"\"\"\n",
        "    Estima P(metodo() <= x) usando N simulaciones.\n",
        "    \"\"\"\n",
        "    valores = [metodo() for _ in range(N)]\n",
        "    cuenta = sum(v <= x for v in valores)\n",
        "    return cuenta / N\n",
        "\n",
        "print(\"Metodo               | Estimacion\")\n",
        "print(f\"Transformada Inversa | {estimacion_prob(2, ej7_tinv)}\")\n",
        "print(f\"Metodo de Rechazo    | {estimacion_prob(2, ej7_metodo_rechazo)}\")\n",
        "print(f\"Valor Real           | {round(np.log(2), 4)}\")\n"
      ],
      "metadata": {
        "colab": {
          "base_uri": "https://localhost:8080/"
        },
        "id": "VkIkwnFMKeGD",
        "outputId": "5b272cfe-76bb-4b46-854f-eacdb5bbeb59"
      },
      "execution_count": null,
      "outputs": [
        {
          "output_type": "stream",
          "name": "stdout",
          "text": [
            "Metodo               | Estimacion\n",
            "Transformada Inversa | 0.6961\n",
            "Metodo de Rechazo    | 0.6906\n",
            "Valor Real           | 0.6931\n"
          ]
        }
      ]
    },
    {
      "cell_type": "markdown",
      "source": [
        "## Ejercicio 8"
      ],
      "metadata": {
        "id": "mIdFzrECMK-r"
      }
    },
    {
      "cell_type": "markdown",
      "source": [
        "### a)\n",
        "\n",
        "Sean $U$ y $V$ dos variables aleatorias uniformes en (0,1) e independientes. Pruebe que la variable $X = U +V$ tiene una densidad triangular:\n",
        "\n",
        "$$\n",
        "f(x) =\n",
        "\\begin{cases}\n",
        "x,        & \\text{si } 0 \\leq x < 1, \\\\\n",
        "2 - x,    & \\text{si } 1 \\leq x < 2, \\\\\n",
        "0,        & \\text{en otro caso}.\n",
        "\\end{cases}\n",
        "$$\n"
      ],
      "metadata": {
        "id": "CtlzrjV5MTVi"
      }
    },
    {
      "cell_type": "markdown",
      "source": [
        "#### Demostración"
      ],
      "metadata": {
        "id": "YlW2uzO2NsR5"
      }
    },
    {
      "cell_type": "markdown",
      "source": [
        "Por def tenemos que $f_U(x) = 1$ y $f_V(x) = 1$.\n",
        "\n",
        "Por convolución tenemos que:\n",
        "\\begin{align*}\n",
        "f_X(t) & = ∫_{-∞}^∞ f_U(x)⋅f_V(y-x)\\ dx\\\\\n",
        "& = ∫_{-∞}^∞ I_{(0,1)}(x)⋅I_{(0,1)}(t-x)\\ dx\\\\\n",
        "\\end{align*}\n",
        "\n",
        "Notar que si $t-x \\in (0,1)$ entonces\n",
        "\\begin{align*}\n",
        "0 ≤ t-x ≤ 1 \\\\\n",
        "0 > x-t > -1 \\\\\n",
        "t > x > t-1 \\\\\n",
        "\\end{align*}\n",
        "entonces $x \\in (t-1, t)$ y seguimos:\n",
        "\\begin{align*}\n",
        "f_X(t)  & = ∫_{-∞}^∞ I_{(0,1)}(x)⋅I_{(0,1)}(t-x)\\ dx \\\\\n",
        "& = ∫_{-∞}^∞ I_{(0,1)}(x)⋅I_{(t-1,t)}(x)\\ dx \\\\\n",
        "\\end{align*}\n",
        "\n",
        "notar que\n",
        "\n",
        "$$\n",
        "I_{(0,1)}(x)⋅I_{(t-1,t)}(x) = 1\\ \\ sii\\ x\\in(0,1)\\cap(t-1,t)\n",
        "$$\n",
        "\n",
        "y $(0,1)\\cap(t-1,t)$ no es vacio solo si $ t\\in(0,2)$. Ahora por casos:\n",
        "\n",
        "Si $t \\in (0,1)$ entonces:\n",
        "$$\n",
        "(0,1)\\cap(t-1,t) = (0,t)\n",
        "$$\n",
        "\n",
        "Si $t \\in [1,2)$ entonces:\n",
        "$$\n",
        "(0,1)\\cap(t-1,t) = (t-1,1)\n",
        "$$\n",
        "\n",
        "Recapitulando tenemos que:\n",
        "\n",
        "Si $t \\in (0,1)$ entonces:\n",
        "\\begin{align*}\n",
        "f_X(t) & = ∫_{0}^t 1\\ dx \\\\\n",
        "& = [x]_0^t \\\\\n",
        "& = t - x \\\\\n",
        "& = t\n",
        "\\end{align*}\n",
        "\n",
        "Si $t \\in [1,2)$ entonces:\n",
        "\\begin{align*}\n",
        "f_X(t) & = ∫_{t-1}^1 1\\ dx \\\\\n",
        "& = [x]_{t-1}^1 \\\\\n",
        "& = 1 - (t-1) \\\\\n",
        "& = 1 - t + 1 \\\\\n",
        "& = 2 - t\n",
        "\\end{align*}\n",
        "\n",
        "entonces:\n",
        "\n",
        "$$\n",
        "f(x) =\n",
        "\\begin{cases}\n",
        "x,        & \\text{si } 0 \\leq x < 1, \\\\\n",
        "2 - x,    & \\text{si } 1 \\leq x < 2, \\\\\n",
        "0,        & \\text{en otro caso}.\n",
        "\\end{cases}\n",
        "$$\n"
      ],
      "metadata": {
        "id": "jyURYlW-NuNp"
      }
    },
    {
      "cell_type": "markdown",
      "source": [
        "### b)\n",
        "\n",
        "Desarrolle tres algoritmos que simulen la variable $X$:"
      ],
      "metadata": {
        "id": "uTjlG-OQMgWE"
      }
    },
    {
      "cell_type": "markdown",
      "source": [
        "#### i) Suma de dos uniformes"
      ],
      "metadata": {
        "id": "K_tJ3omyUYWU"
      }
    },
    {
      "cell_type": "markdown",
      "source": [
        "##### Código"
      ],
      "metadata": {
        "id": "N5YWgPXjUaCR"
      }
    },
    {
      "cell_type": "code",
      "source": [
        "from random import random\n",
        "\n",
        "def ej8_sum_unif():\n",
        "  return random() + random()"
      ],
      "metadata": {
        "id": "qyxdyPWKUb8h"
      },
      "execution_count": null,
      "outputs": []
    },
    {
      "cell_type": "markdown",
      "source": [
        "##### Revisamos"
      ],
      "metadata": {
        "id": "em82kvpRbbSC"
      }
    },
    {
      "cell_type": "code",
      "source": [
        "import seaborn as sns\n",
        "import matplotlib.pyplot as plt\n",
        "\n",
        "def f(x):\n",
        "    return np.where(\n",
        "        (0 <= x) & (x < 2),\n",
        "         np.where(\n",
        "            (x < 1),\n",
        "            x,\n",
        "            2-x\n",
        "        ),\n",
        "        0\n",
        "    )\n",
        "\n",
        "x = np.linspace(0, 2, 1000)\n",
        "n_sim = int(1e5)\n",
        "s = np.empty(n_sim)\n",
        "for i in range(n_sim):\n",
        "  s[i]=ej8_sum_unif()\n",
        "\n",
        "\n",
        "sns.lineplot(x=x, y=f(x),color='red')\n",
        "sns.histplot(s, stat = 'density')\n",
        "plt.show()"
      ],
      "metadata": {
        "colab": {
          "base_uri": "https://localhost:8080/",
          "height": 430
        },
        "id": "yqF-zlW_bdoC",
        "outputId": "b48c6761-6428-45f6-b0fb-dfd97036ec98"
      },
      "execution_count": null,
      "outputs": [
        {
          "output_type": "display_data",
          "data": {
            "text/plain": [
              "<Figure size 640x480 with 1 Axes>"
            ],
            "image/png": "[encoded data removed]"
          },
          "metadata": {}
        }
      ]
    },
    {
      "cell_type": "markdown",
      "source": [
        "#### ii) Transformada inversa"
      ],
      "metadata": {
        "id": "7-tZ-0vlUwFe"
      }
    },
    {
      "cell_type": "markdown",
      "source": [
        "##### Parte teorica"
      ],
      "metadata": {
        "id": "ezGoNzvFU2Rz"
      }
    },
    {
      "cell_type": "markdown",
      "source": [
        "Tenemos que calcular F(x), vamos por casos:\n",
        "\n",
        "Si $0 ≤ x < 1$\n",
        "\\begin{align*}\n",
        "F(x) & = ∫_{-∞}^x f(x) dx \\\\\n",
        "& = ∫_{0}^x x dx \\\\\n",
        "& = \\left[\\frac{x^2}{2} \\right]_0^x \\\\\n",
        "& = \\frac{x^2}{2} - \\frac{0^2}{2} \\\\\n",
        "& = \\frac{x^2}{2} \\\\\n",
        "\\end{align*}\n",
        "\n",
        "Si $1 ≤ x < 2$\n",
        "\\begin{align*}\n",
        "F(x) & = ∫_{-∞}^x f(x) dx \\\\\n",
        "& = ∫_{-∞}^{1} f(x) dx + ∫_{1}^x 2 - x\\ dx \\\\\n",
        "& = F(1) + ∫_{1}^x 2 - x\\ dx \\\\\n",
        "& = \\frac{1}{2}  + ∫_{1}^x 2 - x\\ dx \\\\\n",
        "& = \\frac{1}{2}  + ∫_{1}^x 2\\ dx - ∫_{1}^x x\\ dx \\\\\n",
        "& = \\frac{1}{2}  + 2 ⋅ [x]_0^x  - \\left[\\frac{x^2}{2} \\right]_1^x  \\\\\n",
        "& = \\frac{1}{2}  + 2 ⋅ (x-2)  - \\left(\\frac{x^2}{2} - \\frac{1^2}{2} \\right)  \\\\\n",
        "& = \\frac{1}{2}  + 2 ⋅ x - 2  - \\left(\\frac{x^2}{2} - \\frac{1}{2} \\right)  \\\\\n",
        "& = \\frac{1}{2}  + 2 ⋅ x - 2  - \\frac{x^2}{2} + \\frac{1}{2} \\\\\n",
        "& = - \\frac{x^2}{2} + 2x  - 1 \\\\\n",
        "\\end{align*}\n",
        "\n",
        "entonces:\n",
        "\n",
        "$$\n",
        "F(x) =\n",
        "\\begin{cases}\n",
        "\\frac{1}{2} x^2               & \\text{si } 0 \\leq x < 1, \\\\\n",
        "-\\frac{1}{2} x^2 + 2x  - 1    & \\text{si } 1 \\leq x < 2, \\\\\n",
        "0                             & \\text{en otro caso}.\n",
        "\\end{cases}\n",
        "$$\n",
        "\n",
        "> Revisemos: $F(2) = -\\frac{1}{2} 2^2 + 2\\cdot2 - 1 = -2 + 4 - 1 = 2-1 = 1$, esta bien.\n",
        "\n",
        "> Punto de quiebre: $F(1) = -\\frac{1}{2} 1^2 + 2 - 1  = -\\frac{1}{2} + 1 = 1/2$\n",
        "\n",
        "ahora nos queda igualar a $u$ una uniforme en el 0,1 y despejar x:\n",
        "\n",
        "Caso 1:\n",
        "\\begin{align*}\n",
        "\\frac{1}{2} x^2 & = u \\\\\n",
        "x^2 & = u⋅2 \\\\\n",
        "x & = \\sqrt{u⋅2} \\\\\n",
        "\\end{align*}\n",
        "\n",
        "Caso 2:\n",
        "\\begin{align*}\n",
        "-\\frac{1}{2} x^2 + 2x  - 1  & = u \\\\\n",
        "-\\frac{1}{2} x^2 + 2x (-1-u) & = 0 \\\\\n",
        "\\end{align*}\n",
        "\n",
        "aplicamos bhaskara con $a=(-\\frac{1}{2})$, $b=2$ y $c=(-1-u)$:\n",
        "\\begin{align*}\n",
        "x_i & = \\frac{-2 \\pm \\sqrt{2^2 - 4(-\\frac{1}{2})(-1-u)}}{2(-\\frac{1}{2})} \\\\\n",
        " & =\\frac{-2 \\pm \\sqrt{4 + 2(-1-u)}}{-1} \\\\\n",
        " & = -(-2 \\pm \\sqrt{4 + 2(-1-u)}) \\\\\n",
        " & = 2 \\pm \\sqrt{4-2(1+u)} \\\\\n",
        "\\end{align*}\n",
        "\n",
        "claramente si queremos que $x_i$ este en el intervalo $[1,2]$ devemos usar la formula $x = 2 - \\sqrt{4-2(1+u)}$\n",
        "\n"
      ],
      "metadata": {
        "id": "OJjQ3C_mU4X8"
      }
    },
    {
      "cell_type": "markdown",
      "source": [
        "##### Código"
      ],
      "metadata": {
        "id": "qL4R9i66U1po"
      }
    },
    {
      "cell_type": "code",
      "source": [
        "from random import random\n",
        "\n",
        "def ej8_tinv():\n",
        "  u = random()\n",
        "  if u < 0.5:\n",
        "    return (2*u)**0.5\n",
        "  else:\n",
        "    return 2 - (4-2*(1+u))**0.5\n"
      ],
      "metadata": {
        "id": "t8sMgCI_bEd3"
      },
      "execution_count": null,
      "outputs": []
    },
    {
      "cell_type": "markdown",
      "source": [
        "##### Revisamos"
      ],
      "metadata": {
        "id": "xYb0UoihcDOG"
      }
    },
    {
      "cell_type": "code",
      "source": [
        "import seaborn as sns\n",
        "import matplotlib.pyplot as plt\n",
        "\n",
        "def f(x):\n",
        "    return np.where(\n",
        "        (0 <= x) & (x < 2),\n",
        "         np.where(\n",
        "            (x < 1),\n",
        "            x,\n",
        "            2-x\n",
        "        ),\n",
        "        0\n",
        "    )\n",
        "\n",
        "x = np.linspace(0, 2, 1000)\n",
        "n_sim = int(1e5)\n",
        "s = np.empty(n_sim)\n",
        "for i in range(n_sim):\n",
        "  s[i]=ej8_tinv()\n",
        "\n",
        "\n",
        "sns.lineplot(x=x, y=f(x),color='red')\n",
        "sns.histplot(s, stat = 'density')\n",
        "plt.show()"
      ],
      "metadata": {
        "colab": {
          "base_uri": "https://localhost:8080/",
          "height": 430
        },
        "id": "it8PiJ6ecD2X",
        "outputId": "a2d2fe9d-699d-41ca-8aaf-2f09ba2cb4a6"
      },
      "execution_count": null,
      "outputs": [
        {
          "output_type": "display_data",
          "data": {
            "text/plain": [
              "<Figure size 640x480 with 1 Axes>"
            ],
            "image/png": "[encoded data removed]"
          },
          "metadata": {}
        }
      ]
    },
    {
      "cell_type": "markdown",
      "source": [
        "#### iii) Método de rechazo"
      ],
      "metadata": {
        "id": "wu1n_wbqcfG2"
      }
    },
    {
      "cell_type": "markdown",
      "source": [
        "##### Parte teorica"
      ],
      "metadata": {
        "id": "L3usgArtcy_h"
      }
    },
    {
      "cell_type": "markdown",
      "source": [
        "Claramente vamos a aproximar con $Y \\backsim U(0,2)$ (es lo más sensillo).\n",
        "\n",
        "Entonces $f_Y(x) = 1/2$ y si buscamos el $c$, tenemos que:\n",
        "\n",
        "$$\n",
        "\\frac{f(x)}{f_Y(x)} = 2 \\cdot f(x)\n",
        "$$\n",
        "\n",
        "claramente $c = 2$ ya que $f(x)$ es creciente en el 0,1 y el maximo es 1 y es decreiente en el 1,2 y el maximo es 1.\n",
        "\n",
        "En el metodo podemos simplificar:\n",
        "$$\n",
        "\\frac{f(y)}{c \\cdot f_Y(y)} = \\frac{f(y)}{2 \\cdot 1/2} = f(x)\n",
        "$$\n"
      ],
      "metadata": {
        "id": "tfKc_gxec1QC"
      }
    },
    {
      "cell_type": "markdown",
      "source": [
        "##### Código"
      ],
      "metadata": {
        "id": "Ozu149pWhhD7"
      }
    },
    {
      "cell_type": "code",
      "source": [
        "from random import random\n",
        "import math\n",
        "\n",
        "def ej8_f(x):\n",
        "  if x < 1:\n",
        "    return x\n",
        "  else:\n",
        "    return 2-x\n",
        "\n",
        "def uniforme(a,b):\n",
        "  return a + (b-a)*random()\n",
        "\n",
        "def ej8_metodo_rechazo():\n",
        "  while True:\n",
        "    y = uniforme(0,2)\n",
        "    u = random()\n",
        "    if u <= ej8_f(y):\n",
        "      return y"
      ],
      "metadata": {
        "id": "r3yoL4o9hkqh"
      },
      "execution_count": null,
      "outputs": []
    },
    {
      "cell_type": "code",
      "source": [
        "ej8_metodo_rechazo()"
      ],
      "metadata": {
        "colab": {
          "base_uri": "https://localhost:8080/"
        },
        "id": "k0gKboF4h1M6",
        "outputId": "ded06e9d-5bbd-4ec6-b1c2-e2a1661ad181"
      },
      "execution_count": null,
      "outputs": [
        {
          "output_type": "execute_result",
          "data": {
            "text/plain": [
              "0.7258876522206616"
            ]
          },
          "metadata": {},
          "execution_count": 170
        }
      ]
    },
    {
      "cell_type": "markdown",
      "source": [
        "##### Revisamos"
      ],
      "metadata": {
        "id": "JoIPDwith406"
      }
    },
    {
      "cell_type": "code",
      "source": [
        "import seaborn as sns\n",
        "import matplotlib.pyplot as plt\n",
        "\n",
        "def f(x):\n",
        "    return np.where(\n",
        "        (0 <= x) & (x < 2),\n",
        "         np.where(\n",
        "            (x < 1),\n",
        "            x,\n",
        "            2-x\n",
        "        ),\n",
        "        0\n",
        "    )\n",
        "\n",
        "x = np.linspace(0, 2, 1000)\n",
        "n_sim = int(1e5)\n",
        "s = np.empty(n_sim)\n",
        "for i in range(n_sim):\n",
        "  s[i]=ej8_metodo_rechazo()\n",
        "\n",
        "\n",
        "sns.lineplot(x=x, y=f(x),color='red')\n",
        "sns.histplot(s, stat = 'density')\n",
        "plt.show()"
      ],
      "metadata": {
        "colab": {
          "base_uri": "https://localhost:8080/",
          "height": 430
        },
        "id": "WFwmFnhMh5Y2",
        "outputId": "b490088f-1214-43ab-aa7a-c8830d7d572a"
      },
      "execution_count": null,
      "outputs": [
        {
          "output_type": "display_data",
          "data": {
            "text/plain": [
              "<Figure size 640x480 with 1 Axes>"
            ],
            "image/png": "[encoded data removed]"
          },
          "metadata": {}
        }
      ]
    },
    {
      "cell_type": "markdown",
      "source": [
        "### c)  Comparación\n",
        "\n",
        "Compare la eficiencia de los tres algoritmos. Para cada caso, estimar el valor esperado promediando 10.000 valores simulados."
      ],
      "metadata": {
        "id": "fRgyJEmpMuas"
      }
    },
    {
      "cell_type": "code",
      "source": [
        "%%timeit\n",
        "ej8_sum_unif()"
      ],
      "metadata": {
        "colab": {
          "base_uri": "https://localhost:8080/"
        },
        "id": "uymW7BMujPXW",
        "outputId": "616a031f-98e8-40fd-ad4a-47bd6ae3a58f"
      },
      "execution_count": null,
      "outputs": [
        {
          "output_type": "stream",
          "name": "stdout",
          "text": [
            "190 ns ± 71.5 ns per loop (mean ± std. dev. of 7 runs, 10000000 loops each)\n"
          ]
        }
      ]
    },
    {
      "cell_type": "code",
      "source": [
        "%%timeit\n",
        "ej8_tinv()"
      ],
      "metadata": {
        "colab": {
          "base_uri": "https://localhost:8080/"
        },
        "id": "_CT5Nw14jSzH",
        "outputId": "025644b3-f357-4758-b4b8-c068f8b053b6"
      },
      "execution_count": null,
      "outputs": [
        {
          "output_type": "stream",
          "name": "stdout",
          "text": [
            "260 ns ± 7.08 ns per loop (mean ± std. dev. of 7 runs, 1000000 loops each)\n"
          ]
        }
      ]
    },
    {
      "cell_type": "code",
      "source": [
        "%%timeit\n",
        "ej8_metodo_rechazo()"
      ],
      "metadata": {
        "colab": {
          "base_uri": "https://localhost:8080/"
        },
        "id": "xj3VAjePjUx5",
        "outputId": "a4f9ed97-2888-4a9b-90d5-d80372ac3bcb"
      },
      "execution_count": null,
      "outputs": [
        {
          "output_type": "stream",
          "name": "stdout",
          "text": [
            "675 ns ± 7.33 ns per loop (mean ± std. dev. of 7 runs, 1000000 loops each)\n"
          ]
        }
      ]
    },
    {
      "cell_type": "code",
      "source": [
        "from time import time\n",
        "\n",
        "def ej8_esperanza(metodo, N=10_000):\n",
        "  \"\"\"\n",
        "  Estima la esperanza de metodo() usando N simulaciones.\n",
        "\n",
        "  Retorna una tupla (esperanza, tiempo)\n",
        "  \"\"\"\n",
        "  inicio = time()\n",
        "  valores = [metodo() for _ in range(N)]\n",
        "  fin = time()\n",
        "  return round(sum(valores)/N, 9), round(fin - inicio, 6)\n",
        "\n",
        "print(\"Nombre               | Esperanza    | Tiempo\")\n",
        "print(f\"Suma de 2 unif       | {ej8_esperanza(ej8_sum_unif)}\")\n",
        "print(f\"Transformada Inversa | {ej8_esperanza(ej8_tinv)}\")\n",
        "print(f\"Metodo de Rechazo    | {ej8_esperanza(ej8_metodo_rechazo)}\")"
      ],
      "metadata": {
        "colab": {
          "base_uri": "https://localhost:8080/"
        },
        "id": "d1pBwWXZiwV3",
        "outputId": "c90f56be-046b-41b6-8180-4c78704eebda"
      },
      "execution_count": null,
      "outputs": [
        {
          "output_type": "stream",
          "name": "stdout",
          "text": [
            "Nombre               | Esperanza    | Tiempo\n",
            "Suma de 2 unif       | (0.993936889, 0.001413)\n",
            "Transformada Inversa | (1.000904103, 0.004559)\n",
            "Metodo de Rechazo    | (1.00241919, 0.008378)\n"
          ]
        }
      ]
    },
    {
      "cell_type": "markdown",
      "source": [
        "#####  ¿Para qué valor $x_0$ se cumple que $P(X > x_0) = 0.125$?\n",
        "\n"
      ],
      "metadata": {
        "id": "eLwYtzf4l7QA"
      }
    },
    {
      "cell_type": "markdown",
      "source": [
        "> Recordar:\n",
        "$$\n",
        "F(x) =\n",
        "\\begin{cases}\n",
        "\\frac{1}{2} x^2               & \\text{si } 0 \\leq x < 1, \\\\\n",
        "-\\frac{1}{2} x^2 + 2x - 1    & \\text{si } 1 \\leq x < 2, \\\\\n",
        "0                             & \\text{en otro caso}.\n",
        "\\end{cases}\n",
        "$$\n",
        "\n",
        "Analicemos:\n",
        "\\begin{align*}\n",
        "P(X > x) & = 0.125 \\\\\n",
        "1 - P(X ≤ x) & = 0.125 \\\\\n",
        "1 - PF(x) & = 0.125 \\\\\n",
        "F(x) & = 0,875 \\\\\n",
        "-\\frac{1}{2} x^2 + 2x - 1 & = 0,875 \\\\\n",
        "-\\frac{1}{2} x^2 + 2x  - 1,875  & = 0 \\\\\n",
        "\\end{align*}\n",
        "\n",
        "Aplicamos Bhaskara, con $a=(-\\frac{1}{2})$, $b=2$ y $c=(-1,875)$:\n",
        "\n",
        "\\begin{align*}\n",
        "x_i & = \\frac{-2 \\pm \\sqrt{2^2 - 4(-\\frac{1}{2})(-1,875)}}{2(-\\frac{1}{2})} \\\\\n",
        "& = \\frac{-2 \\pm \\sqrt{4 - 4(\\frac{1}{2})(1,875)}}{-1} \\\\\n",
        "& = \\frac{-2 \\pm \\sqrt{4 - 2(1,875)}}{-1} \\\\\n",
        "& = 2 \\pm \\sqrt{4 - 3,75} \\\\\n",
        "& = 2 \\pm \\sqrt{0.25} \\\\\n",
        "& = 2 \\pm 0.5 \\\\\n",
        "\\end{align*}\n",
        "\n",
        "entonces $x_1 = 2.5$ y $x_2 = 1.5$. Como F(x) no esta definido para $x_1$ tomamos $x_2$. Revisemos:\n",
        "\n",
        "\\begin{align*}\n",
        "F(1.5) & = -\\frac{1}{2} (1.5)^2 + (1.5)2 - 1 \\\\\n",
        "& = -1,125 + 3 - 1 \\\\\n",
        "& = -1,125 + 2 \\\\\n",
        "& = 0.875\\\\\n",
        "\\end{align*}\n",
        "\n",
        "Enotonces finalemnte: $\\fbox{$x_0 = 1.5$}$"
      ],
      "metadata": {
        "id": "_v9J7qxymIQb"
      }
    },
    {
      "cell_type": "markdown",
      "source": [
        "### d) Proporción\n",
        "\n",
        "Compare la proporción de veces que el algoritmo devuelve un número mayor que $x_0$ con esta probabilidad.\n"
      ],
      "metadata": {
        "id": "j3ENCwjtM15i"
      }
    },
    {
      "cell_type": "code",
      "source": [
        "import numpy as np\n",
        "\n",
        "N = 1_000_000\n",
        "x0 = 1.5\n",
        "\n",
        "valores = np.array([ej8_sum_unif() for _ in range(N)])\n",
        "\n",
        "proporcion = np.mean(valores > x0)\n",
        "\n",
        "print(f\"Proporción de veces que el algoritmo devuelve un número mayor que {x0}: {proporcion:.4f}\")\n"
      ],
      "metadata": {
        "colab": {
          "base_uri": "https://localhost:8080/"
        },
        "id": "Kj9fMrnmyg_i",
        "outputId": "859a9ecf-5dfb-49d6-c5f4-9dbf9cf18480"
      },
      "execution_count": null,
      "outputs": [
        {
          "output_type": "stream",
          "name": "stdout",
          "text": [
            "Proporción de veces que el algoritmo devuelve un número mayor que 1.5: 0.1252\n"
          ]
        }
      ]
    },
    {
      "cell_type": "markdown",
      "source": [
        "## Ejercicio 9"
      ],
      "metadata": {
        "id": "WzJrIvAzPUmj"
      }
    },
    {
      "cell_type": "markdown",
      "source": [
        "Escriba tres programas para generar un variable aleatoria normal patrón, usando:\n",
        "\n",
        "> Pruebe los códigos calculando la media muestral y varianza muestral de 10.000 valores generados con los tres métodos."
      ],
      "metadata": {
        "id": "MSHUVZAsPW6z"
      }
    },
    {
      "cell_type": "markdown",
      "source": [
        "### a) Por composición"
      ],
      "metadata": {
        "id": "o4X0HhmQRKXd"
      }
    },
    {
      "cell_type": "markdown",
      "source": [
        "Generación de variables exponenciales según el ejemplo 5.f del libro Simulacion de S. M. Ross.\n",
        "\n",
        "> Este metodo es el mismo que se presento en el teorico, como por composición."
      ],
      "metadata": {
        "id": "rG0V3k7ba_K-"
      }
    },
    {
      "cell_type": "markdown",
      "source": [
        "![image.png](data:image/png;base64,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)"
      ],
      "metadata": {
        "id": "pAz_c6U6RL2j"
      }
    },
    {
      "cell_type": "markdown",
      "source": [
        "**Resumen del metodo**\n",
        "\n",
        "1. Generar $ Y_1 \\sim \\text{Exponencial}(1) $\n",
        "2. Generar $ Y_2 \\sim \\text{Exponencial}(1) $\n",
        "3. Si  \n",
        "   $$\n",
        "   Y_2 > \\frac{(Y_1 - 1)^2}{2},\n",
        "   $$  \n",
        "   entonces continuar; si no, volver al paso 1.\n",
        "4. Generar $ U \\sim \\text{Uniforme}(0,1) $\n",
        "5. Definir  \n",
        "   $$\n",
        "   Z =\n",
        "   \\begin{cases}\n",
        "   Y_1 & \\text{si } U \\leq \\frac{1}{2} \\\\\n",
        "   -Y_1 & \\text{si } U > \\frac{1}{2}\n",
        "   \\end{cases}\n",
        "   $$\n",
        "\n",
        "Entonces, $ Z \\sim \\mathcal{N}(0,1) $ (normal estándar).\n"
      ],
      "metadata": {
        "id": "ijuPvIuoRwUf"
      }
    },
    {
      "cell_type": "markdown",
      "source": [
        "> Aclara que en la foto guarda un $Y$ pero ese es para generar una exponencial, por lo tanto no sirve en este caso. Aunque sirve si queremos oprimizar el algoritmo, porque podemos ahorrarnos una en generacion de exponencial."
      ],
      "metadata": {
        "id": "CC7KNkRpSjwW"
      }
    },
    {
      "cell_type": "code",
      "source": [
        "from random import random\n",
        "from numpy import log\n",
        "\n",
        "def ej9_normal_con_exponenciales(mu, sigma):\n",
        "  while True:\n",
        "    # Exponenciales con lambda=1\n",
        "    Y1 = -log(1-random())\n",
        "    Y2 = -log(1-random())\n",
        "    if Y2 >= (Y1-1)**2/2:\n",
        "      return mu + sigma * Y1 if random() <= 0.5 else mu - sigma * Y1"
      ],
      "metadata": {
        "id": "6_UvqWMASr3W"
      },
      "execution_count": 21,
      "outputs": []
    },
    {
      "cell_type": "markdown",
      "source": [
        "### b) Método polar"
      ],
      "metadata": {
        "id": "6Y-0kOpfa8GG"
      }
    },
    {
      "cell_type": "code",
      "source": [
        "from numpy import sqrt, cos, sin, pi\n",
        "\n",
        "def ej9_metodo_polar(mu, sigma):\n",
        "  r_cuadrado = -2 * log(1 - random())\n",
        "  theta= 2 * pi * random()\n",
        "  X= sqrt(r_cuadrado) * cos(theta)\n",
        "  Y= sqrt(r_cuadrado) * sin(theta)\n",
        "  return (X * sigma + mu, Y * sigma + mu)"
      ],
      "metadata": {
        "id": "M0V6SXoOa7ze"
      },
      "execution_count": 38,
      "outputs": []
    },
    {
      "cell_type": "markdown",
      "source": [
        "### c) Método de razón entre uniformes."
      ],
      "metadata": {
        "id": "y8dc2cebcB1B"
      }
    },
    {
      "cell_type": "code",
      "source": [
        "from random import random\n",
        "from math import exp, log\n",
        "\n",
        "NV_MAGICCONST = 4 * exp(-0.5) / sqrt(2.0)\n",
        "\n",
        "def ej9_metodo_razon_uniformes(mu, sigma):\n",
        "  while 1:\n",
        "    u1 = random()\n",
        "    u2 = 1.0 - random()\n",
        "    z = NV_MAGICCONST * (u1 - 0.5) / u2\n",
        "    zz = z * z / 4.0\n",
        "    if zz <= -log(u2):\n",
        "      break\n",
        "  return mu + z * sigma\n"
      ],
      "metadata": {
        "id": "Duq9kHYxfLTZ"
      },
      "execution_count": 45,
      "outputs": []
    },
    {
      "cell_type": "markdown",
      "source": [
        "### Revisión"
      ],
      "metadata": {
        "id": "UI2iUB-yf3Jm"
      }
    },
    {
      "cell_type": "code",
      "source": [
        "import numpy as np\n",
        "\n",
        "def ej9_revision(mu=0, sigma=1, N= 10_000):\n",
        "  # Generar valores con los tres métodos\n",
        "  valores_exponenciales = [ej9_normal_con_exponenciales(mu, sigma) for _ in range(N)]\n",
        "  valores_polar = [ej9_metodo_polar(mu, sigma)[0] for _ in range(N)]\n",
        "  valores_razon_uniformes = [ej9_metodo_razon_uniformes(mu, sigma) for _ in range(N)]\n",
        "\n",
        "  # Calcular la media muestral y la varianza muestral para cada método\n",
        "  def calcular_estadisticos(valores):\n",
        "      media = np.mean(valores)\n",
        "      varianza = np.var(valores)\n",
        "      return media, varianza\n",
        "\n",
        "  media_exp, varianza_exp = calcular_estadisticos(valores_exponenciales)\n",
        "  media_polar, varianza_polar = calcular_estadisticos(valores_polar)\n",
        "  media_ru, varianza_ru = calcular_estadisticos(valores_razon_uniformes)\n",
        "\n",
        "  print(\"Método Exponencial:\")\n",
        "  print(\"Media:\", media_exp)\n",
        "  print(\"Varianza:\", varianza_exp)\n",
        "\n",
        "  print(\"\\nMétodo Polar:\")\n",
        "  print(\"Media:\", media_polar)\n",
        "  print(\"Varianza:\", varianza_polar)\n",
        "\n",
        "  print(\"\\nMétodo Razón de Uniformes:\")\n",
        "  print(\"Media:\", media_ru)\n",
        "  print(\"Varianza:\", varianza_ru)\n",
        "\n",
        "  print(\"\\nValor Exacto:\")\n",
        "  print(\"Media:\", mu)\n",
        "  print(\"Varianza:\", sigma**2)\n",
        "\n",
        "print(\"-\"*100)\n",
        "ej9_revision()\n",
        "print(\"-\"*100)\n",
        "ej9_revision(mu=1, sigma=2)\n",
        "print(\"-\"*100)\n",
        "ej9_revision(mu=1.5, sigma=2.5)\n",
        "print(\"-\"*100)\n",
        "ej9_revision(mu=2, sigma=3)\n",
        "print(\"-\"*100)"
      ],
      "metadata": {
        "colab": {
          "base_uri": "https://localhost:8080/"
        },
        "id": "X4KWc-9gioeY",
        "outputId": "91f4a935-3c14-4f91-b89e-20b4f2f8d1e8"
      },
      "execution_count": 73,
      "outputs": [
        {
          "output_type": "stream",
          "name": "stdout",
          "text": [
            "----------------------------------------------------------------------------------------------------\n",
            "Método Exponencial:\n",
            "Media: 0.006918817381146249\n",
            "Varianza: 1.0034930151212154\n",
            "\n",
            "Método Polar:\n",
            "Media: -0.016080069001605624\n",
            "Varianza: 1.0156593914279306\n",
            "\n",
            "Método Razón de Uniformes:\n",
            "Media: -0.01259056164208975\n",
            "Varianza: 0.9918368647456935\n",
            "\n",
            "Valor Exacto:\n",
            "Media: 0\n",
            "Varianza: 1\n",
            "----------------------------------------------------------------------------------------------------\n",
            "Método Exponencial:\n",
            "Media: 0.9976611425595542\n",
            "Varianza: 4.051874655915412\n",
            "\n",
            "Método Polar:\n",
            "Media: 1.000410471597894\n",
            "Varianza: 4.05538438912642\n",
            "\n",
            "Método Razón de Uniformes:\n",
            "Media: 0.9924119759219909\n",
            "Varianza: 4.0383437293943905\n",
            "\n",
            "Valor Exacto:\n",
            "Media: 1\n",
            "Varianza: 4\n",
            "----------------------------------------------------------------------------------------------------\n",
            "Método Exponencial:\n",
            "Media: 1.5312304141420272\n",
            "Varianza: 6.343861899984356\n",
            "\n",
            "Método Polar:\n",
            "Media: 1.511390351111651\n",
            "Varianza: 6.284112542005685\n",
            "\n",
            "Método Razón de Uniformes:\n",
            "Media: 1.503296537450982\n",
            "Varianza: 6.124697953176411\n",
            "\n",
            "Valor Exacto:\n",
            "Media: 1.5\n",
            "Varianza: 6.25\n",
            "----------------------------------------------------------------------------------------------------\n",
            "Método Exponencial:\n",
            "Media: 2.016072469901563\n",
            "Varianza: 9.098741843690293\n",
            "\n",
            "Método Polar:\n",
            "Media: 1.9859225553674875\n",
            "Varianza: 9.104500750203092\n",
            "\n",
            "Método Razón de Uniformes:\n",
            "Media: 2.06748344954528\n",
            "Varianza: 8.896955792427189\n",
            "\n",
            "Valor Exacto:\n",
            "Media: 2\n",
            "Varianza: 9\n",
            "----------------------------------------------------------------------------------------------------\n"
          ]
        }
      ]
    },
    {
      "cell_type": "code",
      "source": [
        "import numpy as np\n",
        "import seaborn as sns\n",
        "import matplotlib.pyplot as plt\n",
        "from scipy.stats import norm\n",
        "\n",
        "# Parametros\n",
        "mu = 0\n",
        "sigma = 1\n",
        "\n",
        "# Datos base\n",
        "x = np.linspace(-4, 4, 1000)\n",
        "normal_y = norm.pdf(x, loc=mu, scale=sigma)\n",
        "\n",
        "# Número de simulaciones\n",
        "n_sim = int(1e5)\n",
        "\n",
        "# Métodos y nombres\n",
        "metodos = [\n",
        "    (\"Con exponenciales\", lambda: ej9_normal_con_exponenciales(mu,sigma)),\n",
        "    (\"Razón de uniformes\", lambda: ej9_metodo_razon_uniformes(mu,sigma)),\n",
        "    (\"Método polar 1\", lambda: ej9_metodo_polar(mu,sigma)[0]),\n",
        "    (\"Método polar 2\", lambda: ej9_metodo_polar(mu,sigma)[1]),\n",
        "]\n",
        "\n",
        "# Crear figura con subplots\n",
        "fig, axs = plt.subplots(2, 2, figsize=(12, 10))\n",
        "axs = axs.flatten()  # Para indexar fácilmente\n",
        "\n",
        "for i, (nombre, metodo) in enumerate(metodos):\n",
        "    # Generar muestras\n",
        "    muestras = np.array([metodo() for _ in range(n_sim)])\n",
        "\n",
        "    # Graficar\n",
        "    sns.histplot(muestras, stat='density', ax=axs[i], color='skyblue', bins=100, kde=False)\n",
        "    axs[i].plot(x, normal_y, color='red', label='Normal estándar')\n",
        "    axs[i].set_title(f\"Método: {nombre}\")\n",
        "    axs[i].legend()\n",
        "    axs[i].grid(True)\n",
        "\n",
        "plt.tight_layout()\n",
        "plt.show()\n"
      ],
      "metadata": {
        "colab": {
          "base_uri": "https://localhost:8080/",
          "height": 936
        },
        "id": "v0elOGlUf5MU",
        "outputId": "3e38003a-78c8-4c46-a31c-7171d48ab003"
      },
      "execution_count": 58,
      "outputs": [
        {
          "output_type": "display_data",
          "data": {
            "text/plain": [
              "<Figure size 1200x1000 with 4 Axes>"
            ],
            "image/png": "[encoded data removed]"
          },
          "metadata": {}
        }
      ]
    },
    {
      "cell_type": "markdown",
      "source": [
        "## Ejercicio 10"
      ],
      "metadata": {
        "id": "uxpKHelolmAY"
      }
    },
    {
      "cell_type": "markdown",
      "source": [
        "Una variable aleatoria $X$ tiene distribución de Cauchy con parámetro $λ > 0$ si su densidad es:\n",
        "\n",
        "$$\n",
        "f(x) = \\frac{1}{λπ(1+(x/λ)^2)}, \\quad x\\in R\n",
        "$$"
      ],
      "metadata": {
        "id": "mJBNczjplok8"
      }
    },
    {
      "cell_type": "markdown",
      "source": [
        "### a)\n",
        "Implemente el método de razón entre uniformes para simular $X$ con parámetro $λ = 1$. Para esto:\n",
        "\n",
        "1. Pruebe que el conjunto $C_f = \\{(u, v)\\ |\\  0 < u < \\sqrt{f(v/u)}\\}$ es el semicírculo derecho centrado en $(0,0)$ de radio $\\sqrt{1/π}$.\n",
        "2. Desarrolle un algoritmo `CAUCHY()` que genere pares $(U,V)$ con distribución uniforme en $C_f$, y devuelva $X = V/U$. Entonces $X$ tiene la distribución deseada. ¿Es necesario utilizar el valor de π?\n"
      ],
      "metadata": {
        "id": "SkBzTS6yy1QN"
      }
    },
    {
      "cell_type": "markdown",
      "source": [
        "#### Teoria"
      ],
      "metadata": {
        "id": "G34ZpebdG9et"
      }
    },
    {
      "cell_type": "markdown",
      "source": [
        "> Recordemos que la formula de un circulo centrado en el $(0,0)$\n",
        "> esta dada por $a^2 + b^2 = r^2$  que es lo mismo que  $\\sqrt{a^2 + b^2} = \\sqrt{r^2}$.\n",
        "\n",
        "**Item 1**\n",
        "\n",
        "**Demostración:**\n",
        "\n",
        "Si usamos $λ = 1$ tenemos que la densidad de $X$ es:\n",
        "\n",
        "$$\n",
        "f(x) = \\frac{1}{π(1+(x)^2)}, \\quad x\\in R\n",
        "$$\n",
        "\n",
        "Ahora si desarollamos un poco mas $C_f$ tenemos que:\n",
        "\n",
        "$$\n",
        "C_f = \\{(u, v)\\ |\\  0 < u < \\sqrt{f(v/u)}\\}\n",
        "$$\n",
        "\n",
        "veamos la parte con $f(v/u)$:\n",
        "\n",
        "\\begin{align*}\n",
        "\\sqrt{f(v/u)} \\\\\n",
        "\\sqrt{\\frac{1}{π(1+(v/u)^2)}} \\\\\n",
        "\\sqrt{\\frac{1}{π(1+(v/u)^2)}} \\\\\n",
        "\\frac{1}{\\sqrt{π}\\sqrt{(1+(v/u)^2)}} \\\\\n",
        "\\frac{1}{\\sqrt{π}}\\frac{1}{\\sqrt{\\frac{u^2+v^2}{u^2}}} \\\\\n",
        "\\frac{1}{\\sqrt{π}}\\frac{1}{\\frac{\\sqrt{u^2+v^2}}{u}} \\\\\n",
        "\\frac{1}{\\sqrt{π}}\\frac{u}{\\sqrt{u^2+v^2}} \\\\\n",
        "\\end{align*}\n",
        "\n",
        "entonces:\n",
        "\n",
        "$$\n",
        "\\sqrt{f(v/u)} = \\frac{1}{\\sqrt{π}}\\frac{u}{\\sqrt{u^2+v^2}}\n",
        "$$\n",
        "\n",
        "siguiendo con $C_f$:\n",
        "\n",
        "\\begin{align*}\n",
        "C_f & = \\{(u, v)\\ |\\  0 < u < \\sqrt{f(v/u)}\\} \\\\\n",
        "& = \\{(u, v)\\ |\\  0 < u\\; y\\; u < \\sqrt{f(v/u)}\\} \\\\\n",
        "& = \\{(u, v)\\ |\\  0 < u\\; y\\; u < \\frac{1}{\\sqrt{π}}\\frac{u}{\\sqrt{u^2+v^2}} \\} \\\\\n",
        "& = \\{(u, v)\\ |\\  0 < u\\; y\\; 1 < \\frac{1}{\\sqrt{π}}\\frac{1}{\\sqrt{u^2+v^2}} \\} \\\\\n",
        "& = \\{(u, v)\\ |\\  0 < u\\; y\\; \\sqrt{u^2+v^2} < \\sqrt{\\frac{1}{π}} \\} \\\\\n",
        "& = \\{(u, v)\\ |\\  0 < u\\; y\\; u^2+v^2 < \\left(\\frac{1}{\\sqrt{π}}\\right)^2 \\} \\\\\n",
        "\\end{align*}\n",
        "\n",
        "Por lo tanto el circulo tiene radio, $R = \\frac{1}{\\sqrt{π}}$ y como $0 < u$ es medio circulo.\n",
        "\n"
      ],
      "metadata": {
        "id": "bOlcXPxCze8b"
      }
    },
    {
      "cell_type": "markdown",
      "source": [
        "**Item 2**\n",
        "\n",
        "Tenemos que encontrar un rectangulo de la forma $(0,c)\\times(a,b)$ tal que $C_f$ este contenido. Como $C_f$ es medio circulo con radio $R = \\frac{1}{\\sqrt{π}}$, tenemos que:\n",
        "$$c=a=\\frac{1}{\\sqrt{π}} \\quad y \\quad b=-\\frac{1}{\\sqrt{π}}$$\n",
        "pero $\\frac{1}{\\sqrt{π}} ≤ 1$ por lo tanto para no usar $π$ usamos:\n",
        "$$c=a=1 \\quad y \\quad b=-1$$\n",
        "y es suficiente.\n",
        "\n",
        "Y en el algoritmo en una parte tenemos que hacer:\n",
        "\n",
        "\\begin{align*}\n",
        "u^2 & ≤ f(v/u) \\\\\n",
        "u & ≤ \\sqrt{f(v/u)} \\\\\n",
        "u & ≤ \\frac{1}{\\sqrt{π}}\\frac{u}{\\sqrt{u^2+v^2}} \\\\\n",
        "1 & ≤ \\frac{1}{\\sqrt{π}}\\frac{1}{\\sqrt{u^2+v^2}} \\\\\n",
        "1 & ≤ \\frac{1}{\\sqrt{π}}\\frac{1}{\\sqrt{u^2+v^2}} \\\\\n",
        "\\sqrt{u^2+v^2} & ≤ \\frac{1}{\\sqrt{π}} \\\\\n",
        "u^2+v^2 & ≤ \\frac{1}{π} \\\\\n",
        "\\end{align*}\n",
        "\n",
        "por lo tanto en ese `if` podemos usar eso.\n",
        "\n",
        "> Respondiendo a si hay que usar $π$, si al menos 1 vez tenes que usarla."
      ],
      "metadata": {
        "id": "6xcFe9lfBvq_"
      }
    },
    {
      "cell_type": "markdown",
      "source": [
        "#### Código"
      ],
      "metadata": {
        "id": "VRqBnbUGG55t"
      }
    },
    {
      "cell_type": "code",
      "source": [
        "from random import random\n",
        "from numpy import pi\n",
        "\n",
        "aux_pi = 1/pi\n",
        "\n",
        "def f_cauchy(x):\n",
        "  return aux_pi * (1 / (1 + x**2))\n",
        "\n",
        "def ej10_cauchy_metodo_razon_uniformes():\n",
        "  while True:\n",
        "    u = random()\n",
        "    v = 1 - random()*2\n",
        "    if u**2 < f_cauchy(v/u):\n",
        "      return v/u\n",
        "\n",
        "def ej10_cauchy_metodo_razon_uniformes_mejorado():\n",
        "  while True:\n",
        "    u = random()\n",
        "    v = 1 - random()*2\n",
        "    if u**2 + v**2 < aux_pi:\n",
        "      return v/u\n",
        "\n",
        "# # OTRA FORMA ES TOMAR EL CUBO JUSTO EN LOS BORDES QUEDANDO:\n",
        "# def ej10_cauchy_metodo_razon_uniformes_aux():\n",
        "#   while True:\n",
        "#     u = random() * aux_pi**(1/2)\n",
        "#     v = aux_pi**(1/2)*(1-random()*2)\n",
        "#     if u**2 < f_cauchy(v/u):\n",
        "#       return v/u"
      ],
      "metadata": {
        "id": "SPMhXc_KD3MU"
      },
      "execution_count": 21,
      "outputs": []
    },
    {
      "cell_type": "markdown",
      "source": [
        "#### Revisión"
      ],
      "metadata": {
        "id": "ZHNXppUPKomu"
      }
    },
    {
      "cell_type": "code",
      "source": [
        "import numpy as np\n",
        "import matplotlib.pyplot as plt\n",
        "from random import random\n",
        "import seaborn as sns\n",
        "\n",
        "# Función de densidad teórica de la Cauchy estándar\n",
        "def f_cauchy(x):\n",
        "    return 1 / (np.pi * (1 + x**2))\n",
        "\n",
        "# Número de simulaciones\n",
        "n_sim = int(1e5)\n",
        "\n",
        "# Simulación con el método sin mejora\n",
        "s1 = np.empty(n_sim)\n",
        "for i in range(n_sim):\n",
        "    s1[i] = ej10_cauchy_metodo_razon_uniformes()\n",
        "s1_filtered = s1[np.abs(s1) < 20]\n",
        "\n",
        "# Simulación con el método mejorado\n",
        "s2 = np.empty(n_sim)\n",
        "for i in range(n_sim):\n",
        "    s2[i] = ej10_cauchy_metodo_razon_uniformes_mejorado()\n",
        "s2_filtered = s2[np.abs(s2) < 20]\n",
        "\n",
        "# Preparar rango para la densidad teórica\n",
        "x = np.linspace(-10, 10, 1000)\n",
        "f = f_cauchy(x)\n",
        "\n",
        "# Crear gráficos\n",
        "plt.figure(figsize=(14, 6))\n",
        "\n",
        "# Gráfico 1: método sin mejora\n",
        "plt.subplot(1, 2, 1)\n",
        "sns.histplot(s1_filtered, stat='density', bins=250, color='skyblue')\n",
        "sns.lineplot(x=x, y=f, color='red')\n",
        "plt.title('Método sin mejora')\n",
        "plt.xlabel('x')\n",
        "plt.ylabel('Densidad')\n",
        "plt.xlim(-10, 10)\n",
        "\n",
        "# Gráfico 2: método mejorado\n",
        "plt.subplot(1, 2, 2)\n",
        "sns.histplot(s2_filtered, stat='density', bins=250, color='lightgreen')\n",
        "sns.lineplot(x=x, y=f, color='red')\n",
        "plt.title('Método mejorado')\n",
        "plt.xlabel('x')\n",
        "plt.ylabel('Densidad')\n",
        "plt.xlim(-10, 10)\n",
        "\n",
        "plt.tight_layout()\n",
        "plt.show()\n"
      ],
      "metadata": {
        "colab": {
          "base_uri": "https://localhost:8080/",
          "height": 487
        },
        "id": "5ErdhqxHHSUW",
        "outputId": "276d7ae4-c51e-47fb-8ecd-5ca6253a97bd"
      },
      "execution_count": 22,
      "outputs": [
        {
          "output_type": "display_data",
          "data": {
            "text/plain": [
              "<Figure size 1400x600 with 2 Axes>"
            ],
            "image/png": "[encoded data removed]"
          },
          "metadata": {}
        }
      ]
    },
    {
      "cell_type": "markdown",
      "source": [
        "### b)\n",
        "Pruebe que si $X$ tiene distribución de Cauchy con parámetro 1, entonces λX tiene distribución de Cauchy con parámetro λ"
      ],
      "metadata": {
        "id": "rmi_CZaly3Xl"
      }
    },
    {
      "cell_type": "markdown",
      "source": [
        "### c)\n",
        "Utilice esta propiedad para modificar el algoritmo anterior, e implementar `CAUCHY(LAMDA)` que simule una variable $X$ con distribución de Cauchy de parámetro λ."
      ],
      "metadata": {
        "id": "mN8oXd-Wy4-U"
      }
    },
    {
      "cell_type": "markdown",
      "source": [
        "### d)\n",
        "Realice 10.000 simulaciones y calcule la proporción de veces que el resultado cae en el intervalo $(−λ,λ)$, para $λ = 1, λ = 2.5$ y $λ = 0.3$. Compare con la probabilidad teórica."
      ],
      "metadata": {
        "id": "XoUjcTXRy6Kr"
      }
    }
  ]
}