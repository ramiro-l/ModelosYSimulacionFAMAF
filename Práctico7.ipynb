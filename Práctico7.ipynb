{
  "nbformat": 4,
  "nbformat_minor": 0,
  "metadata": {
    "colab": {
      "provenance": [],
      "toc_visible": true,
      "authorship_tag": "ABX9TyMQhgpt9i92WIaFV/pdWmyX",
      "include_colab_link": true
    },
    "kernelspec": {
      "name": "python3",
      "display_name": "Python 3"
    },
    "language_info": {
      "name": "python"
    }
  },
  "cells": [
    {
      "cell_type": "markdown",
      "metadata": {
        "id": "view-in-github",
        "colab_type": "text"
      },
      "source": [
        "<a href=\"https://colab.research.google.com/github/ramiro-l/ModelosYSimulacionFAMAF/blob/main/Pr%C3%A1ctico7.ipynb\" target=\"_parent\"><img src=\"https://colab.research.google.com/assets/colab-badge.svg\" alt=\"Open In Colab\"/></a>"
      ]
    },
    {
      "cell_type": "markdown",
      "source": [
        "# Práctico 7"
      ],
      "metadata": {
        "id": "nf6-7scy6tkz"
      }
    },
    {
      "cell_type": "markdown",
      "source": [
        "- Para estos ejercicios, estudiar:\n",
        "https://docs.scipy.org/doc/scipy/reference/generated/scipy.stats.chi2.html\n",
        "\n",
        "- Otra bibliografia interesante es\n",
        "https://relopezbriega.github.io/blog/2016/06/29/distribuciones-de-probabilidad-con-python/\n",
        "\n",
        "- No utilice implementaciones personales de densidades a menos que el ejercicio se lo pida exactamente.\n",
        "\n",
        "- **Convención general**: al obtener valores decimales suponemos una distribución continua."
      ],
      "metadata": {
        "id": "RSC-zQMJ60cO"
      }
    },
    {
      "cell_type": "markdown",
      "source": [
        "## Ejercicio 1"
      ],
      "metadata": {
        "id": "ft-ojg2W68rC"
      }
    },
    {
      "cell_type": "markdown",
      "source": [
        "De acuerdo con la teoría genética de Mendel, cierta planta de guisantes debe producir flores blancas, rosas o rojas con probabilidad 1/4, 1/2 y 1/4, respectivamente.\n",
        "\n",
        "Para verificar experimentalmente la teoría, se estudió una muestra de 564 guisantes, donde se encontró que 141 produjeron flores blancas, 291 flores rosas y 132 flores rojas. Aproximar el p-valor de esta muestra:"
      ],
      "metadata": {
        "id": "sglHnqxl894w"
      }
    },
    {
      "cell_type": "code",
      "source": [
        "#@title Grafico\n",
        "import matplotlib.pyplot as plt\n",
        "import numpy as np\n",
        "\n",
        "categorias = ['Blancas', 'Rosas', 'Rojas']\n",
        "observados = np.array([141, 291, 132])\n",
        "total = sum(observados)\n",
        "\n",
        "prob_teoricas = np.array([0.25, 0.5, 0.25])\n",
        "esperados = total * prob_teoricas\n",
        "\n",
        "x = np.arange(len(categorias))\n",
        "\n",
        "plt.figure(figsize=(5, 3))\n",
        "plt.bar(x - 0.15, observados, width=0.3, label='Observados', color='skyblue')\n",
        "plt.bar(x + 0.15, esperados, width=0.3, label='Esperados', color='orange')\n",
        "\n",
        "plt.xticks(x, categorias)\n",
        "plt.ylabel('Número de guisantes')\n",
        "plt.title('Frecuencias observadas y esperadas')\n",
        "plt.legend();plt.show()\n"
      ],
      "metadata": {
        "colab": {
          "base_uri": "https://localhost:8080/",
          "height": 314
        },
        "cellView": "form",
        "id": "wk_jaPzZAtEe",
        "outputId": "5516fdc7-ca1e-448f-803b-f1c6f2cbef14"
      },
      "execution_count": 1,
      "outputs": [
        {
          "output_type": "display_data",
          "data": {
            "text/plain": [
              "<Figure size 500x300 with 1 Axes>"
            ],
            "image/png": "[encoded data removed]"
          },
          "metadata": {}
        }
      ]
    },
    {
      "cell_type": "markdown",
      "source": [
        "### a)\n",
        "\n",
        "Utilizando la prueba de Pearson con aproximación chi-cuadrada"
      ],
      "metadata": {
        "id": "VrSVYQrqefdI"
      }
    },
    {
      "cell_type": "markdown",
      "source": [
        "Para ello primero notar que:\n",
        "\n",
        "$$\n",
        "p_1 = 0.25 \\;,\\;\n",
        "p_2 = 0.5 \\;y\\;\n",
        "p_3 = 0.25\n",
        "$$\n",
        "\n",
        "y ademas en base a la muestra dada:\n",
        "\n",
        "$$n = 564$$\n",
        "\n",
        "$$\n",
        "N_1 = 141 \\;,\\;\n",
        "N_2 = 291 \\;y\\;\n",
        "N_3 = 132\n",
        "$$\n",
        "\n",
        "ahora si con todos estos valores podemos calcular en base al estadistico $T$ el valor de $t_0$:\n",
        "\n",
        "\\begin{align*}\n",
        "t_0 & = \\sum_{i=1}^{3} \\frac{(N_i - n⋅p_i)^2}{n⋅p_i} \\\\\n",
        "& = \\frac{(N_1 - n⋅p_1)^2}{n⋅p_1} + \\frac{(N_2 - n⋅p_2)^2}{n⋅p_2} + \\frac{(N_3 - n⋅p_3)^2}{n⋅p_3} \\\\\n",
        "& = \\frac{(141 - 564⋅0.25)^2}{564⋅0.25} + \\frac{(291 - 564⋅0.5)^2}{564⋅0.5} + \\frac{(132 - 564⋅0.25)^2}{564⋅0.25} \\\\\n",
        "& = \\frac{(141 - 141)^2}{141} + \\frac{(291 - 282)^2}{282} + \\frac{(132 - 141)^2}{141} \\\\\n",
        "& = \\frac{(0)^2}{141} + \\frac{(9)^2}{282} + \\frac{(-9)^2}{141} \\\\\n",
        "& = 0 + \\frac{81}{282} + \\frac{81}{141} \\\\\n",
        "& = \\frac{81}{282} + \\frac{81}{141} \\\\\n",
        "& ≃ 0,8617\n",
        "\\end{align*}\n",
        "\n",
        "con este calculo tengo que:\n",
        "\n",
        "$$\n",
        "p-valor = P(T ≥ t_0) = P(X_2^2 ≥ t_0) = P(X_2^2 ≥  0,86170) ≃ 0.65\n",
        "$$\n",
        "\n",
        "Dado que es un valor alto: **no hay evidencia para rechazar $H_0$**."
      ],
      "metadata": {
        "id": "MoqHspJ2ei8c"
      }
    },
    {
      "cell_type": "code",
      "source": [
        "#@title Estadistico de Pearson\n",
        "import numpy as np\n",
        "\n",
        "def estadistico_pearson(frecuencias, p_hip_0, cant_valores):\n",
        "    assert sum(frecuencias) == cant_valores\n",
        "    assert len(frecuencias) == len(p_hip_0)\n",
        "\n",
        "    valores_esperados = np.array([cant_valores*p for p in p_hip_0])\n",
        "    return np.sum((frecuencias - valores_esperados) ** 2 / valores_esperados)\n",
        "\n",
        "\n",
        "print(f\"t_0: {estadistico_pearson([141,291,132], [0.25,0.5,0.25], 564):.16f}\")"
      ],
      "metadata": {
        "colab": {
          "base_uri": "https://localhost:8080/"
        },
        "id": "pjWhrHEUIFym",
        "outputId": "3233d37b-07de-428e-89b5-19ca6ab37e2d"
      },
      "execution_count": 2,
      "outputs": [
        {
          "output_type": "stream",
          "name": "stdout",
          "text": [
            "t_0: 0.8617021276595745\n"
          ]
        }
      ]
    },
    {
      "cell_type": "code",
      "source": [
        "#@title Calculo p-valor (Chi-Cuad)\n",
        "from scipy.stats import chi2\n",
        "\n",
        "\n",
        "# NOTE: chi2.sf(x, df) = 1 - chi2.cdf(x, df)\n",
        "\n",
        "print(f\"p-valor: {chi2.sf(0.8617, 2):.2f}\")\n",
        "# print(f\"p-valor: {1 - chi2.cdf(0.8617, 2):.2f}\")\n",
        "\n",
        "t_0 = estadistico_pearson([141,291,132], [0.25,0.5,0.25], 564)\n",
        "print(f\"p-valor (más exacto): {chi2.sf(t_0, 2)}\")\n",
        "# print(f\"p-valor (más exacto): {1 - chi2.cdf(t_0, 2)}\")"
      ],
      "metadata": {
        "colab": {
          "base_uri": "https://localhost:8080/"
        },
        "id": "fHhUlbUPiEkt",
        "outputId": "fc65942a-69fb-463c-fbc4-88470a467b0a"
      },
      "execution_count": 60,
      "outputs": [
        {
          "output_type": "stream",
          "name": "stdout",
          "text": [
            "p-valor: 0.65\n",
            "p-valor (más exacto): 0.6499557054800363\n",
            "p-valor: 0.6499557054800363\n"
          ]
        }
      ]
    },
    {
      "cell_type": "markdown",
      "source": [
        "### b)\n",
        "\n",
        "Realizando una simulación"
      ],
      "metadata": {
        "id": "u_3wW6gIkLZ9"
      }
    },
    {
      "cell_type": "code",
      "source": [
        "#@title Codigo full Teorico\n",
        "import numpy as np\n",
        "\n",
        "# NOTE: (alternativa)\n",
        "# from scipy.stats import rv_discrete\n",
        "#\n",
        "# Agregar esto antes del for\n",
        "# dist = rv_discrete(values=(valores_posibles, ps))\n",
        "#\n",
        "# Cambiar por el np.random.choice\n",
        "# muestra = dist.rvs(size=564)\n",
        "\n",
        "\n",
        "def ej1b_p_valor_teorico(tam_muestra, t_0, ps, n_sim):\n",
        "    cant_valores = len(ps)\n",
        "\n",
        "    # Abstraemos los valores posibles a [0, 1, ...]\n",
        "    valores_posibles = list(range(cant_valores))\n",
        "\n",
        "    # Dado que los valores esperados son constantes los calculamos\n",
        "    valores_esperados = np.array([tam_muestra*p for p in ps])\n",
        "\n",
        "    p_valor = 0\n",
        "    for _ in range(n_sim):\n",
        "        # Generamos una muestra\n",
        "        muestra = np.random.choice(a=valores_posibles, p=ps, size=tam_muestra)\n",
        "        # muestra = binom.rvs(n_restante, ps_i) # NOTA: usando scipy.stats\n",
        "\n",
        "        # Contamos las frecuencias\n",
        "        N_i = np.bincount(muestra, minlength=cant_valores)\n",
        "\n",
        "        # Calculamos el estadistico de pearson\n",
        "        T = np.sum((N_i - valores_esperados) ** 2 / valores_esperados)\n",
        "\n",
        "        if T >= t_0:\n",
        "            p_valor += 1\n",
        "\n",
        "    return p_valor / n_sim\n",
        "\n",
        "ej1b_p_valor_teorico(564, 0.8617, [0.25, 0.5, 0.25], 100_000)"
      ],
      "metadata": {
        "colab": {
          "base_uri": "https://localhost:8080/"
        },
        "id": "x-SfsIwgkP-i",
        "outputId": "57efeec2-4eb3-4b59-bb02-68ae639c5963"
      },
      "execution_count": 4,
      "outputs": [
        {
          "output_type": "execute_result",
          "data": {
            "text/plain": [
              "0.65395"
            ]
          },
          "metadata": {},
          "execution_count": 4
        }
      ]
    },
    {
      "cell_type": "code",
      "source": [
        "%%timeit\n",
        "ej1b_p_valor_teorico(564, 0.8617, [0.25, 0.5, 0.25], 10_000)"
      ],
      "metadata": {
        "colab": {
          "base_uri": "https://localhost:8080/"
        },
        "id": "QifLxfL7r21g",
        "outputId": "91526574-483b-4332-ddf0-38f1e2fe3081"
      },
      "execution_count": 5,
      "outputs": [
        {
          "output_type": "stream",
          "name": "stdout",
          "text": [
            "499 ms ± 15.5 ms per loop (mean ± std. dev. of 7 runs, 1 loop each)\n"
          ]
        }
      ]
    },
    {
      "cell_type": "markdown",
      "source": [
        "#### Codigo mejorado con Binomiales"
      ],
      "metadata": {
        "id": "3FlGdVto5ykR"
      }
    },
    {
      "cell_type": "markdown",
      "source": [
        "Notar que la mejora viene por el lado que solo necesitamos las frecuencias observadas, por esta razon usamos binomiales para ello y evitamos generar la muestra con la distribución.\n",
        "\n",
        "Para ello en cada paso $(i)$, teniendo en cuenta $k$ terminos calculamos:\n",
        "\n",
        "\\begin{align*}\n",
        "N_1^{(i)} & = Bin(m, p_1) \\\\\n",
        "& = Bin(m, \\frac{p_1}{1}) \\\\\n",
        "N_2^{(i)} & = Bin(m-N_1^{(i)}, \\frac{p_2}{1 - p_1}) \\\\\n",
        "N_3^{(i)} & = Bin(m-N_1^{(i)}-N_2^{(i)}, \\frac{p_3}{1 - p_1 - p_2}) \\\\\n",
        "& \\quad \\quad \\quad \\quad \\quad \\quad \\cdots \\\\\n",
        "N_j^{(i)} & = Bin(m-N_1^{(i)}-…-N_{j-1}^{(i)}, \\frac{p_j}{1 - p_1 - … - p_{j-1}}) \\\\\n",
        "& = Bin(m - \\sum_{l=1}^{j-1}N_l^{(i)}, \\frac{p_j}{1 - \\sum_{l=1}^{j-1} p_l }) \\\\\n",
        "& \\quad \\quad \\quad \\quad \\quad \\quad \\cdots \\\\\n",
        "N_k^{(i)} & = Bin(M, \\frac{p_k}{1 - \\sum_{l=1}^{k-1} p_l })  \\\\\n",
        "\\end{align*}\n",
        "\n",
        "Analicemos el ultimo caso:\n",
        "\n",
        "\\begin{align*}\n",
        "N_k^{(i)} & = Bin(m - \\sum_{l=1}^{k-1}N_l^{(i)}, \\frac{p_k}{1 - \\sum_{l=1}^{k-1} p_l }) \\\\\n",
        "\\end{align*}\n",
        "\n",
        "Definamos $M = m - \\sum_{l=1}^{k-1}N_l^{(i)}$ para que se entienda mejor. Luego:\n",
        "\n",
        "\\begin{align*}\n",
        "N_k^{(i)} & = Bin(M, \\frac{p_k}{1 - \\sum_{l=1}^{k-1} p_l }) \\\\\n",
        "\\end{align*}\n",
        "\n",
        "dado que los $p_i$ son probabilidades tenemos que:\n",
        "\n",
        "\\begin{align*}\n",
        "\\sum_{l=1}^{k} p_l & = 1 \\\\\n",
        "\\sum_{l=1}^{k-1} p_l + p_k & = 1 \\\\\n",
        "p_k & = 1 - \\sum_{l=1}^{k-1} p_l \\\\\n",
        "\\end{align*}\n",
        "\n",
        "por lo tanto en $N_k^{(i)}$ nos queda que:\n",
        "\n",
        "\\begin{align*}\n",
        "N_k^{(i)} & = Bin(M, \\frac{p_k}{1 - \\sum_{l=1}^{k-1} p_l }) \\\\\n",
        "& = Bin(M, \\frac{p_k}{p_k}) \\\\\n",
        "& = Bin(M, 1) \\\\\n",
        "\\end{align*}\n",
        "\n",
        "y si analizamos la funcion de masa de probabilidad  de la binomial:\n",
        "\n",
        "\\begin{align*}\n",
        "P(Bin(M, 1) = M) & = \\binom{M}{M} ⋅ 1^M ⋅ (1 - 1)^{M - M}  \\\\\n",
        "& = 1 ⋅ 1 ⋅ (0)^{0} \\\\\n",
        "& = 1 \\\\\n",
        "\\end{align*}\n",
        "\n",
        "entonces de esta forma concluimos que:\n",
        "\\begin{align*}\n",
        "N_k^{(i)} & = M = m - \\sum_{l=1}^{k-1}N_l^{(i)}\n",
        "\\end{align*}\n",
        "\n",
        "\n",
        "\n",
        "\n",
        "Dada esta introducción podemos darnos cuenta al ver las formulas que nos vendria bien calcular recursivamente algunas cosas, por ello definimos:\n",
        "\n",
        "\\begin{align*}\n",
        "h^{(i)}(1) & = m \\\\\n",
        "h^{(i)}(j) & = h^{(i)}(j-1) - N_{j-1}^{(i)} \\\\\n",
        "----&-------- \\\\\n",
        "g(1) & = 1 \\\\\n",
        "g(j) & = g(j-1) - p_j \\\\\n",
        "\\end{align*}\n",
        "\n",
        "y asi finalmente nos queda que:\n",
        "\n",
        "\\begin{align*}\n",
        "N_1^{(i)} & = Bin(h^{(i)}(1), \\frac{p_2}{g(1)}) \\\\\n",
        "N_2^{(i)} & = Bin(h^{(i)}(2), \\frac{p_2}{g(2)}) \\\\\n",
        "& \\quad \\quad \\cdots \\\\\n",
        "N_j^{(i)} & = Bin(h^{(i)}(j), \\frac{p_j}{g(j)}) \\\\\n",
        "& \\quad \\quad \\cdots \\\\\n",
        "N_k^{(i)} & = h^{(i)}(k) \\\\\n",
        "\\end{align*}\n",
        "\n",
        "con estas formulas nos damos cuenta que los $g(i)$ son fijos por lo tanto podemos precalcularlos.\n"
      ],
      "metadata": {
        "id": "vdP2Q0XZq3MD"
      }
    },
    {
      "cell_type": "code",
      "source": [
        "#@title Codigo\n",
        "import numpy as np\n",
        "\n",
        "# NOTE: (alternativa)\n",
        "# from scipy.stats import binom\n",
        "\n",
        "\n",
        "def ej1b_p_valor_con_mejora(tam_muestra, t_0, ps, n_sim):\n",
        "    # Dado que los valores esperados son constantes los calculamos\n",
        "    valores_esperados = np.array([tam_muestra*p for p in ps])\n",
        "\n",
        "    # Dado que estos valores son fijos, no los calculo en cada iteracion\n",
        "    # y el ultimo valor tampoco porque ya sabemos que es 1\n",
        "    ps_ajustados = [ps[i] / (1 - sum(ps[:i])) for i in range(len(ps)-1)]\n",
        "\n",
        "    p_valor = 0\n",
        "    for _ in range(n_sim):\n",
        "\n",
        "        # Calculo de las binomiales\n",
        "        N_i, n_restante = [], tam_muestra\n",
        "        for ps_i in ps_ajustados:\n",
        "            x = np.random.binomial(n_restante, ps_i)\n",
        "            # NOTE: (alternativa)\n",
        "            # x = binom.rvs(n_restante, ps_i)\n",
        "            N_i.append(x)\n",
        "            n_restante -= x\n",
        "        N_i.append(n_restante) # Último valor\n",
        "\n",
        "        # Calculamos el estadistico de pearson\n",
        "        T = np.sum((N_i - valores_esperados) ** 2 / valores_esperados)\n",
        "\n",
        "        if T >= t_0:\n",
        "            p_valor += 1\n",
        "\n",
        "    return p_valor / n_sim\n",
        "\n",
        "ej1b_p_valor_con_mejora(564, 0.8617, [0.25, 0.5, 0.25], 10_000)"
      ],
      "metadata": {
        "colab": {
          "base_uri": "https://localhost:8080/"
        },
        "id": "GMtCSpyC3XGP",
        "outputId": "a88b21f9-11df-423a-8baf-ea89e5c7527d"
      },
      "execution_count": 6,
      "outputs": [
        {
          "output_type": "execute_result",
          "data": {
            "text/plain": [
              "0.6585"
            ]
          },
          "metadata": {},
          "execution_count": 6
        }
      ]
    },
    {
      "cell_type": "code",
      "source": [
        "%%timeit\n",
        "ej1b_p_valor_con_mejora(564, 0.8617, [0.25, 0.5, 0.25], 10_000)"
      ],
      "metadata": {
        "colab": {
          "base_uri": "https://localhost:8080/"
        },
        "id": "G0aQsB2fry36",
        "outputId": "eb1a61c3-b5f1-4d63-b6ca-cb2970c96edc"
      },
      "execution_count": 7,
      "outputs": [
        {
          "output_type": "stream",
          "name": "stdout",
          "text": [
            "112 ms ± 20.9 ms per loop (mean ± std. dev. of 7 runs, 10 loops each)\n"
          ]
        }
      ]
    },
    {
      "cell_type": "code",
      "source": [
        "#@title Sin precalculos\n",
        "import numpy as np\n",
        "\n",
        "# NOTE: (alternativa)\n",
        "# from scipy.stats import binom\n",
        "\n",
        "\n",
        "def ej1b_p_valor_con_mejora_sin_precalculo(tam_muestra, t_0, ps, n_sim):\n",
        "    # Dado que los valores esperados son constantes los calculamos\n",
        "    valores_esperados = np.array([tam_muestra*p for p in ps])\n",
        "\n",
        "    p_valor = 0\n",
        "    for _ in range(n_sim):\n",
        "\n",
        "        # Calculo de las binomiales\n",
        "        N_i, n_restante, p_restante = [], tam_muestra, 1.0\n",
        "        for p in ps[:-1]:\n",
        "            p_ajustada = p / p_restante\n",
        "            x = np.random.binomial(n_restante, p_ajustada)\n",
        "            # NOTE: (alternativa)\n",
        "            # x = binom.rvs(n_restante, p_ajustada)\n",
        "            N_i.append(x)\n",
        "            n_restante -= x\n",
        "            p_restante -= p\n",
        "        N_i.append(n_restante) # Último valor\n",
        "\n",
        "        # Calculamos el estadistico de pearson\n",
        "        T = np.sum((N_i - valores_esperados) ** 2 / valores_esperados)\n",
        "\n",
        "        if T >= t_0:\n",
        "            p_valor += 1\n",
        "\n",
        "    return p_valor / n_sim\n",
        "\n",
        "ej1b_p_valor_con_mejora_sin_precalculo(564, 0.8617, [0.25, 0.5, 0.25], 10_000)"
      ],
      "metadata": {
        "colab": {
          "base_uri": "https://localhost:8080/"
        },
        "id": "RTE97O4mmTmH",
        "outputId": "8564ecaf-f5dc-4240-cc04-873e4ad7e483"
      },
      "execution_count": 8,
      "outputs": [
        {
          "output_type": "execute_result",
          "data": {
            "text/plain": [
              "0.6607"
            ]
          },
          "metadata": {},
          "execution_count": 8
        }
      ]
    },
    {
      "cell_type": "code",
      "source": [
        "%%timeit\n",
        "ej1b_p_valor_con_mejora_sin_precalculo(564, 0.8617, [0.25, 0.5, 0.25], 10_000)"
      ],
      "metadata": {
        "colab": {
          "base_uri": "https://localhost:8080/"
        },
        "id": "R-UTXfz07_Wn",
        "outputId": "96a87007-1b47-450b-86f4-cce5b332aac3"
      },
      "execution_count": 9,
      "outputs": [
        {
          "output_type": "stream",
          "name": "stdout",
          "text": [
            "122 ms ± 27.3 ms per loop (mean ± std. dev. of 7 runs, 10 loops each)\n"
          ]
        }
      ]
    },
    {
      "cell_type": "markdown",
      "source": [
        "## Ejercicio 2"
      ],
      "metadata": {
        "id": "Br7sq2qI7Fy6"
      }
    },
    {
      "cell_type": "markdown",
      "source": [
        "Para verificar que cierto dado no estaba trucado, se registraron 1000 lanzamientos, resultando que el número de veces que el dado arrojó el valor i (i = 1,2,3,4,5,6) fue, respectivamente, 158, 172, 164, 181, 160, 165. Aproximar el p−valor de la prueba: “el dado es honesto”"
      ],
      "metadata": {
        "id": "vC8L025M9DqN"
      }
    },
    {
      "cell_type": "code",
      "source": [
        "#@title Grafico\n",
        "import matplotlib.pyplot as plt\n",
        "import numpy as np\n",
        "\n",
        "categorias = ['1', '2', '3', '4', '5', '6']\n",
        "observados = np.array([158, 172, 164, 181, 160, 165])\n",
        "total = sum(observados)\n",
        "\n",
        "prob_teoricas = np.array([1/6]*6)\n",
        "esperados = total * prob_teoricas\n",
        "\n",
        "x = np.arange(len(categorias))\n",
        "\n",
        "plt.figure(figsize=(8, 2))\n",
        "plt.bar(x - 0.2, observados, width=0.4, label='Observados', color='skyblue')\n",
        "plt.bar(x + 0.2, esperados, width=0.4, label='Esperados', color='orange')\n",
        "\n",
        "plt.xticks(x, categorias)\n",
        "plt.ylabel('Número del Dado')\n",
        "plt.title('Frecuencias observadas y esperadas')\n",
        "plt.legend(loc='upper center', bbox_to_anchor=(0.5, -0.1), ncol=2)\n",
        "plt.show()"
      ],
      "metadata": {
        "colab": {
          "base_uri": "https://localhost:8080/",
          "height": 260
        },
        "cellView": "form",
        "id": "wvG06o1bBiQw",
        "outputId": "7352b923-0700-4497-9292-c167d0ac1a0d"
      },
      "execution_count": 10,
      "outputs": [
        {
          "output_type": "display_data",
          "data": {
            "text/plain": [
              "<Figure size 800x200 with 1 Axes>"
            ],
            "image/png": "[encoded data removed]"
          },
          "metadata": {}
        }
      ]
    },
    {
      "cell_type": "markdown",
      "source": [
        "### a)\n",
        "\n",
        "Utilizando la prueba de Pearson con aproximación chi-cuadrada,\n"
      ],
      "metadata": {
        "id": "rO3VdIav9cU7"
      }
    },
    {
      "cell_type": "markdown",
      "source": [
        "Lo unico a tener en cuenta que la hipotesis nula es:\n",
        "$$\n",
        "p_1 = p_2 = p_3 = p_4 = p_5 = p_6 = 1/6\n",
        "$$\n",
        "ya que es un dado honesto y el tamaño de la muestra es:\n",
        "\n",
        "$$\n",
        "n = 158 + 172 + 164 + 181 + 160 + 165 = 1000\n",
        "$$"
      ],
      "metadata": {
        "id": "5tN9eHXi9mQL"
      }
    },
    {
      "cell_type": "code",
      "source": [
        "#@title Estadistico de Pearson\n",
        "import numpy as np\n",
        "\n",
        "\n",
        "def estadistico_pearson(frecuencias, p_hip_0, cant_valores):\n",
        "    assert sum(frecuencias) == cant_valores\n",
        "    assert len(frecuencias) == len(p_hip_0)\n",
        "\n",
        "    frecuencias = np.array(frecuencias)\n",
        "    valores_esperados = np.array([cant_valores*p for p in p_hip_0])\n",
        "\n",
        "    return np.sum((frecuencias - valores_esperados) ** 2 / valores_esperados)\n",
        "\n",
        "\n",
        "print(f\"t_0: {estadistico_pearson([158, 172, 164, 181, 160, 165], [1/6]*6, 1000)}\")"
      ],
      "metadata": {
        "colab": {
          "base_uri": "https://localhost:8080/"
        },
        "id": "dynKA1gsJ6kn",
        "outputId": "21c04059-7645-48fc-a7c8-b42174d9ef2b"
      },
      "execution_count": 11,
      "outputs": [
        {
          "output_type": "stream",
          "name": "stdout",
          "text": [
            "t_0: 2.18\n"
          ]
        }
      ]
    },
    {
      "cell_type": "code",
      "source": [
        "#@title Calculo p-valor (Chi-Cuad)\n",
        "from scipy.stats import chi2\n",
        "\n",
        "\n",
        "# NOTE: chi2.sf(x, df) = 1 - chi2.cdf(x, df)\n",
        "\n",
        "print(f\"p-valor: {chi2.sf(2.18, 5):.4f}\")\n",
        "# print(f\"p-valor: {1 - chi2.cdf(2.18, 5):.2f}\")\n",
        "\n",
        "t_0 = estadistico_pearson([158, 172, 164, 181, 160, 165], [1/6]*6, 1000)\n",
        "print(f\"p-valor (más exacto): {chi2.sf(t_0, 5)}\")\n",
        "# print(f\"p-valor (más exacto): {1 - chi2.cdf(t_0, 5)}\")"
      ],
      "metadata": {
        "colab": {
          "base_uri": "https://localhost:8080/"
        },
        "id": "sKdbqEZOKqbA",
        "outputId": "0e9f63fb-60ae-4f2c-acdb-9065f517067e"
      },
      "execution_count": 61,
      "outputs": [
        {
          "output_type": "stream",
          "name": "stdout",
          "text": [
            "p-valor: 0.8237\n",
            "p-valor: 0.82\n",
            "p-valor (más exacto): 0.8237195392577814\n",
            "p-valor (más exacto): 0.8237195392577814\n"
          ]
        }
      ]
    },
    {
      "cell_type": "markdown",
      "source": [
        "### b)\n",
        "\n",
        "Realizando una simulación"
      ],
      "metadata": {
        "id": "6jp9VaHq9iNn"
      }
    },
    {
      "cell_type": "code",
      "source": [
        "#@title Codigo\n",
        "import numpy as np\n",
        "\n",
        "# NOTE: (alternativa)\n",
        "# from scipy.stats import binom\n",
        "\n",
        "\n",
        "def ej2b_p_valor(tam_muestra, t_0, ps, n_sim):\n",
        "    # Dado que los valores esperados son constantes los calculamos\n",
        "    valores_esperados = np.array([tam_muestra*p for p in ps])\n",
        "\n",
        "    # Dado que estos valores son fijos, no los calculo en cada iteracion\n",
        "    # y el ultimo valor tampoco porque ya sabemos que es 1\n",
        "    ps_ajustados = [ps[i] / (1 - sum(ps[:i])) for i in range(len(ps)-1)]\n",
        "\n",
        "    p_valor = 0\n",
        "    for _ in range(n_sim):\n",
        "\n",
        "        # Calculo de las binomiales\n",
        "        N_i, n_restante = [], tam_muestra\n",
        "        for ps_i in ps_ajustados:\n",
        "            x = np.random.binomial(n_restante, ps_i)\n",
        "            # NOTE: (alternativa)\n",
        "            # x = binom.rvs(n_restante, ps_i)\n",
        "            N_i.append(x)\n",
        "            n_restante -= x\n",
        "        N_i.append(n_restante) # Último valor\n",
        "\n",
        "        # Calculamos el estadistico de pearson\n",
        "        T = np.sum((N_i - valores_esperados) ** 2 / valores_esperados)\n",
        "\n",
        "        if T >= t_0:\n",
        "            p_valor += 1\n",
        "\n",
        "    return p_valor / n_sim\n",
        "\n",
        "ej2b_p_valor(1_000, 2.18, [1/6]*6, 10_000)"
      ],
      "metadata": {
        "colab": {
          "base_uri": "https://localhost:8080/"
        },
        "id": "hQZR5msu9zdD",
        "outputId": "e62ba37f-1271-4c34-b313-9ca22eb306f1"
      },
      "execution_count": 13,
      "outputs": [
        {
          "output_type": "execute_result",
          "data": {
            "text/plain": [
              "0.8243"
            ]
          },
          "metadata": {},
          "execution_count": 13
        }
      ]
    },
    {
      "cell_type": "markdown",
      "source": [
        "## Ejercicio 3"
      ],
      "metadata": {
        "id": "ilVuwtV47G70"
      }
    },
    {
      "cell_type": "markdown",
      "source": [
        "Calcular una aproximación del p-valor de la hipótesis: “Los siguientes 10 números son aleatorios”:\n",
        "\n",
        "$$\n",
        "0.12, 0.18, 0.06, 0.33, 0.72, 0.83, 0.36, 0.27, 0.77, 0.74\n",
        "$$"
      ],
      "metadata": {
        "id": "6oM2_fHU768m"
      }
    },
    {
      "cell_type": "code",
      "source": [
        "#@title Grafico\n",
        "import numpy as np\n",
        "import matplotlib.pyplot as plt\n",
        "from scipy.stats import uniform\n",
        "\n",
        "# Muestra y ordenación\n",
        "muestra = [0.12, 0.18, 0.06, 0.33, 0.72, 0.83, 0.36, 0.27, 0.77, 0.74]\n",
        "# muestra = np.random.random(100) # ejemplo con random verdadero\n",
        "muestra_ordenada = np.sort(muestra)\n",
        "\n",
        "# Construimos los valores de la función de distribución empírica\n",
        "n = len(muestra)\n",
        "x_vals = np.concatenate(([0], muestra_ordenada, [1]))\n",
        "y_vals = np.concatenate(([0], np.arange(1, n+1) / n, [1]))\n",
        "\n",
        "# Calculamos la acumulada de una uniforme\n",
        "x_vals_unif = np.linspace(-0.1, 1.1, 500)\n",
        "y_vals_unif = uniform.cdf(x_vals_unif, loc=0, scale=1)\n",
        "\n",
        "# Graficamos\n",
        "plt.figure(figsize=(4, 4))\n",
        "plt.plot(x_vals_unif, y_vals_unif, label='Uniforme(0,1)', color='blue')\n",
        "plt.step(x_vals, y_vals, where='post', label='Empirica $F_e(x)$', color='green')\n",
        "plt.xlabel('x')\n",
        "plt.ylabel('F(x)')\n",
        "plt.legend(); plt.show()\n"
      ],
      "metadata": {
        "colab": {
          "base_uri": "https://localhost:8080/",
          "height": 388
        },
        "cellView": "form",
        "id": "1LonD83yhK7m",
        "outputId": "6ef2bc71-3864-4d49-e077-5d121e0e8849"
      },
      "execution_count": 14,
      "outputs": [
        {
          "output_type": "display_data",
          "data": {
            "text/plain": [
              "<Figure size 400x400 with 1 Axes>"
            ],
            "image/png": "[encoded data removed]"
          },
          "metadata": {}
        }
      ]
    },
    {
      "cell_type": "code",
      "source": [
        "#@title Estadistico Kolmogorov Smirnov\n",
        "from scipy.stats import uniform\n",
        "\n",
        "\n",
        "def estadistico_ks(muestra_ordenada, F_h_0):\n",
        "    n = len(muestra)\n",
        "\n",
        "    max1 = max((j+1)/n - F_h_0(y) for j, y in enumerate(muestra_ordenada))\n",
        "    max2 = max(F_h_0(y) - (j/n) for j, y in enumerate(muestra_ordenada))\n",
        "\n",
        "    return max(max1, max2)\n",
        "\n",
        "muestra = [0.12,0.18,0.06,0.33,0.72,0.83,0.36,0.27,0.77,0.74]\n",
        "muestra_ordenada = np.sort(muestra)\n",
        "F_h_0 = lambda x: uniform.cdf(x, loc=0, scale=1)\n",
        "# F_h_0 = lambda x: 0 if x < 0 else 1 if x > 1 else x # NOTE: alternativa\n",
        "\n",
        "print(f\"t_0: {estadistico_ks(muestra_ordenada, F_h_0)}\")"
      ],
      "metadata": {
        "colab": {
          "base_uri": "https://localhost:8080/"
        },
        "id": "lLo-OyrC0ILW",
        "outputId": "951c45fa-e9ce-4d2e-c49f-7bdaf199c657"
      },
      "execution_count": 15,
      "outputs": [
        {
          "output_type": "stream",
          "name": "stdout",
          "text": [
            "t_0: 0.24\n"
          ]
        }
      ]
    },
    {
      "cell_type": "code",
      "source": [
        "#@title Calculo p-valor (simulacion)\n",
        "import numpy as np\n",
        "\n",
        "\n",
        "def ej3_p_valor(tam_muestra, t_0, n_sim):\n",
        "    p_valor = 0\n",
        "    for _ in range(n_sim):\n",
        "        # Calculo la muestra\n",
        "        muestra = np.random.random(tam_muestra)\n",
        "        muestra_ordenada = np.sort(muestra)\n",
        "\n",
        "        # Calculamos el estadistico de Kolmogorov Smirnov\n",
        "        d_j = 0\n",
        "        for j, u_j in enumerate(muestra_ordenada):\n",
        "            d_j = max(d_j, ((j+1)/tam_muestra) - u_j, u_j - (j/tam_muestra))\n",
        "\n",
        "        if d_j >= t_0:\n",
        "            p_valor += 1\n",
        "\n",
        "    return p_valor / n_sim\n",
        "\n",
        "ej3_p_valor(10, 0.24, 10_000)"
      ],
      "metadata": {
        "colab": {
          "base_uri": "https://localhost:8080/"
        },
        "id": "RNh4jvbYwy25",
        "outputId": "67b56398-48f7-4e21-adff-54d1c27704c7"
      },
      "execution_count": 16,
      "outputs": [
        {
          "output_type": "execute_result",
          "data": {
            "text/plain": [
              "0.5311"
            ]
          },
          "metadata": {},
          "execution_count": 16
        }
      ]
    },
    {
      "cell_type": "markdown",
      "source": [
        "## Ejercicio 4"
      ],
      "metadata": {
        "id": "R4jWJ2J57ISN"
      }
    },
    {
      "cell_type": "markdown",
      "source": [
        "Calcular una aproximación del p-valor de la hipótesis: “Los siguientes 13 valores provienen de una distribución exponencial con media 50,0”:\n",
        "$$\n",
        "86.0, 133.0, 75.0, 22.0, 11.0, 144.0, 78.0, 122.0, 8.0, 146.0, 33.0, 41.0, 99.0\n",
        "$$"
      ],
      "metadata": {
        "id": "akBJo8jb8NlN"
      }
    },
    {
      "cell_type": "code",
      "source": [
        "#@title Grafico\n",
        "import numpy as np\n",
        "import matplotlib.pyplot as plt\n",
        "from scipy.stats import expon\n",
        "\n",
        "# Muestra y ordenación\n",
        "muestra = [86.0,133.0,75.0,22.0,11.0,144.0,78.0,122.0,8.0,146.0,33.0,41.0,99.0]\n",
        "# Ejemplo con exponencial verdadera\n",
        "# muestra = np.random.exponential(scale=50, size=100)\n",
        "muestra_ordenada = np.sort(muestra)\n",
        "\n",
        "# Construimos los valores de la función de distribución empírica\n",
        "n = len(muestra)\n",
        "x_vals_emp = np.concatenate(([0], muestra_ordenada))\n",
        "y_vals_emp = np.concatenate(([0], np.arange(1, n+1) / n))\n",
        "\n",
        "# Calculamos la acumulada de una exponencial\n",
        "x_vals_exp = np.linspace(0, max(muestra), 1000)\n",
        "y_vals_exp = expon.cdf(x_vals_exp, scale=50)\n",
        "\n",
        "# Graficamos\n",
        "plt.figure(figsize=(4, 4))\n",
        "plt.plot(x_vals_exp, y_vals_exp, label='Exp($\\lambda=50$)', color='blue')\n",
        "plt.step(x_vals_emp, y_vals_emp, where='post', label='Empirica $F_e(x)$', color='green')\n",
        "plt.xlabel('x')\n",
        "plt.ylabel('F(x)')\n",
        "plt.legend(); plt.show()"
      ],
      "metadata": {
        "colab": {
          "base_uri": "https://localhost:8080/",
          "height": 388
        },
        "id": "d-HpRbW82NvM",
        "outputId": "b068c684-c56d-423f-9a4b-5d29b5704cae"
      },
      "execution_count": 26,
      "outputs": [
        {
          "output_type": "display_data",
          "data": {
            "text/plain": [
              "<Figure size 400x400 with 1 Axes>"
            ],
            "image/png": "[encoded data removed]"
          },
          "metadata": {}
        }
      ]
    },
    {
      "cell_type": "code",
      "source": [
        "#@title Estadistico Kolmogorov Smirnov\n",
        "from scipy.stats import expon\n",
        "\n",
        "\n",
        "def estadistico_ks(muestra_ordenada, F_h_0):\n",
        "    n = len(muestra)\n",
        "\n",
        "    max1 = max((j+1)/n - F_h_0(y) for j, y in enumerate(muestra_ordenada))\n",
        "    max2 = max(F_h_0(y) - (j/n) for j, y in enumerate(muestra_ordenada))\n",
        "\n",
        "    return max(max1, max2)\n",
        "\n",
        "muestra = [86.0,133.0,75.0,22.0,11.0,144.0,78.0,122.0,8.0,146.0,33.0,41.0,99.0]\n",
        "muestra_ordenada = np.sort(muestra)\n",
        "\n",
        "F_h_0 = lambda x: expon.cdf(x, scale=50)\n",
        "\n",
        "print(f\"t_0: {estadistico_ks(muestra_ordenada, F_h_0)}\")"
      ],
      "metadata": {
        "colab": {
          "base_uri": "https://localhost:8080/"
        },
        "id": "U7cgjc9v5YE3",
        "outputId": "0a1b05ee-af85-4dab-f2ff-24f909ed777b"
      },
      "execution_count": 18,
      "outputs": [
        {
          "output_type": "stream",
          "name": "stdout",
          "text": [
            "t_0: 0.3922544552361856\n"
          ]
        }
      ]
    },
    {
      "cell_type": "code",
      "source": [
        "#@title Calculo p-valor (simulacion con uniformes)\n",
        "import numpy as np\n",
        "\n",
        "\n",
        "def ej4_p_valor_con_uniformes(tam_muestra, t_0, n_sim):\n",
        "    p_valor = 0\n",
        "    for _ in range(n_sim):\n",
        "        # Calculo la muestra\n",
        "        muestra = np.random.random(tam_muestra)\n",
        "        muestra_ordenada = np.sort(muestra)\n",
        "\n",
        "        # Calculamos el estadistico de Kolmogorov Smirnov\n",
        "        d_j = 0\n",
        "        for j, u_j in enumerate(muestra_ordenada):\n",
        "            d_j = max(d_j, ((j+1)/tam_muestra) - u_j, u_j - (j/tam_muestra))\n",
        "\n",
        "        if d_j >= t_0:\n",
        "            p_valor += 1\n",
        "\n",
        "    return p_valor / n_sim\n",
        "\n",
        "ej4_p_valor_con_uniformes(13, 0.3922544552361856, 10_000)"
      ],
      "metadata": {
        "colab": {
          "base_uri": "https://localhost:8080/"
        },
        "id": "qXddzcjMAAbp",
        "outputId": "16a81597-9fb7-4871-859f-c313e71bb34e"
      },
      "execution_count": 37,
      "outputs": [
        {
          "output_type": "execute_result",
          "data": {
            "text/plain": [
              "0.025592"
            ]
          },
          "metadata": {},
          "execution_count": 37
        }
      ]
    },
    {
      "cell_type": "markdown",
      "source": [
        "#### Analisis de  la simulacion con uniformes\n",
        "\n",
        "Dado la simulacion con uniformes dio $p-valor = 0.025 < 0.05$. Mejor realizar una simulacion que no utilice uniformes sino muestras de exponenciales con media 50 y en cada simulacion el parametro $λ se estima nuevamente."
      ],
      "metadata": {
        "id": "Y_81FIueKo3s"
      }
    },
    {
      "cell_type": "code",
      "source": [
        "#@title Calculo p-valor (simulacion mas exacta)\n",
        "import numpy as np\n",
        "from scipy.stats import expon\n",
        "\n",
        "\n",
        "def ej4_p_valor(tam_muestra, t_0, n_sim):\n",
        "    p_valor = 0\n",
        "    for _ in range(n_sim):\n",
        "        # Calculo la muestra\n",
        "        muestra = expon.rvs(scale=50, size=tam_muestra)\n",
        "        muestra_ordenada = np.sort(muestra)\n",
        "\n",
        "        # Defino la nueva F segun la muestra\n",
        "        F_h0 = lambda x: expon.cdf(x, scale=np.mean(muestra))\n",
        "\n",
        "        # Calculamos el estadistico de Kolmogorov Smirnov\n",
        "        d_j = 0\n",
        "        for j, u_j in enumerate(muestra_ordenada):\n",
        "            d_j = max(d_j, ((j+1)/tam_muestra) - F_h0(u_j), F_h0(u_j) - (j/tam_muestra))\n",
        "\n",
        "        if d_j >= t_0:\n",
        "            p_valor += 1\n",
        "\n",
        "    return p_valor / n_sim\n",
        "\n",
        "ej4_p_valor(13, 0.3922544552361856, 10_000)"
      ],
      "metadata": {
        "colab": {
          "base_uri": "https://localhost:8080/"
        },
        "id": "3jtJ78wLHfHf",
        "outputId": "000f989b-c17b-45b1-8e70-021ab39df643"
      },
      "execution_count": 40,
      "outputs": [
        {
          "output_type": "execute_result",
          "data": {
            "text/plain": [
              "0.0008"
            ]
          },
          "metadata": {},
          "execution_count": 40
        }
      ]
    },
    {
      "cell_type": "markdown",
      "source": [
        "## Ejercicio 5"
      ],
      "metadata": {
        "id": "NMf4ZCQ67JdY"
      }
    },
    {
      "cell_type": "markdown",
      "source": [
        "Calcular una aproximación del p-valor de la prueba de que los siguientes datos corresponden a una distribución binomial con parámetros $(n = 8, p)$, donde p no se conoce:\n",
        "$$\n",
        "6, 7, 3, 4, 7, 3, 7, 2, 6, 3, 7, 8, 2, 1, 3, 5, 8, 7\n",
        "$$"
      ],
      "metadata": {
        "id": "-lGHSKUv8SKa"
      }
    },
    {
      "cell_type": "code",
      "source": [
        "#@title Constantes\n",
        "n = 8\n",
        "muestra = [6, 7, 3, 4, 7, 3, 7, 2, 6, 3, 7, 8, 2, 1, 3, 5, 8, 7]"
      ],
      "metadata": {
        "id": "dFSfsqlwZjDH"
      },
      "execution_count": 109,
      "outputs": []
    },
    {
      "cell_type": "code",
      "source": [
        "#@title Estadistico de Pearson\n",
        "import numpy as np\n",
        "from scipy.stats import chi2, binom\n",
        "\n",
        "\n",
        "def estadistico_pearson(frecuencias, p_hip_0):\n",
        "    \"\"\"Se asume que frecuencias[i] corresponden con p_hip_0[i].\"\"\"\n",
        "    assert len(frecuencias) == len(p_hip_0)\n",
        "\n",
        "    n = sum(frecuencias)\n",
        "    return sum((N-n*p)**2/(n*p) for N, p in zip(frecuencias, p_hip_0))\n",
        "\n",
        "frecuencias = np.bincount(muestra, minlength=n+1)\n",
        "# frecuencias = [muestra.count(i) for i in range(8+1)]\n",
        "\n",
        "# Esto porque la E(Bin(n,p)) = np entonces E(Bin(n,p))/n = np/p = p\n",
        "p_estimacion = np.mean(muestra) / n\n",
        "\n",
        "p_hip_0 = [binom.pmf(k, n=n, p=p_estimacion) for k in range(n+1)]\n",
        "\n",
        "print(f\"t_0: {estadistico_pearson(frecuencias, p_hip_0)}\")"
      ],
      "metadata": {
        "colab": {
          "base_uri": "https://localhost:8080/"
        },
        "id": "mrFD9yq8OMhq",
        "outputId": "29ff0496-2ee2-45f6-ddaa-d59bba352b01"
      },
      "execution_count": 110,
      "outputs": [
        {
          "output_type": "stream",
          "name": "stdout",
          "text": [
            "t_0: 31.49933093415532\n"
          ]
        }
      ]
    },
    {
      "cell_type": "code",
      "source": [
        "#@title Calculo p-valor (Chi-Cuad)\n",
        "from scipy.stats import chi2\n",
        "\n",
        "\n",
        "# NOTE: chi2.sf(x, df) = 1 - chi2.cdf(x, df)\n",
        "\n",
        "# NOTE: Restamos -2 ya que estamos estimando el parametro p\n",
        "# NOTE: Como es binomial los valores posibles son desde:\n",
        "#       0,...,n es decir n+1 valores.\n",
        "\n",
        "print(f\"p-valor: {chi2.sf(31.49933, 9-1-1):.8f}\")\n",
        "# print(f\"p-valor: {1 - chi2.cdf(31.49933, 8-1-1):.2f}\")\n",
        "\n",
        "t_0 = estadistico_pearson(frecuencias, p_hip_0)\n",
        "print(f\"p-valor (más exacto): {chi2.sf(t_0 , 9-1-1)}\")\n",
        "# print(f\"p-valor (más exacto): {1 - chi2.cdf(t_0 , 8-1-1)}\")"
      ],
      "metadata": {
        "colab": {
          "base_uri": "https://localhost:8080/"
        },
        "id": "JkUziztzQ0mh",
        "outputId": "a74381f2-9c4b-456e-c2d6-aaa6109e7989"
      },
      "execution_count": 111,
      "outputs": [
        {
          "output_type": "stream",
          "name": "stdout",
          "text": [
            "p-valor: 0.00005028\n",
            "p-valor (más exacto): 5.027994320424087e-05\n"
          ]
        }
      ]
    },
    {
      "cell_type": "code",
      "source": [
        "#@title Codigo estimacion del p-valor (simulacion)\n",
        "import numpy as np\n",
        "\n",
        "\n",
        "def ej5_p_valor(tam_muestra, t_0, bin_n, bin_p, n_sim):\n",
        "    binomial = binom(bin_n, bin_p)\n",
        "\n",
        "    p_valor = 0\n",
        "    for _ in range(n_sim):\n",
        "        # Generamos una muestra\n",
        "        muestra = binomial.rvs(tam_muestra)\n",
        "\n",
        "        # Calculamos en base a la muestra p\n",
        "        p_estimacion = np.mean(muestra) / bin_n\n",
        "\n",
        "        # Calculamos los nuevos ps\n",
        "        ps = [binom.pmf(k, n=bin_n, p=p_estimacion) for k in range(bin_n+1)]\n",
        "\n",
        "        # Contamos las frecuencias\n",
        "        frecuencias = np.bincount(muestra, minlength=8+1)\n",
        "\n",
        "        # Calculamos el estadistico de pearson\n",
        "        total = sum(frecuencias)\n",
        "        T = sum((N-total*p)**2/(total*p) for N, p in zip(frecuencias, ps))\n",
        "\n",
        "        if T >= t_0:\n",
        "            p_valor += 1\n",
        "\n",
        "    return p_valor / n_sim\n",
        "\n",
        "\n",
        "ej5_p_valor(len(muestra), t_0, n, p_estimacion, 10_000)"
      ],
      "metadata": {
        "colab": {
          "base_uri": "https://localhost:8080/"
        },
        "id": "QTxdbJF2Nywl",
        "outputId": "db328529-9ac4-4dbe-c1ce-9c470906167c"
      },
      "execution_count": 112,
      "outputs": [
        {
          "output_type": "execute_result",
          "data": {
            "text/plain": [
              "0.0104"
            ]
          },
          "metadata": {},
          "execution_count": 112
        }
      ]
    },
    {
      "cell_type": "markdown",
      "source": [
        "## Ejercicio 6\n"
      ],
      "metadata": {
        "id": "KQmmdFO07KkJ"
      }
    },
    {
      "cell_type": "markdown",
      "source": [
        "Un escribano debe validar un juego en cierto programa de televisión. El mismo consiste en hacer girar una rueda y obtener un premio según el sector de la rueda que coincida con una aguja.\n",
        "\n",
        "Hay 10 premios posibles, y las áreas de la rueda para los distintos premios, numerados del 1 al 10, son respectivamente:\n",
        "\n",
        "$$ 31\\%, 22\\%, 12\\%, 10\\%, 8\\%, 6\\%, 4\\%, 4\\%, 2\\%, 1\\% $$\n",
        "\n",
        "Los premios con número alto (e.j. un auto 0Km) son mejores que los premios con número bajo (e.j. 2x1 para entradas en el cine). El escribano hace girar la rueda hasta que se cansa, y anota cuántas veces sale cada sector. Los resultados, para los premios del 1 al 10, respectivamente, son:\n",
        "\n",
        "$$ 188, 138, 87, 65, 48, 32, 30, 34, 13, 2 $$\n",
        "\n",
        "a) Construya una tabla con los datos disponibles\n",
        "\n",
        "b) Diseñe una prueba de hipótesis para determinar si la rueda es justa\n",
        "\n",
        "c) Defina el p-valor a partir de la hipótesis nula\n",
        "\n",
        "d) Calcule el p-valor bajo la hipótesis de que la rueda es justa, usando la aproximación chi cuadrado\n",
        "\n",
        "e) Calcule el p-valor bajo la hipótesis de que la rueda es justa, usando una simulación."
      ],
      "metadata": {
        "id": "RgXNQqgv8ZID"
      }
    },
    {
      "cell_type": "markdown",
      "source": [],
      "metadata": {
        "id": "-B52NN3j8qFR"
      }
    },
    {
      "cell_type": "markdown",
      "source": [
        "## Ejercicio 7"
      ],
      "metadata": {
        "id": "1cKgJPEQ7Lkc"
      }
    },
    {
      "cell_type": "markdown",
      "source": [
        "Generar los valores correspondientes a 30 variables aleatorias exponenciales independientes, cada una con media 1. Luego, en base al estadístico de prueba de Kolmogorov-Smirnov, aproxime el p−valor de la prueba de que los datos realmente provienen de una distribución exponencial con media 1."
      ],
      "metadata": {
        "id": "rGO8sbUr9LSz"
      }
    },
    {
      "cell_type": "markdown",
      "source": [
        "## Ejercicio 8"
      ],
      "metadata": {
        "id": "IgIueIJm7Mq2"
      }
    },
    {
      "cell_type": "markdown",
      "source": [
        "Se sortean elementos de un conjunto de datos que tiene una distribución t-student de 11 grados de libertad. El investigador, que no conoce la forma verdadera de la distribución, asume que la misma es normal.\n",
        "\n",
        "Analice la validez de esta suposición para muestras de tamaños 10, 20, 100 y 1000 elementos Para ello realice simulaciones numéricas e implemente el test de Kolmogorov-Smirnov a los datos simulados, asumiendo una distribución N(0,1). Presente los resultados en una tabla que contenga el número de elementos\n",
        "de la simulación, el valor del estadístico D y el p−valor\n",
        "\n",
        "> **AYUDA**:\n",
        ">\n",
        "> Función de probabilidad normal: Para obtener la función de probabilidad normal, se puede usar la función `math.erf`. Por ejemplo, la cantidad `math.erf(x/math.sqrt(2.))/2.+0.5` equivale a:\n",
        ">\n",
        "> $$ \\int_{-∞}^x N(0,1)(t)dt$$\n",
        "\n",
        "> **AYUDA**:\n",
        ">\n",
        "> Generación de números aleatorios con una distribución t-student: Utilice el siguiente código para generar números aleatorios que siguen una distribución T-student:\n",
        "> ```python\n",
        "> import math\n",
        "> import random\n",
        ">\n",
        "> def rt(df): # df grados de libertad\n",
        ">    x = random.gauss(0.0, 1.0)\n",
        ">    y = 2.0*random.gammavariate(0.5*df, 2.0)\n",
        ">    return x / (math.sqrt(y/df))\n",
        ">```\n"
      ],
      "metadata": {
        "id": "8gasn2UU94cs"
      }
    },
    {
      "cell_type": "markdown",
      "source": [
        "## Ejercicio 9"
      ],
      "metadata": {
        "id": "rsjG9RL17NsC"
      }
    },
    {
      "cell_type": "markdown",
      "source": [
        "En un estudio de vibraciones, una muestra aleatoria de 15 componentes del avión fueron sometidos a fuertes vibraciones hasta que se evidenciaron fallas estructurales. Los datos proporcionados son los minutos transcurridos hasta que se evidenciaron dichas fallas.\n",
        "\n",
        "$$\n",
        "1.6, 10.3, 3.5, 13.5, 18.4, 7.7, 24.3, 10.7, 8.4, 4.9, 7.9, 12, 16.2, 6.8, 14.7\n",
        "$$\n",
        "\n",
        "Pruebe la hipótesis nula de que estas observaciones pueden ser consideradas como una muestra de la\n",
        "distribución exponencial"
      ],
      "metadata": {
        "id": "ohV1vYch9mU0"
      }
    },
    {
      "cell_type": "markdown",
      "source": [
        "## Ejercicio 10"
      ],
      "metadata": {
        "id": "LtncyGlx7Of2"
      }
    },
    {
      "cell_type": "markdown",
      "source": [
        "Decidir si los siguientes datos corresponden a una distribución Normal:\n",
        "\n",
        "$$\n",
        "91.9, 97.8, 111.4, 122.3, 105.4, 95.0, 103.8, 99.6, 96.6, 119.3, 104.8, 101.7\n",
        "$$\n",
        "\n",
        "Calcular una aproximación del p−valor."
      ],
      "metadata": {
        "id": "vl117O0h9zk3"
      }
    }
  ]
}