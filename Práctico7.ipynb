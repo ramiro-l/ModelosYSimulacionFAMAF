{
  "nbformat": 4,
  "nbformat_minor": 0,
  "metadata": {
    "colab": {
      "provenance": [],
      "authorship_tag": "ABX9TyPJd1SeQKnjhBYZYfx7cQUb",
      "include_colab_link": true
    },
    "kernelspec": {
      "name": "python3",
      "display_name": "Python 3"
    },
    "language_info": {
      "name": "python"
    }
  },
  "cells": [
    {
      "cell_type": "markdown",
      "metadata": {
        "id": "view-in-github",
        "colab_type": "text"
      },
      "source": [
        "<a href=\"https://colab.research.google.com/github/ramiro-l/ModelosYSimulacionFAMAF/blob/main/Pr%C3%A1ctico7.ipynb\" target=\"_parent\"><img src=\"https://colab.research.google.com/assets/colab-badge.svg\" alt=\"Open In Colab\"/></a>"
      ]
    },
    {
      "cell_type": "markdown",
      "source": [
        "# Práctico 7"
      ],
      "metadata": {
        "id": "nf6-7scy6tkz"
      }
    },
    {
      "cell_type": "markdown",
      "source": [
        "- Para estos ejercicios, estudiar:\n",
        "https://docs.scipy.org/doc/scipy/reference/generated/scipy.stats.chi2.html\n",
        "\n",
        "- Otra bibliografia interesante es\n",
        "https://relopezbriega.github.io/blog/2016/06/29/distribuciones-de-probabilidad-con-python/\n",
        "\n",
        "- No utilice implementaciones personales de densidades a menos que el ejercicio se lo pida exactamente.\n",
        "\n",
        "- **Convención general**: al obtener valores decimales suponemos una distribución continua."
      ],
      "metadata": {
        "id": "RSC-zQMJ60cO"
      }
    },
    {
      "cell_type": "markdown",
      "source": [
        "## Ejercicio 1"
      ],
      "metadata": {
        "id": "ft-ojg2W68rC"
      }
    },
    {
      "cell_type": "markdown",
      "source": [
        "De acuerdo con la teoría genética de Mendel, cierta planta de guisantes debe producir flores blancas, rosas o rojas con probabilidad 1/4, 1/2 y 1/4, respectivamente.\n",
        "\n",
        "Para verificar experimentalmente la teoría, se estudió una muestra de 564 guisantes, donde se encontró que 141 produjeron flores blancas, 291 flores rosas y 132 flores rojas. Aproximar el p-valor de esta muestra:\n",
        "\n",
        "a) utilizando la prueba de Pearson con aproximación chi-cuadrada,\n",
        "\n",
        "b) realizando una simulación."
      ],
      "metadata": {
        "id": "sglHnqxl894w"
      }
    },
    {
      "cell_type": "markdown",
      "source": [
        "## Ejercicio 2"
      ],
      "metadata": {
        "id": "Br7sq2qI7Fy6"
      }
    },
    {
      "cell_type": "markdown",
      "source": [
        "Para verificar que cierto dado no estaba trucado, se registraron 1000 lanzamientos, resultando que el número de veces que el dado arrojó el valor i (i = 1,2,3,4,5,6) fue, respectivamente, 158, 172, 164, 181, 160, 165. Aproximar el p−valor de la prueba: “el dado es honesto”\n",
        "\n",
        "a) utilizando la prueba de Pearson con aproximación chi-cuadrada,\n",
        "\n",
        "b) realizando una simulación"
      ],
      "metadata": {
        "id": "vC8L025M9DqN"
      }
    },
    {
      "cell_type": "markdown",
      "source": [
        "## Ejercicio 3"
      ],
      "metadata": {
        "id": "ilVuwtV47G70"
      }
    },
    {
      "cell_type": "markdown",
      "source": [
        "Calcular una aproximación del p-valor de la hipótesis: “Los siguientes 10 números son aleatorios”:\n",
        "\n",
        "$$\n",
        "0.12, 0.18, 0.06, 0.33, 0.72, 0.83, 0.36, 0.27, 0.77, 0.74\n",
        "$$"
      ],
      "metadata": {
        "id": "6oM2_fHU768m"
      }
    },
    {
      "cell_type": "markdown",
      "source": [
        "## Ejercicio 4"
      ],
      "metadata": {
        "id": "R4jWJ2J57ISN"
      }
    },
    {
      "cell_type": "markdown",
      "source": [
        "Calcular una aproximación del p-valor de la hipótesis: “Los siguientes 13 valores provienen de una distribución exponencial con media 50,0”:\n",
        "$$\n",
        "86.0, 133.0, 75.0, 22.0, 11.0, 144.0, 78.0, 122.0, 8.0, 146.0, 33.0, 41.0, 99.0\n",
        "$$"
      ],
      "metadata": {
        "id": "akBJo8jb8NlN"
      }
    },
    {
      "cell_type": "markdown",
      "source": [
        "## Ejercicio 5"
      ],
      "metadata": {
        "id": "NMf4ZCQ67JdY"
      }
    },
    {
      "cell_type": "markdown",
      "source": [
        "Calcular una aproximación del p-valor de la prueba de que los siguientes datos corresponden a una distribución binomial con parámetros $(n = 8, p)$, donde p no se conoce:\n",
        "$$\n",
        "6, 7, 3, 4, 7, 3, 7, 2, 6, 3, 7, 8, 2, 1, 3, 5, 8, 7\n",
        "$$"
      ],
      "metadata": {
        "id": "-lGHSKUv8SKa"
      }
    },
    {
      "cell_type": "markdown",
      "source": [
        "## Ejercicio 6\n"
      ],
      "metadata": {
        "id": "KQmmdFO07KkJ"
      }
    },
    {
      "cell_type": "markdown",
      "source": [
        "Un escribano debe validar un juego en cierto programa de televisión. El mismo consiste en hacer girar una rueda y obtener un premio según el sector de la rueda que coincida con una aguja.\n",
        "\n",
        "Hay 10 premios posibles, y las áreas de la rueda para los distintos premios, numerados del 1 al 10, son respectivamente:\n",
        "\n",
        "$$ 31\\%, 22\\%, 12\\%, 10\\%, 8\\%, 6\\%, 4\\%, 4\\%, 2\\%, 1\\% $$\n",
        "\n",
        "Los premios con número alto (e.j. un auto 0Km) son mejores que los premios con número bajo (e.j. 2x1 para entradas en el cine). El escribano hace girar la rueda hasta que se cansa, y anota cuántas veces sale cada sector. Los resultados, para los premios del 1 al 10, respectivamente, son:\n",
        "\n",
        "$$ 188, 138, 87, 65, 48, 32, 30, 34, 13, 2 $$\n",
        "\n",
        "a) Construya una tabla con los datos disponibles\n",
        "\n",
        "b) Diseñe una prueba de hipótesis para determinar si la rueda es justa\n",
        "\n",
        "c) Defina el p-valor a partir de la hipótesis nula\n",
        "\n",
        "d) Calcule el p-valor bajo la hipótesis de que la rueda es justa, usando la aproximación chi cuadrado\n",
        "\n",
        "e) Calcule el p-valor bajo la hipótesis de que la rueda es justa, usando una simulación."
      ],
      "metadata": {
        "id": "RgXNQqgv8ZID"
      }
    },
    {
      "cell_type": "markdown",
      "source": [],
      "metadata": {
        "id": "-B52NN3j8qFR"
      }
    },
    {
      "cell_type": "markdown",
      "source": [
        "## Ejercicio 7"
      ],
      "metadata": {
        "id": "1cKgJPEQ7Lkc"
      }
    },
    {
      "cell_type": "markdown",
      "source": [
        "Generar los valores correspondientes a 30 variables aleatorias exponenciales independientes, cada una con media 1. Luego, en base al estadístico de prueba de Kolmogorov-Smirnov, aproxime el p−valor de la prueba de que los datos realmente provienen de una distribución exponencial con media 1."
      ],
      "metadata": {
        "id": "rGO8sbUr9LSz"
      }
    },
    {
      "cell_type": "markdown",
      "source": [
        "## Ejercicio 8"
      ],
      "metadata": {
        "id": "IgIueIJm7Mq2"
      }
    },
    {
      "cell_type": "markdown",
      "source": [
        "Se sortean elementos de un conjunto de datos que tiene una distribución t-student de 11 grados de libertad. El investigador, que no conoce la forma verdadera de la distribución, asume que la misma es normal.\n",
        "\n",
        "Analice la validez de esta suposición para muestras de tamaños 10, 20, 100 y 1000 elementos Para ello realice simulaciones numéricas e implemente el test de Kolmogorov-Smirnov a los datos simulados, asumiendo una distribución N(0,1). Presente los resultados en una tabla que contenga el número de elementos\n",
        "de la simulación, el valor del estadístico D y el p−valor\n",
        "\n",
        "> **AYUDA**:\n",
        ">\n",
        "> Función de probabilidad normal: Para obtener la función de probabilidad normal, se puede usar la función `math.erf`. Por ejemplo, la cantidad `math.erf(x/math.sqrt(2.))/2.+0.5` equivale a:\n",
        ">\n",
        "> $$ \\int_{-∞}^x N(0,1)(t)dt$$\n",
        "\n",
        "> **AYUDA**:\n",
        ">\n",
        "> Generación de números aleatorios con una distribución t-student: Utilice el siguiente código para generar números aleatorios que siguen una distribución T-student:\n",
        "> ```python\n",
        "> import math\n",
        "> import random\n",
        ">\n",
        "> def rt(df): # df grados de libertad\n",
        ">    x = random.gauss(0.0, 1.0)\n",
        ">    y = 2.0*random.gammavariate(0.5*df, 2.0)\n",
        ">    return x / (math.sqrt(y/df))\n",
        ">```\n"
      ],
      "metadata": {
        "id": "8gasn2UU94cs"
      }
    },
    {
      "cell_type": "markdown",
      "source": [
        "## Ejercicio 9"
      ],
      "metadata": {
        "id": "rsjG9RL17NsC"
      }
    },
    {
      "cell_type": "markdown",
      "source": [
        "En un estudio de vibraciones, una muestra aleatoria de 15 componentes del avión fueron sometidos a fuertes vibraciones hasta que se evidenciaron fallas estructurales. Los datos proporcionados son los minutos transcurridos hasta que se evidenciaron dichas fallas.\n",
        "\n",
        "$$\n",
        "1.6, 10.3, 3.5, 13.5, 18.4, 7.7, 24.3, 10.7, 8.4, 4.9, 7.9, 12, 16.2, 6.8, 14.7\n",
        "$$\n",
        "\n",
        "Pruebe la hipótesis nula de que estas observaciones pueden ser consideradas como una muestra de la\n",
        "distribución exponencial"
      ],
      "metadata": {
        "id": "ohV1vYch9mU0"
      }
    },
    {
      "cell_type": "markdown",
      "source": [
        "## Ejercicio 10"
      ],
      "metadata": {
        "id": "LtncyGlx7Of2"
      }
    },
    {
      "cell_type": "markdown",
      "source": [
        "Decidir si los siguientes datos corresponden a una distribución Normal:\n",
        "\n",
        "$$\n",
        "91.9, 97.8, 111.4, 122.3, 105.4, 95.0, 103.8, 99.6, 96.6, 119.3, 104.8, 101.7\n",
        "$$\n",
        "\n",
        "Calcular una aproximación del p−valor."
      ],
      "metadata": {
        "id": "vl117O0h9zk3"
      }
    }
  ]
}