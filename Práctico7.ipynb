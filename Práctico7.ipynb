{
  "nbformat": 4,
  "nbformat_minor": 0,
  "metadata": {
    "colab": {
      "provenance": [],
      "toc_visible": true,
      "collapsed_sections": [
        "ZHtXuy4siMZ3"
      ],
      "authorship_tag": "ABX9TyPZtY87RwUBZmgqgpK8uAVN",
      "include_colab_link": true
    },
    "kernelspec": {
      "name": "python3",
      "display_name": "Python 3"
    },
    "language_info": {
      "name": "python"
    }
  },
  "cells": [
    {
      "cell_type": "markdown",
      "metadata": {
        "id": "view-in-github",
        "colab_type": "text"
      },
      "source": [
        "<a href=\"https://colab.research.google.com/github/ramiro-l/ModelosYSimulacionFAMAF/blob/main/Pr%C3%A1ctico7.ipynb\" target=\"_parent\"><img src=\"https://colab.research.google.com/assets/colab-badge.svg\" alt=\"Open In Colab\"/></a>"
      ]
    },
    {
      "cell_type": "markdown",
      "source": [
        "# Práctico 7"
      ],
      "metadata": {
        "id": "nf6-7scy6tkz"
      }
    },
    {
      "cell_type": "markdown",
      "source": [
        "- Para estos ejercicios, estudiar:\n",
        "https://docs.scipy.org/doc/scipy/reference/generated/scipy.stats.chi2.html\n",
        "\n",
        "- Otra bibliografia interesante es\n",
        "https://relopezbriega.github.io/blog/2016/06/29/distribuciones-de-probabilidad-con-python/\n",
        "\n",
        "- No utilice implementaciones personales de densidades a menos que el ejercicio se lo pida exactamente.\n",
        "\n",
        "- **Convención general**: al obtener valores decimales suponemos una distribución continua."
      ],
      "metadata": {
        "id": "RSC-zQMJ60cO"
      }
    },
    {
      "cell_type": "markdown",
      "source": [
        "## Ejercicio 1"
      ],
      "metadata": {
        "id": "ft-ojg2W68rC"
      }
    },
    {
      "cell_type": "markdown",
      "source": [
        "De acuerdo con la teoría genética de Mendel, cierta planta de guisantes debe producir flores blancas, rosas o rojas con probabilidad 1/4, 1/2 y 1/4, respectivamente.\n",
        "\n",
        "Para verificar experimentalmente la teoría, se estudió una muestra de 564 guisantes, donde se encontró que 141 produjeron flores blancas, 291 flores rosas y 132 flores rojas. Aproximar el p-valor de esta muestra:"
      ],
      "metadata": {
        "id": "sglHnqxl894w"
      }
    },
    {
      "cell_type": "code",
      "source": [
        "#@title Grafico\n",
        "import matplotlib.pyplot as plt\n",
        "import numpy as np\n",
        "\n",
        "categorias = ['Blancas', 'Rosas', 'Rojas']\n",
        "observados = np.array([141, 291, 132])\n",
        "total = sum(observados)\n",
        "\n",
        "prob_teoricas = np.array([0.25, 0.5, 0.25])\n",
        "esperados = total * prob_teoricas\n",
        "\n",
        "x = np.arange(len(categorias))\n",
        "\n",
        "plt.figure(figsize=(5, 3))\n",
        "plt.bar(x - 0.15, observados, width=0.3, label='Observados', color='skyblue')\n",
        "plt.bar(x + 0.15, esperados, width=0.3, label='Esperados', color='orange')\n",
        "\n",
        "plt.xticks(x, categorias)\n",
        "plt.ylabel('Número de guisantes')\n",
        "plt.title('Frecuencias observadas y esperadas')\n",
        "plt.legend();plt.show()\n"
      ],
      "metadata": {
        "colab": {
          "base_uri": "https://localhost:8080/",
          "height": 314
        },
        "id": "wk_jaPzZAtEe",
        "outputId": "5516fdc7-ca1e-448f-803b-f1c6f2cbef14"
      },
      "execution_count": null,
      "outputs": [
        {
          "output_type": "display_data",
          "data": {
            "text/plain": [
              "<Figure size 500x300 with 1 Axes>"
            ],
            "image/png": "[encoded data removed]"
          },
          "metadata": {}
        }
      ]
    },
    {
      "cell_type": "markdown",
      "source": [
        "### a)\n",
        "\n",
        "Utilizando la prueba de Pearson con aproximación chi-cuadrada"
      ],
      "metadata": {
        "id": "VrSVYQrqefdI"
      }
    },
    {
      "cell_type": "markdown",
      "source": [
        "Para ello primero notar que:\n",
        "\n",
        "$$\n",
        "p_1 = 0.25 \\;,\\;\n",
        "p_2 = 0.5 \\;y\\;\n",
        "p_3 = 0.25\n",
        "$$\n",
        "\n",
        "y ademas en base a la muestra dada:\n",
        "\n",
        "$$n = 564$$\n",
        "\n",
        "$$\n",
        "N_1 = 141 \\;,\\;\n",
        "N_2 = 291 \\;y\\;\n",
        "N_3 = 132\n",
        "$$\n",
        "\n",
        "ahora si con todos estos valores podemos calcular en base al estadistico $T$ el valor de $t_0$:\n",
        "\n",
        "\\begin{align*}\n",
        "t_0 & = \\sum_{i=1}^{3} \\frac{(N_i - n⋅p_i)^2}{n⋅p_i} \\\\\n",
        "& = \\frac{(N_1 - n⋅p_1)^2}{n⋅p_1} + \\frac{(N_2 - n⋅p_2)^2}{n⋅p_2} + \\frac{(N_3 - n⋅p_3)^2}{n⋅p_3} \\\\\n",
        "& = \\frac{(141 - 564⋅0.25)^2}{564⋅0.25} + \\frac{(291 - 564⋅0.5)^2}{564⋅0.5} + \\frac{(132 - 564⋅0.25)^2}{564⋅0.25} \\\\\n",
        "& = \\frac{(141 - 141)^2}{141} + \\frac{(291 - 282)^2}{282} + \\frac{(132 - 141)^2}{141} \\\\\n",
        "& = \\frac{(0)^2}{141} + \\frac{(9)^2}{282} + \\frac{(-9)^2}{141} \\\\\n",
        "& = 0 + \\frac{81}{282} + \\frac{81}{141} \\\\\n",
        "& = \\frac{81}{282} + \\frac{81}{141} \\\\\n",
        "& ≃ 0,8617\n",
        "\\end{align*}\n",
        "\n",
        "con este calculo tengo que:\n",
        "\n",
        "$$\n",
        "p-valor = P(T ≥ t_0) = P(X_2^2 ≥ t_0) = P(X_2^2 ≥  0,86170) ≃ 0.65\n",
        "$$\n",
        "\n",
        "Dado que es un valor alto: **no hay evidencia para rechazar $H_0$**."
      ],
      "metadata": {
        "id": "MoqHspJ2ei8c"
      }
    },
    {
      "cell_type": "code",
      "source": [
        "#@title Estadistico de Pearson\n",
        "import numpy as np\n",
        "\n",
        "def estadistico_pearson(frecuencias, p_hip_0, cant_valores):\n",
        "    assert sum(frecuencias) == cant_valores\n",
        "    assert len(frecuencias) == len(p_hip_0)\n",
        "\n",
        "    valores_esperados = np.array([cant_valores*p for p in p_hip_0])\n",
        "    return np.sum((frecuencias - valores_esperados) ** 2 / valores_esperados)\n",
        "\n",
        "\n",
        "print(f\"t_0: {estadistico_pearson([141,291,132], [0.25,0.5,0.25], 564):.16f}\")"
      ],
      "metadata": {
        "colab": {
          "base_uri": "https://localhost:8080/"
        },
        "id": "pjWhrHEUIFym",
        "outputId": "3233d37b-07de-428e-89b5-19ca6ab37e2d"
      },
      "execution_count": null,
      "outputs": [
        {
          "output_type": "stream",
          "name": "stdout",
          "text": [
            "t_0: 0.8617021276595745\n"
          ]
        }
      ]
    },
    {
      "cell_type": "code",
      "source": [
        "#@title Calculo p-valor (Chi-Cuad)\n",
        "from scipy.stats import chi2\n",
        "\n",
        "\n",
        "# NOTE: chi2.sf(x, df) = 1 - chi2.cdf(x, df)\n",
        "\n",
        "print(f\"p-valor: {chi2.sf(0.8617, 2):.2f}\")\n",
        "# print(f\"p-valor: {1 - chi2.cdf(0.8617, 2):.2f}\")\n",
        "\n",
        "t_0 = estadistico_pearson([141,291,132], [0.25,0.5,0.25], 564)\n",
        "print(f\"p-valor (más exacto): {chi2.sf(t_0, 2)}\")\n",
        "# print(f\"p-valor (más exacto): {1 - chi2.cdf(t_0, 2)}\")"
      ],
      "metadata": {
        "colab": {
          "base_uri": "https://localhost:8080/"
        },
        "id": "fHhUlbUPiEkt",
        "outputId": "fc65942a-69fb-463c-fbc4-88470a467b0a"
      },
      "execution_count": null,
      "outputs": [
        {
          "output_type": "stream",
          "name": "stdout",
          "text": [
            "p-valor: 0.65\n",
            "p-valor (más exacto): 0.6499557054800363\n",
            "p-valor: 0.6499557054800363\n"
          ]
        }
      ]
    },
    {
      "cell_type": "markdown",
      "source": [
        "### b)\n",
        "\n",
        "Realizando una simulación"
      ],
      "metadata": {
        "id": "u_3wW6gIkLZ9"
      }
    },
    {
      "cell_type": "code",
      "source": [
        "#@title Codigo full Teorico\n",
        "import numpy as np\n",
        "\n",
        "# NOTE: (alternativa)\n",
        "# from scipy.stats import rv_discrete\n",
        "#\n",
        "# Agregar esto antes del for\n",
        "# dist = rv_discrete(values=(valores_posibles, ps))\n",
        "#\n",
        "# Cambiar por el np.random.choice\n",
        "# muestra = dist.rvs(size=564)\n",
        "\n",
        "\n",
        "def ej1b_p_valor_teorico(tam_muestra, t_0, ps, n_sim):\n",
        "    cant_valores = len(ps)\n",
        "\n",
        "    # Abstraemos los valores posibles a [0, 1, ...]\n",
        "    valores_posibles = list(range(cant_valores))\n",
        "\n",
        "    # Dado que los valores esperados son constantes los calculamos\n",
        "    valores_esperados = np.array([tam_muestra*p for p in ps])\n",
        "\n",
        "    p_valor = 0\n",
        "    for _ in range(n_sim):\n",
        "        # Generamos una muestra\n",
        "        muestra = np.random.choice(a=valores_posibles, p=ps, size=tam_muestra)\n",
        "        # muestra = binom.rvs(n_restante, ps_i) # NOTA: usando scipy.stats\n",
        "\n",
        "        # Contamos las frecuencias\n",
        "        N_i = np.bincount(muestra, minlength=cant_valores)\n",
        "\n",
        "        # Calculamos el estadistico de pearson\n",
        "        T = np.sum((N_i - valores_esperados) ** 2 / valores_esperados)\n",
        "\n",
        "        if T >= t_0:\n",
        "            p_valor += 1\n",
        "\n",
        "    return p_valor / n_sim\n",
        "\n",
        "ej1b_p_valor_teorico(564, 0.8617, [0.25, 0.5, 0.25], 100_000)"
      ],
      "metadata": {
        "colab": {
          "base_uri": "https://localhost:8080/"
        },
        "id": "x-SfsIwgkP-i",
        "outputId": "57efeec2-4eb3-4b59-bb02-68ae639c5963",
        "cellView": "form"
      },
      "execution_count": null,
      "outputs": [
        {
          "output_type": "execute_result",
          "data": {
            "text/plain": [
              "0.65395"
            ]
          },
          "metadata": {},
          "execution_count": 4
        }
      ]
    },
    {
      "cell_type": "code",
      "source": [
        "%%timeit\n",
        "ej1b_p_valor_teorico(564, 0.8617, [0.25, 0.5, 0.25], 10_000)"
      ],
      "metadata": {
        "colab": {
          "base_uri": "https://localhost:8080/"
        },
        "id": "QifLxfL7r21g",
        "outputId": "91526574-483b-4332-ddf0-38f1e2fe3081"
      },
      "execution_count": null,
      "outputs": [
        {
          "output_type": "stream",
          "name": "stdout",
          "text": [
            "499 ms ± 15.5 ms per loop (mean ± std. dev. of 7 runs, 1 loop each)\n"
          ]
        }
      ]
    },
    {
      "cell_type": "markdown",
      "source": [
        "#### Codigo mejorado con Binomiales"
      ],
      "metadata": {
        "id": "3FlGdVto5ykR"
      }
    },
    {
      "cell_type": "markdown",
      "source": [
        "Notar que la mejora viene por el lado que solo necesitamos las frecuencias observadas, por esta razon usamos binomiales para ello y evitamos generar la muestra con la distribución.\n",
        "\n",
        "Para ello en cada paso $(i)$, teniendo en cuenta $k$ terminos calculamos:\n",
        "\n",
        "\\begin{align*}\n",
        "N_1^{(i)} & = Bin(m, p_1) \\\\\n",
        "& = Bin(m, \\frac{p_1}{1}) \\\\\n",
        "N_2^{(i)} & = Bin(m-N_1^{(i)}, \\frac{p_2}{1 - p_1}) \\\\\n",
        "N_3^{(i)} & = Bin(m-N_1^{(i)}-N_2^{(i)}, \\frac{p_3}{1 - p_1 - p_2}) \\\\\n",
        "& \\quad \\quad \\quad \\quad \\quad \\quad \\cdots \\\\\n",
        "N_j^{(i)} & = Bin(m-N_1^{(i)}-…-N_{j-1}^{(i)}, \\frac{p_j}{1 - p_1 - … - p_{j-1}}) \\\\\n",
        "& = Bin(m - \\sum_{l=1}^{j-1}N_l^{(i)}, \\frac{p_j}{1 - \\sum_{l=1}^{j-1} p_l }) \\\\\n",
        "& \\quad \\quad \\quad \\quad \\quad \\quad \\cdots \\\\\n",
        "N_k^{(i)} & = Bin(M, \\frac{p_k}{1 - \\sum_{l=1}^{k-1} p_l })  \\\\\n",
        "\\end{align*}\n",
        "\n",
        "Analicemos el ultimo caso:\n",
        "\n",
        "\\begin{align*}\n",
        "N_k^{(i)} & = Bin(m - \\sum_{l=1}^{k-1}N_l^{(i)}, \\frac{p_k}{1 - \\sum_{l=1}^{k-1} p_l }) \\\\\n",
        "\\end{align*}\n",
        "\n",
        "Definamos $M = m - \\sum_{l=1}^{k-1}N_l^{(i)}$ para que se entienda mejor. Luego:\n",
        "\n",
        "\\begin{align*}\n",
        "N_k^{(i)} & = Bin(M, \\frac{p_k}{1 - \\sum_{l=1}^{k-1} p_l }) \\\\\n",
        "\\end{align*}\n",
        "\n",
        "dado que los $p_i$ son probabilidades tenemos que:\n",
        "\n",
        "\\begin{align*}\n",
        "\\sum_{l=1}^{k} p_l & = 1 \\\\\n",
        "\\sum_{l=1}^{k-1} p_l + p_k & = 1 \\\\\n",
        "p_k & = 1 - \\sum_{l=1}^{k-1} p_l \\\\\n",
        "\\end{align*}\n",
        "\n",
        "por lo tanto en $N_k^{(i)}$ nos queda que:\n",
        "\n",
        "\\begin{align*}\n",
        "N_k^{(i)} & = Bin(M, \\frac{p_k}{1 - \\sum_{l=1}^{k-1} p_l }) \\\\\n",
        "& = Bin(M, \\frac{p_k}{p_k}) \\\\\n",
        "& = Bin(M, 1) \\\\\n",
        "\\end{align*}\n",
        "\n",
        "y si analizamos la funcion de masa de probabilidad  de la binomial:\n",
        "\n",
        "\\begin{align*}\n",
        "P(Bin(M, 1) = M) & = \\binom{M}{M} ⋅ 1^M ⋅ (1 - 1)^{M - M}  \\\\\n",
        "& = 1 ⋅ 1 ⋅ (0)^{0} \\\\\n",
        "& = 1 \\\\\n",
        "\\end{align*}\n",
        "\n",
        "entonces de esta forma concluimos que:\n",
        "\\begin{align*}\n",
        "N_k^{(i)} & = M = m - \\sum_{l=1}^{k-1}N_l^{(i)}\n",
        "\\end{align*}\n",
        "\n",
        "\n",
        "\n",
        "\n",
        "Dada esta introducción podemos darnos cuenta al ver las formulas que nos vendria bien calcular recursivamente algunas cosas, por ello definimos:\n",
        "\n",
        "\\begin{align*}\n",
        "h^{(i)}(1) & = m \\\\\n",
        "h^{(i)}(j) & = h^{(i)}(j-1) - N_{j-1}^{(i)} \\\\\n",
        "----&-------- \\\\\n",
        "g(1) & = 1 \\\\\n",
        "g(j) & = g(j-1) - p_j \\\\\n",
        "\\end{align*}\n",
        "\n",
        "y asi finalmente nos queda que:\n",
        "\n",
        "\\begin{align*}\n",
        "N_1^{(i)} & = Bin(h^{(i)}(1), \\frac{p_2}{g(1)}) \\\\\n",
        "N_2^{(i)} & = Bin(h^{(i)}(2), \\frac{p_2}{g(2)}) \\\\\n",
        "& \\quad \\quad \\cdots \\\\\n",
        "N_j^{(i)} & = Bin(h^{(i)}(j), \\frac{p_j}{g(j)}) \\\\\n",
        "& \\quad \\quad \\cdots \\\\\n",
        "N_k^{(i)} & = h^{(i)}(k) \\\\\n",
        "\\end{align*}\n",
        "\n",
        "con estas formulas nos damos cuenta que los $g(i)$ son fijos por lo tanto podemos precalcularlos.\n"
      ],
      "metadata": {
        "id": "vdP2Q0XZq3MD"
      }
    },
    {
      "cell_type": "code",
      "source": [
        "#@title Codigo\n",
        "import numpy as np\n",
        "\n",
        "# NOTE: (alternativa)\n",
        "# from scipy.stats import binom\n",
        "\n",
        "\n",
        "def ej1b_p_valor_con_mejora(tam_muestra, t_0, ps, n_sim):\n",
        "    # Dado que los valores esperados son constantes los calculamos\n",
        "    valores_esperados = np.array([tam_muestra*p for p in ps])\n",
        "\n",
        "    # Dado que estos valores son fijos, no los calculo en cada iteracion\n",
        "    # y el ultimo valor tampoco porque ya sabemos que es 1\n",
        "    ps_ajustados = [ps[i] / (1 - sum(ps[:i])) for i in range(len(ps)-1)]\n",
        "\n",
        "    p_valor = 0\n",
        "    for _ in range(n_sim):\n",
        "\n",
        "        # Calculo de las binomiales\n",
        "        N_i, n_restante = [], tam_muestra\n",
        "        for ps_i in ps_ajustados:\n",
        "            x = np.random.binomial(n_restante, ps_i)\n",
        "            # NOTE: (alternativa)\n",
        "            # x = binom.rvs(n_restante, ps_i)\n",
        "            N_i.append(x)\n",
        "            n_restante -= x\n",
        "        N_i.append(n_restante) # Último valor\n",
        "\n",
        "        # Calculamos el estadistico de pearson\n",
        "        T = np.sum((N_i - valores_esperados) ** 2 / valores_esperados)\n",
        "\n",
        "        if T >= t_0:\n",
        "            p_valor += 1\n",
        "\n",
        "    return p_valor / n_sim\n",
        "\n",
        "ej1b_p_valor_con_mejora(564, 0.8617, [0.25, 0.5, 0.25], 10_000)"
      ],
      "metadata": {
        "colab": {
          "base_uri": "https://localhost:8080/"
        },
        "id": "GMtCSpyC3XGP",
        "outputId": "a88b21f9-11df-423a-8baf-ea89e5c7527d",
        "cellView": "form"
      },
      "execution_count": null,
      "outputs": [
        {
          "output_type": "execute_result",
          "data": {
            "text/plain": [
              "0.6585"
            ]
          },
          "metadata": {},
          "execution_count": 6
        }
      ]
    },
    {
      "cell_type": "code",
      "source": [
        "%%timeit\n",
        "ej1b_p_valor_con_mejora(564, 0.8617, [0.25, 0.5, 0.25], 10_000)"
      ],
      "metadata": {
        "colab": {
          "base_uri": "https://localhost:8080/"
        },
        "id": "G0aQsB2fry36",
        "outputId": "eb1a61c3-b5f1-4d63-b6ca-cb2970c96edc"
      },
      "execution_count": null,
      "outputs": [
        {
          "output_type": "stream",
          "name": "stdout",
          "text": [
            "112 ms ± 20.9 ms per loop (mean ± std. dev. of 7 runs, 10 loops each)\n"
          ]
        }
      ]
    },
    {
      "cell_type": "code",
      "source": [
        "#@title Sin precalculos\n",
        "import numpy as np\n",
        "\n",
        "# NOTE: (alternativa)\n",
        "# from scipy.stats import binom\n",
        "\n",
        "\n",
        "def ej1b_p_valor_con_mejora_sin_precalculo(tam_muestra, t_0, ps, n_sim):\n",
        "    # Dado que los valores esperados son constantes los calculamos\n",
        "    valores_esperados = np.array([tam_muestra*p for p in ps])\n",
        "\n",
        "    p_valor = 0\n",
        "    for _ in range(n_sim):\n",
        "\n",
        "        # Calculo de las binomiales\n",
        "        N_i, n_restante, p_restante = [], tam_muestra, 1.0\n",
        "        for p in ps[:-1]:\n",
        "            p_ajustada = p / p_restante\n",
        "            x = np.random.binomial(n_restante, p_ajustada)\n",
        "            # NOTE: (alternativa)\n",
        "            # x = binom.rvs(n_restante, p_ajustada)\n",
        "            N_i.append(x)\n",
        "            n_restante -= x\n",
        "            p_restante -= p\n",
        "        N_i.append(n_restante) # Último valor\n",
        "\n",
        "        # Calculamos el estadistico de pearson\n",
        "        T = np.sum((N_i - valores_esperados) ** 2 / valores_esperados)\n",
        "\n",
        "        if T >= t_0:\n",
        "            p_valor += 1\n",
        "\n",
        "    return p_valor / n_sim\n",
        "\n",
        "ej1b_p_valor_con_mejora_sin_precalculo(564, 0.8617, [0.25, 0.5, 0.25], 10_000)"
      ],
      "metadata": {
        "colab": {
          "base_uri": "https://localhost:8080/"
        },
        "id": "RTE97O4mmTmH",
        "outputId": "8564ecaf-f5dc-4240-cc04-873e4ad7e483",
        "cellView": "form"
      },
      "execution_count": null,
      "outputs": [
        {
          "output_type": "execute_result",
          "data": {
            "text/plain": [
              "0.6607"
            ]
          },
          "metadata": {},
          "execution_count": 8
        }
      ]
    },
    {
      "cell_type": "code",
      "source": [
        "%%timeit\n",
        "ej1b_p_valor_con_mejora_sin_precalculo(564, 0.8617, [0.25, 0.5, 0.25], 10_000)"
      ],
      "metadata": {
        "colab": {
          "base_uri": "https://localhost:8080/"
        },
        "id": "R-UTXfz07_Wn",
        "outputId": "96a87007-1b47-450b-86f4-cce5b332aac3"
      },
      "execution_count": null,
      "outputs": [
        {
          "output_type": "stream",
          "name": "stdout",
          "text": [
            "122 ms ± 27.3 ms per loop (mean ± std. dev. of 7 runs, 10 loops each)\n"
          ]
        }
      ]
    },
    {
      "cell_type": "markdown",
      "source": [
        "## Ejercicio 2"
      ],
      "metadata": {
        "id": "Br7sq2qI7Fy6"
      }
    },
    {
      "cell_type": "markdown",
      "source": [
        "Para verificar que cierto dado no estaba trucado, se registraron 1000 lanzamientos, resultando que el número de veces que el dado arrojó el valor i (i = 1,2,3,4,5,6) fue, respectivamente, 158, 172, 164, 181, 160, 165. Aproximar el p−valor de la prueba: “el dado es honesto”"
      ],
      "metadata": {
        "id": "vC8L025M9DqN"
      }
    },
    {
      "cell_type": "code",
      "source": [
        "#@title Grafico\n",
        "import matplotlib.pyplot as plt\n",
        "import numpy as np\n",
        "\n",
        "categorias = ['1', '2', '3', '4', '5', '6']\n",
        "observados = np.array([158, 172, 164, 181, 160, 165])\n",
        "total = sum(observados)\n",
        "\n",
        "prob_teoricas = np.array([1/6]*6)\n",
        "esperados = total * prob_teoricas\n",
        "\n",
        "x = np.arange(len(categorias))\n",
        "\n",
        "plt.figure(figsize=(8, 2))\n",
        "plt.bar(x - 0.2, observados, width=0.4, label='Observados', color='skyblue')\n",
        "plt.bar(x + 0.2, esperados, width=0.4, label='Esperados', color='orange')\n",
        "\n",
        "plt.xticks(x, categorias)\n",
        "plt.ylabel('Frecuencias del Dado')\n",
        "plt.title('Frecuencias observadas y esperadas')\n",
        "plt.legend(loc='upper center', bbox_to_anchor=(0.5, -0.1), ncol=2)\n",
        "plt.show()"
      ],
      "metadata": {
        "colab": {
          "base_uri": "https://localhost:8080/",
          "height": 260
        },
        "id": "wvG06o1bBiQw",
        "outputId": "7352b923-0700-4497-9292-c167d0ac1a0d"
      },
      "execution_count": null,
      "outputs": [
        {
          "output_type": "display_data",
          "data": {
            "text/plain": [
              "<Figure size 800x200 with 1 Axes>"
            ],
            "image/png": "[encoded data removed]"
          },
          "metadata": {}
        }
      ]
    },
    {
      "cell_type": "markdown",
      "source": [
        "### a)\n",
        "\n",
        "Utilizando la prueba de Pearson con aproximación chi-cuadrada,\n"
      ],
      "metadata": {
        "id": "rO3VdIav9cU7"
      }
    },
    {
      "cell_type": "markdown",
      "source": [
        "Lo unico a tener en cuenta que la hipotesis nula es:\n",
        "$$\n",
        "p_1 = p_2 = p_3 = p_4 = p_5 = p_6 = 1/6\n",
        "$$\n",
        "ya que es un dado honesto y el tamaño de la muestra es:\n",
        "\n",
        "$$\n",
        "n = 158 + 172 + 164 + 181 + 160 + 165 = 1000\n",
        "$$"
      ],
      "metadata": {
        "id": "5tN9eHXi9mQL"
      }
    },
    {
      "cell_type": "code",
      "source": [
        "#@title Estadistico de Pearson\n",
        "import numpy as np\n",
        "\n",
        "\n",
        "def estadistico_pearson(frecuencias, p_hip_0, cant_valores):\n",
        "    assert sum(frecuencias) == cant_valores\n",
        "    assert len(frecuencias) == len(p_hip_0)\n",
        "\n",
        "    frecuencias = np.array(frecuencias)\n",
        "    valores_esperados = np.array([cant_valores*p for p in p_hip_0])\n",
        "\n",
        "    return np.sum((frecuencias - valores_esperados) ** 2 / valores_esperados)\n",
        "\n",
        "\n",
        "print(f\"t_0: {estadistico_pearson([158, 172, 164, 181, 160, 165], [1/6]*6, 1000)}\")"
      ],
      "metadata": {
        "colab": {
          "base_uri": "https://localhost:8080/"
        },
        "id": "dynKA1gsJ6kn",
        "outputId": "21c04059-7645-48fc-a7c8-b42174d9ef2b"
      },
      "execution_count": null,
      "outputs": [
        {
          "output_type": "stream",
          "name": "stdout",
          "text": [
            "t_0: 2.18\n"
          ]
        }
      ]
    },
    {
      "cell_type": "code",
      "source": [
        "#@title Calculo p-valor (Chi-Cuad)\n",
        "from scipy.stats import chi2\n",
        "\n",
        "\n",
        "# NOTE: chi2.sf(x, df) = 1 - chi2.cdf(x, df)\n",
        "\n",
        "print(f\"p-valor: {chi2.sf(2.18, 5):.4f}\")\n",
        "# print(f\"p-valor: {1 - chi2.cdf(2.18, 5):.2f}\")\n",
        "\n",
        "t_0 = estadistico_pearson([158, 172, 164, 181, 160, 165], [1/6]*6, 1000)\n",
        "print(f\"p-valor (más exacto): {chi2.sf(t_0, 5)}\")\n",
        "# print(f\"p-valor (más exacto): {1 - chi2.cdf(t_0, 5)}\")"
      ],
      "metadata": {
        "colab": {
          "base_uri": "https://localhost:8080/"
        },
        "id": "sKdbqEZOKqbA",
        "outputId": "0e9f63fb-60ae-4f2c-acdb-9065f517067e"
      },
      "execution_count": null,
      "outputs": [
        {
          "output_type": "stream",
          "name": "stdout",
          "text": [
            "p-valor: 0.8237\n",
            "p-valor: 0.82\n",
            "p-valor (más exacto): 0.8237195392577814\n",
            "p-valor (más exacto): 0.8237195392577814\n"
          ]
        }
      ]
    },
    {
      "cell_type": "markdown",
      "source": [
        "### b)\n",
        "\n",
        "Realizando una simulación"
      ],
      "metadata": {
        "id": "6jp9VaHq9iNn"
      }
    },
    {
      "cell_type": "code",
      "source": [
        "#@title Codigo\n",
        "import numpy as np\n",
        "\n",
        "# NOTE: (alternativa)\n",
        "# from scipy.stats import binom\n",
        "\n",
        "\n",
        "def ej2b_p_valor(tam_muestra, t_0, ps, n_sim):\n",
        "    # Dado que los valores esperados son constantes los calculamos\n",
        "    valores_esperados = np.array([tam_muestra*p for p in ps])\n",
        "\n",
        "    # Dado que estos valores son fijos, no los calculo en cada iteracion\n",
        "    # y el ultimo valor tampoco porque ya sabemos que es 1\n",
        "    ps_ajustados = [ps[i] / (1 - sum(ps[:i])) for i in range(len(ps)-1)]\n",
        "\n",
        "    p_valor = 0\n",
        "    for _ in range(n_sim):\n",
        "\n",
        "        # Calculo de las binomiales\n",
        "        N_i, n_restante = [], tam_muestra\n",
        "        for ps_i in ps_ajustados:\n",
        "            x = np.random.binomial(n_restante, ps_i)\n",
        "            # NOTE: (alternativa)\n",
        "            # x = binom.rvs(n_restante, ps_i)\n",
        "            N_i.append(x)\n",
        "            n_restante -= x\n",
        "        N_i.append(n_restante) # Último valor\n",
        "\n",
        "        # Calculamos el estadistico de pearson\n",
        "        T = np.sum((N_i - valores_esperados) ** 2 / valores_esperados)\n",
        "\n",
        "        if T >= t_0:\n",
        "            p_valor += 1\n",
        "\n",
        "    return p_valor / n_sim\n",
        "\n",
        "ej2b_p_valor(1_000, 2.18, [1/6]*6, 10_000)"
      ],
      "metadata": {
        "colab": {
          "base_uri": "https://localhost:8080/"
        },
        "id": "hQZR5msu9zdD",
        "outputId": "e62ba37f-1271-4c34-b313-9ca22eb306f1"
      },
      "execution_count": null,
      "outputs": [
        {
          "output_type": "execute_result",
          "data": {
            "text/plain": [
              "0.8243"
            ]
          },
          "metadata": {},
          "execution_count": 13
        }
      ]
    },
    {
      "cell_type": "markdown",
      "source": [
        "## Ejercicio 3"
      ],
      "metadata": {
        "id": "ilVuwtV47G70"
      }
    },
    {
      "cell_type": "markdown",
      "source": [
        "Calcular una aproximación del p-valor de la hipótesis: “Los siguientes 10 números son aleatorios”:\n",
        "\n",
        "$$\n",
        "0.12, 0.18, 0.06, 0.33, 0.72, 0.83, 0.36, 0.27, 0.77, 0.74\n",
        "$$"
      ],
      "metadata": {
        "id": "6oM2_fHU768m"
      }
    },
    {
      "cell_type": "code",
      "source": [
        "#@title Grafico\n",
        "import numpy as np\n",
        "import matplotlib.pyplot as plt\n",
        "from scipy.stats import uniform\n",
        "\n",
        "# Muestra y ordenación\n",
        "muestra = [0.12, 0.18, 0.06, 0.33, 0.72, 0.83, 0.36, 0.27, 0.77, 0.74]\n",
        "# muestra = np.random.random(100) # ejemplo con random verdadero\n",
        "muestra_ordenada = np.sort(muestra)\n",
        "\n",
        "# Construimos los valores de la función de distribución empírica\n",
        "n = len(muestra)\n",
        "x_vals = np.concatenate(([0], muestra_ordenada, [1]))\n",
        "y_vals = np.concatenate(([0], np.arange(1, n+1) / n, [1]))\n",
        "\n",
        "# Calculamos la acumulada de una uniforme\n",
        "x_vals_unif = np.linspace(-0.1, 1.1, 500)\n",
        "y_vals_unif = uniform.cdf(x_vals_unif, loc=0, scale=1)\n",
        "\n",
        "# Graficamos\n",
        "plt.figure(figsize=(4, 4))\n",
        "plt.plot(x_vals_unif, y_vals_unif, label='Uniforme(0,1)', color='blue')\n",
        "plt.step(x_vals, y_vals, where='post', label='Empirica $F_e(x)$', color='green')\n",
        "plt.xlabel('x')\n",
        "plt.ylabel('F(x)')\n",
        "plt.legend(); plt.show()\n"
      ],
      "metadata": {
        "colab": {
          "base_uri": "https://localhost:8080/",
          "height": 388
        },
        "cellView": "form",
        "id": "1LonD83yhK7m",
        "outputId": "6ef2bc71-3864-4d49-e077-5d121e0e8849"
      },
      "execution_count": null,
      "outputs": [
        {
          "output_type": "display_data",
          "data": {
            "text/plain": [
              "<Figure size 400x400 with 1 Axes>"
            ],
            "image/png": "[encoded data removed]"
          },
          "metadata": {}
        }
      ]
    },
    {
      "cell_type": "code",
      "source": [
        "#@title Estadistico Kolmogorov Smirnov\n",
        "from scipy.stats import uniform\n",
        "\n",
        "\n",
        "def estadistico_ks(muestra_ordenada, F_h0):\n",
        "    n = len(muestra_ordenada)\n",
        "\n",
        "    max1 = max((j+1)/n - F_h0(y) for j, y in enumerate(muestra_ordenada))\n",
        "    max2 = max(F_h0(y) - (j/n) for j, y in enumerate(muestra_ordenada))\n",
        "\n",
        "    return max(max1, max2)\n",
        "\n",
        "muestra = [0.12, 0.18, 0.06, 0.33, 0.72, 0.83, 0.36, 0.27, 0.77, 0.74]\n",
        "tam_muestra = len(muestra)\n",
        "\n",
        "muestra_ordenada = np.sort(muestra)\n",
        "\n",
        "F_h0 = lambda x: uniform.cdf(x, loc=0, scale=1)\n",
        "# F_h_0 = lambda x: 0 if x < 0 else 1 if x > 1 else x # NOTE: alternativa\n",
        "\n",
        "t_0 = estadistico_ks(muestra_ordenada, F_h0)\n",
        "print(f\"t_0: {t_0}\")"
      ],
      "metadata": {
        "colab": {
          "base_uri": "https://localhost:8080/"
        },
        "id": "lLo-OyrC0ILW",
        "outputId": "fb172ac1-3287-4a34-ad2e-f9dcdcd252cb"
      },
      "execution_count": 27,
      "outputs": [
        {
          "output_type": "stream",
          "name": "stdout",
          "text": [
            "t_0: 0.24\n"
          ]
        }
      ]
    },
    {
      "cell_type": "code",
      "source": [
        "#@title Calculo p-valor (simulacion)\n",
        "import numpy as np\n",
        "\n",
        "\n",
        "def ej3_p_valor(tam_muestra, t_0, n_sim=10_000):\n",
        "    p_valor = 0\n",
        "    for _ in range(n_sim):\n",
        "        # Calculo la muestra\n",
        "        muestra = np.random.random(tam_muestra)\n",
        "        muestra_ordenada = np.sort(muestra)\n",
        "\n",
        "        # Calculamos el estadistico de Kolmogorov Smirnov\n",
        "        d_j = 0\n",
        "        for j, u_j in enumerate(muestra_ordenada):\n",
        "            d_j = max(d_j, ((j+1)/tam_muestra) - u_j, u_j - (j/tam_muestra))\n",
        "\n",
        "        if d_j >= t_0:\n",
        "            p_valor += 1\n",
        "\n",
        "    return p_valor / n_sim\n",
        "\n",
        "ej3_p_valor(tam_muestra, t_0)"
      ],
      "metadata": {
        "colab": {
          "base_uri": "https://localhost:8080/"
        },
        "id": "RNh4jvbYwy25",
        "outputId": "7a4453a7-4ac4-4345-8b3d-05e80f99b409"
      },
      "execution_count": 109,
      "outputs": [
        {
          "output_type": "execute_result",
          "data": {
            "text/plain": [
              "0.5348"
            ]
          },
          "metadata": {},
          "execution_count": 109
        }
      ]
    },
    {
      "cell_type": "code",
      "source": [
        "#@title Chequeo (con scipy)\n",
        "from scipy.stats import kstest\n",
        "\n",
        "\n",
        "# Paso 1: Generar muestra exponencial\n",
        "muestra =  [0.12, 0.18, 0.06, 0.33, 0.72, 0.83, 0.36, 0.27, 0.77, 0.74]\n",
        "\n",
        "# Paso 2: Prueba de Kolmogorov-Smirnov\n",
        "resultado = kstest(muestra, cdf=\"uniform\")\n",
        "\n",
        "print(f\"estadístico D: {resultado.statistic:.8f}\")\n",
        "print(f\"p-valor:       {resultado.pvalue:.8f}\")"
      ],
      "metadata": {
        "colab": {
          "base_uri": "https://localhost:8080/"
        },
        "id": "y6LEAD1MrZkE",
        "outputId": "8bd0fe4b-b193-4d40-b039-e2c6f194f053"
      },
      "execution_count": 84,
      "outputs": [
        {
          "output_type": "stream",
          "name": "stdout",
          "text": [
            "estadístico D: 0.24000000\n",
            "p-valor:       0.53549755\n"
          ]
        }
      ]
    },
    {
      "cell_type": "markdown",
      "source": [
        "## Ejercicio 4"
      ],
      "metadata": {
        "id": "R4jWJ2J57ISN"
      }
    },
    {
      "cell_type": "markdown",
      "source": [
        "Calcular una aproximación del p-valor de la hipótesis: “Los siguientes 13 valores provienen de una distribución exponencial con media 50,0”:\n",
        "$$\n",
        "86.0, 133.0, 75.0, 22.0, 11.0, 144.0, 78.0, 122.0, 8.0, 146.0, 33.0, 41.0, 99.0\n",
        "$$"
      ],
      "metadata": {
        "id": "akBJo8jb8NlN"
      }
    },
    {
      "cell_type": "code",
      "source": [
        "#@title Grafico\n",
        "import numpy as np\n",
        "import matplotlib.pyplot as plt\n",
        "from scipy.stats import expon\n",
        "\n",
        "# Muestra y ordenación\n",
        "muestra = [86.0,133.0,75.0,22.0,11.0,144.0,78.0,122.0,8.0,146.0,33.0,41.0,99.0]\n",
        "# Ejemplo con exponencial verdadera\n",
        "# muestra = np.random.exponential(scale=50, size=100)\n",
        "muestra_ordenada = np.sort(muestra)\n",
        "\n",
        "# Construimos los valores de la función de distribución empírica\n",
        "n = len(muestra)\n",
        "x_vals_emp = np.concatenate(([0], muestra_ordenada))\n",
        "y_vals_emp = np.concatenate(([0], np.arange(1, n+1) / n))\n",
        "\n",
        "# Calculamos la acumulada de una exponencial\n",
        "x_vals_exp = np.linspace(0, max(muestra), 1000)\n",
        "y_vals_exp = expon.cdf(x_vals_exp, scale=50)\n",
        "\n",
        "# Graficamos\n",
        "plt.figure(figsize=(4, 4))\n",
        "plt.plot(x_vals_exp, y_vals_exp, label='Exp($\\lambda=50$)', color='blue')\n",
        "plt.step(x_vals_emp, y_vals_emp, where='post', label='Empirica $F_e(x)$', color='green')\n",
        "plt.xlabel('x')\n",
        "plt.ylabel('F(x)')\n",
        "plt.legend(); plt.show()"
      ],
      "metadata": {
        "colab": {
          "base_uri": "https://localhost:8080/",
          "height": 388
        },
        "id": "d-HpRbW82NvM",
        "outputId": "87b77a93-55df-4454-b661-aa50f905bc26",
        "cellView": "form"
      },
      "execution_count": 49,
      "outputs": [
        {
          "output_type": "display_data",
          "data": {
            "text/plain": [
              "<Figure size 400x400 with 1 Axes>"
            ],
            "image/png": "[encoded data removed]"
          },
          "metadata": {}
        }
      ]
    },
    {
      "cell_type": "code",
      "source": [
        "#@title Funciones para exponencial\n",
        "from random import random\n",
        "import numpy as np\n",
        "\n",
        "# NOTE: Si a `np.log` no se le pasan parametros, es logarito natural.\n",
        "\n",
        "def muestra_exponencial(tam_muestra, lamda=1):\n",
        "    return [-np.log(1-random())/lamda for _ in range(tam_muestra)]\n",
        "\n",
        "def fun_distribucion_acumulada_exponencial(x, lamda=1):\n",
        "    return 1 - np.exp(-lamda*x) # 1 - e^(-λx)\n",
        "\n",
        "# from scipy.stats import expon\n",
        "#\n",
        "# def muestra_exponencial(tam_muestra, lamda=1):\n",
        "#     return expon.rvs(sacale=1/lamda, size=TAMANO_MUESTRA)\n",
        "#\n",
        "# def fun_distribucion_acumulada_exponencial(x, lamda=1):\n",
        "#     return expon.cdf(x, scale=1/lamda)"
      ],
      "metadata": {
        "cellView": "form",
        "id": "Y-iuFIQIpy7U"
      },
      "execution_count": 29,
      "outputs": []
    },
    {
      "cell_type": "code",
      "source": [
        "#@title Estadistico Kolmogorov Smirnov\n",
        "from scipy.stats import expon\n",
        "\n",
        "\n",
        "def estadistico_ks(muestra_ordenada, F_h0):\n",
        "    n = len(muestra_ordenada)\n",
        "\n",
        "    max1 = max((j+1)/n - F_h0(y) for j, y in enumerate(muestra_ordenada))\n",
        "    max2 = max(F_h0(y) - (j/n) for j, y in enumerate(muestra_ordenada))\n",
        "\n",
        "    return max(max1, max2)\n",
        "\n",
        "muestra = [86.0, 133.0, 75.0, 22.0, 11.0, 144.0, 78.0, 122.0, 8.0, 146.0, 33.0, 41.0, 99.0]\n",
        "tam_muestra = len(muestra)\n",
        "\n",
        "media = 50\n",
        "lamda = 1/media\n",
        "\n",
        "muestra_ordenada = np.sort(muestra)\n",
        "\n",
        "F_h0 = lambda x: fun_distribucion_acumulada_exponencial(x, lamda)\n",
        "\n",
        "t_0 = estadistico_ks(muestra_ordenada, F_h0)\n",
        "print(f\"t_0: {t_0}\")"
      ],
      "metadata": {
        "colab": {
          "base_uri": "https://localhost:8080/"
        },
        "id": "U7cgjc9v5YE3",
        "outputId": "02297676-c03d-4a56-8d93-8355102be0cd"
      },
      "execution_count": 31,
      "outputs": [
        {
          "output_type": "stream",
          "name": "stdout",
          "text": [
            "t_0: 0.3922544552361856\n"
          ]
        }
      ]
    },
    {
      "cell_type": "code",
      "source": [
        "#@title Calculo p-valor (simulacion con uniformes)\n",
        "import numpy as np\n",
        "\n",
        "def ej4_p_valor_con_uniformes(tam_muestra, t_0, n_sim=100_000):\n",
        "    p_valor = 0\n",
        "    for _ in range(n_sim):\n",
        "        # Calculo la muestra\n",
        "        muestra = np.random.random(tam_muestra)\n",
        "        muestra_ordenada = np.sort(muestra)\n",
        "\n",
        "        # Calculamos el estadistico de Kolmogorov Smirnov\n",
        "        d_j = 0\n",
        "        for j, u_j in enumerate(muestra_ordenada):\n",
        "            d_j = max(d_j, ((j+1)/tam_muestra) - u_j, u_j - (j/tam_muestra))\n",
        "\n",
        "        if d_j >= t_0:\n",
        "            p_valor += 1\n",
        "\n",
        "    return p_valor / n_sim\n",
        "\n",
        "\n",
        "ej4_p_valor_con_uniformes(tam_muestra, t_0)"
      ],
      "metadata": {
        "colab": {
          "base_uri": "https://localhost:8080/"
        },
        "id": "qXddzcjMAAbp",
        "outputId": "7590eda8-d925-4535-cf16-db8653e4a06e"
      },
      "execution_count": 101,
      "outputs": [
        {
          "output_type": "execute_result",
          "data": {
            "text/plain": [
              "0.02547"
            ]
          },
          "metadata": {},
          "execution_count": 101
        }
      ]
    },
    {
      "cell_type": "markdown",
      "source": [
        "#### Analisis de  la simulacion con uniformes\n",
        "\n",
        "Dado la simulacion con uniformes dio $p-valor = 0.025 < 0.05$. Mejor realizar una simulacion que no utilice uniformes sino muestras de exponenciales con media 50 y en cada simulacion el parametro $λ se estima nuevamente."
      ],
      "metadata": {
        "id": "Y_81FIueKo3s"
      }
    },
    {
      "cell_type": "code",
      "source": [
        "#@title Calculo p-valor (simulacion mas exacta)\n",
        "import numpy as np\n",
        "from scipy.stats import expon\n",
        "\n",
        "\n",
        "def ej4_p_valor(tam_muestra, t_0, n_sim=100_000):\n",
        "    p_valor = 0\n",
        "    for _ in range(n_sim):\n",
        "        # Calculo la muestra\n",
        "        muestra = muestra_exponencial(tam_muestra, lamda=lamda)\n",
        "        muestra_ordenada = np.sort(muestra)\n",
        "\n",
        "        # Calculamos el estadistico de Kolmogorov Smirnov\n",
        "        d_j = 0\n",
        "        for j, u_j in enumerate(muestra_ordenada):\n",
        "            d_j = max(d_j, ((j+1)/tam_muestra) - F_h0(u_j), F_h0(u_j) - (j/tam_muestra))\n",
        "\n",
        "        if d_j >= t_0:\n",
        "            p_valor += 1\n",
        "\n",
        "    return p_valor / n_sim\n",
        "\n",
        "\n",
        "ej4_p_valor(tam_muestra, t_0)"
      ],
      "metadata": {
        "colab": {
          "base_uri": "https://localhost:8080/"
        },
        "id": "3jtJ78wLHfHf",
        "outputId": "f1e5f6ed-7ccb-43d3-b46a-e437103db07b"
      },
      "execution_count": 105,
      "outputs": [
        {
          "output_type": "execute_result",
          "data": {
            "text/plain": [
              "0.02546"
            ]
          },
          "metadata": {},
          "execution_count": 105
        }
      ]
    },
    {
      "cell_type": "markdown",
      "source": [
        "#### Chequeo (con scipy)"
      ],
      "metadata": {
        "id": "r_u6b_Jdm_D5"
      }
    },
    {
      "cell_type": "code",
      "source": [
        "from scipy.stats import expon, kstest\n",
        "\n",
        "\n",
        "# Parámetros\n",
        "media = 50\n",
        "\n",
        "# Paso 1: Generar muestra exponencial\n",
        "muestra = [86.0,133.0,75.0,22.0,11.0,144.0,78.0,122.0,8.0,146.0,33.0,41.0,99.0]\n",
        "\n",
        "# Paso 2: Prueba de Kolmogorov-Smirnov\n",
        "resultado = kstest(muestra, cdf=lambda x: expon.cdf(x, scale=media))\n",
        "\n",
        "print(f\"estadístico D: {resultado.statistic:.8f}\")\n",
        "print(f\"p-valor:       {resultado.pvalue:.8f}\")"
      ],
      "metadata": {
        "colab": {
          "base_uri": "https://localhost:8080/"
        },
        "id": "q7bnbw1vmWc5",
        "outputId": "4c6a546c-517c-492d-81c2-70b3f005d941"
      },
      "execution_count": 96,
      "outputs": [
        {
          "output_type": "stream",
          "name": "stdout",
          "text": [
            "estadístico D: 0.39225446\n",
            "p-valor:       0.02588930\n"
          ]
        }
      ]
    },
    {
      "cell_type": "markdown",
      "source": [
        "## Ejercicio 5"
      ],
      "metadata": {
        "id": "NMf4ZCQ67JdY"
      }
    },
    {
      "cell_type": "markdown",
      "source": [
        "Calcular una aproximación del p-valor de la prueba de que los siguientes datos corresponden a una distribución binomial con parámetros $(n = 8, p)$, donde p no se conoce:\n",
        "$$\n",
        "6, 7, 3, 4, 7, 3, 7, 2, 6, 3, 7, 8, 2, 1, 3, 5, 8, 7\n",
        "$$"
      ],
      "metadata": {
        "id": "-lGHSKUv8SKa"
      }
    },
    {
      "cell_type": "code",
      "source": [
        "#@title Grafico\n",
        "import numpy as np\n",
        "import matplotlib.pyplot as plt\n",
        "from scipy.stats import binom\n",
        "from collections import Counter\n",
        "\n",
        "# Datos\n",
        "data = [6, 7, 3, 4, 7, 3, 7, 2, 6, 3, 7, 8, 2, 1, 3, 5, 8, 7]\n",
        "n = 8\n",
        "sample_size = len(data)\n",
        "\n",
        "# Estimar p\n",
        "sample_mean = np.mean(data)\n",
        "p_hat = sample_mean / n\n",
        "\n",
        "# Frecuencias observadas\n",
        "obs_counts = Counter(data)\n",
        "x_vals = np.arange(0, n + 1)\n",
        "observed_freqs = np.array([obs_counts.get(x, 0) for x in x_vals])\n",
        "\n",
        "# Frecuencias esperadas\n",
        "expected_probs = binom.pmf(x_vals, n, p_hat)\n",
        "expected_freqs = expected_probs * sample_size\n",
        "\n",
        "# Gráfico\n",
        "plt.figure(figsize=(5, 3))\n",
        "plt.bar(x_vals - 0.2, observed_freqs, width=0.4, label='Observado', color='skyblue')\n",
        "plt.bar(x_vals + 0.2, expected_freqs, width=0.4, label='Esperado (Binomial)', color='orange')\n",
        "plt.xlabel('Número de éxitos')\n",
        "plt.ylabel('Frecuencia')\n",
        "plt.title(f'Frecuencias Observadas vs Esperadas (n=8, p̂={p_hat:.4f})')\n",
        "plt.xticks(x_vals)\n",
        "plt.legend()\n",
        "plt.grid(True, linestyle='--', alpha=0.6)\n",
        "plt.tight_layout()\n",
        "plt.show()"
      ],
      "metadata": {
        "colab": {
          "base_uri": "https://localhost:8080/",
          "height": 307
        },
        "cellView": "form",
        "id": "8Zg8taT3iaA8",
        "outputId": "c4b88ce4-555d-444c-8035-d2af2093e949"
      },
      "execution_count": null,
      "outputs": [
        {
          "output_type": "display_data",
          "data": {
            "text/plain": [
              "<Figure size 500x300 with 1 Axes>"
            ],
            "image/png": "[encoded data removed]"
          },
          "metadata": {}
        }
      ]
    },
    {
      "cell_type": "code",
      "source": [
        "#@title Constantes\n",
        "n = 8\n",
        "muestra = [6, 7, 3, 4, 7, 3, 7, 2, 6, 3, 7, 8, 2, 1, 3, 5, 8, 7]"
      ],
      "metadata": {
        "id": "dFSfsqlwZjDH"
      },
      "execution_count": 66,
      "outputs": []
    },
    {
      "cell_type": "code",
      "source": [
        "#@title Estadistico de Pearson\n",
        "import numpy as np\n",
        "from scipy.stats import chi2, binom\n",
        "\n",
        "\n",
        "def estadistico_pearson(frecuencias, p_hip_0):\n",
        "    \"\"\"Se asume que frecuencias[i] corresponden con p_hip_0[i].\"\"\"\n",
        "    assert len(frecuencias) == len(p_hip_0)\n",
        "\n",
        "    n = sum(frecuencias)\n",
        "    return sum((N-n*p)**2/(n*p) for N, p in zip(frecuencias, p_hip_0))\n",
        "\n",
        "frecuencias = np.bincount(muestra, minlength=n+1)\n",
        "# frecuencias = [muestra.count(i) for i in range(8+1)]\n",
        "\n",
        "# Esto porque la E(Bin(n,p)) = np entonces E(Bin(n,p))/n = np/p = p\n",
        "p_estimacion = np.mean(muestra) / n\n",
        "\n",
        "p_hip_0 = [binom.pmf(k, n=n, p=p_estimacion) for k in range(n+1)]\n",
        "\n",
        "t_0 = estadistico_pearson(frecuencias, p_hip_0)\n",
        "print(f\"t_0: {t_0}\")"
      ],
      "metadata": {
        "colab": {
          "base_uri": "https://localhost:8080/"
        },
        "id": "mrFD9yq8OMhq",
        "outputId": "17321a23-c592-4d2e-e859-21a7fbd64448"
      },
      "execution_count": 67,
      "outputs": [
        {
          "output_type": "stream",
          "name": "stdout",
          "text": [
            "t_0: 31.49933093415532\n"
          ]
        }
      ]
    },
    {
      "cell_type": "code",
      "source": [
        "#@title Calculo p-valor con la estimacion (Chi-Cuad)\n",
        "from scipy.stats import chi2\n",
        "\n",
        "\n",
        "# NOTE: chi2.sf(x, df) = 1 - chi2.cdf(x, df)\n",
        "\n",
        "# NOTE: Restamos -2 ya que estamos estimando el parametro p\n",
        "# NOTE: Como es binomial los valores posibles son desde:\n",
        "#       0,...,n es decir n+1 valores.\n",
        "\n",
        "print(f\"p-valor: {chi2.sf(t_0, 9-1-1):.4f}\")\n",
        "# print(f\"p-valor: {1 - chi2.cdf(t_0, 9-1-1):.2f}\")\n",
        "\n",
        "print(f\"p-valor (más exacto): {chi2.sf(t_0 , 9-1-1)}\")\n",
        "# print(f\"p-valor (más exacto): {1 - chi2.cdf(t_0 , 9-1-1)}\")"
      ],
      "metadata": {
        "colab": {
          "base_uri": "https://localhost:8080/"
        },
        "id": "JkUziztzQ0mh",
        "outputId": "d1586a11-3e5c-414c-a012-de947c961b87"
      },
      "execution_count": 68,
      "outputs": [
        {
          "output_type": "stream",
          "name": "stdout",
          "text": [
            "p-valor: 0.0001\n",
            "p-valor (más exacto): 5.027994320424087e-05\n"
          ]
        }
      ]
    },
    {
      "cell_type": "code",
      "source": [
        "#@title Codigo estimacion del p-valor (simulacion)\n",
        "import numpy as np\n",
        "\n",
        "# import math\n",
        "# def fpm_Bin(x, n, p):\n",
        "#     return math.comb(n, x) * p**x * (1 - p)**(n - x)\n",
        "\n",
        "# from random import random\n",
        "# def gen_binomial(n,p):\n",
        "#     c = p / (1 - p)\n",
        "#     prob = (1 - p) ** n\n",
        "#     F = prob; i=0\n",
        "#     U = random()\n",
        "#     while U >= F:\n",
        "#         prob *= c * (n-i) / (i+1)\n",
        "#         F += prob\n",
        "#         i += 1\n",
        "#     return i\n",
        "\n",
        "\n",
        "def ej5_p_valor(tam_muestra, t_0, bin_n, bin_p, n_sim=10_000):\n",
        "    binomial = binom(bin_n, bin_p)\n",
        "\n",
        "    p_valor = 0\n",
        "    for _ in range(n_sim):\n",
        "        # Generamos una muestra\n",
        "        muestra = binomial.rvs(tam_muestra)\n",
        "        # muestra = [gen_binomial(bin_n, bin_p) for _ in range(tam_muestra)]\n",
        "\n",
        "        # Calculamos en base a la muestra p\n",
        "        nueva_p_estimacion = np.mean(muestra) / bin_n\n",
        "\n",
        "        # Calculamos los nuevos ps\n",
        "        ps = [binom.pmf(k, n=bin_n, p=nueva_p_estimacion) for k in range(bin_n+1)]\n",
        "        # ps = [fpm_Bin(k, n=bin_n, p=p_estimacion) for k in range(bin_n+1)]\n",
        "\n",
        "        # Contamos las frecuencias\n",
        "        frecuencias = np.bincount(muestra, minlength=bin_n+1)\n",
        "\n",
        "        # Calculamos el estadistico de pearson\n",
        "        total = sum(frecuencias)\n",
        "        T = sum((N-total*p)**2/(total*p) for N, p in zip(frecuencias, ps))\n",
        "\n",
        "        if T >= t_0:\n",
        "            p_valor += 1\n",
        "\n",
        "    return p_valor / n_sim\n",
        "\n",
        "\n",
        "ej5_p_valor(len(muestra), t_0, n, p_estimacion)"
      ],
      "metadata": {
        "colab": {
          "base_uri": "https://localhost:8080/"
        },
        "id": "QTxdbJF2Nywl",
        "outputId": "037c29d6-7ec1-4ee6-c52b-e74805f3e2cb",
        "cellView": "form"
      },
      "execution_count": 71,
      "outputs": [
        {
          "output_type": "execute_result",
          "data": {
            "text/plain": [
              "0.0118"
            ]
          },
          "metadata": {},
          "execution_count": 71
        }
      ]
    },
    {
      "cell_type": "markdown",
      "source": [
        "## Ejercicio 6\n"
      ],
      "metadata": {
        "id": "KQmmdFO07KkJ"
      }
    },
    {
      "cell_type": "markdown",
      "source": [
        "Un escribano debe validar un juego en cierto programa de televisión. El mismo consiste en hacer girar una rueda y obtener un premio según el sector de la rueda que coincida con una aguja.\n",
        "\n",
        "Hay 10 premios posibles, y las áreas de la rueda para los distintos premios, numerados del 1 al 10, son respectivamente:\n",
        "\n",
        "$$ 31\\%, 22\\%, 12\\%, 10\\%, 8\\%, 6\\%, 4\\%, 4\\%, 2\\%, 1\\% $$\n",
        "\n",
        "Los premios con número alto (e.j. un auto 0Km) son mejores que los premios con número bajo (e.j. 2x1 para entradas en el cine). El escribano hace girar la rueda hasta que se cansa, y anota cuántas veces sale cada sector. Los resultados, para los premios del 1 al 10, respectivamente, son:\n",
        "\n",
        "$$ 188, 138, 87, 65, 48, 32, 30, 34, 13, 2 $$"
      ],
      "metadata": {
        "id": "RgXNQqgv8ZID"
      }
    },
    {
      "cell_type": "code",
      "source": [
        "#@title Grafico\n",
        "import matplotlib.pyplot as plt\n",
        "import numpy as np\n",
        "\n",
        "categorias = ['1', '2', '3', '4', '5', '6', '7', '8', '9', '10' ]\n",
        "observados = np.array([188, 138, 87, 65, 48, 32, 30, 34, 13, 2])\n",
        "total = sum(observados)\n",
        "\n",
        "prob_teoricas = np.array([0.31, 0.22, 0.12, 0.10, 0.08, 0.06, 0.04, 0.04, 0.02, 0.01])\n",
        "esperados = total * prob_teoricas\n",
        "\n",
        "x = np.arange(len(categorias))\n",
        "\n",
        "plt.figure(figsize=(8, 2))\n",
        "plt.bar(x - 0.2, observados, width=0.4, label='Observados', color='skyblue')\n",
        "plt.bar(x + 0.2, esperados, width=0.4, label='Esperados', color='orange')\n",
        "\n",
        "plt.xticks(x, categorias)\n",
        "plt.ylabel('Frecuencias del Premio')\n",
        "plt.title('Frecuencias observadas y esperadas')\n",
        "plt.legend(loc='upper center', bbox_to_anchor=(0.5, -0.1), ncol=2)\n",
        "plt.show()"
      ],
      "metadata": {
        "colab": {
          "base_uri": "https://localhost:8080/",
          "height": 260
        },
        "cellView": "form",
        "id": "OTjCl05ZWnvV",
        "outputId": "d355d527-269a-409b-aa2c-7183b3fa3ee8"
      },
      "execution_count": null,
      "outputs": [
        {
          "output_type": "display_data",
          "data": {
            "text/plain": [
              "<Figure size 800x200 with 1 Axes>"
            ],
            "image/png": "[encoded data removed]"
          },
          "metadata": {}
        }
      ]
    },
    {
      "cell_type": "markdown",
      "source": [
        "### a) y b)\n",
        "\n",
        "- Construya una tabla con los datos disponibles.\n",
        "\n",
        "- Diseñe una prueba de hipótesis para determinar si la rueda es justa."
      ],
      "metadata": {
        "id": "m2UV3IloSxL8"
      }
    },
    {
      "cell_type": "code",
      "source": [
        "# Hipotesis nula (areas de la rueda)\n",
        "p_hip_0 = [0.31, 0.22, 0.12, 0.10, 0.08, 0.06, 0.04, 0.04, 0.02, 0.01]\n",
        "\n",
        "# Frecuencias de la muestra\n",
        "frecuencias = [188, 138, 87, 65, 48, 32, 30, 34, 13, 2]\n",
        "\n",
        "# p_hip_0[i] corrersponde con frecuencias[i] para i en 1,...,10"
      ],
      "metadata": {
        "id": "vogDriChUOaw"
      },
      "execution_count": null,
      "outputs": []
    },
    {
      "cell_type": "markdown",
      "source": [
        "### c) y d)\n",
        "\n",
        "- Defina el p-valor a partir de la hipótesis nula.\n",
        "- Calcule el p-valor bajo la hipótesis de que la rueda es justa, usando la aproximación chi cuadrado.\n",
        "\n"
      ],
      "metadata": {
        "id": "llnLYbzSTAoV"
      }
    },
    {
      "cell_type": "code",
      "source": [
        "#@title Estadistico de Pearson\n",
        "import numpy as np\n",
        "from scipy.stats import chi2, binom\n",
        "\n",
        "\n",
        "def estadistico_pearson(frecuencias, p_hip_0):\n",
        "    \"\"\"Se asume que frecuencias[i] corresponden con p_hip_0[i].\"\"\"\n",
        "    assert len(frecuencias) == len(p_hip_0)\n",
        "\n",
        "    n = sum(frecuencias)\n",
        "    return sum((N-n*p)**2/(n*p) for N, p in zip(frecuencias, p_hip_0))\n",
        "\n",
        "\n",
        "print(f\"t_0: {estadistico_pearson(frecuencias, p_hip_0)}\")"
      ],
      "metadata": {
        "colab": {
          "base_uri": "https://localhost:8080/"
        },
        "id": "5jwtfIOPVQfM",
        "outputId": "1dbe3a37-a39e-46f5-cb03-f2f0ce7d18b2"
      },
      "execution_count": null,
      "outputs": [
        {
          "output_type": "stream",
          "name": "stdout",
          "text": [
            "t_0: 9.810370888711903\n"
          ]
        }
      ]
    },
    {
      "cell_type": "code",
      "source": [
        "#@title Calculo p-valor (Chi-Cuad)\n",
        "from scipy.stats import chi2\n",
        "\n",
        "\n",
        "# NOTE: chi2.sf(x, df) = 1 - chi2.cdf(x, df)\n",
        "\n",
        "print(f\"p-valor: {chi2.sf(9.81037, 10-1):.4f}\")\n",
        "# print(f\"p-valor: {1 - chi2.cdf(9.81037, 10-1):.4f}\")\n",
        "\n",
        "t_0 = estadistico_pearson(frecuencias, p_hip_0)\n",
        "print(f\"p-valor (más exacto): {chi2.sf(t_0 , 10-1)}\")\n",
        "# print(f\"p-valor (más exacto): {1 - chi2.cdf(t_0 , 10-1)}\")"
      ],
      "metadata": {
        "colab": {
          "base_uri": "https://localhost:8080/"
        },
        "cellView": "form",
        "id": "XxHq2cOrV3O0",
        "outputId": "e81d4ed0-025f-465d-8da4-f61ad53e0c58"
      },
      "execution_count": null,
      "outputs": [
        {
          "output_type": "stream",
          "name": "stdout",
          "text": [
            "p-valor: 0.3661\n",
            "p-valor (más exacto): 0.3660538998868262\n"
          ]
        }
      ]
    },
    {
      "cell_type": "markdown",
      "source": [
        "### e)\n",
        "\n",
        "Calcule el p-valor bajo la hipótesis de que la rueda es justa, usando una simulación."
      ],
      "metadata": {
        "id": "zjQv7ihrTD-m"
      }
    },
    {
      "cell_type": "code",
      "source": [
        "#@title Codigo\n",
        "import numpy as np\n",
        "\n",
        "# NOTE: (alternativa)\n",
        "# from scipy.stats import binom\n",
        "\n",
        "\n",
        "def ej6e_p_valor(tam_muestra, t_0, ps, n_sim):\n",
        "    # Dado que los valores esperados son constantes los calculamos\n",
        "    valores_esperados = np.array([tam_muestra*p for p in ps])\n",
        "\n",
        "    # Dado que estos valores son fijos, no los calculo en cada iteracion\n",
        "    # y el ultimo valor tampoco porque ya sabemos que es 1\n",
        "    ps_ajustados = [ps[i] / (1 - sum(ps[:i])) for i in range(len(ps)-1)]\n",
        "\n",
        "    p_valor = 0\n",
        "    for _ in range(n_sim):\n",
        "\n",
        "        # Calculo de las binomiales\n",
        "        N_i, n_restante = [], tam_muestra\n",
        "        for ps_i in ps_ajustados:\n",
        "            x = np.random.binomial(n_restante, ps_i)\n",
        "            # NOTE: (alternativa)\n",
        "            # x = binom.rvs(n_restante, ps_i)\n",
        "            N_i.append(x)\n",
        "            n_restante -= x\n",
        "        N_i.append(n_restante) # Último valor\n",
        "\n",
        "        # Calculamos el estadistico de pearson\n",
        "        T = np.sum((N_i - valores_esperados) ** 2 / valores_esperados)\n",
        "\n",
        "        if T >= t_0:\n",
        "            p_valor += 1\n",
        "\n",
        "    return p_valor / n_sim\n",
        "\n",
        "ej6e_p_valor(sum(frecuencias), 9.81037, p_hip_0, 10_000)"
      ],
      "metadata": {
        "colab": {
          "base_uri": "https://localhost:8080/"
        },
        "id": "7MsmddlvY8P0",
        "outputId": "bb31a99b-9c9d-44c1-edb1-a83c158641c0"
      },
      "execution_count": null,
      "outputs": [
        {
          "output_type": "execute_result",
          "data": {
            "text/plain": [
              "0.3645"
            ]
          },
          "metadata": {},
          "execution_count": 22
        }
      ]
    },
    {
      "cell_type": "markdown",
      "source": [
        "## Ejercicio 7"
      ],
      "metadata": {
        "id": "1cKgJPEQ7Lkc"
      }
    },
    {
      "cell_type": "markdown",
      "source": [
        "Generar los valores correspondientes a 30 variables aleatorias exponenciales independientes, cada una con media 1. Luego, en base al estadístico de prueba de Kolmogorov-Smirnov, aproxime el p−valor de la prueba de que los datos realmente provienen de una distribución exponencial con media 1."
      ],
      "metadata": {
        "id": "rGO8sbUr9LSz"
      }
    },
    {
      "cell_type": "code",
      "source": [
        "#@title Funciones para exponencial\n",
        "from random import random\n",
        "import numpy as np\n",
        "\n",
        "# NOTE: Si a `np.log` no se le pasan parametros, es logarito natural.\n",
        "\n",
        "def muestra_exponencial(tam_muestra, lamda=1):\n",
        "    return [-np.log(1-random())/lamda for _ in range(tam_muestra)]\n",
        "\n",
        "def fun_distribucion_acumulada_exponencial(x, lamda=1):\n",
        "    return 1 - np.exp(-lamda*x) # 1 - e^(-λx)\n",
        "\n",
        "# from scipy.stats import expon\n",
        "#\n",
        "# def muestra_exponencial(tam_muestra, lamda=1):\n",
        "#     return expon.rvs(sacale=1/lamda, size=TAMANO_MUESTRA)\n",
        "#\n",
        "# def fun_distribucion_acumulada_exponencial(x, lamda=1):\n",
        "#     return expon.cdf(x, scale=1/lamda)"
      ],
      "metadata": {
        "id": "YB0shhUdg6os"
      },
      "execution_count": 32,
      "outputs": []
    },
    {
      "cell_type": "code",
      "source": [
        "#@title Creacion de la muestra\n",
        "TAMANO_MUESTRA = 30\n",
        "\n",
        "# Como mu=1, y es exponencial, tenemos que lambda=1\n",
        "muestra_exp = muestra_exponencial(TAMANO_MUESTRA, lamda=1)"
      ],
      "metadata": {
        "id": "DYOI71Y2ddRH"
      },
      "execution_count": 33,
      "outputs": []
    },
    {
      "cell_type": "code",
      "source": [
        "#@title Estadistico Kolmogorov Smirnov\n",
        "import numpy as np\n",
        "\n",
        "\n",
        "def estadistico_ks(muestra_ordenada, F_h0):\n",
        "    n = len(muestra_ordenada)\n",
        "\n",
        "    max1 = max((j+1)/n - F_h0(y) for j, y in enumerate(muestra_ordenada))\n",
        "    max2 = max(F_h0(y) - (j/n) for j, y in enumerate(muestra_ordenada))\n",
        "\n",
        "    return max(max1, max2)\n",
        "\n",
        "muestra_ordenada = np.sort(muestra_exp)\n",
        "\n",
        "# Como mu=1, y es exponencial, tenemos que lambda=1\n",
        "F_h0 = lambda x: fun_distribucion_acumulada_exponencial(x, lamda=1)\n",
        "\n",
        "t_0 = estadistico_ks(muestra_ordenada, F_h0)\n",
        "print(f\"t_0: {t_0}\")"
      ],
      "metadata": {
        "colab": {
          "base_uri": "https://localhost:8080/"
        },
        "id": "4rGO1Fjae2kR",
        "outputId": "327244cc-5caa-43ec-fe01-24d8db6cbe57"
      },
      "execution_count": 35,
      "outputs": [
        {
          "output_type": "stream",
          "name": "stdout",
          "text": [
            "t_0: 0.07666717983633181\n"
          ]
        }
      ]
    },
    {
      "cell_type": "code",
      "source": [
        "#@title Calculo p-valor (simulacion con uniformes)\n",
        "import numpy as np\n",
        "\n",
        "def ej7_p_valor_con_uniformes(tam_muestra, t_0, n_sim=100_000):\n",
        "    p_valor = 0\n",
        "    for _ in range(n_sim):\n",
        "        # Calculo la muestra\n",
        "        muestra = np.random.random(tam_muestra)\n",
        "        muestra_ordenada = np.sort(muestra)\n",
        "\n",
        "        # Calculamos el estadistico de Kolmogorov Smirnov\n",
        "        d_j = 0\n",
        "        for j, u_j in enumerate(muestra_ordenada):\n",
        "            d_j = max(d_j, ((j+1)/tam_muestra) - u_j, u_j - (j/tam_muestra))\n",
        "\n",
        "        if d_j >= t_0:\n",
        "            p_valor += 1\n",
        "\n",
        "    return p_valor / n_sim\n",
        "\n",
        "\n",
        "ej7_p_valor_con_uniformes(TAMANO_MUESTRA, t_0)"
      ],
      "metadata": {
        "colab": {
          "base_uri": "https://localhost:8080/"
        },
        "id": "hkGtxE7V06DS",
        "outputId": "f6bd2be4-a788-4988-ad4a-20420b6c8c1c"
      },
      "execution_count": 37,
      "outputs": [
        {
          "output_type": "execute_result",
          "data": {
            "text/plain": [
              "0.98845"
            ]
          },
          "metadata": {},
          "execution_count": 37
        }
      ]
    },
    {
      "cell_type": "code",
      "source": [
        "#@title Calculo p-valor (simulacion mas exacta)\n",
        "import numpy as np\n",
        "from scipy.stats import expon\n",
        "\n",
        "\n",
        "def ej7_p_valor(tam_muestra, t_0, n_sim=100_000):\n",
        "    p_valor = 0\n",
        "    for _ in range(n_sim):\n",
        "        # Calculo la muestra\n",
        "        muestra =  muestra_exponencial(tam_muestra)\n",
        "        muestra_ordenada = np.sort(muestra)\n",
        "\n",
        "        # Calculamos el estadistico de Kolmogorov Smirnov\n",
        "        d_j = 0\n",
        "        for j, u_j in enumerate(muestra_ordenada):\n",
        "            d_j = max(d_j, ((j+1)/tam_muestra) - F_h0(u_j), F_h0(u_j) - (j/tam_muestra))\n",
        "\n",
        "        if d_j >= t_0:\n",
        "            p_valor += 1\n",
        "\n",
        "    return p_valor / n_sim\n",
        "\n",
        "\n",
        "ej7_p_valor(TAMANO_MUESTRA, t_0)"
      ],
      "metadata": {
        "colab": {
          "base_uri": "https://localhost:8080/"
        },
        "id": "_V6aPfrjgjbX",
        "outputId": "e16d6fe5-9f49-4767-f172-25f83e542309"
      },
      "execution_count": 38,
      "outputs": [
        {
          "output_type": "execute_result",
          "data": {
            "text/plain": [
              "0.98864"
            ]
          },
          "metadata": {},
          "execution_count": 38
        }
      ]
    },
    {
      "cell_type": "code",
      "source": [
        "#@title Chequeo (con scipy)\n",
        "from scipy.stats import expon, kstest\n",
        "\n",
        "\n",
        "# Parámetros\n",
        "n = 30\n",
        "media = 1\n",
        "\n",
        "# Paso 1: Generar muestra exponencial\n",
        "muestra = muestra_exp  #np.random.exponential(scale=media, size=n)\n",
        "\n",
        "# Paso 2: Prueba de Kolmogorov-Smirnov\n",
        "resultado = kstest(muestra, cdf='expon')\n",
        "\n",
        "print(f\"estadístico D: {resultado.statistic:.8f}\")\n",
        "print(f\"p-valor:       {resultado.pvalue:.8f}\")"
      ],
      "metadata": {
        "colab": {
          "base_uri": "https://localhost:8080/"
        },
        "id": "y0Hhbs3PjzKC",
        "outputId": "a026aaee-90f0-4ee7-8b01-10ab5e82da1e"
      },
      "execution_count": 36,
      "outputs": [
        {
          "output_type": "stream",
          "name": "stdout",
          "text": [
            "estadístico D: 0.07666718\n",
            "p-valor:       0.98874954\n"
          ]
        }
      ]
    },
    {
      "cell_type": "markdown",
      "source": [
        "## Ejercicio 8"
      ],
      "metadata": {
        "id": "IgIueIJm7Mq2"
      }
    },
    {
      "cell_type": "markdown",
      "source": [
        "Se sortean elementos de un conjunto de datos que tiene una distribución t-student de 11 grados de libertad. El investigador, que no conoce la forma verdadera de la distribución, asume que la misma es normal.\n",
        "\n",
        "Analice la validez de esta suposición para muestras de tamaños 10, 20, 100 y 1000 elementos Para ello realice simulaciones numéricas e implemente el test de Kolmogorov-Smirnov a los datos simulados, asumiendo una distribución N(0,1). Presente los resultados en una tabla que contenga el número de elementos\n",
        "de la simulación, el valor del estadístico D y el p−valor\n",
        "\n",
        "> **AYUDA**:\n",
        ">\n",
        "> Función de probabilidad normal: Para obtener la función de probabilidad normal, se puede usar la función `math.erf`. Por ejemplo, la cantidad `math.erf(x/math.sqrt(2.))/2.+0.5` equivale a:\n",
        ">\n",
        "> $$ \\int_{-∞}^x N(0,1)(t)dt$$\n",
        "\n",
        "> **AYUDA**:\n",
        ">\n",
        "> Generación de números aleatorios con una distribución t-student: Utilice el siguiente código para generar números aleatorios que siguen una distribución T-student:\n",
        "> ```python\n",
        "> import math\n",
        "> import random\n",
        ">\n",
        "> def rt(df): # df grados de libertad\n",
        ">    x = random.gauss(0.0, 1.0)\n",
        ">    y = 2.0*random.gammavariate(0.5*df, 2.0)\n",
        ">    return x / (math.sqrt(y/df))\n",
        ">```\n"
      ],
      "metadata": {
        "id": "8gasn2UU94cs"
      }
    },
    {
      "cell_type": "code",
      "source": [
        "#@title Funciones Auxiliares\n",
        "import math\n",
        "import random\n",
        "\n",
        "def fpm_normal_estandar(x):\n",
        "    return math.erf(x/math.sqrt(2.))/2.+0.5\n",
        "\n",
        "def gen_normal_estandar():\n",
        "    while True:\n",
        "        Y1 = -math.log(1 - random.random())\n",
        "        Y2 = -math.log(1 - random.random())\n",
        "        if Y2 >=(Y1-1) ** 2 / 2:\n",
        "            if random.random() < 0.5:\n",
        "                return Y1\n",
        "            return -Y1\n",
        "\n",
        "def gen_tstudent(df):\n",
        "    \"\"\"`df` son los grados de libertad.\"\"\"\n",
        "    x = random.gauss(0.0, 1.0)\n",
        "    y = 2.0*random.gammavariate(0.5*df, 2.0)\n",
        "    return x / (math.sqrt(y/df))"
      ],
      "metadata": {
        "id": "XUdd-D_Kzz5H"
      },
      "execution_count": 39,
      "outputs": []
    },
    {
      "cell_type": "code",
      "source": [
        "#@title Constantes\n",
        "TAMANO_MUESTRAS = [10, 20, 100, 1_000]\n",
        "GRADO_LIBERTAD = 11"
      ],
      "metadata": {
        "cellView": "form",
        "id": "CxhQCHA10Ukg"
      },
      "execution_count": 40,
      "outputs": []
    },
    {
      "cell_type": "code",
      "source": [
        "#@title Estadistico Kolmogorov Smirnov\n",
        "import numpy as np\n",
        "\n",
        "\n",
        "def estadistico_ks(muestra_ordenada, F_h0):\n",
        "    n = len(muestra_ordenada)\n",
        "\n",
        "    max1 = max((j+1)/n - F_h0(y) for j, y in enumerate(muestra_ordenada))\n",
        "    max2 = max(F_h0(y) - (j/n) for j, y in enumerate(muestra_ordenada))\n",
        "\n",
        "    return max(max1, max2)\n",
        "\n",
        "MUESTRAS = []\n",
        "F_h0 = fpm_normal_estandar\n",
        "\n",
        "for tam in TAMANO_MUESTRAS:\n",
        "    MUESTRAS.append([gen_tstudent(GRADO_LIBERTAD) for _ in range(tam)])\n",
        "\n",
        "ESTADISTICOS_D = []\n",
        "for muestra in MUESTRAS:\n",
        "    muestra_ordenada = np.sort(muestra)\n",
        "    ESTADISTICOS_D.append(estadistico_ks(muestra_ordenada, F_h0))\n",
        "\n",
        "for tam, t_0 in zip(TAMANO_MUESTRAS, ESTADISTICOS_D):\n",
        "    print(\"-\"*28)\n",
        "    print(f\"Tamaño de la muestra: {tam}\")\n",
        "    print(f\"t_0: {t_0}\")\n",
        "    print(\"-\"*28)"
      ],
      "metadata": {
        "colab": {
          "base_uri": "https://localhost:8080/"
        },
        "id": "0Zq7f4px0omy",
        "outputId": "e234d085-9785-4017-aaa7-5a8838a037ff"
      },
      "execution_count": 41,
      "outputs": [
        {
          "output_type": "stream",
          "name": "stdout",
          "text": [
            "----------------------------\n",
            "Tamaño de la muestra: 10\n",
            "t_0: 0.37567043696293034\n",
            "----------------------------\n",
            "----------------------------\n",
            "Tamaño de la muestra: 20\n",
            "t_0: 0.2408419014763712\n",
            "----------------------------\n",
            "----------------------------\n",
            "Tamaño de la muestra: 100\n",
            "t_0: 0.11272235552555498\n",
            "----------------------------\n",
            "----------------------------\n",
            "Tamaño de la muestra: 1000\n",
            "t_0: 0.09480443717249931\n",
            "----------------------------\n"
          ]
        }
      ]
    },
    {
      "cell_type": "code",
      "source": [
        "#@title Calculo p-valor (simulacion con uniformes)\n",
        "import numpy as np\n",
        "\n",
        "def ej8_p_valor_con_uniformes(tam_muestra, t_0, n_sim=10_000):\n",
        "    p_valor = 0\n",
        "    for _ in range(n_sim):\n",
        "        # Calculo la muestra\n",
        "        muestra = np.random.random(tam_muestra)\n",
        "        muestra_ordenada = np.sort(muestra)\n",
        "\n",
        "        # Calculamos el estadistico de Kolmogorov Smirnov\n",
        "        d_j = 0\n",
        "        for j, u_j in enumerate(muestra_ordenada):\n",
        "            d_j = max(d_j, ((j+1)/tam_muestra) - u_j, u_j - (j/tam_muestra))\n",
        "\n",
        "        if d_j >= t_0:\n",
        "            p_valor += 1\n",
        "\n",
        "    return p_valor / n_sim\n",
        "\n",
        "P_VALOR_CON_UNIFOMRES = []\n",
        "for tam, t_0 in zip(TAMANO_MUESTRAS, ESTADISTICOS_D):\n",
        "    p_valor = ej8_p_valor_con_uniformes(tam, t_0)\n",
        "    P_VALOR_CON_UNIFOMRES.append(p_valor)\n",
        "    print(\"-\"*28)\n",
        "    print(f\"Tamaño de la muestra: {tam}\")\n",
        "    print(f\"p-valor: {p_valor}\")\n",
        "    print(\"-\"*28)"
      ],
      "metadata": {
        "colab": {
          "base_uri": "https://localhost:8080/"
        },
        "id": "zaxCx_sC5Q1h",
        "outputId": "fc9ad1da-10ce-458d-dc4d-2fe983f49169"
      },
      "execution_count": 43,
      "outputs": [
        {
          "output_type": "stream",
          "name": "stdout",
          "text": [
            "----------------------------\n",
            "Tamaño de la muestra: 10\n",
            "p-valor: 0.0845\n",
            "----------------------------\n",
            "----------------------------\n",
            "Tamaño de la muestra: 20\n",
            "p-valor: 0.1646\n",
            "----------------------------\n",
            "----------------------------\n",
            "Tamaño de la muestra: 100\n",
            "p-valor: 0.1445\n",
            "----------------------------\n",
            "----------------------------\n",
            "Tamaño de la muestra: 1000\n",
            "p-valor: 0.0\n",
            "----------------------------\n"
          ]
        }
      ]
    },
    {
      "cell_type": "code",
      "source": [
        "#@title Calculo p-valor (simulacion mas exacta)\n",
        "import numpy as np\n",
        "from scipy.stats import expon\n",
        "\n",
        "\n",
        "def ej8_p_valor(tam_muestra, t_0, n_sim=10_000):\n",
        "    p_valor = 0\n",
        "    for _ in range(n_sim):\n",
        "        # Calculo la muestra\n",
        "        muestra =  [gen_normal_estandar() for _ in range(tam_muestra)]\n",
        "        muestra_ordenada = np.sort(muestra)\n",
        "\n",
        "        # Calculamos el estadistico de Kolmogorov Smirnov\n",
        "        d_j = 0\n",
        "        for j, u_j in enumerate(muestra_ordenada):\n",
        "            d_j = max(d_j, ((j+1)/tam_muestra) - F_h0(u_j), F_h0(u_j) - (j/tam_muestra))\n",
        "\n",
        "        if d_j >= t_0:\n",
        "            p_valor += 1\n",
        "\n",
        "    return p_valor / n_sim\n",
        "\n",
        "\n",
        "P_VALOR = []\n",
        "for tam, t_0 in zip(TAMANO_MUESTRAS, ESTADISTICOS_D):\n",
        "    p_valor = ej8_p_valor(tam, t_0)\n",
        "    P_VALOR.append(p_valor)\n",
        "    print(\"-\"*28)\n",
        "    print(f\"Tamaño de la muestra: {tam}\")\n",
        "    print(f\"p-valor: {p_valor}\")\n",
        "    print(\"-\"*28)"
      ],
      "metadata": {
        "colab": {
          "base_uri": "https://localhost:8080/"
        },
        "id": "Wqc_uv3F58ms",
        "outputId": "ba0bd28a-11bd-4528-9c45-91674ff07923"
      },
      "execution_count": 44,
      "outputs": [
        {
          "output_type": "stream",
          "name": "stdout",
          "text": [
            "----------------------------\n",
            "Tamaño de la muestra: 10\n",
            "p-valor: 0.0916\n",
            "----------------------------\n",
            "----------------------------\n",
            "Tamaño de la muestra: 20\n",
            "p-valor: 0.1612\n",
            "----------------------------\n",
            "----------------------------\n",
            "Tamaño de la muestra: 100\n",
            "p-valor: 0.1501\n",
            "----------------------------\n",
            "----------------------------\n",
            "Tamaño de la muestra: 1000\n",
            "p-valor: 0.0\n",
            "----------------------------\n"
          ]
        }
      ]
    },
    {
      "cell_type": "code",
      "source": [
        "#@title Tabla y chequeo con scipy\n",
        "from scipy.stats import expon, kstest\n",
        "\n",
        "\n",
        "print(f\"{'Tamaño':>7} | {'D (simulado)':^12} | {'p-valor sim':^12} | {'p-valor unif':^13} | {'D (scipy)':^10} | {'p-valor (scipy)':^15}\")\n",
        "print(\"-\" * 86)\n",
        "\n",
        "for tam, muestra, d_sim, p_sim, p_unif in zip(\n",
        "   TAMANO_MUESTRAS, MUESTRAS, ESTADISTICOS_D, P_VALOR_CON_UNIFOMRES, P_VALOR\n",
        "):\n",
        "    resultado = kstest(muestra, cdf=\"norm\")\n",
        "    d_scipy = resultado.statistic\n",
        "    p_scipy = resultado.pvalue\n",
        "\n",
        "    print(f\"{tam:7d} | {d_sim:^12.8f} | {p_sim:^12.8f} | {p_unif:^13.8f} | {d_scipy:^10.8f} | {p_scipy:^15.8f}\")"
      ],
      "metadata": {
        "colab": {
          "base_uri": "https://localhost:8080/"
        },
        "cellView": "form",
        "id": "W-1H2v2y6974",
        "outputId": "0b93672c-2bd2-4279-c232-26f946897a78"
      },
      "execution_count": 45,
      "outputs": [
        {
          "output_type": "stream",
          "name": "stdout",
          "text": [
            " Tamaño | D (simulado) | p-valor sim  | p-valor unif  | D (scipy)  | p-valor (scipy)\n",
            "--------------------------------------------------------------------------------------\n",
            "     10 |  0.37567044  |  0.08450000  |  0.09160000   | 0.37567044 |   0.08923504   \n",
            "     20 |  0.24084190  |  0.16460000  |  0.16120000   | 0.24084190 |   0.16625360   \n",
            "    100 |  0.11272236  |  0.14450000  |  0.15010000   | 0.11272236 |   0.14582124   \n",
            "   1000 |  0.09480444  |  0.00000000  |  0.00000000   | 0.09480444 |   0.00000003   \n"
          ]
        }
      ]
    },
    {
      "cell_type": "markdown",
      "source": [
        "## Ejercicio 9"
      ],
      "metadata": {
        "id": "rsjG9RL17NsC"
      }
    },
    {
      "cell_type": "markdown",
      "source": [
        "En un estudio de vibraciones, una muestra aleatoria de 15 componentes del avión fueron sometidos a fuertes vibraciones hasta que se evidenciaron fallas estructurales. Los datos proporcionados son los minutos transcurridos hasta que se evidenciaron dichas fallas.\n",
        "\n",
        "$$\n",
        "1.6, 10.3, 3.5, 13.5, 18.4, 7.7, 24.3, 10.7, 8.4, 4.9, 7.9, 12, 16.2, 6.8, 14.7\n",
        "$$\n",
        "\n",
        "Pruebe la hipótesis nula de que estas observaciones pueden ser consideradas como una muestra de la\n",
        "distribución exponencial"
      ],
      "metadata": {
        "id": "ohV1vYch9mU0"
      }
    },
    {
      "cell_type": "markdown",
      "source": [
        "Basicamente tenemos que usar Kolmogorov Smirnov pero con el detalle que no se conoce $λ$."
      ],
      "metadata": {
        "id": "EzW78uHfBbYu"
      }
    },
    {
      "cell_type": "code",
      "source": [
        "#@title Constantes\n",
        "MUESTRA = [1.6, 10.3, 3.5, 13.5, 18.4, 7.7, 24.3, 10.7, 8.4, 4.9, 7.9, 12, 16.2, 6.8, 14.7]\n",
        "TAMANO_MUESTRA = len(MUESTRA)"
      ],
      "metadata": {
        "cellView": "form",
        "id": "ADLu2bIV_wya"
      },
      "execution_count": 48,
      "outputs": []
    },
    {
      "cell_type": "code",
      "source": [
        "#@title Funciones para exponencial\n",
        "from random import random\n",
        "import numpy as np\n",
        "\n",
        "# NOTE: Si a `np.log` no se le pasan parametros, es logarito natural.\n",
        "\n",
        "def gen_exponencial(lamda=1):\n",
        "    return -np.log(1-random())/lamda\n",
        "\n",
        "def fda_exponencial(x, lamda=1):\n",
        "    return 1 - np.exp(-lamda*x) # 1 - e^(-λx)\n",
        "\n",
        "def estimacion_lambda(muestra):\n",
        "    esperanza = sum(muestra)/len(muestra)\n",
        "    return 1/esperanza"
      ],
      "metadata": {
        "id": "hkAF0wMlBz3d"
      },
      "execution_count": 49,
      "outputs": []
    },
    {
      "cell_type": "code",
      "source": [
        "#@title Estadistico Kolmogorov Smirnov\n",
        "import numpy as np\n",
        "\n",
        "\n",
        "def estadistico_ks(muestra_ordenada, F_h0):\n",
        "    n = len(muestra_ordenada)\n",
        "\n",
        "    max1 = max((j+1)/n - F_h0(y) for j, y in enumerate(muestra_ordenada))\n",
        "    max2 = max(F_h0(y) - (j/n) for j, y in enumerate(muestra_ordenada))\n",
        "\n",
        "    return max(max1, max2)\n",
        "\n",
        "muestra_ordenada = np.sort(MUESTRA)\n",
        "lambda_estimado = estimacion_lambda(MUESTRA)\n",
        "\n",
        "F_h0 = lambda x: fda_exponencial(x, lamda=lambda_estimado)\n",
        "\n",
        "t_0 = estadistico_ks(muestra_ordenada, F_h0)\n",
        "print(f\"t_0: {t_0}\")"
      ],
      "metadata": {
        "colab": {
          "base_uri": "https://localhost:8080/"
        },
        "id": "x3M_VxveCK85",
        "outputId": "960bcaa7-f678-444c-ff0f-28c8dae97648"
      },
      "execution_count": 50,
      "outputs": [
        {
          "output_type": "stream",
          "name": "stdout",
          "text": [
            "t_0: 0.26949936321059237\n"
          ]
        }
      ]
    },
    {
      "cell_type": "code",
      "source": [
        "#@title Calculo p-valor (simulacion con uniformes)\n",
        "import numpy as np\n",
        "\n",
        "def ej9_p_valor_con_uniformes(tam_muestra, t_0, n_sim=100_000):\n",
        "    p_valor = 0\n",
        "    for _ in range(n_sim):\n",
        "        # Calculo la muestra\n",
        "        muestra = np.random.random(tam_muestra)\n",
        "        muestra_ordenada = np.sort(muestra)\n",
        "\n",
        "        # Calculamos el estadistico de Kolmogorov Smirnov\n",
        "        d_j = 0\n",
        "        for j, u_j in enumerate(muestra_ordenada):\n",
        "            d_j = max(d_j, ((j+1)/tam_muestra) - u_j, u_j - (j/tam_muestra))\n",
        "\n",
        "        if d_j >= t_0:\n",
        "            p_valor += 1\n",
        "\n",
        "    return p_valor / n_sim\n",
        "\n",
        "P_VALOR_CON_UNIFOMRES = ej9_p_valor_con_uniformes(TAMANO_MUESTRA, t_0)\n",
        "print(f\"p-valor (con unif): {P_VALOR_CON_UNIFOMRES}\")"
      ],
      "metadata": {
        "colab": {
          "base_uri": "https://localhost:8080/"
        },
        "id": "MmwtrxKqDA0H",
        "outputId": "cfdc44e7-dde2-4926-b0ca-50f1e0b59802"
      },
      "execution_count": 51,
      "outputs": [
        {
          "output_type": "stream",
          "name": "stdout",
          "text": [
            "p-valor (con unif): 0.18707\n"
          ]
        }
      ]
    },
    {
      "cell_type": "code",
      "source": [
        "#@title Calculo p-valor (simulacion mas exacta)\n",
        "import numpy as np\n",
        "from scipy.stats import expon\n",
        "\n",
        "\n",
        "def ej9_p_valor(tam_muestra, t_0, lambda_estimado, n_sim=100_000):\n",
        "    p_valor = 0\n",
        "    for _ in range(n_sim):\n",
        "        # Calculo la muestra\n",
        "        muestra =  [gen_exponencial(lambda_estimado) for _ in range(tam_muestra)]\n",
        "        muestra_ordenada = np.sort(muestra)\n",
        "\n",
        "        # Recalculamos el lambda y la F_h0\n",
        "        nuevo_lambda_estimado = estimacion_lambda(muestra)\n",
        "        F_h0 = lambda x: fda_exponencial(x, lamda=nuevo_lambda_estimado)\n",
        "\n",
        "        # Calculamos el estadistico de Kolmogorov Smirnov\n",
        "        d_j = 0\n",
        "        for j, u_j in enumerate(muestra_ordenada):\n",
        "            d_j = max(d_j, ((j+1)/tam_muestra) - F_h0(u_j), F_h0(u_j) - (j/tam_muestra))\n",
        "\n",
        "        if d_j >= t_0:\n",
        "            p_valor += 1\n",
        "\n",
        "    return p_valor / n_sim\n",
        "\n",
        "lambda_estimado = estimacion_lambda(MUESTRA)\n",
        "P_VALOR = ej9_p_valor(TAMANO_MUESTRA, t_0, lambda_estimado)\n",
        "print(f\"p-valor : {P_VALOR}\")"
      ],
      "metadata": {
        "colab": {
          "base_uri": "https://localhost:8080/"
        },
        "id": "wY0E95P2DdHd",
        "outputId": "11720d8d-fcac-4802-9dc2-fcdf5b98c633"
      },
      "execution_count": 52,
      "outputs": [
        {
          "output_type": "stream",
          "name": "stdout",
          "text": [
            "p-valor : 0.04912\n"
          ]
        }
      ]
    },
    {
      "cell_type": "code",
      "source": [
        "#@title Chequeo (con scipy)\n",
        "from scipy.stats import expon, kstest\n",
        "\n",
        "\n",
        "# Paso 1: Generar muestra exponencial\n",
        "muestra = [1.6, 10.3, 3.5, 13.5, 18.4, 7.7, 24.3, 10.7, 8.4, 4.9, 7.9, 12, 16.2, 6.8, 14.7]\n",
        "lambda_estimado = estimacion_lambda(muestra)\n",
        "F_h0 = lambda x: fda_exponencial(x, lamda=lambda_estimado)\n",
        "\n",
        "# Paso 2: Prueba de Kolmogorov-Smirnov\n",
        "resultado = kstest(muestra, cdf=F_h0)\n",
        "\n",
        "print(f\"{'λ estimado':>11} | {'D (scipy)':>12} | {'D (sim)':>12} | {'p (scipy)':>12} | {'p (sim-unif)':>12} | {'p (sim)':>12}\")\n",
        "print(\"-\" * 88)\n",
        "print(f\"{lambda_estimado:11.8f} | {resultado.statistic:12.8f} | {t_0:12.8f} | {resultado.pvalue:12.8f} | {P_VALOR_CON_UNIFOMRES:12.8f} | {P_VALOR:12.8f}\")"
      ],
      "metadata": {
        "colab": {
          "base_uri": "https://localhost:8080/"
        },
        "id": "D3JlkG9NFwD2",
        "outputId": "adbd1fc5-6cdd-4fa8-aab0-16352cc755a8"
      },
      "execution_count": 62,
      "outputs": [
        {
          "output_type": "stream",
          "name": "stdout",
          "text": [
            " λ estimado |    D (scipy) |      D (sim) |    p (scipy) | p (sim-unif) |      p (sim)\n",
            "----------------------------------------------------------------------------------------\n",
            " 0.09322561 |   0.26949936 |   0.26949936 |   0.18795096 |   0.18707000 |   0.04912000\n"
          ]
        }
      ]
    },
    {
      "cell_type": "markdown",
      "source": [
        "## Ejercicio 10"
      ],
      "metadata": {
        "id": "LtncyGlx7Of2"
      }
    },
    {
      "cell_type": "markdown",
      "source": [
        "Decidir si los siguientes datos corresponden a una distribución Normal:\n",
        "\n",
        "$$\n",
        "91.9, 97.8, 111.4, 122.3, 105.4, 95.0, 103.8, 99.6, 96.6, 119.3, 104.8, 101.7\n",
        "$$\n",
        "\n",
        "Calcular una aproximación del p−valor."
      ],
      "metadata": {
        "id": "vl117O0h9zk3"
      }
    },
    {
      "cell_type": "code",
      "source": [
        "#@title Constantes\n",
        "MUESTRA = [91.9, 97.8, 111.4, 122.3, 105.4, 95.0, 103.8, 99.6, 96.6, 119.3, 104.8, 101.7]\n",
        "TAMANO_MUESTRA = len(MUESTRA)"
      ],
      "metadata": {
        "id": "6myGrTd6JUvd"
      },
      "execution_count": 87,
      "outputs": []
    },
    {
      "cell_type": "code",
      "source": [
        "#@title Funciones para normal\n",
        "import math\n",
        "import random\n",
        "\n",
        "\n",
        "def gen_normal(mu, sigma):\n",
        "    while True:\n",
        "        Y1 = -math.log(1 - random.random())\n",
        "        Y2 = -math.log(1 - random.random())\n",
        "        if Y2 >=(Y1-1) ** 2 / 2:\n",
        "            if random.random() < 0.5:\n",
        "                return  Y1 * sigma + mu\n",
        "            return -Y1 * sigma + mu\n",
        "\n",
        "def estimacion_parametos_normal(muestra):\n",
        "    u = sum(muestra)/len(muestra)\n",
        "    sigma = math.sqrt(sum((x-u)**2 for x in muestra)/len(muestra))\n",
        "    return u, sigma"
      ],
      "metadata": {
        "id": "919tE8sKQAYI"
      },
      "execution_count": 88,
      "outputs": []
    },
    {
      "cell_type": "code",
      "source": [
        "#@title Estadistico Kolmogorov Smirnov\n",
        "import numpy as np\n",
        "from scipy.stats import norm\n",
        "\n",
        "def estadistico_ks(muestra_ordenada, F_h0):\n",
        "    n = len(muestra_ordenada)\n",
        "\n",
        "    max1 = max((j+1)/n - F_h0(y) for j, y in enumerate(muestra_ordenada))\n",
        "    max2 = max(F_h0(y) - (j/n) for j, y in enumerate(muestra_ordenada))\n",
        "\n",
        "    return max(max1, max2)\n",
        "\n",
        "muestra_ordenada = np.sort(MUESTRA)\n",
        "mu, sigma = estimacion_parametos_normal(MUESTRA)\n",
        "\n",
        "gen_h0 = lambda: gen_normal(mu, sigma)\n",
        "F_h0 = lambda x: norm.cdf(x, loc=mu, scale=sigma)\n",
        "\n",
        "t_0 = estadistico_ks(muestra_ordenada, F_h0)\n",
        "print(f\"t_0: {t_0}\")"
      ],
      "metadata": {
        "colab": {
          "base_uri": "https://localhost:8080/"
        },
        "id": "Qgwz-R6YQuZm",
        "outputId": "d2dc1aea-8a21-4418-dfc1-016b52e9e6c6"
      },
      "execution_count": 89,
      "outputs": [
        {
          "output_type": "stream",
          "name": "stdout",
          "text": [
            "t_0: 0.19402097620229497\n"
          ]
        }
      ]
    },
    {
      "cell_type": "code",
      "source": [
        "#@title Calculo p-valor (simulacion con uniformes)\n",
        "import numpy as np\n",
        "\n",
        "def ej10_p_valor_con_uniformes(tam_muestra, t_0, n_sim=100_000):\n",
        "    p_valor = 0\n",
        "    for _ in range(n_sim):\n",
        "        # Calculo la muestra\n",
        "        muestra = np.random.random(tam_muestra)\n",
        "        muestra_ordenada = np.sort(muestra)\n",
        "\n",
        "        # Calculamos el estadistico de Kolmogorov Smirnov\n",
        "        d_j = 0\n",
        "        for j, u_j in enumerate(muestra_ordenada):\n",
        "            d_j = max(d_j, ((j+1)/tam_muestra) - u_j, u_j - (j/tam_muestra))\n",
        "\n",
        "        if d_j >= t_0:\n",
        "            p_valor += 1\n",
        "\n",
        "    return p_valor / n_sim\n",
        "\n",
        "P_VALOR_CON_UNIFOMRES = ej10_p_valor_con_uniformes(TAMANO_MUESTRA, t_0)\n",
        "print(f\"p-valor (con unif): {P_VALOR_CON_UNIFOMRES}\")"
      ],
      "metadata": {
        "colab": {
          "base_uri": "https://localhost:8080/"
        },
        "id": "UQ8RXNaVTy_N",
        "outputId": "3c162ab2-84da-46a8-b536-7e432784fbe2"
      },
      "execution_count": 90,
      "outputs": [
        {
          "output_type": "stream",
          "name": "stdout",
          "text": [
            "p-valor (con unif): 0.6904\n"
          ]
        }
      ]
    },
    {
      "cell_type": "code",
      "source": [
        "#@title Calculo p-valor (simulacion mas exacta)\n",
        "import numpy as np\n",
        "from scipy.stats import expon\n",
        "\n",
        "\n",
        "def ej9_p_valor(tam_muestra, t_0, lambda_estimado, n_sim=10_000):\n",
        "    p_valor = 0\n",
        "    for _ in range(n_sim):\n",
        "        # Calculo la muestra\n",
        "        muestra =  [gen_h0() for _ in range(tam_muestra)]\n",
        "        muestra_ordenada = np.sort(muestra)\n",
        "\n",
        "        # Recalculamos los parametros y la F_h0\n",
        "        nuevo_mu, nuevo_sigma = estimacion_parametos_normal(muestra)\n",
        "        F_h0 = norm(loc=nuevo_mu, scale=nuevo_sigma)\n",
        "\n",
        "        # Calculamos el estadistico de Kolmogorov Smirnov\n",
        "        d_j = 0\n",
        "        for j, u_j in enumerate(muestra_ordenada):\n",
        "            d_j = max(d_j, ((j+1)/tam_muestra) - F_h0.cdf(u_j), F_h0.cdf(u_j) - (j/tam_muestra))\n",
        "\n",
        "        if d_j >= t_0:\n",
        "            p_valor += 1\n",
        "\n",
        "    return p_valor / n_sim\n",
        "\n",
        "P_VALOR = ej9_p_valor(TAMANO_MUESTRA, t_0, lambda_estimado)\n",
        "print(f\"p-valor : {P_VALOR}\")"
      ],
      "metadata": {
        "colab": {
          "base_uri": "https://localhost:8080/"
        },
        "id": "2YrrXJktT8XA",
        "outputId": "d58d48d2-54ec-4358-bacf-9a483c9383ed"
      },
      "execution_count": 93,
      "outputs": [
        {
          "output_type": "stream",
          "name": "stdout",
          "text": [
            "p-valor : 0.2649\n"
          ]
        }
      ]
    },
    {
      "cell_type": "code",
      "source": [
        "#@title Chequeo (con scipy)\n",
        "from scipy.stats import expon, kstest\n",
        "\n",
        "\n",
        "# Paso 1: Generar muestra exponencial\n",
        "muestra = [91.9, 97.8, 111.4, 122.3, 105.4, 95.0, 103.8, 99.6, 96.6, 119.3, 104.8, 101.7]\n",
        "mu, sigma = estimacion_parametos_normal(MUESTRA)\n",
        "F_h0 = norm(loc=mu, scale=sigma)\n",
        "\n",
        "# Paso 2: Prueba de Kolmogorov-Smirnov\n",
        "resultado = kstest(muestra, cdf=F_h0.cdf)\n",
        "\n",
        "print(f\"{'λ estimado':>11} | {'D (scipy)':>12} | {'D (sim)':>12} | {'p (scipy)':>12} | {'p (sim-unif)':>12} | {'p (sim)':>12}\")\n",
        "print(\"-\" * 88)\n",
        "print(f\"{lambda_estimado:11.8f} | {resultado.statistic:12.8f} | {t_0:12.8f} | {resultado.pvalue:12.8f} | {P_VALOR_CON_UNIFOMRES:12.8f} | {P_VALOR:12.8f}\")"
      ],
      "metadata": {
        "colab": {
          "base_uri": "https://localhost:8080/"
        },
        "id": "96kNElJ-UlYq",
        "outputId": "f92e7384-c6a7-4b57-c74c-58107a10ecab"
      },
      "execution_count": 95,
      "outputs": [
        {
          "output_type": "stream",
          "name": "stdout",
          "text": [
            " λ estimado |    D (scipy) |      D (sim) |    p (scipy) | p (sim-unif) |      p (sim)\n",
            "----------------------------------------------------------------------------------------\n",
            " 0.09322561 |   0.19402098 |   0.19402098 |   0.68871012 |   0.69040000 |   0.26490000\n"
          ]
        }
      ]
    },
    {
      "cell_type": "markdown",
      "source": [
        "## Funcion de distibucion acumulada de la Normal"
      ],
      "metadata": {
        "id": "ZHtXuy4siMZ3"
      }
    },
    {
      "cell_type": "code",
      "source": [
        "import math\n",
        "from scipy.stats import norm\n",
        "\n",
        "# =============================================\n",
        "# CANDIDATA:\n",
        "# =============================================\n",
        "def fda_normal_v1(x, mu=0, sigma=1):\n",
        "    z = (x - mu) / sigma\n",
        "    return math.erf(z / math.sqrt(2)) / 2 + 0.5\n",
        "\n",
        "# =============================================\n",
        "# USANDO LA LIBRERIA\n",
        "# =============================================\n",
        "def fda_normal_v2(x, mu=0, sigma=1):\n",
        "    return norm.cdf(x, loc=mu, scale=sigma)\n",
        "\n",
        "# =============================================\n",
        "# TEST:\n",
        "# =============================================\n",
        "xs = [-3, -1, -0.5, -0.33, 0, 0.5, 0.33, 1, 2, 3]\n",
        "mus = [0, 1, 2, 8, 7, 10, -1, -50, 0.333, 1/6]\n",
        "sigmas = [1, 2, 3, 4, 5, 6, 20, 0.873, 1/3]\n",
        "print_cases = False\n",
        "cant_decimales_correctos = 15\n",
        "\n",
        "if print_cases:\n",
        "    print(f\"{'x':>6} {'mu':^4} {'sigma':^6} {'v1':^12} {'v2':^12} {'test':^10}\")\n",
        "    print(\"-\"*58)\n",
        "\n",
        "cant_test_pasados = 0\n",
        "for mu in mus:\n",
        "    for sigma in sigmas:\n",
        "        for x in xs:\n",
        "            v1 = fda_normal_v1(x, mu, sigma)\n",
        "            v2 = fda_normal_v2(x, mu, sigma)\n",
        "            pass_test = round(abs(v1 - v2), cant_decimales_correctos) == 0\n",
        "            cant_test_pasados += int(pass_test)\n",
        "            if print_cases:\n",
        "                test_check = \"✅\" if pass_test else \"❌\"\n",
        "                print(f\"{x:6} {mu:^4} {sigma:^6} {v1:^12.10f} {v2:^12.10f} {test_check:^10}\")\n",
        "    if print_cases: print(\"-\"*58)\n",
        "\n",
        "print(f\"Test pasados: {cant_test_pasados}/{len(xs)*len(mus)*len(sigmas)} \\n\")\n",
        "\n",
        "# =============================================\n",
        "# TEST AUTOMÁTICO\n",
        "# =============================================\n",
        "np.random.seed(3)\n",
        "n_tests = 5000\n",
        "cant_decimales_correctos = 15\n",
        "\n",
        "xs     = np.random.uniform(-100, 100, size=n_tests)\n",
        "mus    = np.random.uniform(-100, 100, size=n_tests)\n",
        "sigmas = np.random.uniform(0.1, 20, size=n_tests)  # evitamos sigma=0\n",
        "\n",
        "errores = np.abs([fda_normal_v1(x, mu, sigma) - fda_normal_v2(x, mu, sigma)\n",
        "                  for x, mu, sigma in zip(xs, mus, sigmas)])\n",
        "\n",
        "test_ok = np.round(errores, cant_decimales_correctos) == 0\n",
        "\n",
        "print(f\"Tests pasados (automaticos): {np.sum(test_ok)}/{n_tests}\")\n",
        "print(f\"Máximo error  (automaticos): {np.max(errores)}\")"
      ],
      "metadata": {
        "colab": {
          "base_uri": "https://localhost:8080/"
        },
        "id": "h7GZSfxJfkYf",
        "outputId": "94cb918a-0a69-4625-e65e-5c2854194f2c"
      },
      "execution_count": 155,
      "outputs": [
        {
          "output_type": "stream",
          "name": "stdout",
          "text": [
            "Test pasados: 900/900 \n",
            "\n",
            "Tests pasados (automaticos): 5000/5000\n",
            "Máximo error  (automaticos): 1.1102230246251565e-16\n"
          ]
        }
      ]
    }
  ]
}